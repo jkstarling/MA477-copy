{
 "cells": [
  {
   "cell_type": "markdown",
   "metadata": {},
   "source": [
    "<h2> ======================================================</h2>\n",
    " <h1>MA477 - Theory and Applications of Data Science</h1> \n",
    "  <h1>Lesson 12: Lab </h1> \n",
    " \n",
    " <h4>Dr. Valmir Bucaj</h4>\n",
    " United States Military Academy, West Point \n",
    "AY20-2\n",
    "<h2>======================================================</h2>"
   ]
  },
  {
   "cell_type": "markdown",
   "metadata": {},
   "source": [
    "<h2>House Voting Datset</h2>\n",
    "\n",
    "In today's lecture we will be exploring the 1984 United Stated Congressional Voting Records via machine-learning to obtain useful insights.\n",
    "\n",
    "<h3>Description</h3>\n",
    "\n",
    "This data set includes votes for each of the U.S. House of Representatives Congressmen on the 16 key votes identified by the CQA. The CQA lists nine different types of votes: voted for, paired for, and announced for (these three simplified to yea), voted against, paired against, and announced against (these three simplified to nay), voted present, voted present to avoid conflict of interest, and did not vote or otherwise make a position known (these three simplified to an unknown disposition).\n",
    "Attribute Information:\n",
    "\n",
    "    Class Name: 2 (democrat, republican)\n",
    "    handicapped-infants: 2 (y,n)\n",
    "    water-project-cost-sharing: 2 (y,n)\n",
    "    adoption-of-the-budget-resolution: 2 (y,n)\n",
    "    physician-fee-freeze: 2 (y,n)\n",
    "    el-salvador-aid: 2 (y,n)\n",
    "    religious-groups-in-schools: 2 (y,n)\n",
    "    anti-satellite-test-ban: 2 (y,n)\n",
    "    aid-to-nicaraguan-contras: 2 (y,n)\n",
    "    mx-missile: 2 (y,n)\n",
    "    immigration: 2 (y,n)\n",
    "    synfuels-corporation-cutback: 2 (y,n)\n",
    "    education-spending: 2 (y,n)\n",
    "    superfund-right-to-sue: 2 (y,n)\n",
    "    crime: 2 (y,n)\n",
    "    duty-free-exports: 2 (y,n)\n",
    "    export-administration-act-south-africa: 2 (y,n)\n",
    "\n",
    "Source\n",
    "\n",
    "Origin:\n",
    "\n",
    "Congressional Quarterly Almanac, 98th Congress, 2nd session 1984, Volume XL: Congressional Quarterly Inc. Washington, D.C., 1985.\n",
    "https://archive.ics.uci.edu/ml/datasets/Congressional+Voting+Records\n",
    "\n",
    "Citation:\n",
    "Dua, D. and Graff, C. (2019). UCI Machine Learning Repository [http://archive.ics.uci.edu/ml]. Irvine, CA: University of California, School of Information and Computer Science.\n",
    "\n",
    "\n",
    "<h2>Tasks</h2>\n",
    "\n",
    "Use the following tasks to guide your work, but don't get limited by them. You are strongly encouraged to pursue any additional avenue that you feel is valuable.\n",
    "<ul>\n",
    "  \n",
    "  <li>Build a machine-learning classification model that predicts whether a member of the Congress is a Democrat or Republican based on how they voted on these 16 issues?\n",
    "<ul> \n",
    "    <li>Describe how are you dealing with missing values?</li>\n",
    "    <li> Describe the choice of the model and the reasons for that choice.</li>\n",
    "    <li> What metric are you measuring? Accuracy? Recall? Precision? Why?</li>\n",
    "    <li> Build the ROC curve and compute AUC</li>\n",
    "    </ul>\n",
    "    \n",
    "  </li>\n",
    "  \n",
    "  <li>Explore the voting patterns of Democrats vs. Republicans. Explain what stands out.</li>\n",
    "    \n",
    "    \n",
    " </ul>"
   ]
  },
  {
   "cell_type": "code",
   "execution_count": null,
   "metadata": {},
   "outputs": [],
   "source": []
  }
 ],
 "metadata": {
  "kernelspec": {
   "display_name": "Python 3",
   "language": "python",
   "name": "python3"
  },
  "language_info": {
   "codemirror_mode": {
    "name": "ipython",
    "version": 3
   },
   "file_extension": ".py",
   "mimetype": "text/x-python",
   "name": "python",
   "nbconvert_exporter": "python",
   "pygments_lexer": "ipython3",
   "version": "3.7.4"
  }
 },
 "nbformat": 4,
 "nbformat_minor": 2
}
