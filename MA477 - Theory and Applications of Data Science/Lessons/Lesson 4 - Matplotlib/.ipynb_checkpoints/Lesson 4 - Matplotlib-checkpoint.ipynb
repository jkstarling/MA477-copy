{
 "cells": [
  {
   "cell_type": "markdown",
   "metadata": {},
   "source": [
    "<h2> ======================================================</h2>\n",
    " <h1>MA477 - Theory and Applications of Data Science</h1> \n",
    "  <h1>Lesson 4: Vizualising Data with Matplotlib</h1> \n",
    " \n",
    " <h4>Dr. Valmir Bucaj</h4>\n",
    " United States Military Academy, West Point \n",
    "AY20-2\n",
    "<h2>======================================================</h2>"
   ]
  },
  {
   "cell_type": "markdown",
   "metadata": {},
   "source": [
    "Matplotlib is one of the (most popular) plotting libraries in Python. If you have experience with MatLab's graphical plotting tools, then you'll realize that Matplotlib is very simmilar to MatLab in many aspects. \n",
    "\n",
    "Matplotlib is designed in the object oriented spirit; that is, it gives the user tremendous control over every aspect of the figure, and as such one is able to create highly customized graphs. \n",
    "\n",
    "Matplotlib is compatible with NumPy arrays and Pandas, and as such it is a great tool to have under your belt for some quick exploratory visual analysis of your data. \n",
    "\n",
    "   If you don't already have Matplotlib installed in your computer, then you may install it either from your command line using the `pip` install command or from the anaconda terminal using the `conda` command:\n",
    " <center>\n",
    "\n",
    "```python\n",
    "pip install matplotlib\n",
    "\n",
    "conda install matplotlib\n",
    "```\n",
    "</center>\n",
    "\n",
    "For a more detailed and complete tutorial of Matplotlib you may visit the official website by clicking on the: <a href='https://matplotlib.org/index.html'>Matplotlib Website</a>\n",
    "\n",
    "For quick and basic figures we will often use the `pyplot` collection of commands and functions within `matplotlib`. So let's go ahead and import them:"
   ]
  },
  {
   "cell_type": "code",
   "execution_count": 18,
   "metadata": {},
   "outputs": [],
   "source": [
    "import matplotlib.pyplot as plt"
   ]
  },
  {
   "cell_type": "markdown",
   "metadata": {},
   "source": [
    "If the figures do not automatically display within the JupyterNotebook, then go ahead and add the following:"
   ]
  },
  {
   "cell_type": "code",
   "execution_count": 33,
   "metadata": {},
   "outputs": [],
   "source": [
    "%matplotlib inline"
   ]
  },
  {
   "cell_type": "markdown",
   "metadata": {},
   "source": [
    "You may also include `plt.show()` at the end of each plot for it to display.\n",
    "\n",
    "Next, let's go ahead and import Numpy as well:"
   ]
  },
  {
   "cell_type": "code",
   "execution_count": 34,
   "metadata": {},
   "outputs": [],
   "source": [
    "import numpy as np"
   ]
  },
  {
   "cell_type": "markdown",
   "metadata": {},
   "source": [
    "<h2> Basic Examples</h2>\n",
    "\n",
    "In Matplotlib, generally speaking, there are two ways of making a plot: a <b>functional</b> and <b> object-oriented</b> way. \n",
    "\n",
    "The functional way may be preferred if you want to quickly create a figure, however, if you want more control over your figure then the object-oriented approach is the way to go, as it gives you control over essentially every aspect of the graph.\n",
    "\n",
    "We will briefly discuss both.\n",
    "\n",
    "First, let's go and create a function that we want to plot:\n",
    "\n"
   ]
  },
  {
   "cell_type": "code",
   "execution_count": 35,
   "metadata": {},
   "outputs": [],
   "source": [
    "#Create a Numpy array with 30 entries of equally separated values between -1 and 3, and define a simple cubic\n",
    "#function\n",
    "x=np.linspace(-3,3,30)\n",
    "y=x**3"
   ]
  },
  {
   "cell_type": "code",
   "execution_count": 36,
   "metadata": {},
   "outputs": [
    {
     "data": {
      "text/plain": [
       "array([-3.        , -2.79310345, -2.5862069 , -2.37931034, -2.17241379,\n",
       "       -1.96551724, -1.75862069, -1.55172414, -1.34482759, -1.13793103,\n",
       "       -0.93103448, -0.72413793, -0.51724138, -0.31034483, -0.10344828,\n",
       "        0.10344828,  0.31034483,  0.51724138,  0.72413793,  0.93103448,\n",
       "        1.13793103,  1.34482759,  1.55172414,  1.75862069,  1.96551724,\n",
       "        2.17241379,  2.37931034,  2.5862069 ,  2.79310345,  3.        ])"
      ]
     },
     "execution_count": 36,
     "metadata": {},
     "output_type": "execute_result"
    }
   ],
   "source": [
    "x"
   ]
  },
  {
   "cell_type": "code",
   "execution_count": 38,
   "metadata": {},
   "outputs": [
    {
     "data": {
      "text/plain": [
       "array([-2.70000000e+01, -2.17901923e+01, -1.72977572e+01, -1.34695559e+01,\n",
       "       -1.02524499e+01, -7.59330026e+00, -5.43896839e+00, -3.73631555e+00,\n",
       "       -2.43220304e+00, -1.47349215e+00, -8.07044159e-01, -3.79720366e-01,\n",
       "       -1.38382057e-01, -2.98905244e-02, -1.10705646e-03,  1.10705646e-03,\n",
       "        2.98905244e-02,  1.38382057e-01,  3.79720366e-01,  8.07044159e-01,\n",
       "        1.47349215e+00,  2.43220304e+00,  3.73631555e+00,  5.43896839e+00,\n",
       "        7.59330026e+00,  1.02524499e+01,  1.34695559e+01,  1.72977572e+01,\n",
       "        2.17901923e+01,  2.70000000e+01])"
      ]
     },
     "execution_count": 38,
     "metadata": {},
     "output_type": "execute_result"
    }
   ],
   "source": [
    "y"
   ]
  },
  {
   "cell_type": "markdown",
   "metadata": {},
   "source": [
    "If we want to quickly plot this cubic function then we may use the `.plot()` method:"
   ]
  },
  {
   "cell_type": "code",
   "execution_count": 42,
   "metadata": {},
   "outputs": [
    {
     "data": {
      "image/png": "[encoded data removed]",
      "text/plain": [
       "<Figure size 432x288 with 1 Axes>"
      ]
     },
     "metadata": {
      "needs_background": "light"
     },
     "output_type": "display_data"
    }
   ],
   "source": [
    "plt.plot(x,y)\n",
    "plt.show()"
   ]
  },
  {
   "cell_type": "markdown",
   "metadata": {},
   "source": [
    "One can further customize this plot, such as changing the color and style of the curve. For example, one can specify the line color, the type of line (solid, dashed, markers etc.) the line width, marker size et. `plot(x, y, color='??', marker='??', linestyle='??',linewidth=??, markersize=??)`\n",
    "\n",
    "Take a few moments and experiment with all the different parameters"
   ]
  },
  {
   "cell_type": "code",
   "execution_count": 63,
   "metadata": {},
   "outputs": [
    {
     "data": {
      "text/plain": [
       "[<matplotlib.lines.Line2D at 0x1efd438a208>]"
      ]
     },
     "execution_count": 63,
     "metadata": {},
     "output_type": "execute_result"
    },
    {
     "data": {
      "image/png": "[encoded data removed]",
      "text/plain": [
       "<Figure size 432x288 with 1 Axes>"
      ]
     },
     "metadata": {
      "needs_background": "light"
     },
     "output_type": "display_data"
    }
   ],
   "source": [
    "plt.plot(x, y, color='g', marker='o',markeredgecolor='r', linestyle='-.',linewidth=2, markersize=6)"
   ]
  },
  {
   "cell_type": "markdown",
   "metadata": {},
   "source": [
    "We can also add `xlabels, ylabels, title` to the plot:"
   ]
  },
  {
   "cell_type": "code",
   "execution_count": 69,
   "metadata": {},
   "outputs": [
    {
     "data": {
      "text/plain": [
       "Text(0.5, 1.0, 'Cubic Plot')"
      ]
     },
     "execution_count": 69,
     "metadata": {},
     "output_type": "execute_result"
    },
    {
     "data": {
      "image/png": "[encoded data removed]",
      "text/plain": [
       "<Figure size 432x288 with 1 Axes>"
      ]
     },
     "metadata": {
      "needs_background": "light"
     },
     "output_type": "display_data"
    }
   ],
   "source": [
    "plt.plot(x, y,'g--')\n",
    "plt.xlabel('x-axis',fontsize=12)\n",
    "plt.ylabel('y-axis',fontsize=12)\n",
    "plt.title('Cubic Plot',fontsize=14)"
   ]
  },
  {
   "cell_type": "markdown",
   "metadata": {},
   "source": [
    "We can also control the size of the plot:"
   ]
  },
  {
   "cell_type": "code",
   "execution_count": 70,
   "metadata": {},
   "outputs": [
    {
     "data": {
      "text/plain": [
       "Text(0.5, 1.0, 'Cubic Plot')"
      ]
     },
     "execution_count": 70,
     "metadata": {},
     "output_type": "execute_result"
    },
    {
     "data": {
      "image/png": "[encoded data removed]",
      "text/plain": [
       "<Figure size 720x432 with 1 Axes>"
      ]
     },
     "metadata": {
      "needs_background": "light"
     },
     "output_type": "display_data"
    }
   ],
   "source": [
    "plt.figure(figsize=(10,6))\n",
    "\n",
    "plt.plot(x, y,'g--')\n",
    "plt.xlabel('x-axis',fontsize=12)\n",
    "plt.ylabel('y-axis',fontsize=12)\n",
    "plt.title('Cubic Plot',fontsize=14)"
   ]
  },
  {
   "cell_type": "code",
   "execution_count": null,
   "metadata": {},
   "outputs": [],
   "source": []
  }
 ],
 "metadata": {
  "kernelspec": {
   "display_name": "Python 3",
   "language": "python",
   "name": "python3"
  },
  "language_info": {
   "codemirror_mode": {
    "name": "ipython",
    "version": 3
   },
   "file_extension": ".py",
   "mimetype": "text/x-python",
   "name": "python",
   "nbconvert_exporter": "python",
   "pygments_lexer": "ipython3",
   "version": "3.7.4"
  }
 },
 "nbformat": 4,
 "nbformat_minor": 2
}
