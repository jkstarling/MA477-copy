{
 "cells": [
  {
   "cell_type": "markdown",
   "metadata": {},
   "source": [
    "<h2> ======================================================</h2>\n",
    " <h1>MA477 - Theory and Applications of Data Science</h1> \n",
    "  <h1>Lesson 18: Random Forests </h1> \n",
    " \n",
    " <h4>Dr. Valmir Bucaj</h4>\n",
    " United States Military Academy, West Point \n",
    "AY20-2\n",
    "<h2>======================================================</h2>\n",
    "\n",
    "<h2> Lecture Outline</h2>\n",
    "\n",
    "<ul>\n",
    "    <li>Motivation</li>\n",
    "    <li>Random Forests</li>\n",
    "    <li>Python Implementation</li>\n",
    "\n",
    "    \n",
    " </ul>\n",
    " \n",
    " <h3>Motivation</h3>\n",
    " \n",
    " Before we even discuss what Random Forests are, let's go back to simple Decision Trees and talk about their main drawback.\n",
    " \n",
    " Recall that Decision Trees suffer from high variance. What this means is that if we were to split the training set randomly into two or three subsets and fit a decision tree on each subset, we could get fairly different results. Obviously, this is an undesirable trait of a production machine-learning model. We want to build models that are robouts, that is, models with low variance. Meaning, if we train our model on different subsets of our training set, we should consistently get very simmilar results. \n",
    " \n",
    " So, our goal will be to build a model, based on simple decision trees (for now), but with a significantly lower variance. \n",
    " \n",
    " We are motivated by the following fact: Supppose we have a sequence of $n$ uncorrelated random variables $\\{X_i\\}_{i=1}^n$. For simplicity, let's assume that $Var(X_i)=\\sigma^2$, for all $i$. Then, one can show that:\n",
    " \n",
    " \\begin{align*}Var\\left(\\frac{1}{n}\\sum_{i=1}^nX_i\\right)&=\\frac{1}{n^2}\\sum_{i=1}^nVar(X_i)+\\frac{2}{n^2}\\sum_{i\\neq j}Cov(X_i,X_j)\\\\\n",
    " &=\\frac{\\sigma^2}{n}\n",
    " \\end{align*}\n",
    " \n",
    " where $Cov(X_i,X_j)=0$ because we've assumed that the variables are uncorrelated.\n",
    " \n",
    " So, the beauty here is that by averaging a large number of uncorrelated (or even weekly correlated) random variables, we manage to significantly reduce the variance. \n",
    " \n",
    " This simple yet powerful principle is at the core of Random Forests, and many other ensamble models which we'll discuss later! \n",
    " \n",
    " \n",
    " <h2>Random Forests</h2>\n",
    " \n",
    " Random Forests are a specific example of what are known as <b>ensamble models</b>, which we'll discuss in more generality later. That is, models that aggregate multiple lower-level (simple) models into building a single more complex and more roboust predictions. For random forests, these lower-level models are simple Decision Trees. That is, Random Forests are build on the idea of fitting multiple decision trees and aggregating the results. In what follows, we describe the procedure in more details.\n",
    " \n",
    " From a given training samples we start by generating $B$ <b> bootstrap samples</b>. What this means is that we sample, with repetition, $B$ subsamples each of size $K$ from the training set. We then fit a Decision Tree on each of these $B$ samples. To obtain uncorrelated trees we impose one more condition: at each split we allow the algorithm to pick only from a randomly selected subset of $m\\approx\\sqrt{p}$ features, wehre $p$ represents the total number of features.\n",
    " \n",
    " That is, we end up with $\\hat{f}^1(x),\\dots,\\hat{f}^{B}(x)$ uncorrelated fitted trees. Then, the predictions are made as follows:\n",
    " \n",
    " <h3>Regression Setting</h3>\n",
    " \n",
    " Let $x_0$ be a new data point, then:\n",
    " \n",
    " $$\\hat{f}_{avg}(x_0)=\\frac{1}{B}\\sum_{i=1}^B\\hat{f}^i(x_0)$$\n",
    " \n",
    " In other words, we simply average the output of each of the $B$ individual trees. \n",
    " \n",
    " <h3>Classification Setting</h3>\n",
    " \n",
    " For the classification setting, one of the simplest ways is to take <b> majority vote</b>: the predicted class for $x_0$ is simply the most commonly occurring class among the $B$ trees.\n",
    " \n",
    " \n",
    " <h2>Python Implementation</h2>\n",
    " \n",
    " As I have not been able to find an appropriate dataset regarding the COVID-19 cases, for now we'll use the airline satisfaction dataset for the classification setting and the insurance dataset to illustrate the python implementation of Random Forests.\n",
    " \n",
    " <h3>Random Forest Regressor</h3>\n",
    " \n",
    " We will initially implement the Random Forest Regressor using the insurance dataset we used in our last lecture on Decision Trees. At the end we will also measure the variability of the Random Forests as a function of the number of fitted trees. \n",
    " \n",
    " We'll begin by importing the standard libraries and the insurance dataset."
   ]
  },
  {
   "cell_type": "code",
   "execution_count": 1,
   "metadata": {},
   "outputs": [],
   "source": [
    "import numpy as np\n",
    "import pandas as pd"
   ]
  },
  {
   "cell_type": "code",
   "execution_count": 2,
   "metadata": {},
   "outputs": [],
   "source": [
    "import matplotlib.pyplot as plt\n",
    "import seaborn as sns"
   ]
  },
  {
   "cell_type": "code",
   "execution_count": 3,
   "metadata": {},
   "outputs": [],
   "source": [
    "insurance=pd.read_csv('insurance_train.csv')"
   ]
  },
  {
   "cell_type": "code",
   "execution_count": 4,
   "metadata": {},
   "outputs": [
    {
     "data": {
      "text/html": [
       "<div>\n",
       "<style scoped>\n",
       "    .dataframe tbody tr th:only-of-type {\n",
       "        vertical-align: middle;\n",
       "    }\n",
       "\n",
       "    .dataframe tbody tr th {\n",
       "        vertical-align: top;\n",
       "    }\n",
       "\n",
       "    .dataframe thead th {\n",
       "        text-align: right;\n",
       "    }\n",
       "</style>\n",
       "<table border=\"1\" class=\"dataframe\">\n",
       "  <thead>\n",
       "    <tr style=\"text-align: right;\">\n",
       "      <th></th>\n",
       "      <th>age</th>\n",
       "      <th>sex</th>\n",
       "      <th>bmi</th>\n",
       "      <th>children</th>\n",
       "      <th>smoker</th>\n",
       "      <th>region</th>\n",
       "      <th>charges</th>\n",
       "    </tr>\n",
       "  </thead>\n",
       "  <tbody>\n",
       "    <tr>\n",
       "      <td>0</td>\n",
       "      <td>52.0</td>\n",
       "      <td>female</td>\n",
       "      <td>24.130</td>\n",
       "      <td>1</td>\n",
       "      <td>yes</td>\n",
       "      <td>northwest</td>\n",
       "      <td>23887.66270</td>\n",
       "    </tr>\n",
       "    <tr>\n",
       "      <td>1</td>\n",
       "      <td>46.0</td>\n",
       "      <td>male</td>\n",
       "      <td>43.890</td>\n",
       "      <td>3</td>\n",
       "      <td>no</td>\n",
       "      <td>southeast</td>\n",
       "      <td>8944.11510</td>\n",
       "    </tr>\n",
       "    <tr>\n",
       "      <td>2</td>\n",
       "      <td>46.0</td>\n",
       "      <td>male</td>\n",
       "      <td>19.855</td>\n",
       "      <td>0</td>\n",
       "      <td>no</td>\n",
       "      <td>northwest</td>\n",
       "      <td>7526.70645</td>\n",
       "    </tr>\n",
       "    <tr>\n",
       "      <td>3</td>\n",
       "      <td>37.0</td>\n",
       "      <td>female</td>\n",
       "      <td>NaN</td>\n",
       "      <td>2</td>\n",
       "      <td>no</td>\n",
       "      <td>southwest</td>\n",
       "      <td>6311.95200</td>\n",
       "    </tr>\n",
       "    <tr>\n",
       "      <td>4</td>\n",
       "      <td>62.0</td>\n",
       "      <td>female</td>\n",
       "      <td>29.920</td>\n",
       "      <td>0</td>\n",
       "      <td>no</td>\n",
       "      <td>southeast</td>\n",
       "      <td>13457.96080</td>\n",
       "    </tr>\n",
       "  </tbody>\n",
       "</table>\n",
       "</div>"
      ],
      "text/plain": [
       "    age     sex     bmi  children smoker     region      charges\n",
       "0  52.0  female  24.130         1    yes  northwest  23887.66270\n",
       "1  46.0    male  43.890         3     no  southeast   8944.11510\n",
       "2  46.0    male  19.855         0     no  northwest   7526.70645\n",
       "3  37.0  female     NaN         2     no  southwest   6311.95200\n",
       "4  62.0  female  29.920         0     no  southeast  13457.96080"
      ]
     },
     "execution_count": 4,
     "metadata": {},
     "output_type": "execute_result"
    }
   ],
   "source": [
    "insurance.head()"
   ]
  },
  {
   "cell_type": "markdown",
   "metadata": {},
   "source": [
    "Just as we did last time, we'll go ahead and drop all of the rows that have any missing values and carry out the standard pre-processing steps so that we can prepare our dataset to train our model."
   ]
  },
  {
   "cell_type": "code",
   "execution_count": 5,
   "metadata": {},
   "outputs": [],
   "source": [
    "insurance.dropna(inplace=True)"
   ]
  },
  {
   "cell_type": "code",
   "execution_count": 6,
   "metadata": {},
   "outputs": [
    {
     "data": {
      "text/plain": [
       "<matplotlib.axes._subplots.AxesSubplot at 0x15a9bdc1d88>"
      ]
     },
     "execution_count": 6,
     "metadata": {},
     "output_type": "execute_result"
    },
    {
     "data": {
      "image/png": "[encoded data removed]",
      "text/plain": [
       "<Figure size 432x288 with 1 Axes>"
      ]
     },
     "metadata": {
      "needs_background": "light"
     },
     "output_type": "display_data"
    }
   ],
   "source": [
    "sns.heatmap(insurance.isnull()==True,cbar=False,yticklabels=False)"
   ]
  },
  {
   "cell_type": "markdown",
   "metadata": {},
   "source": [
    "Next, we convert the qualitative features into dummy numerical values"
   ]
  },
  {
   "cell_type": "code",
   "execution_count": 7,
   "metadata": {},
   "outputs": [],
   "source": [
    "X=insurance.drop('charges',axis=1)\n",
    "y=insurance['charges']"
   ]
  },
  {
   "cell_type": "code",
   "execution_count": 8,
   "metadata": {},
   "outputs": [
    {
     "data": {
      "text/html": [
       "<div>\n",
       "<style scoped>\n",
       "    .dataframe tbody tr th:only-of-type {\n",
       "        vertical-align: middle;\n",
       "    }\n",
       "\n",
       "    .dataframe tbody tr th {\n",
       "        vertical-align: top;\n",
       "    }\n",
       "\n",
       "    .dataframe thead th {\n",
       "        text-align: right;\n",
       "    }\n",
       "</style>\n",
       "<table border=\"1\" class=\"dataframe\">\n",
       "  <thead>\n",
       "    <tr style=\"text-align: right;\">\n",
       "      <th></th>\n",
       "      <th>age</th>\n",
       "      <th>sex</th>\n",
       "      <th>bmi</th>\n",
       "      <th>children</th>\n",
       "      <th>smoker</th>\n",
       "      <th>region</th>\n",
       "    </tr>\n",
       "  </thead>\n",
       "  <tbody>\n",
       "    <tr>\n",
       "      <td>0</td>\n",
       "      <td>52.0</td>\n",
       "      <td>female</td>\n",
       "      <td>24.130</td>\n",
       "      <td>1</td>\n",
       "      <td>yes</td>\n",
       "      <td>northwest</td>\n",
       "    </tr>\n",
       "    <tr>\n",
       "      <td>1</td>\n",
       "      <td>46.0</td>\n",
       "      <td>male</td>\n",
       "      <td>43.890</td>\n",
       "      <td>3</td>\n",
       "      <td>no</td>\n",
       "      <td>southeast</td>\n",
       "    </tr>\n",
       "    <tr>\n",
       "      <td>2</td>\n",
       "      <td>46.0</td>\n",
       "      <td>male</td>\n",
       "      <td>19.855</td>\n",
       "      <td>0</td>\n",
       "      <td>no</td>\n",
       "      <td>northwest</td>\n",
       "    </tr>\n",
       "    <tr>\n",
       "      <td>4</td>\n",
       "      <td>62.0</td>\n",
       "      <td>female</td>\n",
       "      <td>29.920</td>\n",
       "      <td>0</td>\n",
       "      <td>no</td>\n",
       "      <td>southeast</td>\n",
       "    </tr>\n",
       "    <tr>\n",
       "      <td>6</td>\n",
       "      <td>27.0</td>\n",
       "      <td>male</td>\n",
       "      <td>31.130</td>\n",
       "      <td>1</td>\n",
       "      <td>yes</td>\n",
       "      <td>southeast</td>\n",
       "    </tr>\n",
       "  </tbody>\n",
       "</table>\n",
       "</div>"
      ],
      "text/plain": [
       "    age     sex     bmi  children smoker     region\n",
       "0  52.0  female  24.130         1    yes  northwest\n",
       "1  46.0    male  43.890         3     no  southeast\n",
       "2  46.0    male  19.855         0     no  northwest\n",
       "4  62.0  female  29.920         0     no  southeast\n",
       "6  27.0    male  31.130         1    yes  southeast"
      ]
     },
     "execution_count": 8,
     "metadata": {},
     "output_type": "execute_result"
    }
   ],
   "source": [
    "X.head()"
   ]
  },
  {
   "cell_type": "code",
   "execution_count": 11,
   "metadata": {},
   "outputs": [],
   "source": [
    "cols=['sex','smoker','region']\n",
    "X=pd.get_dummies(data=X,columns=cols,drop_first=True)"
   ]
  },
  {
   "cell_type": "code",
   "execution_count": 12,
   "metadata": {},
   "outputs": [
    {
     "data": {
      "text/html": [
       "<div>\n",
       "<style scoped>\n",
       "    .dataframe tbody tr th:only-of-type {\n",
       "        vertical-align: middle;\n",
       "    }\n",
       "\n",
       "    .dataframe tbody tr th {\n",
       "        vertical-align: top;\n",
       "    }\n",
       "\n",
       "    .dataframe thead th {\n",
       "        text-align: right;\n",
       "    }\n",
       "</style>\n",
       "<table border=\"1\" class=\"dataframe\">\n",
       "  <thead>\n",
       "    <tr style=\"text-align: right;\">\n",
       "      <th></th>\n",
       "      <th>age</th>\n",
       "      <th>bmi</th>\n",
       "      <th>children</th>\n",
       "      <th>sex_male</th>\n",
       "      <th>smoker_yes</th>\n",
       "      <th>region_northwest</th>\n",
       "      <th>region_southeast</th>\n",
       "      <th>region_southwest</th>\n",
       "    </tr>\n",
       "  </thead>\n",
       "  <tbody>\n",
       "    <tr>\n",
       "      <td>0</td>\n",
       "      <td>52.0</td>\n",
       "      <td>24.130</td>\n",
       "      <td>1</td>\n",
       "      <td>0</td>\n",
       "      <td>1</td>\n",
       "      <td>1</td>\n",
       "      <td>0</td>\n",
       "      <td>0</td>\n",
       "    </tr>\n",
       "    <tr>\n",
       "      <td>1</td>\n",
       "      <td>46.0</td>\n",
       "      <td>43.890</td>\n",
       "      <td>3</td>\n",
       "      <td>1</td>\n",
       "      <td>0</td>\n",
       "      <td>0</td>\n",
       "      <td>1</td>\n",
       "      <td>0</td>\n",
       "    </tr>\n",
       "    <tr>\n",
       "      <td>2</td>\n",
       "      <td>46.0</td>\n",
       "      <td>19.855</td>\n",
       "      <td>0</td>\n",
       "      <td>1</td>\n",
       "      <td>0</td>\n",
       "      <td>1</td>\n",
       "      <td>0</td>\n",
       "      <td>0</td>\n",
       "    </tr>\n",
       "    <tr>\n",
       "      <td>4</td>\n",
       "      <td>62.0</td>\n",
       "      <td>29.920</td>\n",
       "      <td>0</td>\n",
       "      <td>0</td>\n",
       "      <td>0</td>\n",
       "      <td>0</td>\n",
       "      <td>1</td>\n",
       "      <td>0</td>\n",
       "    </tr>\n",
       "    <tr>\n",
       "      <td>6</td>\n",
       "      <td>27.0</td>\n",
       "      <td>31.130</td>\n",
       "      <td>1</td>\n",
       "      <td>1</td>\n",
       "      <td>1</td>\n",
       "      <td>0</td>\n",
       "      <td>1</td>\n",
       "      <td>0</td>\n",
       "    </tr>\n",
       "  </tbody>\n",
       "</table>\n",
       "</div>"
      ],
      "text/plain": [
       "    age     bmi  children  sex_male  smoker_yes  region_northwest  \\\n",
       "0  52.0  24.130         1         0           1                 1   \n",
       "1  46.0  43.890         3         1           0                 0   \n",
       "2  46.0  19.855         0         1           0                 1   \n",
       "4  62.0  29.920         0         0           0                 0   \n",
       "6  27.0  31.130         1         1           1                 0   \n",
       "\n",
       "   region_southeast  region_southwest  \n",
       "0                 0                 0  \n",
       "1                 1                 0  \n",
       "2                 0                 0  \n",
       "4                 1                 0  \n",
       "6                 1                 0  "
      ]
     },
     "execution_count": 12,
     "metadata": {},
     "output_type": "execute_result"
    }
   ],
   "source": [
    "X.head()"
   ]
  },
  {
   "cell_type": "markdown",
   "metadata": {},
   "source": [
    "<h3> Fitting a Random Forest Regressor</h3>\n",
    "\n",
    "Initially, we'll just split our set into a training and test set. Shortly after, we'll use cross validation to tune the model. "
   ]
  },
  {
   "cell_type": "code",
   "execution_count": 15,
   "metadata": {},
   "outputs": [],
   "source": [
    "from sklearn.ensemble import RandomForestRegressor\n",
    "from sklearn.model_selection import train_test_split"
   ]
  },
  {
   "cell_type": "code",
   "execution_count": 16,
   "metadata": {},
   "outputs": [],
   "source": [
    "X_train,X_test,y_train,y_test=train_test_split(X,y,test_size=0.3,random_state=101)"
   ]
  },
  {
   "cell_type": "code",
   "execution_count": 157,
   "metadata": {},
   "outputs": [
    {
     "data": {
      "text/plain": [
       "RandomForestRegressor(bootstrap=True, criterion='mse', max_depth=4,\n",
       "                      max_features=3, max_leaf_nodes=None,\n",
       "                      min_impurity_decrease=0.0, min_impurity_split=None,\n",
       "                      min_samples_leaf=1, min_samples_split=2,\n",
       "                      min_weight_fraction_leaf=0.0, n_estimators=50,\n",
       "                      n_jobs=None, oob_score=False, random_state=None,\n",
       "                      verbose=0, warm_start=False)"
      ]
     },
     "execution_count": 157,
     "metadata": {},
     "output_type": "execute_result"
    }
   ],
   "source": [
    "rf_reg=RandomForestRegressor(n_estimators=50,criterion='mse',max_depth=4,max_features=3)\n",
    "rf_reg.fit(X_train,y_train)"
   ]
  },
  {
   "cell_type": "markdown",
   "metadata": {},
   "source": [
    "I briefly want to draw attention to the `max_features` parameter above. What this means is that at each split, the algorithm is forced to pick only from a random sample of three features picked out of the total eight features. As explained above, this is done so that we can decrease the correlation between each fitted tree."
   ]
  },
  {
   "cell_type": "markdown",
   "metadata": {},
   "source": [
    "<h3> Making Predictions</h3>"
   ]
  },
  {
   "cell_type": "code",
   "execution_count": 158,
   "metadata": {},
   "outputs": [],
   "source": [
    "rf_pred=rf_reg.predict(X_test)"
   ]
  },
  {
   "cell_type": "markdown",
   "metadata": {},
   "source": [
    "<h3>Assesing Model Performance</h3>\n",
    "\n",
    "<h4>Visual Assesment</h4>"
   ]
  },
  {
   "cell_type": "code",
   "execution_count": 159,
   "metadata": {},
   "outputs": [
    {
     "data": {
      "text/plain": [
       "Text(0, 0.5, 'Predicted Values')"
      ]
     },
     "execution_count": 159,
     "metadata": {},
     "output_type": "execute_result"
    },
    {
     "data": {
      "image/png": "[encoded data removed]",
      "text/plain": [
       "<Figure size 576x432 with 1 Axes>"
      ]
     },
     "metadata": {
      "needs_background": "light"
     },
     "output_type": "display_data"
    }
   ],
   "source": [
    "plt.figure(figsize=(8,6))\n",
    "plt.scatter(y_test,rf_pred)\n",
    "plt.xlabel(\"True Values\",fontsize=14)\n",
    "plt.ylabel(\"Predicted Values\",fontsize=14)"
   ]
  },
  {
   "cell_type": "markdown",
   "metadata": {},
   "source": [
    "<h4> Quantitative Assesment</h4>\n",
    "\n",
    "We'll use the R2 score to obtain a quantiatative assesment of the model performance."
   ]
  },
  {
   "cell_type": "code",
   "execution_count": 160,
   "metadata": {},
   "outputs": [],
   "source": [
    "from sklearn.metrics import r2_score"
   ]
  },
  {
   "cell_type": "code",
   "execution_count": 161,
   "metadata": {},
   "outputs": [],
   "source": [
    "r2=r2_score(y_test,rf_pred)"
   ]
  },
  {
   "cell_type": "code",
   "execution_count": 162,
   "metadata": {},
   "outputs": [
    {
     "data": {
      "text/plain": [
       "0.8010637572669073"
      ]
     },
     "execution_count": 162,
     "metadata": {},
     "output_type": "execute_result"
    }
   ],
   "source": [
    "r2"
   ]
  },
  {
   "cell_type": "markdown",
   "metadata": {},
   "source": [
    "<h2>Feature Importance</h2>\n",
    "\n",
    "Random Forests have a built in attribute that makes it very easy to measure the relative importance of each feature!\n",
    "\n",
    "Basically, the algorithm looks at how much the nodes that use a particular feature at a split reduce impurity. This is then averaged across all the trees in the forest. So, the higher the impurity reduced for a particular feature the higher the relative importance of that feature in making predictions."
   ]
  },
  {
   "cell_type": "code",
   "execution_count": 163,
   "metadata": {},
   "outputs": [],
   "source": [
    "feat_importance=pd.DataFrame(rf_reg.feature_importances_, columns=['Impurity Reduced'],index=X.columns)"
   ]
  },
  {
   "cell_type": "code",
   "execution_count": 164,
   "metadata": {},
   "outputs": [
    {
     "data": {
      "text/html": [
       "<div>\n",
       "<style scoped>\n",
       "    .dataframe tbody tr th:only-of-type {\n",
       "        vertical-align: middle;\n",
       "    }\n",
       "\n",
       "    .dataframe tbody tr th {\n",
       "        vertical-align: top;\n",
       "    }\n",
       "\n",
       "    .dataframe thead th {\n",
       "        text-align: right;\n",
       "    }\n",
       "</style>\n",
       "<table border=\"1\" class=\"dataframe\">\n",
       "  <thead>\n",
       "    <tr style=\"text-align: right;\">\n",
       "      <th></th>\n",
       "      <th>age</th>\n",
       "      <th>bmi</th>\n",
       "      <th>children</th>\n",
       "      <th>sex_male</th>\n",
       "      <th>smoker_yes</th>\n",
       "      <th>region_northwest</th>\n",
       "      <th>region_southeast</th>\n",
       "      <th>region_southwest</th>\n",
       "    </tr>\n",
       "  </thead>\n",
       "  <tbody>\n",
       "    <tr>\n",
       "      <td>Impurity Reduced</td>\n",
       "      <td>0.089611</td>\n",
       "      <td>0.125756</td>\n",
       "      <td>0.013347</td>\n",
       "      <td>0.003288</td>\n",
       "      <td>0.752941</td>\n",
       "      <td>0.003831</td>\n",
       "      <td>0.005821</td>\n",
       "      <td>0.005405</td>\n",
       "    </tr>\n",
       "  </tbody>\n",
       "</table>\n",
       "</div>"
      ],
      "text/plain": [
       "                       age       bmi  children  sex_male  smoker_yes  \\\n",
       "Impurity Reduced  0.089611  0.125756  0.013347  0.003288    0.752941   \n",
       "\n",
       "                  region_northwest  region_southeast  region_southwest  \n",
       "Impurity Reduced          0.003831          0.005821          0.005405  "
      ]
     },
     "execution_count": 164,
     "metadata": {},
     "output_type": "execute_result"
    }
   ],
   "source": [
    "feat_importance.T"
   ]
  },
  {
   "cell_type": "markdown",
   "metadata": {},
   "source": [
    "So what this tells us is that the top three most important features are: <b> smoker_yes, bmi, </b> and <b> age</b> as they have resulted in the highest average impurity reduction."
   ]
  },
  {
   "cell_type": "markdown",
   "metadata": {},
   "source": [
    "<font size=5 color='red'>Exercise</font>\n",
    "\n",
    "Task 1: Obtain an assessment of the model variability as a function of: n_estimators, max_depth etc.\n",
    "\n",
    "Task 2: Tune the parameters to obtain the best performance and lowest possible variability"
   ]
  },
  {
   "cell_type": "code",
   "execution_count": null,
   "metadata": {},
   "outputs": [],
   "source": []
  }
 ],
 "metadata": {
  "kernelspec": {
   "display_name": "Python 3",
   "language": "python",
   "name": "python3"
  },
  "language_info": {
   "codemirror_mode": {
    "name": "ipython",
    "version": 3
   },
   "file_extension": ".py",
   "mimetype": "text/x-python",
   "name": "python",
   "nbconvert_exporter": "python",
   "pygments_lexer": "ipython3",
   "version": "3.7.4"
  }
 },
 "nbformat": 4,
 "nbformat_minor": 2
}
