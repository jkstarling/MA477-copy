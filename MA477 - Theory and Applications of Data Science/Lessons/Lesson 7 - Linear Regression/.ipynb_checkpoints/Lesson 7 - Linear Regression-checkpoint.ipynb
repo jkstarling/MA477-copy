{
 "cells": [
  {
   "cell_type": "markdown",
   "metadata": {},
   "source": [
    "<h2> ======================================================</h2>\n",
    " <h1>MA477 - Theory and Applications of Data Science</h1> \n",
    "  <h1>Lesson 7: Linear Regression </h1> \n",
    " \n",
    " <h4>Dr. Valmir Bucaj</h4>\n",
    " United States Military Academy, West Point \n",
    "AY20-2\n",
    "<h2>======================================================</h2>"
   ]
  },
  {
   "cell_type": "markdown",
   "metadata": {},
   "source": [
    "<h2>Lecture Outline</h2>\n",
    "\n",
    "<ul>\n",
    "    <li>What is Linear Regression?</li>\n",
    "    <li>How does it work?</li>\n",
    "    <li>Estimating the coeficients</li>\n",
    "    <li> Assessing the accuracy of the coefficient estimates</li>\n",
    "    <li>Assesing the accuracy of the model</li>\n",
    "    <li>Dealing with qualitative predictors</li>\n",
    "    <li>Problems to look out for</li>\n",
    "    \n",
    "</ul>"
   ]
  },
  {
   "cell_type": "markdown",
   "metadata": {},
   "source": [
    "<h3> What is Linear Regression?</h3>\n",
    "\n",
    "Linear regression is a simple supervised statistical learning technique used for predicting quantitative a response target. Though linear regression is one of the simplest and oldest statistical learning techniques it is still very useful and widely used to this day for many reasons. \n",
    "\n",
    "Linear regression is a good starting point for the newer and more sophisticated machine-learning techniques, many of which may be seen as generalizations of linear regresssion, thus, having a good understanding of linear regression proves invaluable in studying these newer and more sophisticated methods. \n",
    "\n",
    " Throughoug this lecture we will use a portion of the `Boston Dataset` to illustrate many aspects of Linear Regresson.\n",
    " \n",
    " Before we continue with the rest of the lecture, let's go ahead and import some libraries: "
   ]
  },
  {
   "cell_type": "code",
   "execution_count": 128,
   "metadata": {},
   "outputs": [],
   "source": [
    "import numpy as np\n",
    "import pandas as pd"
   ]
  },
  {
   "cell_type": "code",
   "execution_count": 129,
   "metadata": {},
   "outputs": [],
   "source": [
    "import matplotlib.pyplot as plt\n",
    "import seaborn as sns"
   ]
  },
  {
   "cell_type": "markdown",
   "metadata": {},
   "source": [
    "Next let's go ahead and read in the `Boston_Dataset` in the folder for Lesson 7. This dataset is a subset of the famous `Boston` dataset that has been used often in illustrating different regression machine-learning techniques. \n",
    "\n",
    "<h3> Description of Boston house prices dataset</h3>\n",
    "\n",
    "\n",
    "**Data Set Characteristics:**  \n",
    "\n",
    "    :Number of Instances: 506 \n",
    "\n",
    "    :Number of Attributes: 8 numeric/categorical predictive. Median Value (attribute 14) is usually the target.\n",
    "\n",
    "    :Attribute Information (in order):\n",
    "        - CRIM     per capita crime rate by town\n",
    "        - CHAS     Charles River dummy variable (= Yes if tract bounds river; No otherwise)\n",
    "        - RM       average number of rooms per dwelling\n",
    "        - DIS      weighted distances to five Boston employment centres\n",
    "        - RAD      index of accessibility to radial highways\n",
    "        - TAX      full-value property-tax rate per $10,000\n",
    "        - PTRATIO  pupil-teacher ratio by town\n",
    "        - LSTAT    % lower status of the population\n",
    "        \n",
    "     :Target\n",
    "        -Price in $10,000"
   ]
  },
  {
   "cell_type": "code",
   "execution_count": 130,
   "metadata": {},
   "outputs": [],
   "source": [
    "boston=pd.read_excel('Boston_Dataset.xlsx',index_col=[0])"
   ]
  },
  {
   "cell_type": "code",
   "execution_count": 131,
   "metadata": {},
   "outputs": [
    {
     "data": {
      "text/html": [
       "<div>\n",
       "<style scoped>\n",
       "    .dataframe tbody tr th:only-of-type {\n",
       "        vertical-align: middle;\n",
       "    }\n",
       "\n",
       "    .dataframe tbody tr th {\n",
       "        vertical-align: top;\n",
       "    }\n",
       "\n",
       "    .dataframe thead th {\n",
       "        text-align: right;\n",
       "    }\n",
       "</style>\n",
       "<table border=\"1\" class=\"dataframe\">\n",
       "  <thead>\n",
       "    <tr style=\"text-align: right;\">\n",
       "      <th></th>\n",
       "      <th>CRIM</th>\n",
       "      <th>CHAS</th>\n",
       "      <th>RM</th>\n",
       "      <th>DIS</th>\n",
       "      <th>RAD</th>\n",
       "      <th>TAX</th>\n",
       "      <th>PTRATIO</th>\n",
       "      <th>LSTAT</th>\n",
       "      <th>Price</th>\n",
       "    </tr>\n",
       "    <tr>\n",
       "      <th>Unnamed: 0</th>\n",
       "      <th></th>\n",
       "      <th></th>\n",
       "      <th></th>\n",
       "      <th></th>\n",
       "      <th></th>\n",
       "      <th></th>\n",
       "      <th></th>\n",
       "      <th></th>\n",
       "      <th></th>\n",
       "    </tr>\n",
       "  </thead>\n",
       "  <tbody>\n",
       "    <tr>\n",
       "      <th>0</th>\n",
       "      <td>0.00632</td>\n",
       "      <td>No</td>\n",
       "      <td>6.575</td>\n",
       "      <td>4.0900</td>\n",
       "      <td>1</td>\n",
       "      <td>296</td>\n",
       "      <td>15.3</td>\n",
       "      <td>4.98</td>\n",
       "      <td>24.0</td>\n",
       "    </tr>\n",
       "    <tr>\n",
       "      <th>1</th>\n",
       "      <td>0.02731</td>\n",
       "      <td>No</td>\n",
       "      <td>6.421</td>\n",
       "      <td>4.9671</td>\n",
       "      <td>2</td>\n",
       "      <td>242</td>\n",
       "      <td>17.8</td>\n",
       "      <td>9.14</td>\n",
       "      <td>21.6</td>\n",
       "    </tr>\n",
       "    <tr>\n",
       "      <th>2</th>\n",
       "      <td>0.02729</td>\n",
       "      <td>No</td>\n",
       "      <td>7.185</td>\n",
       "      <td>4.9671</td>\n",
       "      <td>2</td>\n",
       "      <td>242</td>\n",
       "      <td>17.8</td>\n",
       "      <td>4.03</td>\n",
       "      <td>34.7</td>\n",
       "    </tr>\n",
       "    <tr>\n",
       "      <th>3</th>\n",
       "      <td>0.03237</td>\n",
       "      <td>No</td>\n",
       "      <td>6.998</td>\n",
       "      <td>6.0622</td>\n",
       "      <td>3</td>\n",
       "      <td>222</td>\n",
       "      <td>18.7</td>\n",
       "      <td>2.94</td>\n",
       "      <td>33.4</td>\n",
       "    </tr>\n",
       "    <tr>\n",
       "      <th>4</th>\n",
       "      <td>0.06905</td>\n",
       "      <td>No</td>\n",
       "      <td>7.147</td>\n",
       "      <td>6.0622</td>\n",
       "      <td>3</td>\n",
       "      <td>222</td>\n",
       "      <td>18.7</td>\n",
       "      <td>5.33</td>\n",
       "      <td>36.2</td>\n",
       "    </tr>\n",
       "  </tbody>\n",
       "</table>\n",
       "</div>"
      ],
      "text/plain": [
       "               CRIM CHAS     RM     DIS  RAD  TAX  PTRATIO  LSTAT  Price\n",
       "Unnamed: 0                                                              \n",
       "0           0.00632   No  6.575  4.0900    1  296     15.3   4.98   24.0\n",
       "1           0.02731   No  6.421  4.9671    2  242     17.8   9.14   21.6\n",
       "2           0.02729   No  7.185  4.9671    2  242     17.8   4.03   34.7\n",
       "3           0.03237   No  6.998  6.0622    3  222     18.7   2.94   33.4\n",
       "4           0.06905   No  7.147  6.0622    3  222     18.7   5.33   36.2"
      ]
     },
     "execution_count": 131,
     "metadata": {},
     "output_type": "execute_result"
    }
   ],
   "source": [
    "boston.head()"
   ]
  },
  {
   "cell_type": "markdown",
   "metadata": {},
   "source": [
    "<font color='red' size='4'>Mock Scenario</font>\n",
    "\n",
    "Imagine the following scenario: Your team has been contracted by a real-estate company who owns many houses in the Boston metro-area. You are tasked to analyze if the house prices owned by the company are competitive and if they need to be adjusted to optimize the overall profit. \n",
    "\n",
    "Below are some questions that your team might want to address before making recommendations:\n",
    "\n",
    "<ul>\n",
    "    <li>Is there a relationship between the different <b>predictors/features</b> and the house <b>prices</b> </li>\n",
    "    <li> If there is such a relationship, then how strong is it?</li>\n",
    "    <li> Which features affect the most the house prices?</li>\n",
    "    <li> How accurately can we estimate the effect of each feature to the house prices?</li>\n",
    "    <li> How accurately can we predict the house prices based on these features?</li>\n",
    "    <li>What kind of relationship is there between the features and the house prices? Linear?Non-linear?</li>\n",
    "    <li> Is there any <b>interaction</b> effect among the features?</li>\n",
    "    \n",
    " </ul>\n",
    " \n",
    "We will attempt to address all of these questions using linear regression. \n",
    "\n",
    "You are already familiar with linear regression, so we will not spend much time on the theory behind simple linear regression.\n",
    "\n",
    "<h3> Multiple Linear Regression</h3>\n",
    "\n",
    "Let $X=(X_1,\\dots,X_p)$ be $p$ predictors and let $Y$ be the response variable. Assuming there is some relationship between $X$ and $Y$ we have $$Y=f(X)+\\epsilon$$ where, as per usual, $\\epsilon$ represents a random error. \n",
    "\n",
    "If we suspect that the relationship between $X$ and $Y$ is linear, then we have\n",
    "\n",
    "$$f(X)=\\beta_0+\\sum_{i=1}^p\\beta_iX_i=\\beta_0+\\beta_1X_1+\\dots+\\beta_pX_p$$ where $\\beta_0,\\dots,\\beta_p$ are some unknown coefficients that need to be estimated.\n",
    "\n",
    "So, we have $$Y=\\beta_0+\\beta_1X_1+\\dots+\\beta_pX_p+\\epsilon$$\n",
    "\n",
    "<h4>Estimating Coefficients</h4>\n",
    "\n",
    "The goal is to find estimates $\\widehat{\\beta}_0,\\widehat{\\beta}_1,\\dots,\\widehat{\\beta}_p$, which then in turn allow us to make predictions using the formula $$\\widehat{Y}=\\widehat{\\beta}_0+\\widehat{\\beta}_1X_1+\\dots+\\widehat{\\beta}_pX_p.$$\n",
    "\n",
    "\n",
    "How do we estimate the coefficients $\\beta_0,\\beta_1,\\dots,\\beta_p$?\n",
    "\n",
    "There are actually many methods that may be used to estimate the coefficients in a linear model, each of which gives rise to a slightly different linear model.  \n",
    "\n",
    "In this course we will learn about three of them:\n",
    "<ul>\n",
    "    <li>Least Squares (LS)</li>\n",
    "    <li> Least Squares + $\\ell^2$-regularization (Ridge Method)</li>\n",
    "    <li> Least Squares + $\\ell^1$-regularization (Lasso Method)</li>\n",
    "</ul>\n",
    "\n",
    "You are already familiar with the Least Squares method, which is the simplest form of linear regresssion and is what typically people refer to when talking about linear regression. \n",
    "\n",
    "In this lecture we will focus on the Least Squares, and talk about the other two in the next lectures. \n",
    "\n",
    "In the LS method we pick the coefficients $\\widehat{\\beta}_0,\\widehat{\\beta}_1,\\dots,\\widehat{\\beta}_p$ such that the Residual Sum of Squares (RSS) is minimized; that is coefficients that minimize the quantity:\n",
    "\n",
    "$$RSS=\\sum_{i=1}^n\\left(y_i-\\widehat{y}_i\\right)^2=\\sum_{i=1}^n\\left(y_i-\\widehat{\\beta}_0-\\widehat{\\beta}_1x_{i1}-\\dots-\\widehat{\\beta}_px_{ip}\\right)^2$$ where $n$ represents the number of samples. \n",
    "\n",
    "<b>Example</b>\n",
    "\n",
    "In the case of the Boston housing data, the model would look like this:\n",
    "\n",
    "$$\\widehat{Price}=\\hat{\\beta_0}+\\hat{\\beta_1}\\times (CRIM) +\\hat{\\beta_2}\\times (CHAS) +\\hat{\\beta_3}\\times (RM)+\\hat{\\beta_4}\\times (DIS)+\\hat{\\beta_5}\\times\t(RAD)+\\hat{\\beta_6}\\times (TAX)+\\hat{\\beta_7}\\times(PTRATIO)+\\hat{\\beta_8}\\times (LSTAT)$$\n",
    "\n",
    "The simplest form of linear regression is when $p=1$. For example, if we were trying to predict the house pricing only based on the average number of rooms per house (RM), then the model would look like this:\n",
    "\n",
    "$$\\hat{y}=\\beta_0+\\beta_1\\times(RM)$$\n",
    "\n",
    "Below, is a scatterplot along with the line of best fit $\\hat{y}$."
   ]
  },
  {
   "cell_type": "code",
   "execution_count": 189,
   "metadata": {
    "scrolled": false
   },
   "outputs": [
    {
     "data": {
      "image/png": "[encoded data removed]",
      "text/plain": [
       "<Figure size 720x576 with 1 Axes>"
      ]
     },
     "metadata": {},
     "output_type": "display_data"
    }
   ],
   "source": [
    "sns.set_style('whitegrid')\n",
    "plt.figure(figsize=(10,8))\n",
    "sns.regplot(x='RM',y='Price',data=boston,scatter_kws={'s':6},line_kws={'color':'r'},ci=95)\n",
    "plt.xlabel(\"Average Number of Rooms per Dwelling\",fontsize=14)\n",
    "plt.ylabel('Price',fontsize=14)\n",
    "plt.show()"
   ]
  },
  {
   "cell_type": "markdown",
   "metadata": {},
   "source": [
    "We will discuss many more qualitative and theoretical aspects of linear regression as we go along, but for now let's turn to implementing linear regression with Python.\n",
    "\n",
    "<h2>Linear Regression with Python</h2>\n",
    "\n",
    "As we mentioned above, we will build a linear regression model for the Boston Housing dataset.\n",
    "\n",
    "Normally, in real projects, one would start by coducting some exploratory analysis. Basically, use our knowledge of visualization tools to gain insights about our data. For now, we will skip this part, but I urge you on your own time to explore the data by building some pairplots, distribution plots, heat-maps of the correlation matrices, boxplots etc.\n",
    "\n",
    "<h3>Data Preprocessing</h3>\n",
    "\n",
    "Before we can fit the linear regression (or any machine-learning model) to our data, we need to prepare it first.\n",
    "\n",
    "Let's check out the head of the dataset:"
   ]
  },
  {
   "cell_type": "code",
   "execution_count": 190,
   "metadata": {},
   "outputs": [
    {
     "data": {
      "text/html": [
       "<div>\n",
       "<style scoped>\n",
       "    .dataframe tbody tr th:only-of-type {\n",
       "        vertical-align: middle;\n",
       "    }\n",
       "\n",
       "    .dataframe tbody tr th {\n",
       "        vertical-align: top;\n",
       "    }\n",
       "\n",
       "    .dataframe thead th {\n",
       "        text-align: right;\n",
       "    }\n",
       "</style>\n",
       "<table border=\"1\" class=\"dataframe\">\n",
       "  <thead>\n",
       "    <tr style=\"text-align: right;\">\n",
       "      <th></th>\n",
       "      <th>CRIM</th>\n",
       "      <th>CHAS</th>\n",
       "      <th>RM</th>\n",
       "      <th>DIS</th>\n",
       "      <th>RAD</th>\n",
       "      <th>TAX</th>\n",
       "      <th>PTRATIO</th>\n",
       "      <th>LSTAT</th>\n",
       "      <th>Price</th>\n",
       "    </tr>\n",
       "    <tr>\n",
       "      <th>Unnamed: 0</th>\n",
       "      <th></th>\n",
       "      <th></th>\n",
       "      <th></th>\n",
       "      <th></th>\n",
       "      <th></th>\n",
       "      <th></th>\n",
       "      <th></th>\n",
       "      <th></th>\n",
       "      <th></th>\n",
       "    </tr>\n",
       "  </thead>\n",
       "  <tbody>\n",
       "    <tr>\n",
       "      <th>0</th>\n",
       "      <td>0.00632</td>\n",
       "      <td>No</td>\n",
       "      <td>6.575</td>\n",
       "      <td>4.0900</td>\n",
       "      <td>1</td>\n",
       "      <td>296</td>\n",
       "      <td>15.3</td>\n",
       "      <td>4.98</td>\n",
       "      <td>24.0</td>\n",
       "    </tr>\n",
       "    <tr>\n",
       "      <th>1</th>\n",
       "      <td>0.02731</td>\n",
       "      <td>No</td>\n",
       "      <td>6.421</td>\n",
       "      <td>4.9671</td>\n",
       "      <td>2</td>\n",
       "      <td>242</td>\n",
       "      <td>17.8</td>\n",
       "      <td>9.14</td>\n",
       "      <td>21.6</td>\n",
       "    </tr>\n",
       "    <tr>\n",
       "      <th>2</th>\n",
       "      <td>0.02729</td>\n",
       "      <td>No</td>\n",
       "      <td>7.185</td>\n",
       "      <td>4.9671</td>\n",
       "      <td>2</td>\n",
       "      <td>242</td>\n",
       "      <td>17.8</td>\n",
       "      <td>4.03</td>\n",
       "      <td>34.7</td>\n",
       "    </tr>\n",
       "    <tr>\n",
       "      <th>3</th>\n",
       "      <td>0.03237</td>\n",
       "      <td>No</td>\n",
       "      <td>6.998</td>\n",
       "      <td>6.0622</td>\n",
       "      <td>3</td>\n",
       "      <td>222</td>\n",
       "      <td>18.7</td>\n",
       "      <td>2.94</td>\n",
       "      <td>33.4</td>\n",
       "    </tr>\n",
       "    <tr>\n",
       "      <th>4</th>\n",
       "      <td>0.06905</td>\n",
       "      <td>No</td>\n",
       "      <td>7.147</td>\n",
       "      <td>6.0622</td>\n",
       "      <td>3</td>\n",
       "      <td>222</td>\n",
       "      <td>18.7</td>\n",
       "      <td>5.33</td>\n",
       "      <td>36.2</td>\n",
       "    </tr>\n",
       "  </tbody>\n",
       "</table>\n",
       "</div>"
      ],
      "text/plain": [
       "               CRIM CHAS     RM     DIS  RAD  TAX  PTRATIO  LSTAT  Price\n",
       "Unnamed: 0                                                              \n",
       "0           0.00632   No  6.575  4.0900    1  296     15.3   4.98   24.0\n",
       "1           0.02731   No  6.421  4.9671    2  242     17.8   9.14   21.6\n",
       "2           0.02729   No  7.185  4.9671    2  242     17.8   4.03   34.7\n",
       "3           0.03237   No  6.998  6.0622    3  222     18.7   2.94   33.4\n",
       "4           0.06905   No  7.147  6.0622    3  222     18.7   5.33   36.2"
      ]
     },
     "execution_count": 190,
     "metadata": {},
     "output_type": "execute_result"
    }
   ],
   "source": [
    "boston.head()"
   ]
  },
  {
   "cell_type": "markdown",
   "metadata": {},
   "source": [
    "The first thing to notice is that the $CHAS$ is a qualitative feature, it consists of $Yes$ for the areas that bound the Charles River and $No$ otherwise. \n",
    "\n",
    "Linear regression models do not directly handle qualitative features, so before we can even begin we are forced to deal with qualitative variables. The easiest (but maybe not always the smartest) thing to do is simply drop entirely $CHAS$. \n",
    "\n",
    "However, a smarter move is to replace it with a `dummy variable`. In other words, we can code the answer $Yes$ as a $1$ and the answer $No$ as a $0$."
   ]
  },
  {
   "cell_type": "markdown",
   "metadata": {},
   "source": [
    "<font color='red' size='4'> Exercise</font>\n",
    "\n",
    "Using the `.apply()` method, replace $Yes$ and $No$ with $1$ and $0$ respectively and save the updated table under `df`."
   ]
  },
  {
   "cell_type": "code",
   "execution_count": 202,
   "metadata": {},
   "outputs": [],
   "source": [
    "#Enter Answer Here\n"
   ]
  },
  {
   "cell_type": "code",
   "execution_count": 204,
   "metadata": {},
   "outputs": [
    {
     "data": {
      "text/html": [
       "<div>\n",
       "<style scoped>\n",
       "    .dataframe tbody tr th:only-of-type {\n",
       "        vertical-align: middle;\n",
       "    }\n",
       "\n",
       "    .dataframe tbody tr th {\n",
       "        vertical-align: top;\n",
       "    }\n",
       "\n",
       "    .dataframe thead th {\n",
       "        text-align: right;\n",
       "    }\n",
       "</style>\n",
       "<table border=\"1\" class=\"dataframe\">\n",
       "  <thead>\n",
       "    <tr style=\"text-align: right;\">\n",
       "      <th></th>\n",
       "      <th>CRIM</th>\n",
       "      <th>CHAS</th>\n",
       "      <th>RM</th>\n",
       "      <th>DIS</th>\n",
       "      <th>RAD</th>\n",
       "      <th>TAX</th>\n",
       "      <th>PTRATIO</th>\n",
       "      <th>LSTAT</th>\n",
       "      <th>Price</th>\n",
       "    </tr>\n",
       "    <tr>\n",
       "      <th>Unnamed: 0</th>\n",
       "      <th></th>\n",
       "      <th></th>\n",
       "      <th></th>\n",
       "      <th></th>\n",
       "      <th></th>\n",
       "      <th></th>\n",
       "      <th></th>\n",
       "      <th></th>\n",
       "      <th></th>\n",
       "    </tr>\n",
       "  </thead>\n",
       "  <tbody>\n",
       "    <tr>\n",
       "      <th>0</th>\n",
       "      <td>0.00632</td>\n",
       "      <td>0</td>\n",
       "      <td>6.575</td>\n",
       "      <td>4.0900</td>\n",
       "      <td>1</td>\n",
       "      <td>296</td>\n",
       "      <td>15.3</td>\n",
       "      <td>4.98</td>\n",
       "      <td>24.0</td>\n",
       "    </tr>\n",
       "    <tr>\n",
       "      <th>1</th>\n",
       "      <td>0.02731</td>\n",
       "      <td>0</td>\n",
       "      <td>6.421</td>\n",
       "      <td>4.9671</td>\n",
       "      <td>2</td>\n",
       "      <td>242</td>\n",
       "      <td>17.8</td>\n",
       "      <td>9.14</td>\n",
       "      <td>21.6</td>\n",
       "    </tr>\n",
       "    <tr>\n",
       "      <th>2</th>\n",
       "      <td>0.02729</td>\n",
       "      <td>0</td>\n",
       "      <td>7.185</td>\n",
       "      <td>4.9671</td>\n",
       "      <td>2</td>\n",
       "      <td>242</td>\n",
       "      <td>17.8</td>\n",
       "      <td>4.03</td>\n",
       "      <td>34.7</td>\n",
       "    </tr>\n",
       "    <tr>\n",
       "      <th>3</th>\n",
       "      <td>0.03237</td>\n",
       "      <td>0</td>\n",
       "      <td>6.998</td>\n",
       "      <td>6.0622</td>\n",
       "      <td>3</td>\n",
       "      <td>222</td>\n",
       "      <td>18.7</td>\n",
       "      <td>2.94</td>\n",
       "      <td>33.4</td>\n",
       "    </tr>\n",
       "    <tr>\n",
       "      <th>4</th>\n",
       "      <td>0.06905</td>\n",
       "      <td>0</td>\n",
       "      <td>7.147</td>\n",
       "      <td>6.0622</td>\n",
       "      <td>3</td>\n",
       "      <td>222</td>\n",
       "      <td>18.7</td>\n",
       "      <td>5.33</td>\n",
       "      <td>36.2</td>\n",
       "    </tr>\n",
       "  </tbody>\n",
       "</table>\n",
       "</div>"
      ],
      "text/plain": [
       "               CRIM  CHAS     RM     DIS  RAD  TAX  PTRATIO  LSTAT  Price\n",
       "Unnamed: 0                                                               \n",
       "0           0.00632     0  6.575  4.0900    1  296     15.3   4.98   24.0\n",
       "1           0.02731     0  6.421  4.9671    2  242     17.8   9.14   21.6\n",
       "2           0.02729     0  7.185  4.9671    2  242     17.8   4.03   34.7\n",
       "3           0.03237     0  6.998  6.0622    3  222     18.7   2.94   33.4\n",
       "4           0.06905     0  7.147  6.0622    3  222     18.7   5.33   36.2"
      ]
     },
     "execution_count": 204,
     "metadata": {},
     "output_type": "execute_result"
    }
   ],
   "source": [
    "df.head()"
   ]
  },
  {
   "cell_type": "markdown",
   "metadata": {},
   "source": [
    "Pandas also has a built-in method `pd.get_dummies()` to convert qualitative features into quantitative ones by assigning dummy variables:"
   ]
  },
  {
   "cell_type": "code",
   "execution_count": 205,
   "metadata": {},
   "outputs": [],
   "source": [
    "df_new=boston.copy()"
   ]
  },
  {
   "cell_type": "code",
   "execution_count": 206,
   "metadata": {},
   "outputs": [],
   "source": [
    "df_new=pd.get_dummies(df_new,columns=['CHAS'],drop_first=True)"
   ]
  },
  {
   "cell_type": "code",
   "execution_count": 207,
   "metadata": {},
   "outputs": [
    {
     "data": {
      "text/html": [
       "<div>\n",
       "<style scoped>\n",
       "    .dataframe tbody tr th:only-of-type {\n",
       "        vertical-align: middle;\n",
       "    }\n",
       "\n",
       "    .dataframe tbody tr th {\n",
       "        vertical-align: top;\n",
       "    }\n",
       "\n",
       "    .dataframe thead th {\n",
       "        text-align: right;\n",
       "    }\n",
       "</style>\n",
       "<table border=\"1\" class=\"dataframe\">\n",
       "  <thead>\n",
       "    <tr style=\"text-align: right;\">\n",
       "      <th></th>\n",
       "      <th>CRIM</th>\n",
       "      <th>RM</th>\n",
       "      <th>DIS</th>\n",
       "      <th>RAD</th>\n",
       "      <th>TAX</th>\n",
       "      <th>PTRATIO</th>\n",
       "      <th>LSTAT</th>\n",
       "      <th>Price</th>\n",
       "      <th>CHAS_Yes</th>\n",
       "    </tr>\n",
       "    <tr>\n",
       "      <th>Unnamed: 0</th>\n",
       "      <th></th>\n",
       "      <th></th>\n",
       "      <th></th>\n",
       "      <th></th>\n",
       "      <th></th>\n",
       "      <th></th>\n",
       "      <th></th>\n",
       "      <th></th>\n",
       "      <th></th>\n",
       "    </tr>\n",
       "  </thead>\n",
       "  <tbody>\n",
       "    <tr>\n",
       "      <th>0</th>\n",
       "      <td>0.00632</td>\n",
       "      <td>6.575</td>\n",
       "      <td>4.0900</td>\n",
       "      <td>1</td>\n",
       "      <td>296</td>\n",
       "      <td>15.3</td>\n",
       "      <td>4.98</td>\n",
       "      <td>24.0</td>\n",
       "      <td>0</td>\n",
       "    </tr>\n",
       "    <tr>\n",
       "      <th>1</th>\n",
       "      <td>0.02731</td>\n",
       "      <td>6.421</td>\n",
       "      <td>4.9671</td>\n",
       "      <td>2</td>\n",
       "      <td>242</td>\n",
       "      <td>17.8</td>\n",
       "      <td>9.14</td>\n",
       "      <td>21.6</td>\n",
       "      <td>0</td>\n",
       "    </tr>\n",
       "    <tr>\n",
       "      <th>2</th>\n",
       "      <td>0.02729</td>\n",
       "      <td>7.185</td>\n",
       "      <td>4.9671</td>\n",
       "      <td>2</td>\n",
       "      <td>242</td>\n",
       "      <td>17.8</td>\n",
       "      <td>4.03</td>\n",
       "      <td>34.7</td>\n",
       "      <td>0</td>\n",
       "    </tr>\n",
       "    <tr>\n",
       "      <th>3</th>\n",
       "      <td>0.03237</td>\n",
       "      <td>6.998</td>\n",
       "      <td>6.0622</td>\n",
       "      <td>3</td>\n",
       "      <td>222</td>\n",
       "      <td>18.7</td>\n",
       "      <td>2.94</td>\n",
       "      <td>33.4</td>\n",
       "      <td>0</td>\n",
       "    </tr>\n",
       "    <tr>\n",
       "      <th>4</th>\n",
       "      <td>0.06905</td>\n",
       "      <td>7.147</td>\n",
       "      <td>6.0622</td>\n",
       "      <td>3</td>\n",
       "      <td>222</td>\n",
       "      <td>18.7</td>\n",
       "      <td>5.33</td>\n",
       "      <td>36.2</td>\n",
       "      <td>0</td>\n",
       "    </tr>\n",
       "  </tbody>\n",
       "</table>\n",
       "</div>"
      ],
      "text/plain": [
       "               CRIM     RM     DIS  RAD  TAX  PTRATIO  LSTAT  Price  CHAS_Yes\n",
       "Unnamed: 0                                                                   \n",
       "0           0.00632  6.575  4.0900    1  296     15.3   4.98   24.0         0\n",
       "1           0.02731  6.421  4.9671    2  242     17.8   9.14   21.6         0\n",
       "2           0.02729  7.185  4.9671    2  242     17.8   4.03   34.7         0\n",
       "3           0.03237  6.998  6.0622    3  222     18.7   2.94   33.4         0\n",
       "4           0.06905  7.147  6.0622    3  222     18.7   5.33   36.2         0"
      ]
     },
     "execution_count": 207,
     "metadata": {},
     "output_type": "execute_result"
    }
   ],
   "source": [
    "df_new.head()"
   ]
  },
  {
   "cell_type": "markdown",
   "metadata": {},
   "source": [
    "I will continue to use the `df` dataframe.\n",
    "\n",
    "<h3> Scaling Data</h3>\n",
    "\n",
    "Many of the measurements are in different scales, so in this case it is particularly important that we scale the data before we fit a linear regression.\n",
    "\n",
    "<font size='4' color='red'>Exercise</font>\n",
    "\n",
    "Scale the data, excluding the response variable <b>price</b>, to have mean zero and standard deviation one. \n",
    "\n",
    "Step 1: Import the `StandardScaler` from `sklearn.preprocessing`"
   ]
  },
  {
   "cell_type": "code",
   "execution_count": 218,
   "metadata": {},
   "outputs": [],
   "source": []
  },
  {
   "cell_type": "markdown",
   "metadata": {},
   "source": [
    "Step 2: Save the features on a new dataframe called `X` and the response variable under `y` and check the head of `X`."
   ]
  },
  {
   "cell_type": "code",
   "execution_count": 219,
   "metadata": {},
   "outputs": [],
   "source": []
  },
  {
   "cell_type": "code",
   "execution_count": 220,
   "metadata": {},
   "outputs": [
    {
     "data": {
      "text/html": [
       "<div>\n",
       "<style scoped>\n",
       "    .dataframe tbody tr th:only-of-type {\n",
       "        vertical-align: middle;\n",
       "    }\n",
       "\n",
       "    .dataframe tbody tr th {\n",
       "        vertical-align: top;\n",
       "    }\n",
       "\n",
       "    .dataframe thead th {\n",
       "        text-align: right;\n",
       "    }\n",
       "</style>\n",
       "<table border=\"1\" class=\"dataframe\">\n",
       "  <thead>\n",
       "    <tr style=\"text-align: right;\">\n",
       "      <th></th>\n",
       "      <th>CRIM</th>\n",
       "      <th>CHAS</th>\n",
       "      <th>RM</th>\n",
       "      <th>DIS</th>\n",
       "      <th>RAD</th>\n",
       "      <th>TAX</th>\n",
       "      <th>PTRATIO</th>\n",
       "      <th>LSTAT</th>\n",
       "    </tr>\n",
       "    <tr>\n",
       "      <th>Unnamed: 0</th>\n",
       "      <th></th>\n",
       "      <th></th>\n",
       "      <th></th>\n",
       "      <th></th>\n",
       "      <th></th>\n",
       "      <th></th>\n",
       "      <th></th>\n",
       "      <th></th>\n",
       "    </tr>\n",
       "  </thead>\n",
       "  <tbody>\n",
       "    <tr>\n",
       "      <th>0</th>\n",
       "      <td>0.00632</td>\n",
       "      <td>0</td>\n",
       "      <td>6.575</td>\n",
       "      <td>4.0900</td>\n",
       "      <td>1</td>\n",
       "      <td>296</td>\n",
       "      <td>15.3</td>\n",
       "      <td>4.98</td>\n",
       "    </tr>\n",
       "    <tr>\n",
       "      <th>1</th>\n",
       "      <td>0.02731</td>\n",
       "      <td>0</td>\n",
       "      <td>6.421</td>\n",
       "      <td>4.9671</td>\n",
       "      <td>2</td>\n",
       "      <td>242</td>\n",
       "      <td>17.8</td>\n",
       "      <td>9.14</td>\n",
       "    </tr>\n",
       "    <tr>\n",
       "      <th>2</th>\n",
       "      <td>0.02729</td>\n",
       "      <td>0</td>\n",
       "      <td>7.185</td>\n",
       "      <td>4.9671</td>\n",
       "      <td>2</td>\n",
       "      <td>242</td>\n",
       "      <td>17.8</td>\n",
       "      <td>4.03</td>\n",
       "    </tr>\n",
       "    <tr>\n",
       "      <th>3</th>\n",
       "      <td>0.03237</td>\n",
       "      <td>0</td>\n",
       "      <td>6.998</td>\n",
       "      <td>6.0622</td>\n",
       "      <td>3</td>\n",
       "      <td>222</td>\n",
       "      <td>18.7</td>\n",
       "      <td>2.94</td>\n",
       "    </tr>\n",
       "    <tr>\n",
       "      <th>4</th>\n",
       "      <td>0.06905</td>\n",
       "      <td>0</td>\n",
       "      <td>7.147</td>\n",
       "      <td>6.0622</td>\n",
       "      <td>3</td>\n",
       "      <td>222</td>\n",
       "      <td>18.7</td>\n",
       "      <td>5.33</td>\n",
       "    </tr>\n",
       "  </tbody>\n",
       "</table>\n",
       "</div>"
      ],
      "text/plain": [
       "               CRIM  CHAS     RM     DIS  RAD  TAX  PTRATIO  LSTAT\n",
       "Unnamed: 0                                                        \n",
       "0           0.00632     0  6.575  4.0900    1  296     15.3   4.98\n",
       "1           0.02731     0  6.421  4.9671    2  242     17.8   9.14\n",
       "2           0.02729     0  7.185  4.9671    2  242     17.8   4.03\n",
       "3           0.03237     0  6.998  6.0622    3  222     18.7   2.94\n",
       "4           0.06905     0  7.147  6.0622    3  222     18.7   5.33"
      ]
     },
     "execution_count": 220,
     "metadata": {},
     "output_type": "execute_result"
    }
   ],
   "source": [
    "X.head()"
   ]
  },
  {
   "cell_type": "markdown",
   "metadata": {},
   "source": [
    "Step 3: Perform the scaling"
   ]
  },
  {
   "cell_type": "code",
   "execution_count": 212,
   "metadata": {},
   "outputs": [],
   "source": []
  },
  {
   "cell_type": "code",
   "execution_count": 213,
   "metadata": {},
   "outputs": [],
   "source": []
  },
  {
   "cell_type": "markdown",
   "metadata": {},
   "source": [
    "After scaling the data, create a new dataframe of the scaled data called `X_sc` and check the head"
   ]
  },
  {
   "cell_type": "code",
   "execution_count": 221,
   "metadata": {},
   "outputs": [],
   "source": []
  },
  {
   "cell_type": "code",
   "execution_count": 222,
   "metadata": {},
   "outputs": [
    {
     "data": {
      "text/html": [
       "<div>\n",
       "<style scoped>\n",
       "    .dataframe tbody tr th:only-of-type {\n",
       "        vertical-align: middle;\n",
       "    }\n",
       "\n",
       "    .dataframe tbody tr th {\n",
       "        vertical-align: top;\n",
       "    }\n",
       "\n",
       "    .dataframe thead th {\n",
       "        text-align: right;\n",
       "    }\n",
       "</style>\n",
       "<table border=\"1\" class=\"dataframe\">\n",
       "  <thead>\n",
       "    <tr style=\"text-align: right;\">\n",
       "      <th></th>\n",
       "      <th>CRIM</th>\n",
       "      <th>CHAS</th>\n",
       "      <th>RM</th>\n",
       "      <th>DIS</th>\n",
       "      <th>RAD</th>\n",
       "      <th>TAX</th>\n",
       "      <th>PTRATIO</th>\n",
       "      <th>LSTAT</th>\n",
       "    </tr>\n",
       "  </thead>\n",
       "  <tbody>\n",
       "    <tr>\n",
       "      <th>0</th>\n",
       "      <td>-0.419782</td>\n",
       "      <td>-0.272599</td>\n",
       "      <td>0.413672</td>\n",
       "      <td>0.140214</td>\n",
       "      <td>-0.982843</td>\n",
       "      <td>-0.666608</td>\n",
       "      <td>-1.459000</td>\n",
       "      <td>-1.075562</td>\n",
       "    </tr>\n",
       "    <tr>\n",
       "      <th>1</th>\n",
       "      <td>-0.417339</td>\n",
       "      <td>-0.272599</td>\n",
       "      <td>0.194274</td>\n",
       "      <td>0.557160</td>\n",
       "      <td>-0.867883</td>\n",
       "      <td>-0.987329</td>\n",
       "      <td>-0.303094</td>\n",
       "      <td>-0.492439</td>\n",
       "    </tr>\n",
       "    <tr>\n",
       "      <th>2</th>\n",
       "      <td>-0.417342</td>\n",
       "      <td>-0.272599</td>\n",
       "      <td>1.282714</td>\n",
       "      <td>0.557160</td>\n",
       "      <td>-0.867883</td>\n",
       "      <td>-0.987329</td>\n",
       "      <td>-0.303094</td>\n",
       "      <td>-1.208727</td>\n",
       "    </tr>\n",
       "    <tr>\n",
       "      <th>3</th>\n",
       "      <td>-0.416750</td>\n",
       "      <td>-0.272599</td>\n",
       "      <td>1.016303</td>\n",
       "      <td>1.077737</td>\n",
       "      <td>-0.752922</td>\n",
       "      <td>-1.106115</td>\n",
       "      <td>0.113032</td>\n",
       "      <td>-1.361517</td>\n",
       "    </tr>\n",
       "    <tr>\n",
       "      <th>4</th>\n",
       "      <td>-0.412482</td>\n",
       "      <td>-0.272599</td>\n",
       "      <td>1.228577</td>\n",
       "      <td>1.077737</td>\n",
       "      <td>-0.752922</td>\n",
       "      <td>-1.106115</td>\n",
       "      <td>0.113032</td>\n",
       "      <td>-1.026501</td>\n",
       "    </tr>\n",
       "  </tbody>\n",
       "</table>\n",
       "</div>"
      ],
      "text/plain": [
       "       CRIM      CHAS        RM       DIS       RAD       TAX   PTRATIO  \\\n",
       "0 -0.419782 -0.272599  0.413672  0.140214 -0.982843 -0.666608 -1.459000   \n",
       "1 -0.417339 -0.272599  0.194274  0.557160 -0.867883 -0.987329 -0.303094   \n",
       "2 -0.417342 -0.272599  1.282714  0.557160 -0.867883 -0.987329 -0.303094   \n",
       "3 -0.416750 -0.272599  1.016303  1.077737 -0.752922 -1.106115  0.113032   \n",
       "4 -0.412482 -0.272599  1.228577  1.077737 -0.752922 -1.106115  0.113032   \n",
       "\n",
       "      LSTAT  \n",
       "0 -1.075562  \n",
       "1 -0.492439  \n",
       "2 -1.208727  \n",
       "3 -1.361517  \n",
       "4 -1.026501  "
      ]
     },
     "execution_count": 222,
     "metadata": {},
     "output_type": "execute_result"
    }
   ],
   "source": [
    "X_sc.head()"
   ]
  },
  {
   "cell_type": "markdown",
   "metadata": {},
   "source": [
    "<h3> Train-Test Split</h3>\n",
    "\n",
    "<font size='4' color='red'>Exercise</font>\n",
    "\n",
    "Split the scaled data into a training set and a test set with a 70-30 split.\n",
    "\n",
    "Step 1: Import `train_test_split` from `sklearn.model_selection`"
   ]
  },
  {
   "cell_type": "code",
   "execution_count": 223,
   "metadata": {},
   "outputs": [],
   "source": []
  },
  {
   "cell_type": "code",
   "execution_count": 225,
   "metadata": {},
   "outputs": [],
   "source": []
  },
  {
   "cell_type": "markdown",
   "metadata": {},
   "source": [
    "Check the head of `X_train, X_test`"
   ]
  },
  {
   "cell_type": "code",
   "execution_count": 226,
   "metadata": {},
   "outputs": [
    {
     "data": {
      "text/html": [
       "<div>\n",
       "<style scoped>\n",
       "    .dataframe tbody tr th:only-of-type {\n",
       "        vertical-align: middle;\n",
       "    }\n",
       "\n",
       "    .dataframe tbody tr th {\n",
       "        vertical-align: top;\n",
       "    }\n",
       "\n",
       "    .dataframe thead th {\n",
       "        text-align: right;\n",
       "    }\n",
       "</style>\n",
       "<table border=\"1\" class=\"dataframe\">\n",
       "  <thead>\n",
       "    <tr style=\"text-align: right;\">\n",
       "      <th></th>\n",
       "      <th>CRIM</th>\n",
       "      <th>CHAS</th>\n",
       "      <th>RM</th>\n",
       "      <th>DIS</th>\n",
       "      <th>RAD</th>\n",
       "      <th>TAX</th>\n",
       "      <th>PTRATIO</th>\n",
       "      <th>LSTAT</th>\n",
       "    </tr>\n",
       "  </thead>\n",
       "  <tbody>\n",
       "    <tr>\n",
       "      <th>13</th>\n",
       "      <td>-0.347230</td>\n",
       "      <td>-0.272599</td>\n",
       "      <td>-0.478164</td>\n",
       "      <td>0.433754</td>\n",
       "      <td>-0.637962</td>\n",
       "      <td>-0.601276</td>\n",
       "      <td>1.176466</td>\n",
       "      <td>-0.615792</td>\n",
       "    </tr>\n",
       "    <tr>\n",
       "      <th>61</th>\n",
       "      <td>-0.400535</td>\n",
       "      <td>-0.272599</td>\n",
       "      <td>-0.453945</td>\n",
       "      <td>1.437258</td>\n",
       "      <td>-0.178120</td>\n",
       "      <td>-0.737880</td>\n",
       "      <td>0.575395</td>\n",
       "      <td>0.250482</td>\n",
       "    </tr>\n",
       "    <tr>\n",
       "      <th>377</th>\n",
       "      <td>0.722674</td>\n",
       "      <td>-0.272599</td>\n",
       "      <td>0.725672</td>\n",
       "      <td>-1.158495</td>\n",
       "      <td>1.661245</td>\n",
       "      <td>1.530926</td>\n",
       "      <td>0.806576</td>\n",
       "      <td>1.203663</td>\n",
       "    </tr>\n",
       "    <tr>\n",
       "      <th>39</th>\n",
       "      <td>-0.417302</td>\n",
       "      <td>-0.272599</td>\n",
       "      <td>0.442165</td>\n",
       "      <td>0.763470</td>\n",
       "      <td>-0.752922</td>\n",
       "      <td>-0.927937</td>\n",
       "      <td>-0.071913</td>\n",
       "      <td>-1.168077</td>\n",
       "    </tr>\n",
       "    <tr>\n",
       "      <th>365</th>\n",
       "      <td>0.109664</td>\n",
       "      <td>-0.272599</td>\n",
       "      <td>-3.880249</td>\n",
       "      <td>-1.037181</td>\n",
       "      <td>1.661245</td>\n",
       "      <td>1.530926</td>\n",
       "      <td>0.806576</td>\n",
       "      <td>-0.775590</td>\n",
       "    </tr>\n",
       "  </tbody>\n",
       "</table>\n",
       "</div>"
      ],
      "text/plain": [
       "         CRIM      CHAS        RM       DIS       RAD       TAX   PTRATIO  \\\n",
       "13  -0.347230 -0.272599 -0.478164  0.433754 -0.637962 -0.601276  1.176466   \n",
       "61  -0.400535 -0.272599 -0.453945  1.437258 -0.178120 -0.737880  0.575395   \n",
       "377  0.722674 -0.272599  0.725672 -1.158495  1.661245  1.530926  0.806576   \n",
       "39  -0.417302 -0.272599  0.442165  0.763470 -0.752922 -0.927937 -0.071913   \n",
       "365  0.109664 -0.272599 -3.880249 -1.037181  1.661245  1.530926  0.806576   \n",
       "\n",
       "        LSTAT  \n",
       "13  -0.615792  \n",
       "61   0.250482  \n",
       "377  1.203663  \n",
       "39  -1.168077  \n",
       "365 -0.775590  "
      ]
     },
     "execution_count": 226,
     "metadata": {},
     "output_type": "execute_result"
    }
   ],
   "source": [
    "X_train.head()"
   ]
  },
  {
   "cell_type": "code",
   "execution_count": 227,
   "metadata": {},
   "outputs": [
    {
     "data": {
      "text/html": [
       "<div>\n",
       "<style scoped>\n",
       "    .dataframe tbody tr th:only-of-type {\n",
       "        vertical-align: middle;\n",
       "    }\n",
       "\n",
       "    .dataframe tbody tr th {\n",
       "        vertical-align: top;\n",
       "    }\n",
       "\n",
       "    .dataframe thead th {\n",
       "        text-align: right;\n",
       "    }\n",
       "</style>\n",
       "<table border=\"1\" class=\"dataframe\">\n",
       "  <thead>\n",
       "    <tr style=\"text-align: right;\">\n",
       "      <th></th>\n",
       "      <th>CRIM</th>\n",
       "      <th>CHAS</th>\n",
       "      <th>RM</th>\n",
       "      <th>DIS</th>\n",
       "      <th>RAD</th>\n",
       "      <th>TAX</th>\n",
       "      <th>PTRATIO</th>\n",
       "      <th>LSTAT</th>\n",
       "    </tr>\n",
       "  </thead>\n",
       "  <tbody>\n",
       "    <tr>\n",
       "      <th>307</th>\n",
       "      <td>-0.414778</td>\n",
       "      <td>-0.272599</td>\n",
       "      <td>0.804028</td>\n",
       "      <td>-0.291089</td>\n",
       "      <td>-0.293081</td>\n",
       "      <td>-1.106115</td>\n",
       "      <td>-0.025677</td>\n",
       "      <td>-0.718119</td>\n",
       "    </tr>\n",
       "    <tr>\n",
       "      <th>343</th>\n",
       "      <td>-0.417558</td>\n",
       "      <td>-0.272599</td>\n",
       "      <td>0.586056</td>\n",
       "      <td>0.920817</td>\n",
       "      <td>-0.523001</td>\n",
       "      <td>-0.227101</td>\n",
       "      <td>-0.395567</td>\n",
       "      <td>-0.767180</td>\n",
       "    </tr>\n",
       "    <tr>\n",
       "      <th>47</th>\n",
       "      <td>-0.393837</td>\n",
       "      <td>-0.272599</td>\n",
       "      <td>-0.362767</td>\n",
       "      <td>0.900519</td>\n",
       "      <td>-0.752922</td>\n",
       "      <td>-1.040783</td>\n",
       "      <td>-0.256858</td>\n",
       "      <td>0.861639</td>\n",
       "    </tr>\n",
       "    <tr>\n",
       "      <th>67</th>\n",
       "      <td>-0.413781</td>\n",
       "      <td>-0.272599</td>\n",
       "      <td>-0.579315</td>\n",
       "      <td>1.284902</td>\n",
       "      <td>-0.637962</td>\n",
       "      <td>-0.375583</td>\n",
       "      <td>0.205505</td>\n",
       "      <td>-0.638220</td>\n",
       "    </tr>\n",
       "    <tr>\n",
       "      <th>362</th>\n",
       "      <td>0.007529</td>\n",
       "      <td>-0.272599</td>\n",
       "      <td>-1.314439</td>\n",
       "      <td>-0.804060</td>\n",
       "      <td>1.661245</td>\n",
       "      <td>1.530926</td>\n",
       "      <td>0.806576</td>\n",
       "      <td>-0.345257</td>\n",
       "    </tr>\n",
       "  </tbody>\n",
       "</table>\n",
       "</div>"
      ],
      "text/plain": [
       "         CRIM      CHAS        RM       DIS       RAD       TAX   PTRATIO  \\\n",
       "307 -0.414778 -0.272599  0.804028 -0.291089 -0.293081 -1.106115 -0.025677   \n",
       "343 -0.417558 -0.272599  0.586056  0.920817 -0.523001 -0.227101 -0.395567   \n",
       "47  -0.393837 -0.272599 -0.362767  0.900519 -0.752922 -1.040783 -0.256858   \n",
       "67  -0.413781 -0.272599 -0.579315  1.284902 -0.637962 -0.375583  0.205505   \n",
       "362  0.007529 -0.272599 -1.314439 -0.804060  1.661245  1.530926  0.806576   \n",
       "\n",
       "        LSTAT  \n",
       "307 -0.718119  \n",
       "343 -0.767180  \n",
       "47   0.861639  \n",
       "67  -0.638220  \n",
       "362 -0.345257  "
      ]
     },
     "execution_count": 227,
     "metadata": {},
     "output_type": "execute_result"
    }
   ],
   "source": [
    "X_test.head()"
   ]
  },
  {
   "cell_type": "markdown",
   "metadata": {},
   "source": [
    "<h3> Fitting the Model</h3>\n",
    "\n",
    "First, we need to import Linear Regression model"
   ]
  },
  {
   "cell_type": "code",
   "execution_count": 229,
   "metadata": {},
   "outputs": [],
   "source": [
    "from sklearn.linear_model import LinearRegression"
   ]
  },
  {
   "cell_type": "markdown",
   "metadata": {},
   "source": [
    "Next, we instansiate and fit it to our model"
   ]
  },
  {
   "cell_type": "code",
   "execution_count": 230,
   "metadata": {},
   "outputs": [],
   "source": [
    "lg=LinearRegression()"
   ]
  },
  {
   "cell_type": "code",
   "execution_count": 234,
   "metadata": {},
   "outputs": [
    {
     "data": {
      "text/plain": [
       "LinearRegression(copy_X=True, fit_intercept=True, n_jobs=None, normalize=False)"
      ]
     },
     "execution_count": 234,
     "metadata": {},
     "output_type": "execute_result"
    }
   ],
   "source": [
    "lg.fit(X_train,y_train)"
   ]
  },
  {
   "cell_type": "markdown",
   "metadata": {},
   "source": [
    "Now that we have fitted our model, we can actually go ahead and extract the estimated coefficients, including the intercept $\\beta_0$"
   ]
  },
  {
   "cell_type": "code",
   "execution_count": 237,
   "metadata": {},
   "outputs": [
    {
     "data": {
      "text/plain": [
       "22.605596398342957"
      ]
     },
     "execution_count": 237,
     "metadata": {},
     "output_type": "execute_result"
    }
   ],
   "source": [
    "lg.intercept_"
   ]
  },
  {
   "cell_type": "code",
   "execution_count": 239,
   "metadata": {},
   "outputs": [
    {
     "data": {
      "text/plain": [
       "array([-0.63082368,  0.57150473,  2.24918842, -1.09485652,  1.85711767,\n",
       "       -1.88803821, -2.046749  , -4.55974378])"
      ]
     },
     "execution_count": 239,
     "metadata": {},
     "output_type": "execute_result"
    }
   ],
   "source": [
    "lg.coef_"
   ]
  },
  {
   "cell_type": "markdown",
   "metadata": {},
   "source": [
    "<font color='red' size=4>Exercise</font>\n",
    "\n",
    "Create a dataframe named `df_coef` that contains one column with the coefficients and the rows are the features of the Boston dataset."
   ]
  },
  {
   "cell_type": "code",
   "execution_count": 240,
   "metadata": {},
   "outputs": [],
   "source": [
    "#Enter Answer Here\n"
   ]
  },
  {
   "cell_type": "code",
   "execution_count": 242,
   "metadata": {},
   "outputs": [],
   "source": []
  },
  {
   "cell_type": "code",
   "execution_count": 245,
   "metadata": {},
   "outputs": [],
   "source": []
  },
  {
   "cell_type": "code",
   "execution_count": 246,
   "metadata": {},
   "outputs": [
    {
     "data": {
      "text/html": [
       "<div>\n",
       "<style scoped>\n",
       "    .dataframe tbody tr th:only-of-type {\n",
       "        vertical-align: middle;\n",
       "    }\n",
       "\n",
       "    .dataframe tbody tr th {\n",
       "        vertical-align: top;\n",
       "    }\n",
       "\n",
       "    .dataframe thead th {\n",
       "        text-align: right;\n",
       "    }\n",
       "</style>\n",
       "<table border=\"1\" class=\"dataframe\">\n",
       "  <thead>\n",
       "    <tr style=\"text-align: right;\">\n",
       "      <th></th>\n",
       "      <th>Coefficients</th>\n",
       "    </tr>\n",
       "  </thead>\n",
       "  <tbody>\n",
       "    <tr>\n",
       "      <th>CRIM</th>\n",
       "      <td>-0.630824</td>\n",
       "    </tr>\n",
       "    <tr>\n",
       "      <th>CHAS</th>\n",
       "      <td>0.571505</td>\n",
       "    </tr>\n",
       "    <tr>\n",
       "      <th>RM</th>\n",
       "      <td>2.249188</td>\n",
       "    </tr>\n",
       "    <tr>\n",
       "      <th>DIS</th>\n",
       "      <td>-1.094857</td>\n",
       "    </tr>\n",
       "    <tr>\n",
       "      <th>RAD</th>\n",
       "      <td>1.857118</td>\n",
       "    </tr>\n",
       "    <tr>\n",
       "      <th>TAX</th>\n",
       "      <td>-1.888038</td>\n",
       "    </tr>\n",
       "    <tr>\n",
       "      <th>PTRATIO</th>\n",
       "      <td>-2.046749</td>\n",
       "    </tr>\n",
       "    <tr>\n",
       "      <th>LSTAT</th>\n",
       "      <td>-4.559744</td>\n",
       "    </tr>\n",
       "    <tr>\n",
       "      <th>Intercept</th>\n",
       "      <td>22.605596</td>\n",
       "    </tr>\n",
       "  </tbody>\n",
       "</table>\n",
       "</div>"
      ],
      "text/plain": [
       "           Coefficients\n",
       "CRIM          -0.630824\n",
       "CHAS           0.571505\n",
       "RM             2.249188\n",
       "DIS           -1.094857\n",
       "RAD            1.857118\n",
       "TAX           -1.888038\n",
       "PTRATIO       -2.046749\n",
       "LSTAT         -4.559744\n",
       "Intercept     22.605596"
      ]
     },
     "execution_count": 246,
     "metadata": {},
     "output_type": "execute_result"
    }
   ],
   "source": [
    "df_coef"
   ]
  },
  {
   "cell_type": "markdown",
   "metadata": {},
   "source": [
    "How do we interpret these coefficients? What do they mean and what do they tell us?\n",
    "\n",
    "For example,if the average number of rooms per dwelling,`RM`, increases by one unit, we will observe an increase in house price by roughly $2.2\\times \\$10,000=\\$22,000$\n",
    "\n",
    "On the other hand, if the pupil-teacher ratio by town, `PTRATIO`, increases by one unit, then we will observe a decrease in house price of roughly $2.05\\times \\$10,000=\\$20500.$\n",
    "\n",
    "<h3>Assesing Performance of Model</h3>\n",
    "\n",
    "Now that our model is fit, we need to asses the performance of our model by testing it on the test-set. "
   ]
  },
  {
   "cell_type": "code",
   "execution_count": 232,
   "metadata": {},
   "outputs": [],
   "source": [
    "lg_pred=lg.predict(X_test)"
   ]
  },
  {
   "cell_type": "markdown",
   "metadata": {},
   "source": [
    "`lg_pred` contains the predicted house prices."
   ]
  },
  {
   "cell_type": "markdown",
   "metadata": {},
   "source": [
    "<font color='red' size=4> Exercise</font>\n",
    "\n",
    "Build a scatterplot to plot `y_test` vs. `lg_pred` to obtain a visual display of how well our model is performing."
   ]
  },
  {
   "cell_type": "code",
   "execution_count": 250,
   "metadata": {},
   "outputs": [
    {
     "data": {
      "text/plain": [
       "Text(0, 0.5, 'lg_pred')"
      ]
     },
     "execution_count": 250,
     "metadata": {},
     "output_type": "execute_result"
    },
    {
     "data": {
      "image/png": "[encoded data removed]",
      "text/plain": [
       "<Figure size 576x432 with 1 Axes>"
      ]
     },
     "metadata": {},
     "output_type": "display_data"
    }
   ],
   "source": []
  },
  {
   "cell_type": "markdown",
   "metadata": {},
   "source": [
    "From the scatterplot, since it is following a straight line, it seems that our model may be doing fairly well. \n",
    "\n",
    "Next, let's compute some quantitative metrics such as R2 score and MSE:"
   ]
  },
  {
   "cell_type": "code",
   "execution_count": 251,
   "metadata": {},
   "outputs": [],
   "source": [
    "from sklearn.metrics import r2_score, mean_squared_error"
   ]
  },
  {
   "cell_type": "code",
   "execution_count": 253,
   "metadata": {},
   "outputs": [],
   "source": [
    "lg_r2=r2_score(y_test,lg_pred)\n",
    "mse=mean_squared_error(y_test,lg_pred)"
   ]
  },
  {
   "cell_type": "code",
   "execution_count": 254,
   "metadata": {},
   "outputs": [
    {
     "data": {
      "text/plain": [
       "0.7724279093804107"
      ]
     },
     "execution_count": 254,
     "metadata": {},
     "output_type": "execute_result"
    }
   ],
   "source": [
    "lg_r2"
   ]
  },
  {
   "cell_type": "code",
   "execution_count": 255,
   "metadata": {},
   "outputs": [
    {
     "data": {
      "text/plain": [
       "20.858003244422935"
      ]
     },
     "execution_count": 255,
     "metadata": {},
     "output_type": "execute_result"
    }
   ],
   "source": [
    "mse"
   ]
  },
  {
   "cell_type": "markdown",
   "metadata": {},
   "source": [
    "So, looking at the R2 score, we may say that around $77\\%$ of the variance in the response variable, Price, is explained by the eight measured features. Overall, this seems like a fairly good result. "
   ]
  },
  {
   "cell_type": "markdown",
   "metadata": {},
   "source": [
    "<h2> Important Questions</h2>\n",
    "\n",
    "<h3> Is the relationship between the response and features linear?</h3>\n",
    "\n",
    "One way to answer this question is by obtaining the distribution of the residuals. Visually, we may do this by building a distribution plot of the residuals. Let's do this first, and then we'll talk about how to interpret the results, and what insights we can hope to gain."
   ]
  },
  {
   "cell_type": "code",
   "execution_count": 269,
   "metadata": {},
   "outputs": [
    {
     "data": {
      "text/plain": [
       "<matplotlib.axes._subplots.AxesSubplot at 0x2a2622cc348>"
      ]
     },
     "execution_count": 269,
     "metadata": {},
     "output_type": "execute_result"
    },
    {
     "data": {
      "image/png": "[encoded data removed]",
      "text/plain": [
       "<Figure size 576x432 with 1 Axes>"
      ]
     },
     "metadata": {},
     "output_type": "display_data"
    }
   ],
   "source": [
    "plt.figure(figsize=(8,6))\n",
    "sns.distplot((y_test-lg_pred), bins=25)"
   ]
  },
  {
   "cell_type": "markdown",
   "metadata": {},
   "source": [
    "<h4> Interpretation</h4>\n",
    "\n",
    "If the distribution is normal, or close to normal, then this is good empirical evidence that the relationship between the response and features is linear. Why is this?\n",
    "\n",
    "To get a better idea of why this is the case, let's suppose we have done a superb job with our assumptions and estiamtions of $f$ and thus $\\hat{f}\\approx f$. Now, let's compute the residuals:\n",
    "\n",
    "$$e_i=y_i-\\hat{y_i}=f(x_i)+\\epsilon_i-\\hat{f}(x_i)\\approx \\epsilon_i$$\n",
    "\n",
    "Recall that $\\epsilon_i$ are assumed to come from a normal distribution with mean zero. Hence, we expect the distribution of the residuals to be close to a normal distribution with mean zero if indeed the relationship between the response and predictors is linear."
   ]
  },
  {
   "cell_type": "markdown",
   "metadata": {},
   "source": [
    "-----------------"
   ]
  },
  {
   "cell_type": "markdown",
   "metadata": {},
   "source": [
    "Next time we will discuss other ways of checking for linearity, we will discuss outliers, heteroscedasticity, how to determine the statistical significance of each of the regression coefficients etc. "
   ]
  },
  {
   "cell_type": "code",
   "execution_count": null,
   "metadata": {},
   "outputs": [],
   "source": []
  }
 ],
 "metadata": {
  "kernelspec": {
   "display_name": "Python 3",
   "language": "python",
   "name": "python3"
  },
  "language_info": {
   "codemirror_mode": {
    "name": "ipython",
    "version": 3
   },
   "file_extension": ".py",
   "mimetype": "text/x-python",
   "name": "python",
   "nbconvert_exporter": "python",
   "pygments_lexer": "ipython3",
   "version": "3.7.4"
  }
 },
 "nbformat": 4,
 "nbformat_minor": 2
}
