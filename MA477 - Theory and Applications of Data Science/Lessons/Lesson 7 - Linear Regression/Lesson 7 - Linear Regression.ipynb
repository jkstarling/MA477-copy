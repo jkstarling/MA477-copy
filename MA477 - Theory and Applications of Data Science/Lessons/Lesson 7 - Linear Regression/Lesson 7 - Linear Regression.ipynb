{
 "cells": [
  {
   "cell_type": "markdown",
   "metadata": {},
   "source": [
    "<h2> ======================================================</h2>\n",
    " <h1>MA477 - Theory and Applications of Data Science</h1> \n",
    "  <h1>Lesson 7: Linear Regression </h1> \n",
    " \n",
    " <h4>Dr. Valmir Bucaj</h4>\n",
    " United States Military Academy, West Point \n",
    "AY20-2\n",
    "<h2>======================================================</h2>"
   ]
  },
  {
   "cell_type": "markdown",
   "metadata": {},
   "source": [
    "<h2>Lecture Outline</h2>\n",
    "\n",
    "<ul>\n",
    "    <li>What is Linear Regression?</li>\n",
    "    <li>How does it work?</li>\n",
    "    <li>Estimating the coeficients</li>\n",
    "    <li> Assessing the accuracy of the coefficient estimates</li>\n",
    "    <li>Assesing the accuracy of the model</li>\n",
    "    <li>Dealing with qualitative predictors</li>\n",
    "    <li>Problems to look out for</li>\n",
    "    \n",
    "</ul>"
   ]
  },
  {
   "cell_type": "markdown",
   "metadata": {},
   "source": [
    "<h3> What is Linear Regression?</h3>\n",
    "\n",
    "Linear regression is a simple supervised statistical learning technique used for predicting quantitative a response target. Though linear regression is one of the simplest and oldest statistical learning techniques it is still very useful and widely used to this day for many reasons. \n",
    "\n",
    "Linear regression is a good starting point for the newer and more sophisticated machine-learning techniques, many of which may be seen as generalizations of linear regresssion, thus, having a good understanding of linear regression proves invaluable in studying these newer and more sophisticated methods. \n",
    "\n",
    " Throughoug this lecture we will use a portion of the `Boston Dataset` to illustrate many aspects of Linear Regresson.\n",
    " \n",
    " Before we continue with the rest of the lecture, let's go ahead and import some libraries: "
   ]
  },
  {
   "cell_type": "code",
   "execution_count": 128,
   "metadata": {},
   "outputs": [],
   "source": [
    "import numpy as np\n",
    "import pandas as pd"
   ]
  },
  {
   "cell_type": "code",
   "execution_count": 129,
   "metadata": {},
   "outputs": [],
   "source": [
    "import matplotlib.pyplot as plt\n",
    "import seaborn as sns"
   ]
  },
  {
   "cell_type": "markdown",
   "metadata": {},
   "source": [
    "Next let's go ahead and read in the `Boston_Dataset` in the folder for Lesson 7. This dataset is a subset of the famous `Boston` dataset that has been used often in illustrating different regression machine-learning techniques. \n",
    "\n",
    "<h3> Description of Boston house prices dataset</h3>\n",
    "\n",
    "\n",
    "**Data Set Characteristics:**  \n",
    "\n",
    "    :Number of Instances: 506 \n",
    "\n",
    "    :Number of Attributes: 8 numeric/categorical predictive. Median Value (attribute 14) is usually the target.\n",
    "\n",
    "    :Attribute Information (in order):\n",
    "        - CRIM     per capita crime rate by town\n",
    "        - CHAS     Charles River dummy variable (= Yes if tract bounds river; No otherwise)\n",
    "        - RM       average number of rooms per dwelling\n",
    "        - DIS      weighted distances to five Boston employment centres\n",
    "        - RAD      index of accessibility to radial highways\n",
    "        - TAX      full-value property-tax rate per $10,000\n",
    "        - PTRATIO  pupil-teacher ratio by town\n",
    "        - LSTAT    % lower status of the population\n",
    "        \n",
    "     :Target\n",
    "        -Price in $1000"
   ]
  },
  {
   "cell_type": "code",
   "execution_count": 130,
   "metadata": {},
   "outputs": [],
   "source": [
    "boston=pd.read_excel('Boston_Dataset.xlsx',index_col=[0])"
   ]
  },
  {
   "cell_type": "code",
   "execution_count": 131,
   "metadata": {},
   "outputs": [
    {
     "data": {
      "text/html": [
       "<div>\n",
       "<style scoped>\n",
       "    .dataframe tbody tr th:only-of-type {\n",
       "        vertical-align: middle;\n",
       "    }\n",
       "\n",
       "    .dataframe tbody tr th {\n",
       "        vertical-align: top;\n",
       "    }\n",
       "\n",
       "    .dataframe thead th {\n",
       "        text-align: right;\n",
       "    }\n",
       "</style>\n",
       "<table border=\"1\" class=\"dataframe\">\n",
       "  <thead>\n",
       "    <tr style=\"text-align: right;\">\n",
       "      <th></th>\n",
       "      <th>CRIM</th>\n",
       "      <th>CHAS</th>\n",
       "      <th>RM</th>\n",
       "      <th>DIS</th>\n",
       "      <th>RAD</th>\n",
       "      <th>TAX</th>\n",
       "      <th>PTRATIO</th>\n",
       "      <th>LSTAT</th>\n",
       "      <th>Price</th>\n",
       "    </tr>\n",
       "    <tr>\n",
       "      <th>Unnamed: 0</th>\n",
       "      <th></th>\n",
       "      <th></th>\n",
       "      <th></th>\n",
       "      <th></th>\n",
       "      <th></th>\n",
       "      <th></th>\n",
       "      <th></th>\n",
       "      <th></th>\n",
       "      <th></th>\n",
       "    </tr>\n",
       "  </thead>\n",
       "  <tbody>\n",
       "    <tr>\n",
       "      <th>0</th>\n",
       "      <td>0.00632</td>\n",
       "      <td>No</td>\n",
       "      <td>6.575</td>\n",
       "      <td>4.0900</td>\n",
       "      <td>1</td>\n",
       "      <td>296</td>\n",
       "      <td>15.3</td>\n",
       "      <td>4.98</td>\n",
       "      <td>24.0</td>\n",
       "    </tr>\n",
       "    <tr>\n",
       "      <th>1</th>\n",
       "      <td>0.02731</td>\n",
       "      <td>No</td>\n",
       "      <td>6.421</td>\n",
       "      <td>4.9671</td>\n",
       "      <td>2</td>\n",
       "      <td>242</td>\n",
       "      <td>17.8</td>\n",
       "      <td>9.14</td>\n",
       "      <td>21.6</td>\n",
       "    </tr>\n",
       "    <tr>\n",
       "      <th>2</th>\n",
       "      <td>0.02729</td>\n",
       "      <td>No</td>\n",
       "      <td>7.185</td>\n",
       "      <td>4.9671</td>\n",
       "      <td>2</td>\n",
       "      <td>242</td>\n",
       "      <td>17.8</td>\n",
       "      <td>4.03</td>\n",
       "      <td>34.7</td>\n",
       "    </tr>\n",
       "    <tr>\n",
       "      <th>3</th>\n",
       "      <td>0.03237</td>\n",
       "      <td>No</td>\n",
       "      <td>6.998</td>\n",
       "      <td>6.0622</td>\n",
       "      <td>3</td>\n",
       "      <td>222</td>\n",
       "      <td>18.7</td>\n",
       "      <td>2.94</td>\n",
       "      <td>33.4</td>\n",
       "    </tr>\n",
       "    <tr>\n",
       "      <th>4</th>\n",
       "      <td>0.06905</td>\n",
       "      <td>No</td>\n",
       "      <td>7.147</td>\n",
       "      <td>6.0622</td>\n",
       "      <td>3</td>\n",
       "      <td>222</td>\n",
       "      <td>18.7</td>\n",
       "      <td>5.33</td>\n",
       "      <td>36.2</td>\n",
       "    </tr>\n",
       "  </tbody>\n",
       "</table>\n",
       "</div>"
      ],
      "text/plain": [
       "               CRIM CHAS     RM     DIS  RAD  TAX  PTRATIO  LSTAT  Price\n",
       "Unnamed: 0                                                              \n",
       "0           0.00632   No  6.575  4.0900    1  296     15.3   4.98   24.0\n",
       "1           0.02731   No  6.421  4.9671    2  242     17.8   9.14   21.6\n",
       "2           0.02729   No  7.185  4.9671    2  242     17.8   4.03   34.7\n",
       "3           0.03237   No  6.998  6.0622    3  222     18.7   2.94   33.4\n",
       "4           0.06905   No  7.147  6.0622    3  222     18.7   5.33   36.2"
      ]
     },
     "execution_count": 131,
     "metadata": {},
     "output_type": "execute_result"
    }
   ],
   "source": [
    "boston.head()"
   ]
  },
  {
   "cell_type": "markdown",
   "metadata": {},
   "source": [
    "<font color='red' size='4'>Mock Scenario</font>\n",
    "\n",
    "Imagine the following scenario: Your team has been contracted by a real-estate company who owns many houses in the Boston metro-area. You are tasked to analyze if the house prices owned by the company are competitive and if they need to be adjusted to optimize the overall profit. \n",
    "\n",
    "Below are some questions that your team might want to address before making recommendations:\n",
    "\n",
    "<ul>\n",
    "    <li>Is there a relationship between the different <b>predictors/features</b> and the house <b>prices</b> </li>\n",
    "    <li> If there is such a relationship, then how strong is it?</li>\n",
    "    <li> Which features affect the most the house prices?</li>\n",
    "    <li> How accurately can we estimate the effect of each feature to the house prices?</li>\n",
    "    <li> How accurately can we predict the house prices based on these features?</li>\n",
    "    <li>What kind of relationship is there between the features and the house prices? Linear?Non-linear?</li>\n",
    "    <li> Is there any <b>interaction</b> effect among the features?</li>\n",
    "    \n",
    " </ul>\n",
    " \n",
    "We will attempt to address all of these questions using linear regression. \n",
    "\n",
    "You are already familiar with linear regression, so we will not spend much time on the theory behind simple linear regression.\n",
    "\n",
    "<h3> Multiple Linear Regression</h3>\n",
    "\n",
    "Let $X=(X_1,\\dots,X_p)$ be $p$ predictors and let $Y$ be the response variable. Assuming there is some relationship between $X$ and $Y$ we have $$Y=f(X)+\\epsilon$$ where, as per usual, $\\epsilon$ represents a random error. \n",
    "\n",
    "If we suspect that the relationship between $X$ and $Y$ is linear, then we have\n",
    "\n",
    "$$f(X)=\\beta_0+\\sum_{i=1}^p\\beta_iX_i=\\beta_0+\\beta_1X_1+\\dots+\\beta_pX_p$$ where $\\beta_0,\\dots,\\beta_p$ are some unknown coefficients that need to be estimated.\n",
    "\n",
    "So, we have $$Y=\\beta_0+\\beta_1X_1+\\dots+\\beta_pX_p+\\epsilon$$\n",
    "\n",
    "<h4>Estimating Coefficients</h4>\n",
    "\n",
    "The goal is to find estimates $\\widehat{\\beta}_0,\\widehat{\\beta}_1,\\dots,\\widehat{\\beta}_p$, which then in turn allow us to make predictions using the formula $$\\widehat{Y}=\\widehat{\\beta}_0+\\widehat{\\beta}_1X_1+\\dots+\\widehat{\\beta}_pX_p.$$\n",
    "\n",
    "\n",
    "How do we estimate the coefficients $\\beta_0,\\beta_1,\\dots,\\beta_p$?\n",
    "\n",
    "There are actually many methods that may be used to estimate the coefficients in a linear model, each of which gives rise to a slightly different linear model.  \n",
    "\n",
    "In this course we will learn about three of them:\n",
    "<ul>\n",
    "    <li>Least Squares (LS)</li>\n",
    "    <li> Least Squares + $\\ell^2$-regularization (Ridge Method)</li>\n",
    "    <li> Least Squares + $\\ell^1$-regularization (Lasso Method)</li>\n",
    "</ul>\n",
    "\n",
    "You are already familiar with the Least Squares method, which is the simplest form of linear regresssion and is what typically people refer to when talking about linear regression. \n",
    "\n",
    "In this lecture we will focus on the Least Squares, and talk about the other two in the next lectures. \n",
    "\n",
    "In the LS method we pick the coefficients $\\widehat{\\beta}_0,\\widehat{\\beta}_1,\\dots,\\widehat{\\beta}_p$ such that the Residual Sum of Squares (RSS) is minimized; that is coefficients that minimize the quantity:\n",
    "\n",
    "$$RSS=\\sum_{i=1}^n\\left(y_i-\\widehat{y}_i\\right)^2=\\sum_{i=1}^n\\left(y_i-\\widehat{\\beta}_0-\\widehat{\\beta}_1x_{i1}-\\dots-\\widehat{\\beta}_px_{ip}\\right)^2$$ where $n$ represents the number of samples. \n",
    "\n",
    "<b>Example</b>\n",
    "\n",
    "In the case of the Boston housing data, the model would look like this:\n",
    "\n",
    "$$\\widehat{Price}=\\hat{\\beta_0}+\\hat{\\beta_1}\\times (CRIM) +\\hat{\\beta_2}\\times (CHAS) +\\hat{\\beta_3}\\times (RM)+\\hat{\\beta_4}\\times (DIS)+\\hat{\\beta_5}\\times\t(RAD)+\\hat{\\beta_6}\\times (TAX)+\\hat{\\beta_7}\\times(PTRATIO)+\\hat{\\beta_8}\\times (LSTAT)$$\n",
    "\n",
    "The simplest form of linear regression is when $p=1$. For example, if we were trying to predict the house pricing only based on the average number of rooms per house (RM), then the model would look like this:\n",
    "\n",
    "$$\\hat{y}=\\beta_0+\\beta_1\\times(RM)$$\n",
    "\n",
    "Below, is a scatterplot along with the line of best fit $\\hat{y}$."
   ]
  },
  {
   "cell_type": "code",
   "execution_count": 188,
   "metadata": {
    "scrolled": false
   },
   "outputs": [
    {
     "data": {
      "image/png": "[encoded data removed]",
      "text/plain": [
       "<Figure size 720x576 with 1 Axes>"
      ]
     },
     "metadata": {
      "needs_background": "light"
     },
     "output_type": "display_data"
    }
   ],
   "source": [
    "plt.figure(figsize=(10,8))\n",
    "sns.regplot(x='RM',y='Price',data=boston,scatter_kws={'s':6},line_kws={'color':'r'},ci=95)\n",
    "plt.xlabel(\"Average Number of Rooms per Dwelling\",fontsize=14)\n",
    "plt.ylabel('Price',fontsize=14)\n",
    "plt.show()"
   ]
  },
  {
   "cell_type": "code",
   "execution_count": null,
   "metadata": {},
   "outputs": [],
   "source": []
  }
 ],
 "metadata": {
  "kernelspec": {
   "display_name": "Python 3",
   "language": "python",
   "name": "python3"
  },
  "language_info": {
   "codemirror_mode": {
    "name": "ipython",
    "version": 3
   },
   "file_extension": ".py",
   "mimetype": "text/x-python",
   "name": "python",
   "nbconvert_exporter": "python",
   "pygments_lexer": "ipython3",
   "version": "3.7.4"
  }
 },
 "nbformat": 4,
 "nbformat_minor": 2
}
