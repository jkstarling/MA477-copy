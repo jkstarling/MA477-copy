{
 "cells": [
  {
   "cell_type": "markdown",
   "metadata": {},
   "source": [
    "<h2> ======================================================</h2>\n",
    " <h1>MA477 - Theory and Applications of Data Science</h1> \n",
    "  <h1>Lesson 5: Vizualising Data with Seaborn</h1> \n",
    " \n",
    " <h4>Dr. Valmir Bucaj</h4>\n",
    " United States Military Academy, West Point \n",
    "AY20-2\n",
    "<h2>======================================================</h2>"
   ]
  },
  {
   "cell_type": "markdown",
   "metadata": {},
   "source": [
    "<h3>Lecture Outline</h3>\n",
    "\n",
    "<ul>\n",
    "    <li>Quick Overview and Installation</li>\n",
    "    <li>Distribution Plots</li>\n",
    "    <li>Categorical Plots</li>\n",
    "    <li>Matrix Plots</li>\n",
    "    <li>Regression Plots</li>\n",
    " </ul>"
   ]
  },
  {
   "cell_type": "markdown",
   "metadata": {},
   "source": [
    "\n",
    "<h3>Overview and Installation</h3>\n",
    "\n",
    "Seaborn is a Python visualization library built on top of Matplotlib and is especially designed for statistical plotting. In addition to having a wide range of beautiful styles and graphs it also works really well with Panda DataFrames.\n",
    "\n",
    " If you don't already have Seaborn installed in your computer, then you may install it either from your command line using the `pip` install command or from the anaconda terminal using the `conda` command:\n",
    " <center>\n",
    "\n",
    "```python\n",
    "pip install seaborn\n",
    "\n",
    "conda install seaborn\n",
    "```\n",
    "</center>\n",
    "\n",
    "For a more detailed and complete tutorial of Matplotlib you may visit the official website by clicking on the: <a href='https://seaborn.pydata.org/'>Seaborn Website</a>\n",
    "\n",
    "<br>\n",
    "\n",
    "\n",
    "   "
   ]
  },
  {
   "cell_type": "markdown",
   "metadata": {},
   "source": [
    "<h3>Distribution Plots</h3>"
   ]
  },
  {
   "cell_type": "code",
   "execution_count": null,
   "metadata": {},
   "outputs": [],
   "source": []
  }
 ],
 "metadata": {
  "kernelspec": {
   "display_name": "Python 3",
   "language": "python",
   "name": "python3"
  },
  "language_info": {
   "codemirror_mode": {
    "name": "ipython",
    "version": 3
   },
   "file_extension": ".py",
   "mimetype": "text/x-python",
   "name": "python",
   "nbconvert_exporter": "python",
   "pygments_lexer": "ipython3",
   "version": "3.7.4"
  }
 },
 "nbformat": 4,
 "nbformat_minor": 2
}
