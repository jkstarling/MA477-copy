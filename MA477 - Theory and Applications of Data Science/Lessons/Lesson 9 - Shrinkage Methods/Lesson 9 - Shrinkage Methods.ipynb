{
 "cells": [
  {
   "cell_type": "markdown",
   "metadata": {},
   "source": [
    "<h2> ======================================================</h2>\n",
    " <h1>MA477 - Theory and Applications of Data Science</h1> \n",
    "  <h1>Lesson 9: Shrinkage Methods: Ridge & Lasso </h1> \n",
    " \n",
    " <h4>Dr. Valmir Bucaj</h4>\n",
    " United States Military Academy, West Point \n",
    "AY20-2\n",
    "<h2>======================================================</h2>"
   ]
  },
  {
   "cell_type": "markdown",
   "metadata": {},
   "source": [
    "<h2>Lecture Outline</h2>\n",
    "\n",
    "<ul>\n",
    "    <li>What are shrinkage methods and why do we need them?</li>\n",
    "    <li> Ridge Regression</li>\n",
    "    <li>Lasso Regression</li>\n",
    "    <li>Implementing Ridge & Lasso with Python</li>\n",
    " \n",
    "    \n",
    "</ul>"
   ]
  },
  {
   "cell_type": "markdown",
   "metadata": {},
   "source": [
    "<h3> Whats & Whys</h3>\n",
    "\n",
    "As the name suggests, shrinkage methods are a way of fitting a linear method using all of the predictors, but unlike least squares method, they <i> constrain/regularize</i> the estimated coefficiets; specifically, they <i> shrink</i> them towards zero.\n",
    "\n",
    "The two most popular techniques for shrinking the estimated regression coefficients are <b> Ridge Regression</b> and the <b> Lasso</b> method.\n",
    "\n",
    "We will discuss this in more detail shortly, but in a nutshell, it can be shown that shrinking the coefficients towards zero may significantly reduce the variance of the model. \n",
    "\n",
    "<h3> Ridge Regression</h3>\n",
    "\n",
    "Ridge regression is very simmilar to least squares method, except that in this case the coefficients are estimated by minimizing $RSS+\\ell^2-$regularization. That is, the ridge regression estimated coefficients $\\hat{\\beta}^R_{\\lambda}$ are the ones that minimize the following objective function:\n",
    "\n",
    "$$R(\\beta_0,\\dots,\\beta_p,\\lambda)=\\sum_{i=1}^n\\left(y_i-\\beta_0-\\sum_{j=1}^p\\beta_jx_{ij}\\right)^2+\\lambda\\sum_{j=1}^p\\beta_j^2=RSS+\\lambda||\\beta||_2^2,$$\n",
    "\n",
    "where $\\lambda\\geq 0$ is some tuning parameter.\n",
    "\n",
    "In ridge regression, for each $\\lambda$ we obtain a different set of estimated coefficients $\\hat{\\beta}^R_\\lambda$. Observe, that when $\\lambda=0$ we get back the least squares model. \n",
    "\n",
    "So, what doese exactly the extra regularization $\\lambda||\\beta||_2^2$ do? Note, that the goal is still to minimize $R(\\beta_0,\\dots,\\beta_p,\\lambda)$, and to do so there are two terms that need to be minimized, namely $RSS$ and the added regularization term $\\lambda||\\beta||_2^2,$ and in many ways they compete with one another. In particular, the regularization term is small when the coefficients $\\beta_0,\\dots,\\beta_p$ tend to zero. The role of the tuning parameter $\\lambda$ is precisely to control how much of an effect these two terms have in the model. Let's look at two extremes: If $\\lambda=0$ then, obviously, the second term has no impact in estimating the coefficeints. On the other hand, if $\\lambda\\to \\infty$(is very large), then in order for $R(\\beta_0,\\dots,\\beta_p,\\lambda)$ to be minimized all of the coefficients $\\beta_0,\\dots,\\beta_p$ must shrink towards zero. \n",
    "\n",
    "<b>Question 1:</b> Why is the shrinkage penalty applied only to $\\beta_1,\\dots,\\beta_p$ but not to the intercept $\\beta_0$?\n",
    "\n",
    "<h4>What does ridge regression accomplish that the least squares can't?</h4>\n",
    "\n",
    "At the core of the answer lies the <i> bias-variance trade-off</i>. As $\\lambda$ increases from $0$ to a large number, the flexibility of the model decreases. This results in a decrease in variance at the cost of an increase in bias. The hope is that, at least initially, the variance decreases much faster than the increase in bias, leading to an overall better performance(e.g. smaller test MSE) of the ridge regression over the simple least squares regression model. By shrinking, some or all of the coefficients, in effect we are regularizing the relative effect that a change in a feature has on the response. In other words, by increasing the tuning parameter $\\lambda$, in some sense we are constraining the magnitude of the change in the response variable that could be produced by a small change in a feature. \n",
    "\n",
    "<h3>The Lasso Method</h3>\n",
    "\n",
    "The idea behind the Lasso method is very similar to the ridge regression, except that now the lasso coefficient estimates $\\hat{\\beta}^L_\\lambda$, minimize the following quantity:\n",
    "\n",
    "\n",
    "$$L(\\beta_0,\\dots,\\beta_p,\\lambda)=\\sum_{i=1}^n\\left(y_i-\\beta_0-\\sum_{j=1}^p\\beta_jx_{ij}\\right)^2+\\lambda\\sum_{j=1}^p|\\beta_j|=RSS+\\lambda||\\beta||_1.$$\n",
    "\n",
    "In mathematical terms, $||\\beta||_1=\\sum_{j=1}^p|\\beta_j|$ is called the $\\ell^1-$norm.\n",
    "\n",
    "The key difference between the ridge regression and the Lasso method, is that while the lasso method also shrinks the coefficient estimates towards zero, the $\\ell^1-$penalty actually may force some of the coefficient estimates to be <b> exactly zero</b> when $\\lambda$ is sufficiently large. Because of this reason, Lasso has an added advantage towards the ridge regression, as it may be used for <i>feature selection</i> as well. In other words, intuitively speaking, if a feature is not contributing in a significant way to predict the response variable, then the lasso method has a higher chance of noticing this behaviour and setting the coefficent corresponding to this feature equal to zero. In situations like these, lasso also tends to outperform the ridge regression. \n",
    "\n",
    "Intrinsically, the lasso method in some ways assumes that some of the features do not play a significant role in predicting the response. Because of this, in the cases where all of the features play a similar role in predicting the response then ridge regression may outperform lasso. \n",
    "\n",
    "Unfortunately, we never know apriori which predictors are strongly related to the response and which are not. As a result, we rely on cross-validation and similar techniques to determine which model is the most appropriate one for each particular data set."
   ]
  },
  {
   "cell_type": "markdown",
   "metadata": {},
   "source": [
    "<h3>Implementing Ridge and Lasso</h3>\n",
    "\n",
    "We will use the `boston housting` dataset to illustrate the methods.\n",
    "\n",
    "Let's start by importing all of our standard libraries."
   ]
  },
  {
   "cell_type": "code",
   "execution_count": 713,
   "metadata": {},
   "outputs": [],
   "source": [
    "import numpy as np\n",
    "import pandas as pd"
   ]
  },
  {
   "cell_type": "code",
   "execution_count": 714,
   "metadata": {},
   "outputs": [],
   "source": [
    "import matplotlib.pyplot as plt\n",
    "import seaborn as sns"
   ]
  },
  {
   "cell_type": "code",
   "execution_count": 809,
   "metadata": {},
   "outputs": [],
   "source": [
    "from sklearn.datasets import load_boston"
   ]
  },
  {
   "cell_type": "code",
   "execution_count": 810,
   "metadata": {},
   "outputs": [],
   "source": [
    "boston=load_boston()"
   ]
  },
  {
   "cell_type": "code",
   "execution_count": 811,
   "metadata": {},
   "outputs": [],
   "source": [
    "df=pd.DataFrame(boston.data,columns=boston.feature_names)"
   ]
  },
  {
   "cell_type": "code",
   "execution_count": 812,
   "metadata": {},
   "outputs": [],
   "source": [
    "df['target']=boston.target"
   ]
  },
  {
   "cell_type": "code",
   "execution_count": 813,
   "metadata": {},
   "outputs": [
    {
     "data": {
      "text/html": [
       "<div>\n",
       "<style scoped>\n",
       "    .dataframe tbody tr th:only-of-type {\n",
       "        vertical-align: middle;\n",
       "    }\n",
       "\n",
       "    .dataframe tbody tr th {\n",
       "        vertical-align: top;\n",
       "    }\n",
       "\n",
       "    .dataframe thead th {\n",
       "        text-align: right;\n",
       "    }\n",
       "</style>\n",
       "<table border=\"1\" class=\"dataframe\">\n",
       "  <thead>\n",
       "    <tr style=\"text-align: right;\">\n",
       "      <th></th>\n",
       "      <th>CRIM</th>\n",
       "      <th>ZN</th>\n",
       "      <th>INDUS</th>\n",
       "      <th>CHAS</th>\n",
       "      <th>NOX</th>\n",
       "      <th>RM</th>\n",
       "      <th>AGE</th>\n",
       "      <th>DIS</th>\n",
       "      <th>RAD</th>\n",
       "      <th>TAX</th>\n",
       "      <th>PTRATIO</th>\n",
       "      <th>B</th>\n",
       "      <th>LSTAT</th>\n",
       "      <th>target</th>\n",
       "    </tr>\n",
       "  </thead>\n",
       "  <tbody>\n",
       "    <tr>\n",
       "      <td>0</td>\n",
       "      <td>0.00632</td>\n",
       "      <td>18.0</td>\n",
       "      <td>2.31</td>\n",
       "      <td>0.0</td>\n",
       "      <td>0.538</td>\n",
       "      <td>6.575</td>\n",
       "      <td>65.2</td>\n",
       "      <td>4.0900</td>\n",
       "      <td>1.0</td>\n",
       "      <td>296.0</td>\n",
       "      <td>15.3</td>\n",
       "      <td>396.90</td>\n",
       "      <td>4.98</td>\n",
       "      <td>24.0</td>\n",
       "    </tr>\n",
       "    <tr>\n",
       "      <td>1</td>\n",
       "      <td>0.02731</td>\n",
       "      <td>0.0</td>\n",
       "      <td>7.07</td>\n",
       "      <td>0.0</td>\n",
       "      <td>0.469</td>\n",
       "      <td>6.421</td>\n",
       "      <td>78.9</td>\n",
       "      <td>4.9671</td>\n",
       "      <td>2.0</td>\n",
       "      <td>242.0</td>\n",
       "      <td>17.8</td>\n",
       "      <td>396.90</td>\n",
       "      <td>9.14</td>\n",
       "      <td>21.6</td>\n",
       "    </tr>\n",
       "    <tr>\n",
       "      <td>2</td>\n",
       "      <td>0.02729</td>\n",
       "      <td>0.0</td>\n",
       "      <td>7.07</td>\n",
       "      <td>0.0</td>\n",
       "      <td>0.469</td>\n",
       "      <td>7.185</td>\n",
       "      <td>61.1</td>\n",
       "      <td>4.9671</td>\n",
       "      <td>2.0</td>\n",
       "      <td>242.0</td>\n",
       "      <td>17.8</td>\n",
       "      <td>392.83</td>\n",
       "      <td>4.03</td>\n",
       "      <td>34.7</td>\n",
       "    </tr>\n",
       "    <tr>\n",
       "      <td>3</td>\n",
       "      <td>0.03237</td>\n",
       "      <td>0.0</td>\n",
       "      <td>2.18</td>\n",
       "      <td>0.0</td>\n",
       "      <td>0.458</td>\n",
       "      <td>6.998</td>\n",
       "      <td>45.8</td>\n",
       "      <td>6.0622</td>\n",
       "      <td>3.0</td>\n",
       "      <td>222.0</td>\n",
       "      <td>18.7</td>\n",
       "      <td>394.63</td>\n",
       "      <td>2.94</td>\n",
       "      <td>33.4</td>\n",
       "    </tr>\n",
       "    <tr>\n",
       "      <td>4</td>\n",
       "      <td>0.06905</td>\n",
       "      <td>0.0</td>\n",
       "      <td>2.18</td>\n",
       "      <td>0.0</td>\n",
       "      <td>0.458</td>\n",
       "      <td>7.147</td>\n",
       "      <td>54.2</td>\n",
       "      <td>6.0622</td>\n",
       "      <td>3.0</td>\n",
       "      <td>222.0</td>\n",
       "      <td>18.7</td>\n",
       "      <td>396.90</td>\n",
       "      <td>5.33</td>\n",
       "      <td>36.2</td>\n",
       "    </tr>\n",
       "  </tbody>\n",
       "</table>\n",
       "</div>"
      ],
      "text/plain": [
       "      CRIM    ZN  INDUS  CHAS    NOX     RM   AGE     DIS  RAD    TAX  \\\n",
       "0  0.00632  18.0   2.31   0.0  0.538  6.575  65.2  4.0900  1.0  296.0   \n",
       "1  0.02731   0.0   7.07   0.0  0.469  6.421  78.9  4.9671  2.0  242.0   \n",
       "2  0.02729   0.0   7.07   0.0  0.469  7.185  61.1  4.9671  2.0  242.0   \n",
       "3  0.03237   0.0   2.18   0.0  0.458  6.998  45.8  6.0622  3.0  222.0   \n",
       "4  0.06905   0.0   2.18   0.0  0.458  7.147  54.2  6.0622  3.0  222.0   \n",
       "\n",
       "   PTRATIO       B  LSTAT  target  \n",
       "0     15.3  396.90   4.98    24.0  \n",
       "1     17.8  396.90   9.14    21.6  \n",
       "2     17.8  392.83   4.03    34.7  \n",
       "3     18.7  394.63   2.94    33.4  \n",
       "4     18.7  396.90   5.33    36.2  "
      ]
     },
     "execution_count": 813,
     "metadata": {},
     "output_type": "execute_result"
    }
   ],
   "source": [
    "df.head()"
   ]
  },
  {
   "cell_type": "markdown",
   "metadata": {},
   "source": [
    " We will begin by splitting our data into a training set `X_t` and a validation set `X_v`. The validation set will be used only after we have tuned our models to test the prediction power of our model."
   ]
  },
  {
   "cell_type": "code",
   "execution_count": 814,
   "metadata": {},
   "outputs": [],
   "source": [
    "from sklearn.model_selection import train_test_split"
   ]
  },
  {
   "cell_type": "code",
   "execution_count": 815,
   "metadata": {},
   "outputs": [],
   "source": [
    "X_t,X_v=train_test_split(df, test_size=0.25)"
   ]
  },
  {
   "cell_type": "code",
   "execution_count": 816,
   "metadata": {},
   "outputs": [
    {
     "data": {
      "text/html": [
       "<div>\n",
       "<style scoped>\n",
       "    .dataframe tbody tr th:only-of-type {\n",
       "        vertical-align: middle;\n",
       "    }\n",
       "\n",
       "    .dataframe tbody tr th {\n",
       "        vertical-align: top;\n",
       "    }\n",
       "\n",
       "    .dataframe thead th {\n",
       "        text-align: right;\n",
       "    }\n",
       "</style>\n",
       "<table border=\"1\" class=\"dataframe\">\n",
       "  <thead>\n",
       "    <tr style=\"text-align: right;\">\n",
       "      <th></th>\n",
       "      <th>CRIM</th>\n",
       "      <th>ZN</th>\n",
       "      <th>INDUS</th>\n",
       "      <th>CHAS</th>\n",
       "      <th>NOX</th>\n",
       "      <th>RM</th>\n",
       "      <th>AGE</th>\n",
       "      <th>DIS</th>\n",
       "      <th>RAD</th>\n",
       "      <th>TAX</th>\n",
       "      <th>PTRATIO</th>\n",
       "      <th>B</th>\n",
       "      <th>LSTAT</th>\n",
       "      <th>target</th>\n",
       "    </tr>\n",
       "  </thead>\n",
       "  <tbody>\n",
       "    <tr>\n",
       "      <td>163</td>\n",
       "      <td>1.51902</td>\n",
       "      <td>0.0</td>\n",
       "      <td>19.58</td>\n",
       "      <td>1.0</td>\n",
       "      <td>0.605</td>\n",
       "      <td>8.375</td>\n",
       "      <td>93.9</td>\n",
       "      <td>2.1620</td>\n",
       "      <td>5.0</td>\n",
       "      <td>403.0</td>\n",
       "      <td>14.7</td>\n",
       "      <td>388.45</td>\n",
       "      <td>3.32</td>\n",
       "      <td>50.0</td>\n",
       "    </tr>\n",
       "    <tr>\n",
       "      <td>300</td>\n",
       "      <td>0.04417</td>\n",
       "      <td>70.0</td>\n",
       "      <td>2.24</td>\n",
       "      <td>0.0</td>\n",
       "      <td>0.400</td>\n",
       "      <td>6.871</td>\n",
       "      <td>47.4</td>\n",
       "      <td>7.8278</td>\n",
       "      <td>5.0</td>\n",
       "      <td>358.0</td>\n",
       "      <td>14.8</td>\n",
       "      <td>390.86</td>\n",
       "      <td>6.07</td>\n",
       "      <td>24.8</td>\n",
       "    </tr>\n",
       "    <tr>\n",
       "      <td>118</td>\n",
       "      <td>0.13058</td>\n",
       "      <td>0.0</td>\n",
       "      <td>10.01</td>\n",
       "      <td>0.0</td>\n",
       "      <td>0.547</td>\n",
       "      <td>5.872</td>\n",
       "      <td>73.1</td>\n",
       "      <td>2.4775</td>\n",
       "      <td>6.0</td>\n",
       "      <td>432.0</td>\n",
       "      <td>17.8</td>\n",
       "      <td>338.63</td>\n",
       "      <td>15.37</td>\n",
       "      <td>20.4</td>\n",
       "    </tr>\n",
       "    <tr>\n",
       "      <td>113</td>\n",
       "      <td>0.22212</td>\n",
       "      <td>0.0</td>\n",
       "      <td>10.01</td>\n",
       "      <td>0.0</td>\n",
       "      <td>0.547</td>\n",
       "      <td>6.092</td>\n",
       "      <td>95.4</td>\n",
       "      <td>2.5480</td>\n",
       "      <td>6.0</td>\n",
       "      <td>432.0</td>\n",
       "      <td>17.8</td>\n",
       "      <td>396.90</td>\n",
       "      <td>17.09</td>\n",
       "      <td>18.7</td>\n",
       "    </tr>\n",
       "    <tr>\n",
       "      <td>484</td>\n",
       "      <td>2.37857</td>\n",
       "      <td>0.0</td>\n",
       "      <td>18.10</td>\n",
       "      <td>0.0</td>\n",
       "      <td>0.583</td>\n",
       "      <td>5.871</td>\n",
       "      <td>41.9</td>\n",
       "      <td>3.7240</td>\n",
       "      <td>24.0</td>\n",
       "      <td>666.0</td>\n",
       "      <td>20.2</td>\n",
       "      <td>370.73</td>\n",
       "      <td>13.34</td>\n",
       "      <td>20.6</td>\n",
       "    </tr>\n",
       "  </tbody>\n",
       "</table>\n",
       "</div>"
      ],
      "text/plain": [
       "        CRIM    ZN  INDUS  CHAS    NOX     RM   AGE     DIS   RAD    TAX  \\\n",
       "163  1.51902   0.0  19.58   1.0  0.605  8.375  93.9  2.1620   5.0  403.0   \n",
       "300  0.04417  70.0   2.24   0.0  0.400  6.871  47.4  7.8278   5.0  358.0   \n",
       "118  0.13058   0.0  10.01   0.0  0.547  5.872  73.1  2.4775   6.0  432.0   \n",
       "113  0.22212   0.0  10.01   0.0  0.547  6.092  95.4  2.5480   6.0  432.0   \n",
       "484  2.37857   0.0  18.10   0.0  0.583  5.871  41.9  3.7240  24.0  666.0   \n",
       "\n",
       "     PTRATIO       B  LSTAT  target  \n",
       "163     14.7  388.45   3.32    50.0  \n",
       "300     14.8  390.86   6.07    24.8  \n",
       "118     17.8  338.63  15.37    20.4  \n",
       "113     17.8  396.90  17.09    18.7  \n",
       "484     20.2  370.73  13.34    20.6  "
      ]
     },
     "execution_count": 816,
     "metadata": {},
     "output_type": "execute_result"
    }
   ],
   "source": [
    "X_t.head()"
   ]
  },
  {
   "cell_type": "markdown",
   "metadata": {},
   "source": [
    "Next, let's go ahead and import both Ridge Regression and Lasso models along with cross calidation "
   ]
  },
  {
   "cell_type": "code",
   "execution_count": 817,
   "metadata": {},
   "outputs": [],
   "source": [
    "from sklearn.model_selection import cross_validate, KFold\n",
    "from sklearn.linear_model import Ridge, Lasso, LinearRegression"
   ]
  },
  {
   "cell_type": "markdown",
   "metadata": {},
   "source": [
    "The data is already scaled so there is no need to rescale."
   ]
  },
  {
   "cell_type": "code",
   "execution_count": 818,
   "metadata": {},
   "outputs": [],
   "source": [
    "from sklearn.preprocessing import StandardScaler"
   ]
  },
  {
   "cell_type": "code",
   "execution_count": 819,
   "metadata": {},
   "outputs": [],
   "source": [
    "scaler=StandardScaler()\n"
   ]
  },
  {
   "cell_type": "code",
   "execution_count": 820,
   "metadata": {},
   "outputs": [],
   "source": [
    "X=X_t.drop('target',axis=1)\n",
    "y=X_t['target']"
   ]
  },
  {
   "cell_type": "code",
   "execution_count": 821,
   "metadata": {},
   "outputs": [
    {
     "data": {
      "text/plain": [
       "StandardScaler(copy=True, with_mean=True, with_std=True)"
      ]
     },
     "execution_count": 821,
     "metadata": {},
     "output_type": "execute_result"
    }
   ],
   "source": [
    "scaler.fit(X)"
   ]
  },
  {
   "cell_type": "code",
   "execution_count": 826,
   "metadata": {},
   "outputs": [],
   "source": [
    "mean=scaler.mean_\n",
    "std=scaler.scale_"
   ]
  },
  {
   "cell_type": "code",
   "execution_count": 827,
   "metadata": {},
   "outputs": [],
   "source": [
    "scaled=scaler.transform(X)"
   ]
  },
  {
   "cell_type": "code",
   "execution_count": 828,
   "metadata": {},
   "outputs": [],
   "source": [
    "X_sc=pd.DataFrame(scaled,columns=X.columns,index=X.index)"
   ]
  },
  {
   "cell_type": "code",
   "execution_count": 829,
   "metadata": {},
   "outputs": [
    {
     "data": {
      "text/html": [
       "<div>\n",
       "<style scoped>\n",
       "    .dataframe tbody tr th:only-of-type {\n",
       "        vertical-align: middle;\n",
       "    }\n",
       "\n",
       "    .dataframe tbody tr th {\n",
       "        vertical-align: top;\n",
       "    }\n",
       "\n",
       "    .dataframe thead th {\n",
       "        text-align: right;\n",
       "    }\n",
       "</style>\n",
       "<table border=\"1\" class=\"dataframe\">\n",
       "  <thead>\n",
       "    <tr style=\"text-align: right;\">\n",
       "      <th></th>\n",
       "      <th>CRIM</th>\n",
       "      <th>ZN</th>\n",
       "      <th>INDUS</th>\n",
       "      <th>CHAS</th>\n",
       "      <th>NOX</th>\n",
       "      <th>RM</th>\n",
       "      <th>AGE</th>\n",
       "      <th>DIS</th>\n",
       "      <th>RAD</th>\n",
       "      <th>TAX</th>\n",
       "      <th>PTRATIO</th>\n",
       "      <th>B</th>\n",
       "      <th>LSTAT</th>\n",
       "    </tr>\n",
       "  </thead>\n",
       "  <tbody>\n",
       "    <tr>\n",
       "      <td>163</td>\n",
       "      <td>-0.261403</td>\n",
       "      <td>-0.500283</td>\n",
       "      <td>1.276804</td>\n",
       "      <td>3.610684</td>\n",
       "      <td>0.448184</td>\n",
       "      <td>2.834402</td>\n",
       "      <td>0.915438</td>\n",
       "      <td>-0.783159</td>\n",
       "      <td>-0.524739</td>\n",
       "      <td>-0.005680</td>\n",
       "      <td>-1.704989</td>\n",
       "      <td>0.347039</td>\n",
       "      <td>-1.258582</td>\n",
       "    </tr>\n",
       "    <tr>\n",
       "      <td>300</td>\n",
       "      <td>-0.460851</td>\n",
       "      <td>2.382853</td>\n",
       "      <td>-1.290610</td>\n",
       "      <td>-0.276956</td>\n",
       "      <td>-1.315903</td>\n",
       "      <td>0.772790</td>\n",
       "      <td>-0.753286</td>\n",
       "      <td>1.923374</td>\n",
       "      <td>-0.524739</td>\n",
       "      <td>-0.274012</td>\n",
       "      <td>-1.659039</td>\n",
       "      <td>0.373819</td>\n",
       "      <td>-0.877941</td>\n",
       "    </tr>\n",
       "    <tr>\n",
       "      <td>118</td>\n",
       "      <td>-0.449165</td>\n",
       "      <td>-0.500283</td>\n",
       "      <td>-0.140160</td>\n",
       "      <td>-0.276956</td>\n",
       "      <td>-0.050923</td>\n",
       "      <td>-0.596592</td>\n",
       "      <td>0.168998</td>\n",
       "      <td>-0.632446</td>\n",
       "      <td>-0.409782</td>\n",
       "      <td>0.167246</td>\n",
       "      <td>-0.280548</td>\n",
       "      <td>-0.206566</td>\n",
       "      <td>0.409317</td>\n",
       "    </tr>\n",
       "    <tr>\n",
       "      <td>113</td>\n",
       "      <td>-0.436786</td>\n",
       "      <td>-0.500283</td>\n",
       "      <td>-0.140160</td>\n",
       "      <td>-0.276956</td>\n",
       "      <td>-0.050923</td>\n",
       "      <td>-0.295026</td>\n",
       "      <td>0.969267</td>\n",
       "      <td>-0.598768</td>\n",
       "      <td>-0.409782</td>\n",
       "      <td>0.167246</td>\n",
       "      <td>-0.280548</td>\n",
       "      <td>0.440936</td>\n",
       "      <td>0.647391</td>\n",
       "    </tr>\n",
       "    <tr>\n",
       "      <td>484</td>\n",
       "      <td>-0.145163</td>\n",
       "      <td>-0.500283</td>\n",
       "      <td>1.057670</td>\n",
       "      <td>-0.276956</td>\n",
       "      <td>0.258867</td>\n",
       "      <td>-0.597963</td>\n",
       "      <td>-0.950661</td>\n",
       "      <td>-0.036997</td>\n",
       "      <td>1.659449</td>\n",
       "      <td>1.562573</td>\n",
       "      <td>0.822245</td>\n",
       "      <td>0.150133</td>\n",
       "      <td>0.128335</td>\n",
       "    </tr>\n",
       "  </tbody>\n",
       "</table>\n",
       "</div>"
      ],
      "text/plain": [
       "         CRIM        ZN     INDUS      CHAS       NOX        RM       AGE  \\\n",
       "163 -0.261403 -0.500283  1.276804  3.610684  0.448184  2.834402  0.915438   \n",
       "300 -0.460851  2.382853 -1.290610 -0.276956 -1.315903  0.772790 -0.753286   \n",
       "118 -0.449165 -0.500283 -0.140160 -0.276956 -0.050923 -0.596592  0.168998   \n",
       "113 -0.436786 -0.500283 -0.140160 -0.276956 -0.050923 -0.295026  0.969267   \n",
       "484 -0.145163 -0.500283  1.057670 -0.276956  0.258867 -0.597963 -0.950661   \n",
       "\n",
       "          DIS       RAD       TAX   PTRATIO         B     LSTAT  \n",
       "163 -0.783159 -0.524739 -0.005680 -1.704989  0.347039 -1.258582  \n",
       "300  1.923374 -0.524739 -0.274012 -1.659039  0.373819 -0.877941  \n",
       "118 -0.632446 -0.409782  0.167246 -0.280548 -0.206566  0.409317  \n",
       "113 -0.598768 -0.409782  0.167246 -0.280548  0.440936  0.647391  \n",
       "484 -0.036997  1.659449  1.562573  0.822245  0.150133  0.128335  "
      ]
     },
     "execution_count": 829,
     "metadata": {},
     "output_type": "execute_result"
    }
   ],
   "source": [
    "X_sc.head()"
   ]
  },
  {
   "cell_type": "code",
   "execution_count": null,
   "metadata": {},
   "outputs": [],
   "source": []
  },
  {
   "cell_type": "code",
   "execution_count": 830,
   "metadata": {},
   "outputs": [],
   "source": [
    "lasso=Lasso(alpha=1.25)\n",
    "ridge=Ridge(alpha=1.25)"
   ]
  },
  {
   "cell_type": "code",
   "execution_count": 831,
   "metadata": {},
   "outputs": [],
   "source": [
    "kf=KFold(n_splits=5,shuffle=True, random_state=101)"
   ]
  },
  {
   "cell_type": "code",
   "execution_count": 832,
   "metadata": {},
   "outputs": [],
   "source": [
    "cv_lasso=cross_validate(estimator=lasso,X=X_sc,y=y,cv=kf, return_estimator=True,\n",
    "                        scoring={'r2','neg_mean_squared_error'})\n",
    "cv_ridge=cross_validate(estimator=ridge,X=X_sc,y=y,cv=kf, return_estimator=True,\n",
    "                        scoring={'r2','neg_mean_squared_error'})"
   ]
  },
  {
   "cell_type": "code",
   "execution_count": 833,
   "metadata": {},
   "outputs": [],
   "source": [
    "# import sklearn\n",
    "# sorted(sklearn.metrics.SCORERS.keys())"
   ]
  },
  {
   "cell_type": "code",
   "execution_count": 834,
   "metadata": {
    "scrolled": false
   },
   "outputs": [
    {
     "data": {
      "text/plain": [
       "array([18.14757633, 31.07292682, 24.52256683, 45.40306465, 35.85418861])"
      ]
     },
     "execution_count": 834,
     "metadata": {},
     "output_type": "execute_result"
    }
   ],
   "source": [
    "-cv_lasso['test_neg_mean_squared_error']"
   ]
  },
  {
   "cell_type": "code",
   "execution_count": 835,
   "metadata": {},
   "outputs": [
    {
     "data": {
      "text/plain": [
       "array([14.20190288, 24.20266059, 23.90046859, 35.28746607, 30.97907459])"
      ]
     },
     "execution_count": 835,
     "metadata": {},
     "output_type": "execute_result"
    }
   ],
   "source": [
    "-cv_ridge['test_neg_mean_squared_error']"
   ]
  },
  {
   "cell_type": "code",
   "execution_count": 836,
   "metadata": {},
   "outputs": [
    {
     "data": {
      "text/plain": [
       "array([0.7328606 , 0.6641348 , 0.70065456, 0.51584759, 0.59585428])"
      ]
     },
     "execution_count": 836,
     "metadata": {},
     "output_type": "execute_result"
    }
   ],
   "source": [
    "cv_lasso['test_r2']"
   ]
  },
  {
   "cell_type": "code",
   "execution_count": 837,
   "metadata": {},
   "outputs": [
    {
     "data": {
      "text/plain": [
       "array([0.79094245, 0.73839505, 0.70824847, 0.62371457, 0.6508062 ])"
      ]
     },
     "execution_count": 837,
     "metadata": {},
     "output_type": "execute_result"
    }
   ],
   "source": [
    "cv_ridge['test_r2']"
   ]
  },
  {
   "cell_type": "markdown",
   "metadata": {},
   "source": [
    "Let's get the coefficients for both models."
   ]
  },
  {
   "cell_type": "code",
   "execution_count": 838,
   "metadata": {},
   "outputs": [],
   "source": [
    "df_lasso=pd.DataFrame(cv_lasso['estimator'][3].coef_,index=X.columns,columns=['Lasso'])"
   ]
  },
  {
   "cell_type": "code",
   "execution_count": 839,
   "metadata": {},
   "outputs": [],
   "source": [
    "df_ridge=pd.DataFrame(cv_ridge['estimator'][3].coef_,index=X.columns,columns=['Ridge'])"
   ]
  },
  {
   "cell_type": "code",
   "execution_count": 840,
   "metadata": {},
   "outputs": [
    {
     "data": {
      "text/html": [
       "<div>\n",
       "<style scoped>\n",
       "    .dataframe tbody tr th:only-of-type {\n",
       "        vertical-align: middle;\n",
       "    }\n",
       "\n",
       "    .dataframe tbody tr th {\n",
       "        vertical-align: top;\n",
       "    }\n",
       "\n",
       "    .dataframe thead th {\n",
       "        text-align: right;\n",
       "    }\n",
       "</style>\n",
       "<table border=\"1\" class=\"dataframe\">\n",
       "  <thead>\n",
       "    <tr style=\"text-align: right;\">\n",
       "      <th></th>\n",
       "      <th>Lasso</th>\n",
       "    </tr>\n",
       "  </thead>\n",
       "  <tbody>\n",
       "    <tr>\n",
       "      <td>CRIM</td>\n",
       "      <td>-0.000000</td>\n",
       "    </tr>\n",
       "    <tr>\n",
       "      <td>ZN</td>\n",
       "      <td>0.000000</td>\n",
       "    </tr>\n",
       "    <tr>\n",
       "      <td>INDUS</td>\n",
       "      <td>-0.000000</td>\n",
       "    </tr>\n",
       "    <tr>\n",
       "      <td>CHAS</td>\n",
       "      <td>0.000000</td>\n",
       "    </tr>\n",
       "    <tr>\n",
       "      <td>NOX</td>\n",
       "      <td>-0.000000</td>\n",
       "    </tr>\n",
       "    <tr>\n",
       "      <td>RM</td>\n",
       "      <td>2.902118</td>\n",
       "    </tr>\n",
       "    <tr>\n",
       "      <td>AGE</td>\n",
       "      <td>-0.000000</td>\n",
       "    </tr>\n",
       "    <tr>\n",
       "      <td>DIS</td>\n",
       "      <td>-0.000000</td>\n",
       "    </tr>\n",
       "    <tr>\n",
       "      <td>RAD</td>\n",
       "      <td>-0.000000</td>\n",
       "    </tr>\n",
       "    <tr>\n",
       "      <td>TAX</td>\n",
       "      <td>-0.000000</td>\n",
       "    </tr>\n",
       "    <tr>\n",
       "      <td>PTRATIO</td>\n",
       "      <td>-0.875594</td>\n",
       "    </tr>\n",
       "    <tr>\n",
       "      <td>B</td>\n",
       "      <td>0.000000</td>\n",
       "    </tr>\n",
       "    <tr>\n",
       "      <td>LSTAT</td>\n",
       "      <td>-3.414737</td>\n",
       "    </tr>\n",
       "  </tbody>\n",
       "</table>\n",
       "</div>"
      ],
      "text/plain": [
       "            Lasso\n",
       "CRIM    -0.000000\n",
       "ZN       0.000000\n",
       "INDUS   -0.000000\n",
       "CHAS     0.000000\n",
       "NOX     -0.000000\n",
       "RM       2.902118\n",
       "AGE     -0.000000\n",
       "DIS     -0.000000\n",
       "RAD     -0.000000\n",
       "TAX     -0.000000\n",
       "PTRATIO -0.875594\n",
       "B        0.000000\n",
       "LSTAT   -3.414737"
      ]
     },
     "execution_count": 840,
     "metadata": {},
     "output_type": "execute_result"
    }
   ],
   "source": [
    "df_lasso"
   ]
  },
  {
   "cell_type": "code",
   "execution_count": 841,
   "metadata": {},
   "outputs": [
    {
     "data": {
      "text/html": [
       "<div>\n",
       "<style scoped>\n",
       "    .dataframe tbody tr th:only-of-type {\n",
       "        vertical-align: middle;\n",
       "    }\n",
       "\n",
       "    .dataframe tbody tr th {\n",
       "        vertical-align: top;\n",
       "    }\n",
       "\n",
       "    .dataframe thead th {\n",
       "        text-align: right;\n",
       "    }\n",
       "</style>\n",
       "<table border=\"1\" class=\"dataframe\">\n",
       "  <thead>\n",
       "    <tr style=\"text-align: right;\">\n",
       "      <th></th>\n",
       "      <th>Ridge</th>\n",
       "    </tr>\n",
       "  </thead>\n",
       "  <tbody>\n",
       "    <tr>\n",
       "      <td>CRIM</td>\n",
       "      <td>-0.569077</td>\n",
       "    </tr>\n",
       "    <tr>\n",
       "      <td>ZN</td>\n",
       "      <td>0.730165</td>\n",
       "    </tr>\n",
       "    <tr>\n",
       "      <td>INDUS</td>\n",
       "      <td>0.240706</td>\n",
       "    </tr>\n",
       "    <tr>\n",
       "      <td>CHAS</td>\n",
       "      <td>0.731062</td>\n",
       "    </tr>\n",
       "    <tr>\n",
       "      <td>NOX</td>\n",
       "      <td>-1.867981</td>\n",
       "    </tr>\n",
       "    <tr>\n",
       "      <td>RM</td>\n",
       "      <td>3.196153</td>\n",
       "    </tr>\n",
       "    <tr>\n",
       "      <td>AGE</td>\n",
       "      <td>-0.202482</td>\n",
       "    </tr>\n",
       "    <tr>\n",
       "      <td>DIS</td>\n",
       "      <td>-2.491981</td>\n",
       "    </tr>\n",
       "    <tr>\n",
       "      <td>RAD</td>\n",
       "      <td>2.551225</td>\n",
       "    </tr>\n",
       "    <tr>\n",
       "      <td>TAX</td>\n",
       "      <td>-2.253650</td>\n",
       "    </tr>\n",
       "    <tr>\n",
       "      <td>PTRATIO</td>\n",
       "      <td>-1.782585</td>\n",
       "    </tr>\n",
       "    <tr>\n",
       "      <td>B</td>\n",
       "      <td>0.666161</td>\n",
       "    </tr>\n",
       "    <tr>\n",
       "      <td>LSTAT</td>\n",
       "      <td>-3.432715</td>\n",
       "    </tr>\n",
       "  </tbody>\n",
       "</table>\n",
       "</div>"
      ],
      "text/plain": [
       "            Ridge\n",
       "CRIM    -0.569077\n",
       "ZN       0.730165\n",
       "INDUS    0.240706\n",
       "CHAS     0.731062\n",
       "NOX     -1.867981\n",
       "RM       3.196153\n",
       "AGE     -0.202482\n",
       "DIS     -2.491981\n",
       "RAD      2.551225\n",
       "TAX     -2.253650\n",
       "PTRATIO -1.782585\n",
       "B        0.666161\n",
       "LSTAT   -3.432715"
      ]
     },
     "execution_count": 841,
     "metadata": {},
     "output_type": "execute_result"
    }
   ],
   "source": [
    "df_ridge"
   ]
  },
  {
   "cell_type": "markdown",
   "metadata": {},
   "source": [
    "Next, let's join these frames into one, for presentation purposes."
   ]
  },
  {
   "cell_type": "code",
   "execution_count": 842,
   "metadata": {},
   "outputs": [
    {
     "data": {
      "text/html": [
       "<div>\n",
       "<style scoped>\n",
       "    .dataframe tbody tr th:only-of-type {\n",
       "        vertical-align: middle;\n",
       "    }\n",
       "\n",
       "    .dataframe tbody tr th {\n",
       "        vertical-align: top;\n",
       "    }\n",
       "\n",
       "    .dataframe thead th {\n",
       "        text-align: right;\n",
       "    }\n",
       "</style>\n",
       "<table border=\"1\" class=\"dataframe\">\n",
       "  <thead>\n",
       "    <tr style=\"text-align: right;\">\n",
       "      <th></th>\n",
       "      <th>Lasso</th>\n",
       "      <th>Ridge</th>\n",
       "    </tr>\n",
       "  </thead>\n",
       "  <tbody>\n",
       "    <tr>\n",
       "      <td>CRIM</td>\n",
       "      <td>-0.000000</td>\n",
       "      <td>-0.569077</td>\n",
       "    </tr>\n",
       "    <tr>\n",
       "      <td>ZN</td>\n",
       "      <td>0.000000</td>\n",
       "      <td>0.730165</td>\n",
       "    </tr>\n",
       "    <tr>\n",
       "      <td>INDUS</td>\n",
       "      <td>-0.000000</td>\n",
       "      <td>0.240706</td>\n",
       "    </tr>\n",
       "    <tr>\n",
       "      <td>CHAS</td>\n",
       "      <td>0.000000</td>\n",
       "      <td>0.731062</td>\n",
       "    </tr>\n",
       "    <tr>\n",
       "      <td>NOX</td>\n",
       "      <td>-0.000000</td>\n",
       "      <td>-1.867981</td>\n",
       "    </tr>\n",
       "    <tr>\n",
       "      <td>RM</td>\n",
       "      <td>2.902118</td>\n",
       "      <td>3.196153</td>\n",
       "    </tr>\n",
       "    <tr>\n",
       "      <td>AGE</td>\n",
       "      <td>-0.000000</td>\n",
       "      <td>-0.202482</td>\n",
       "    </tr>\n",
       "    <tr>\n",
       "      <td>DIS</td>\n",
       "      <td>-0.000000</td>\n",
       "      <td>-2.491981</td>\n",
       "    </tr>\n",
       "    <tr>\n",
       "      <td>RAD</td>\n",
       "      <td>-0.000000</td>\n",
       "      <td>2.551225</td>\n",
       "    </tr>\n",
       "    <tr>\n",
       "      <td>TAX</td>\n",
       "      <td>-0.000000</td>\n",
       "      <td>-2.253650</td>\n",
       "    </tr>\n",
       "    <tr>\n",
       "      <td>PTRATIO</td>\n",
       "      <td>-0.875594</td>\n",
       "      <td>-1.782585</td>\n",
       "    </tr>\n",
       "    <tr>\n",
       "      <td>B</td>\n",
       "      <td>0.000000</td>\n",
       "      <td>0.666161</td>\n",
       "    </tr>\n",
       "    <tr>\n",
       "      <td>LSTAT</td>\n",
       "      <td>-3.414737</td>\n",
       "      <td>-3.432715</td>\n",
       "    </tr>\n",
       "  </tbody>\n",
       "</table>\n",
       "</div>"
      ],
      "text/plain": [
       "            Lasso     Ridge\n",
       "CRIM    -0.000000 -0.569077\n",
       "ZN       0.000000  0.730165\n",
       "INDUS   -0.000000  0.240706\n",
       "CHAS     0.000000  0.731062\n",
       "NOX     -0.000000 -1.867981\n",
       "RM       2.902118  3.196153\n",
       "AGE     -0.000000 -0.202482\n",
       "DIS     -0.000000 -2.491981\n",
       "RAD     -0.000000  2.551225\n",
       "TAX     -0.000000 -2.253650\n",
       "PTRATIO -0.875594 -1.782585\n",
       "B        0.000000  0.666161\n",
       "LSTAT   -3.414737 -3.432715"
      ]
     },
     "execution_count": 842,
     "metadata": {},
     "output_type": "execute_result"
    }
   ],
   "source": [
    "df_lasso.join(df_ridge,on=df_lasso.index)"
   ]
  },
  {
   "cell_type": "markdown",
   "metadata": {},
   "source": [
    "As we can see, Lasso has set some of the coefficients exactly to zero. The inerpretation is that the model does not rely at all, for example, on `CRIM, ZN,INDUS, CHAS, NOX, AGE, DIS, RAD, TAX, B` to make predictions on the price of a house it has not previously seen. If we increase the value of $\\lambda$ more of the predictors will be set to zero in the lasso method. "
   ]
  },
  {
   "cell_type": "markdown",
   "metadata": {},
   "source": [
    "<font size=4 color='red'>Exercise</font>\n",
    "\n",
    "Tune the model. In other words, search for the best `alpha` that results in the lowest MSE and highest R2 score. Then plot both MSE and R2 as a function of `alpha`. Pick the best alpha for each model and test the power of your model using the validation set `X_v`."
   ]
  },
  {
   "cell_type": "code",
   "execution_count": 907,
   "metadata": {},
   "outputs": [
    {
     "data": {
      "text/html": [
       "<div>\n",
       "<style scoped>\n",
       "    .dataframe tbody tr th:only-of-type {\n",
       "        vertical-align: middle;\n",
       "    }\n",
       "\n",
       "    .dataframe tbody tr th {\n",
       "        vertical-align: top;\n",
       "    }\n",
       "\n",
       "    .dataframe thead th {\n",
       "        text-align: right;\n",
       "    }\n",
       "</style>\n",
       "<table border=\"1\" class=\"dataframe\">\n",
       "  <thead>\n",
       "    <tr style=\"text-align: right;\">\n",
       "      <th></th>\n",
       "      <th>CRIM</th>\n",
       "      <th>ZN</th>\n",
       "      <th>INDUS</th>\n",
       "      <th>CHAS</th>\n",
       "      <th>NOX</th>\n",
       "      <th>RM</th>\n",
       "      <th>AGE</th>\n",
       "      <th>DIS</th>\n",
       "      <th>RAD</th>\n",
       "      <th>TAX</th>\n",
       "      <th>PTRATIO</th>\n",
       "      <th>B</th>\n",
       "      <th>LSTAT</th>\n",
       "    </tr>\n",
       "  </thead>\n",
       "  <tbody>\n",
       "    <tr>\n",
       "      <td>163</td>\n",
       "      <td>-0.261403</td>\n",
       "      <td>-0.500283</td>\n",
       "      <td>1.276804</td>\n",
       "      <td>3.610684</td>\n",
       "      <td>0.448184</td>\n",
       "      <td>2.834402</td>\n",
       "      <td>0.915438</td>\n",
       "      <td>-0.783159</td>\n",
       "      <td>-0.524739</td>\n",
       "      <td>-0.005680</td>\n",
       "      <td>-1.704989</td>\n",
       "      <td>0.347039</td>\n",
       "      <td>-1.258582</td>\n",
       "    </tr>\n",
       "    <tr>\n",
       "      <td>300</td>\n",
       "      <td>-0.460851</td>\n",
       "      <td>2.382853</td>\n",
       "      <td>-1.290610</td>\n",
       "      <td>-0.276956</td>\n",
       "      <td>-1.315903</td>\n",
       "      <td>0.772790</td>\n",
       "      <td>-0.753286</td>\n",
       "      <td>1.923374</td>\n",
       "      <td>-0.524739</td>\n",
       "      <td>-0.274012</td>\n",
       "      <td>-1.659039</td>\n",
       "      <td>0.373819</td>\n",
       "      <td>-0.877941</td>\n",
       "    </tr>\n",
       "    <tr>\n",
       "      <td>118</td>\n",
       "      <td>-0.449165</td>\n",
       "      <td>-0.500283</td>\n",
       "      <td>-0.140160</td>\n",
       "      <td>-0.276956</td>\n",
       "      <td>-0.050923</td>\n",
       "      <td>-0.596592</td>\n",
       "      <td>0.168998</td>\n",
       "      <td>-0.632446</td>\n",
       "      <td>-0.409782</td>\n",
       "      <td>0.167246</td>\n",
       "      <td>-0.280548</td>\n",
       "      <td>-0.206566</td>\n",
       "      <td>0.409317</td>\n",
       "    </tr>\n",
       "    <tr>\n",
       "      <td>113</td>\n",
       "      <td>-0.436786</td>\n",
       "      <td>-0.500283</td>\n",
       "      <td>-0.140160</td>\n",
       "      <td>-0.276956</td>\n",
       "      <td>-0.050923</td>\n",
       "      <td>-0.295026</td>\n",
       "      <td>0.969267</td>\n",
       "      <td>-0.598768</td>\n",
       "      <td>-0.409782</td>\n",
       "      <td>0.167246</td>\n",
       "      <td>-0.280548</td>\n",
       "      <td>0.440936</td>\n",
       "      <td>0.647391</td>\n",
       "    </tr>\n",
       "    <tr>\n",
       "      <td>484</td>\n",
       "      <td>-0.145163</td>\n",
       "      <td>-0.500283</td>\n",
       "      <td>1.057670</td>\n",
       "      <td>-0.276956</td>\n",
       "      <td>0.258867</td>\n",
       "      <td>-0.597963</td>\n",
       "      <td>-0.950661</td>\n",
       "      <td>-0.036997</td>\n",
       "      <td>1.659449</td>\n",
       "      <td>1.562573</td>\n",
       "      <td>0.822245</td>\n",
       "      <td>0.150133</td>\n",
       "      <td>0.128335</td>\n",
       "    </tr>\n",
       "  </tbody>\n",
       "</table>\n",
       "</div>"
      ],
      "text/plain": [
       "         CRIM        ZN     INDUS      CHAS       NOX        RM       AGE  \\\n",
       "163 -0.261403 -0.500283  1.276804  3.610684  0.448184  2.834402  0.915438   \n",
       "300 -0.460851  2.382853 -1.290610 -0.276956 -1.315903  0.772790 -0.753286   \n",
       "118 -0.449165 -0.500283 -0.140160 -0.276956 -0.050923 -0.596592  0.168998   \n",
       "113 -0.436786 -0.500283 -0.140160 -0.276956 -0.050923 -0.295026  0.969267   \n",
       "484 -0.145163 -0.500283  1.057670 -0.276956  0.258867 -0.597963 -0.950661   \n",
       "\n",
       "          DIS       RAD       TAX   PTRATIO         B     LSTAT  \n",
       "163 -0.783159 -0.524739 -0.005680 -1.704989  0.347039 -1.258582  \n",
       "300  1.923374 -0.524739 -0.274012 -1.659039  0.373819 -0.877941  \n",
       "118 -0.632446 -0.409782  0.167246 -0.280548 -0.206566  0.409317  \n",
       "113 -0.598768 -0.409782  0.167246 -0.280548  0.440936  0.647391  \n",
       "484 -0.036997  1.659449  1.562573  0.822245  0.150133  0.128335  "
      ]
     },
     "execution_count": 907,
     "metadata": {},
     "output_type": "execute_result"
    }
   ],
   "source": [
    "X_sc.head()"
   ]
  },
  {
   "cell_type": "code",
   "execution_count": null,
   "metadata": {},
   "outputs": [],
   "source": [
    "#Start Your Answer Here\n"
   ]
  },
  {
   "cell_type": "code",
   "execution_count": null,
   "metadata": {},
   "outputs": [],
   "source": []
  },
  {
   "cell_type": "code",
   "execution_count": 908,
   "metadata": {
    "scrolled": false
   },
   "outputs": [
    {
     "data": {
      "text/plain": [
       "<matplotlib.legend.Legend at 0x1346189b688>"
      ]
     },
     "execution_count": 908,
     "metadata": {},
     "output_type": "execute_result"
    },
    {
     "data": {
      "image/png": "[encoded data removed]",
      "text/plain": [
       "<Figure size 576x432 with 1 Axes>"
      ]
     },
     "metadata": {},
     "output_type": "display_data"
    }
   ],
   "source": [
    "sns.set_style('whitegrid')\n",
    "\n",
    "param_alpha=np.arange(0.001,10,0.1)\n",
    "\n",
    "fig=plt.figure(figsize=(8,6))\n",
    "\n",
    "axes=fig.add_axes([0,0,1,1])\n",
    "\n",
    "axes.plot(param_alpha,mse_lasso, linestyle='-.',lw=3,label='Lasso')\n",
    "axes.plot(param_alpha,mse_ridge,ls='--',lw=3,label='Ridge')\n",
    "\n",
    "axes.set_xlabel(\"Alpha\",fontsize=14)\n",
    "axes.set_ylabel(\"Mean MSE from CV\",fontsize=14)\n",
    "\n",
    "plt.legend(fontsize=14)"
   ]
  },
  {
   "cell_type": "code",
   "execution_count": 909,
   "metadata": {},
   "outputs": [
    {
     "data": {
      "image/png": "[encoded data removed]",
      "text/plain": [
       "<Figure size 576x432 with 1 Axes>"
      ]
     },
     "metadata": {},
     "output_type": "display_data"
    }
   ],
   "source": [
    "sns.set_style('whitegrid')\n",
    "fig=plt.figure(figsize=(8,6))\n",
    "\n",
    "axes=fig.add_axes([0,0,1,1])\n",
    "\n",
    "axes.plot(param_alpha,r2_lasso, linestyle='-.',lw=1.5,label='Lasso')\n",
    "axes.plot(param_alpha,r2_ridge,ls='--',lw=1.5,label='Ridge')\n",
    "\n",
    "axes.set_xlabel(\"Alpha\",fontsize=14)\n",
    "axes.set_ylabel(\"Mean R2 Score from CV\",fontsize=14)\n",
    "\n",
    "plt.legend(fontsize=12)\n",
    "plt.show()"
   ]
  },
  {
   "cell_type": "markdown",
   "metadata": {},
   "source": [
    "<font size=5 color='red'>Exercise ctd</font>\n",
    "\n",
    "Pick the best $\\alpha$, the best model and compute the test R2 using the validation set `X_v`."
   ]
  },
  {
   "cell_type": "code",
   "execution_count": 904,
   "metadata": {},
   "outputs": [],
   "source": [
    "#Start Your Answer Here\n"
   ]
  },
  {
   "cell_type": "code",
   "execution_count": 905,
   "metadata": {},
   "outputs": [],
   "source": [
    "from sklearn.metrics import r2_score"
   ]
  },
  {
   "cell_type": "code",
   "execution_count": 906,
   "metadata": {},
   "outputs": [
    {
     "data": {
      "text/plain": [
       "0.7555478676033722"
      ]
     },
     "execution_count": 906,
     "metadata": {},
     "output_type": "execute_result"
    }
   ],
   "source": [
    "#Best R2 Score\n",
    "r2_score(y_test,pred)"
   ]
  },
  {
   "cell_type": "code",
   "execution_count": null,
   "metadata": {},
   "outputs": [],
   "source": []
  }
 ],
 "metadata": {
  "kernelspec": {
   "display_name": "Python 3",
   "language": "python",
   "name": "python3"
  },
  "language_info": {
   "codemirror_mode": {
    "name": "ipython",
    "version": 3
   },
   "file_extension": ".py",
   "mimetype": "text/x-python",
   "name": "python",
   "nbconvert_exporter": "python",
   "pygments_lexer": "ipython3",
   "version": "3.7.4"
  }
 },
 "nbformat": 4,
 "nbformat_minor": 2
}
