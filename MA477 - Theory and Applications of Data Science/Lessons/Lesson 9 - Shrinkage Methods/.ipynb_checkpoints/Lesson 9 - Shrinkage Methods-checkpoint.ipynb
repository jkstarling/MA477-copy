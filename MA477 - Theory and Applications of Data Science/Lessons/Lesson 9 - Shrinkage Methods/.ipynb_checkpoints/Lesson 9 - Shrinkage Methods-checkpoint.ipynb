{
 "cells": [
  {
   "cell_type": "markdown",
   "metadata": {},
   "source": [
    "<h2> ======================================================</h2>\n",
    " <h1>MA477 - Theory and Applications of Data Science</h1> \n",
    "  <h1>Lesson 9: Shrinkage Methods: Ridge & Lasso </h1> \n",
    " \n",
    " <h4>Dr. Valmir Bucaj</h4>\n",
    " United States Military Academy, West Point \n",
    "AY20-2\n",
    "<h2>======================================================</h2>"
   ]
  },
  {
   "cell_type": "markdown",
   "metadata": {},
   "source": [
    "<h2>Lecture Outline</h2>\n",
    "\n",
    "<ul>\n",
    "    <li>What are shrinkage methods and why do we need them?</li>\n",
    "    <li> Ridge Regression</li>\n",
    "    <li>Lasso Regression</li>\n",
    "    <li>Implementing Ridge & Lasso with Python</li>\n",
    " \n",
    "    \n",
    "</ul>"
   ]
  },
  {
   "cell_type": "markdown",
   "metadata": {},
   "source": [
    "<h3> Whats & Whys</h3>\n",
    "\n",
    "As the name suggests, shrinkage methods are a way of fitting a linear method using all of the predictors, but unlike least squares method, they <i> constrain/regularize</i> the estimated coefficiets; specifically, they <i> shrink</i> them towards zero.\n",
    "\n",
    "The two most popular techniques for shrinking the estimated regression coefficients are <b> Ridge Regression</b> and the <b> Lasso</b> method.\n",
    "\n",
    "We will discuss this in more detail shortly, but in a nutshell, it can be shown that shrinking the coefficients towards zero may significantly reduce the variance of the model. \n",
    "\n",
    "<h3> Ridge Regression</h3>\n",
    "\n",
    "Ridge regression is very simmilar to least squares method, except that in this case the coefficients are estimated by minimizing $RSS+\\ell^2-$regularization. That is, the ridge regression estimated coefficients $\\hat{\\beta}^R_{\\lambda}$ are the ones that minimize the following objective function:\n",
    "\n",
    "$$R(\\beta_0,\\dots,\\beta_p,\\lambda)=\\sum_{i=1}^n\\left(y_i-\\beta_0-\\sum_{j=1}^p\\beta_jx_{ij}\\right)^2+\\lambda\\sum_{j=1}^p\\beta_j^2=RSS+\\lambda||\\beta||_2^2,$$\n",
    "\n",
    "where $\\lambda\\geq 0$ is some tuning parameter.\n",
    "\n",
    "In ridge regression, for each $\\lambda$ we obtain a different set of estimated coefficients $\\hat{\\beta}^R_\\lambda$. Observe, that when $\\lambda=0$ we get back the least squares model. \n",
    "\n",
    "So, what doese exactly the extra regularization $\\lambda||\\beta||_2^2$ do? Note, that the goal is still to minimize $R(\\beta_0,\\dots,\\beta_p,\\lambda)$, and to do so there are two terms that need to be minimized, namely $RSS$ and the added regularization term $\\lambda||\\beta||_2^2,$ and in many ways they compete with one another. In particular, the regularization term is small when the coefficients $\\beta_0,\\dots,\\beta_p$ tend to zero. The role of the tuning parameter $\\lambda$ is precisely to control how much of an effect these two terms have in the model. Let's look at two extremes: If $\\lambda=0$ then, obviously, the second term has no impact in estimating the coefficeints. On the other hand, if $\\lambda\\to \\infty$(is very large), then in order for $R(\\beta_0,\\dots,\\beta_p,\\lambda)$ to be minimized all of the coefficients $\\beta_0,\\dots,\\beta_p$ must shrink towards zero. \n",
    "\n",
    "<b>Question 1:</b> Why is the shrinkage penalty applied only to $\\beta_1,\\dots,\\beta_p$ but not to the intercept $\\beta_0$?\n",
    "\n",
    "<h4>What does ridge regression accomplish that the least squares can't?</h4>\n",
    "\n",
    "At the core of the answer lies the <i> bias-variance trade-off</i>. As $\\lambda$ increases from $0$ to a large number, the flexibility of the model decreases. This results in a decrease in variance at the cost of an increase in bias. The hope is that, at least initially, the variance decreases much faster than the increase in bias, leading to an overall better performance(e.g. smaller test MSE) of the ridge regression over the simple least squares regression model. By shrinking, some or all of the coefficients, in effect we are regularizing the relative effect that a change in a feature has on the response. In other words, by increasing the tuning parameter $\\lambda$, in some sense we are constraining the magnitude of the change in the response variable that could be produced by a small change in a feature. \n",
    "\n",
    "<h3>The Lasso Method</h3>\n",
    "\n",
    "The idea behind the Lasso method is very similar to the ridge regression, except that now the lasso coefficient estimates $\\hat{\\beta}^L_\\lambda$, minimize the following quantity:\n",
    "\n",
    "\n",
    "$$L(\\beta_0,\\dots,\\beta_p,\\lambda)=\\sum_{i=1}^n\\left(y_i-\\beta_0-\\sum_{j=1}^p\\beta_jx_{ij}\\right)^2+\\lambda\\sum_{j=1}^p|\\beta_j|=RSS+\\lambda||\\beta||_1.$$\n",
    "\n",
    "In mathematical terms, $||\\beta||_1=\\sum_{j=1}^p|\\beta_j|$ is called the $\\ell^1-$norm.\n",
    "\n",
    "The key difference between the ridge regression and the Lasso method, is that while the lasso method also shrinks the coefficient estimates towards zero, the $\\ell^1-$penalty actually may force some of the coefficient estimates to be <b> exactly zero</b> when $\\lambda$ is sufficiently large. Because of this reason, Lasso has an added advantage towards the ridge regression, as it may be used for <i>feature selection</i> as well. In other words, intuitively speaking, if a feature is not contributing in a significant way to predict the response variable, then the lasso method has a higher chance of noticing this behaviour and setting the coefficent corresponding to this feature equal to zero. In situations like these, lasso also tends to outperform the ridge regression. \n",
    "\n",
    "Intrinsically, the lasso method in some ways assumes that some of the features do not play a significant role in predicting the response. Because of this, in the cases where all of the features play a similar role in predicting the response then ridge regression may outperform lasso. \n",
    "\n",
    "Unfortunately, we never know apriori which predictors are strongly related to the response and which are not. As a result, we rely on cross-validation and similar techniques to determine which model is the most appropriate one for each particular data set."
   ]
  },
  {
   "cell_type": "markdown",
   "metadata": {},
   "source": [
    "<h3>Implementing Ridge and Lasso</h3>\n",
    "\n",
    "We will use the `boston housting` dataset to illustrate the methods.\n",
    "\n",
    "Let's start by importing all of our standard libraries."
   ]
  },
  {
   "cell_type": "code",
   "execution_count": 1,
   "metadata": {},
   "outputs": [],
   "source": [
    "import numpy as np\n",
    "import pandas as pd"
   ]
  },
  {
   "cell_type": "code",
   "execution_count": 2,
   "metadata": {},
   "outputs": [],
   "source": [
    "import matplotlib.pyplot as plt\n",
    "import seaborn as sns"
   ]
  },
  {
   "cell_type": "code",
   "execution_count": 3,
   "metadata": {},
   "outputs": [],
   "source": [
    "from sklearn.datasets import load_boston"
   ]
  },
  {
   "cell_type": "code",
   "execution_count": 5,
   "metadata": {},
   "outputs": [],
   "source": [
    "boston=load_boston()"
   ]
  },
  {
   "cell_type": "code",
   "execution_count": 7,
   "metadata": {},
   "outputs": [
    {
     "data": {
      "text/plain": [
       "dict_keys(['data', 'target', 'feature_names', 'DESCR', 'filename'])"
      ]
     },
     "execution_count": 7,
     "metadata": {},
     "output_type": "execute_result"
    }
   ],
   "source": [
    "boston.keys()"
   ]
  },
  {
   "cell_type": "code",
   "execution_count": 9,
   "metadata": {},
   "outputs": [],
   "source": [
    "df=pd.DataFrame(boston.data,columns=boston.feature_names)"
   ]
  },
  {
   "cell_type": "code",
   "execution_count": 10,
   "metadata": {},
   "outputs": [],
   "source": [
    "df['target']=boston.target"
   ]
  },
  {
   "cell_type": "code",
   "execution_count": 11,
   "metadata": {},
   "outputs": [
    {
     "data": {
      "text/html": [
       "<div>\n",
       "<style scoped>\n",
       "    .dataframe tbody tr th:only-of-type {\n",
       "        vertical-align: middle;\n",
       "    }\n",
       "\n",
       "    .dataframe tbody tr th {\n",
       "        vertical-align: top;\n",
       "    }\n",
       "\n",
       "    .dataframe thead th {\n",
       "        text-align: right;\n",
       "    }\n",
       "</style>\n",
       "<table border=\"1\" class=\"dataframe\">\n",
       "  <thead>\n",
       "    <tr style=\"text-align: right;\">\n",
       "      <th></th>\n",
       "      <th>CRIM</th>\n",
       "      <th>ZN</th>\n",
       "      <th>INDUS</th>\n",
       "      <th>CHAS</th>\n",
       "      <th>NOX</th>\n",
       "      <th>RM</th>\n",
       "      <th>AGE</th>\n",
       "      <th>DIS</th>\n",
       "      <th>RAD</th>\n",
       "      <th>TAX</th>\n",
       "      <th>PTRATIO</th>\n",
       "      <th>B</th>\n",
       "      <th>LSTAT</th>\n",
       "      <th>target</th>\n",
       "    </tr>\n",
       "  </thead>\n",
       "  <tbody>\n",
       "    <tr>\n",
       "      <td>0</td>\n",
       "      <td>0.00632</td>\n",
       "      <td>18.0</td>\n",
       "      <td>2.31</td>\n",
       "      <td>0.0</td>\n",
       "      <td>0.538</td>\n",
       "      <td>6.575</td>\n",
       "      <td>65.2</td>\n",
       "      <td>4.0900</td>\n",
       "      <td>1.0</td>\n",
       "      <td>296.0</td>\n",
       "      <td>15.3</td>\n",
       "      <td>396.90</td>\n",
       "      <td>4.98</td>\n",
       "      <td>24.0</td>\n",
       "    </tr>\n",
       "    <tr>\n",
       "      <td>1</td>\n",
       "      <td>0.02731</td>\n",
       "      <td>0.0</td>\n",
       "      <td>7.07</td>\n",
       "      <td>0.0</td>\n",
       "      <td>0.469</td>\n",
       "      <td>6.421</td>\n",
       "      <td>78.9</td>\n",
       "      <td>4.9671</td>\n",
       "      <td>2.0</td>\n",
       "      <td>242.0</td>\n",
       "      <td>17.8</td>\n",
       "      <td>396.90</td>\n",
       "      <td>9.14</td>\n",
       "      <td>21.6</td>\n",
       "    </tr>\n",
       "    <tr>\n",
       "      <td>2</td>\n",
       "      <td>0.02729</td>\n",
       "      <td>0.0</td>\n",
       "      <td>7.07</td>\n",
       "      <td>0.0</td>\n",
       "      <td>0.469</td>\n",
       "      <td>7.185</td>\n",
       "      <td>61.1</td>\n",
       "      <td>4.9671</td>\n",
       "      <td>2.0</td>\n",
       "      <td>242.0</td>\n",
       "      <td>17.8</td>\n",
       "      <td>392.83</td>\n",
       "      <td>4.03</td>\n",
       "      <td>34.7</td>\n",
       "    </tr>\n",
       "    <tr>\n",
       "      <td>3</td>\n",
       "      <td>0.03237</td>\n",
       "      <td>0.0</td>\n",
       "      <td>2.18</td>\n",
       "      <td>0.0</td>\n",
       "      <td>0.458</td>\n",
       "      <td>6.998</td>\n",
       "      <td>45.8</td>\n",
       "      <td>6.0622</td>\n",
       "      <td>3.0</td>\n",
       "      <td>222.0</td>\n",
       "      <td>18.7</td>\n",
       "      <td>394.63</td>\n",
       "      <td>2.94</td>\n",
       "      <td>33.4</td>\n",
       "    </tr>\n",
       "    <tr>\n",
       "      <td>4</td>\n",
       "      <td>0.06905</td>\n",
       "      <td>0.0</td>\n",
       "      <td>2.18</td>\n",
       "      <td>0.0</td>\n",
       "      <td>0.458</td>\n",
       "      <td>7.147</td>\n",
       "      <td>54.2</td>\n",
       "      <td>6.0622</td>\n",
       "      <td>3.0</td>\n",
       "      <td>222.0</td>\n",
       "      <td>18.7</td>\n",
       "      <td>396.90</td>\n",
       "      <td>5.33</td>\n",
       "      <td>36.2</td>\n",
       "    </tr>\n",
       "  </tbody>\n",
       "</table>\n",
       "</div>"
      ],
      "text/plain": [
       "      CRIM    ZN  INDUS  CHAS    NOX     RM   AGE     DIS  RAD    TAX  \\\n",
       "0  0.00632  18.0   2.31   0.0  0.538  6.575  65.2  4.0900  1.0  296.0   \n",
       "1  0.02731   0.0   7.07   0.0  0.469  6.421  78.9  4.9671  2.0  242.0   \n",
       "2  0.02729   0.0   7.07   0.0  0.469  7.185  61.1  4.9671  2.0  242.0   \n",
       "3  0.03237   0.0   2.18   0.0  0.458  6.998  45.8  6.0622  3.0  222.0   \n",
       "4  0.06905   0.0   2.18   0.0  0.458  7.147  54.2  6.0622  3.0  222.0   \n",
       "\n",
       "   PTRATIO       B  LSTAT  target  \n",
       "0     15.3  396.90   4.98    24.0  \n",
       "1     17.8  396.90   9.14    21.6  \n",
       "2     17.8  392.83   4.03    34.7  \n",
       "3     18.7  394.63   2.94    33.4  \n",
       "4     18.7  396.90   5.33    36.2  "
      ]
     },
     "execution_count": 11,
     "metadata": {},
     "output_type": "execute_result"
    }
   ],
   "source": [
    "df.head()"
   ]
  },
  {
   "cell_type": "markdown",
   "metadata": {},
   "source": [
    " We will begin by splitting our data into a training set `X_t` and a validation set `X_v`. The validation set will be used only after we have tuned our models to test the prediction power of our model."
   ]
  },
  {
   "cell_type": "code",
   "execution_count": 12,
   "metadata": {},
   "outputs": [],
   "source": [
    "from sklearn.model_selection import train_test_split"
   ]
  },
  {
   "cell_type": "code",
   "execution_count": 13,
   "metadata": {},
   "outputs": [],
   "source": [
    "X_t,X_v=train_test_split(df, test_size=0.25)"
   ]
  },
  {
   "cell_type": "code",
   "execution_count": 15,
   "metadata": {},
   "outputs": [
    {
     "data": {
      "text/html": [
       "<div>\n",
       "<style scoped>\n",
       "    .dataframe tbody tr th:only-of-type {\n",
       "        vertical-align: middle;\n",
       "    }\n",
       "\n",
       "    .dataframe tbody tr th {\n",
       "        vertical-align: top;\n",
       "    }\n",
       "\n",
       "    .dataframe thead th {\n",
       "        text-align: right;\n",
       "    }\n",
       "</style>\n",
       "<table border=\"1\" class=\"dataframe\">\n",
       "  <thead>\n",
       "    <tr style=\"text-align: right;\">\n",
       "      <th></th>\n",
       "      <th>CRIM</th>\n",
       "      <th>ZN</th>\n",
       "      <th>INDUS</th>\n",
       "      <th>CHAS</th>\n",
       "      <th>NOX</th>\n",
       "      <th>RM</th>\n",
       "      <th>AGE</th>\n",
       "      <th>DIS</th>\n",
       "      <th>RAD</th>\n",
       "      <th>TAX</th>\n",
       "      <th>PTRATIO</th>\n",
       "      <th>B</th>\n",
       "      <th>LSTAT</th>\n",
       "      <th>target</th>\n",
       "    </tr>\n",
       "  </thead>\n",
       "  <tbody>\n",
       "    <tr>\n",
       "      <td>220</td>\n",
       "      <td>0.35809</td>\n",
       "      <td>0.0</td>\n",
       "      <td>6.20</td>\n",
       "      <td>1.0</td>\n",
       "      <td>0.507</td>\n",
       "      <td>6.951</td>\n",
       "      <td>88.5</td>\n",
       "      <td>2.8617</td>\n",
       "      <td>8.0</td>\n",
       "      <td>307.0</td>\n",
       "      <td>17.4</td>\n",
       "      <td>391.70</td>\n",
       "      <td>9.71</td>\n",
       "      <td>26.7</td>\n",
       "    </tr>\n",
       "    <tr>\n",
       "      <td>459</td>\n",
       "      <td>6.80117</td>\n",
       "      <td>0.0</td>\n",
       "      <td>18.10</td>\n",
       "      <td>0.0</td>\n",
       "      <td>0.713</td>\n",
       "      <td>6.081</td>\n",
       "      <td>84.4</td>\n",
       "      <td>2.7175</td>\n",
       "      <td>24.0</td>\n",
       "      <td>666.0</td>\n",
       "      <td>20.2</td>\n",
       "      <td>396.90</td>\n",
       "      <td>14.70</td>\n",
       "      <td>20.0</td>\n",
       "    </tr>\n",
       "    <tr>\n",
       "      <td>235</td>\n",
       "      <td>0.33045</td>\n",
       "      <td>0.0</td>\n",
       "      <td>6.20</td>\n",
       "      <td>0.0</td>\n",
       "      <td>0.507</td>\n",
       "      <td>6.086</td>\n",
       "      <td>61.5</td>\n",
       "      <td>3.6519</td>\n",
       "      <td>8.0</td>\n",
       "      <td>307.0</td>\n",
       "      <td>17.4</td>\n",
       "      <td>376.75</td>\n",
       "      <td>10.88</td>\n",
       "      <td>24.0</td>\n",
       "    </tr>\n",
       "    <tr>\n",
       "      <td>98</td>\n",
       "      <td>0.08187</td>\n",
       "      <td>0.0</td>\n",
       "      <td>2.89</td>\n",
       "      <td>0.0</td>\n",
       "      <td>0.445</td>\n",
       "      <td>7.820</td>\n",
       "      <td>36.9</td>\n",
       "      <td>3.4952</td>\n",
       "      <td>2.0</td>\n",
       "      <td>276.0</td>\n",
       "      <td>18.0</td>\n",
       "      <td>393.53</td>\n",
       "      <td>3.57</td>\n",
       "      <td>43.8</td>\n",
       "    </tr>\n",
       "    <tr>\n",
       "      <td>300</td>\n",
       "      <td>0.04417</td>\n",
       "      <td>70.0</td>\n",
       "      <td>2.24</td>\n",
       "      <td>0.0</td>\n",
       "      <td>0.400</td>\n",
       "      <td>6.871</td>\n",
       "      <td>47.4</td>\n",
       "      <td>7.8278</td>\n",
       "      <td>5.0</td>\n",
       "      <td>358.0</td>\n",
       "      <td>14.8</td>\n",
       "      <td>390.86</td>\n",
       "      <td>6.07</td>\n",
       "      <td>24.8</td>\n",
       "    </tr>\n",
       "  </tbody>\n",
       "</table>\n",
       "</div>"
      ],
      "text/plain": [
       "        CRIM    ZN  INDUS  CHAS    NOX     RM   AGE     DIS   RAD    TAX  \\\n",
       "220  0.35809   0.0   6.20   1.0  0.507  6.951  88.5  2.8617   8.0  307.0   \n",
       "459  6.80117   0.0  18.10   0.0  0.713  6.081  84.4  2.7175  24.0  666.0   \n",
       "235  0.33045   0.0   6.20   0.0  0.507  6.086  61.5  3.6519   8.0  307.0   \n",
       "98   0.08187   0.0   2.89   0.0  0.445  7.820  36.9  3.4952   2.0  276.0   \n",
       "300  0.04417  70.0   2.24   0.0  0.400  6.871  47.4  7.8278   5.0  358.0   \n",
       "\n",
       "     PTRATIO       B  LSTAT  target  \n",
       "220     17.4  391.70   9.71    26.7  \n",
       "459     20.2  396.90  14.70    20.0  \n",
       "235     17.4  376.75  10.88    24.0  \n",
       "98      18.0  393.53   3.57    43.8  \n",
       "300     14.8  390.86   6.07    24.8  "
      ]
     },
     "execution_count": 15,
     "metadata": {},
     "output_type": "execute_result"
    }
   ],
   "source": [
    "X_t.head()"
   ]
  },
  {
   "cell_type": "code",
   "execution_count": 17,
   "metadata": {},
   "outputs": [
    {
     "data": {
      "text/plain": [
       "(379, 14)"
      ]
     },
     "execution_count": 17,
     "metadata": {},
     "output_type": "execute_result"
    }
   ],
   "source": [
    "X_t.shape"
   ]
  },
  {
   "cell_type": "code",
   "execution_count": 18,
   "metadata": {},
   "outputs": [
    {
     "data": {
      "text/plain": [
       "(127, 14)"
      ]
     },
     "execution_count": 18,
     "metadata": {},
     "output_type": "execute_result"
    }
   ],
   "source": [
    "X_v.shape"
   ]
  },
  {
   "cell_type": "markdown",
   "metadata": {},
   "source": [
    "Next, let's go ahead and import both Ridge Regression and Lasso models along with cross calidation "
   ]
  },
  {
   "cell_type": "code",
   "execution_count": 19,
   "metadata": {},
   "outputs": [],
   "source": [
    "from sklearn.model_selection import cross_validate, KFold\n",
    "from sklearn.linear_model import Ridge, Lasso, LinearRegression"
   ]
  },
  {
   "cell_type": "markdown",
   "metadata": {},
   "source": [
    "The data is not already scaled so we need to rescale it."
   ]
  },
  {
   "cell_type": "code",
   "execution_count": 22,
   "metadata": {},
   "outputs": [],
   "source": [
    "from sklearn.preprocessing import StandardScaler"
   ]
  },
  {
   "cell_type": "code",
   "execution_count": 23,
   "metadata": {},
   "outputs": [],
   "source": [
    "scaler=StandardScaler()\n"
   ]
  },
  {
   "cell_type": "code",
   "execution_count": 24,
   "metadata": {},
   "outputs": [],
   "source": [
    "X=X_t.drop('target',axis=1)\n",
    "y=X_t['target']"
   ]
  },
  {
   "cell_type": "code",
   "execution_count": 25,
   "metadata": {},
   "outputs": [
    {
     "data": {
      "text/html": [
       "<div>\n",
       "<style scoped>\n",
       "    .dataframe tbody tr th:only-of-type {\n",
       "        vertical-align: middle;\n",
       "    }\n",
       "\n",
       "    .dataframe tbody tr th {\n",
       "        vertical-align: top;\n",
       "    }\n",
       "\n",
       "    .dataframe thead th {\n",
       "        text-align: right;\n",
       "    }\n",
       "</style>\n",
       "<table border=\"1\" class=\"dataframe\">\n",
       "  <thead>\n",
       "    <tr style=\"text-align: right;\">\n",
       "      <th></th>\n",
       "      <th>CRIM</th>\n",
       "      <th>ZN</th>\n",
       "      <th>INDUS</th>\n",
       "      <th>CHAS</th>\n",
       "      <th>NOX</th>\n",
       "      <th>RM</th>\n",
       "      <th>AGE</th>\n",
       "      <th>DIS</th>\n",
       "      <th>RAD</th>\n",
       "      <th>TAX</th>\n",
       "      <th>PTRATIO</th>\n",
       "      <th>B</th>\n",
       "      <th>LSTAT</th>\n",
       "    </tr>\n",
       "  </thead>\n",
       "  <tbody>\n",
       "    <tr>\n",
       "      <td>220</td>\n",
       "      <td>0.35809</td>\n",
       "      <td>0.0</td>\n",
       "      <td>6.20</td>\n",
       "      <td>1.0</td>\n",
       "      <td>0.507</td>\n",
       "      <td>6.951</td>\n",
       "      <td>88.5</td>\n",
       "      <td>2.8617</td>\n",
       "      <td>8.0</td>\n",
       "      <td>307.0</td>\n",
       "      <td>17.4</td>\n",
       "      <td>391.70</td>\n",
       "      <td>9.71</td>\n",
       "    </tr>\n",
       "    <tr>\n",
       "      <td>459</td>\n",
       "      <td>6.80117</td>\n",
       "      <td>0.0</td>\n",
       "      <td>18.10</td>\n",
       "      <td>0.0</td>\n",
       "      <td>0.713</td>\n",
       "      <td>6.081</td>\n",
       "      <td>84.4</td>\n",
       "      <td>2.7175</td>\n",
       "      <td>24.0</td>\n",
       "      <td>666.0</td>\n",
       "      <td>20.2</td>\n",
       "      <td>396.90</td>\n",
       "      <td>14.70</td>\n",
       "    </tr>\n",
       "    <tr>\n",
       "      <td>235</td>\n",
       "      <td>0.33045</td>\n",
       "      <td>0.0</td>\n",
       "      <td>6.20</td>\n",
       "      <td>0.0</td>\n",
       "      <td>0.507</td>\n",
       "      <td>6.086</td>\n",
       "      <td>61.5</td>\n",
       "      <td>3.6519</td>\n",
       "      <td>8.0</td>\n",
       "      <td>307.0</td>\n",
       "      <td>17.4</td>\n",
       "      <td>376.75</td>\n",
       "      <td>10.88</td>\n",
       "    </tr>\n",
       "    <tr>\n",
       "      <td>98</td>\n",
       "      <td>0.08187</td>\n",
       "      <td>0.0</td>\n",
       "      <td>2.89</td>\n",
       "      <td>0.0</td>\n",
       "      <td>0.445</td>\n",
       "      <td>7.820</td>\n",
       "      <td>36.9</td>\n",
       "      <td>3.4952</td>\n",
       "      <td>2.0</td>\n",
       "      <td>276.0</td>\n",
       "      <td>18.0</td>\n",
       "      <td>393.53</td>\n",
       "      <td>3.57</td>\n",
       "    </tr>\n",
       "    <tr>\n",
       "      <td>300</td>\n",
       "      <td>0.04417</td>\n",
       "      <td>70.0</td>\n",
       "      <td>2.24</td>\n",
       "      <td>0.0</td>\n",
       "      <td>0.400</td>\n",
       "      <td>6.871</td>\n",
       "      <td>47.4</td>\n",
       "      <td>7.8278</td>\n",
       "      <td>5.0</td>\n",
       "      <td>358.0</td>\n",
       "      <td>14.8</td>\n",
       "      <td>390.86</td>\n",
       "      <td>6.07</td>\n",
       "    </tr>\n",
       "  </tbody>\n",
       "</table>\n",
       "</div>"
      ],
      "text/plain": [
       "        CRIM    ZN  INDUS  CHAS    NOX     RM   AGE     DIS   RAD    TAX  \\\n",
       "220  0.35809   0.0   6.20   1.0  0.507  6.951  88.5  2.8617   8.0  307.0   \n",
       "459  6.80117   0.0  18.10   0.0  0.713  6.081  84.4  2.7175  24.0  666.0   \n",
       "235  0.33045   0.0   6.20   0.0  0.507  6.086  61.5  3.6519   8.0  307.0   \n",
       "98   0.08187   0.0   2.89   0.0  0.445  7.820  36.9  3.4952   2.0  276.0   \n",
       "300  0.04417  70.0   2.24   0.0  0.400  6.871  47.4  7.8278   5.0  358.0   \n",
       "\n",
       "     PTRATIO       B  LSTAT  \n",
       "220     17.4  391.70   9.71  \n",
       "459     20.2  396.90  14.70  \n",
       "235     17.4  376.75  10.88  \n",
       "98      18.0  393.53   3.57  \n",
       "300     14.8  390.86   6.07  "
      ]
     },
     "execution_count": 25,
     "metadata": {},
     "output_type": "execute_result"
    }
   ],
   "source": [
    "X.head()"
   ]
  },
  {
   "cell_type": "code",
   "execution_count": 26,
   "metadata": {},
   "outputs": [
    {
     "data": {
      "text/plain": [
       "StandardScaler(copy=True, with_mean=True, with_std=True)"
      ]
     },
     "execution_count": 26,
     "metadata": {},
     "output_type": "execute_result"
    }
   ],
   "source": [
    "scaler.fit(X)"
   ]
  },
  {
   "cell_type": "code",
   "execution_count": 27,
   "metadata": {},
   "outputs": [],
   "source": [
    "mean=scaler.mean_\n",
    "std=scaler.scale_"
   ]
  },
  {
   "cell_type": "code",
   "execution_count": 29,
   "metadata": {},
   "outputs": [
    {
     "data": {
      "text/plain": [
       "array([3.48126253e+00, 1.12335092e+01, 1.11087071e+01, 7.38786280e-02,\n",
       "       5.53300000e-01, 6.30976253e+00, 6.86738786e+01, 3.75591821e+00,\n",
       "       9.60158311e+00, 4.05965699e+02, 1.85063325e+01, 3.58568971e+02,\n",
       "       1.25951187e+01])"
      ]
     },
     "execution_count": 29,
     "metadata": {},
     "output_type": "execute_result"
    }
   ],
   "source": [
    "mean"
   ]
  },
  {
   "cell_type": "code",
   "execution_count": 30,
   "metadata": {},
   "outputs": [
    {
     "data": {
      "text/plain": [
       "array([8.23153424e+00, 2.34222784e+01, 6.80291038e+00, 2.61573271e-01,\n",
       "       1.14312650e-01, 7.03988911e-01, 2.81706752e+01, 2.04084406e+00,\n",
       "       8.73244021e+00, 1.70073200e+02, 2.13397248e+00, 8.86544148e+01,\n",
       "       7.09204308e+00])"
      ]
     },
     "execution_count": 30,
     "metadata": {},
     "output_type": "execute_result"
    }
   ],
   "source": [
    "std"
   ]
  },
  {
   "cell_type": "code",
   "execution_count": 32,
   "metadata": {},
   "outputs": [],
   "source": [
    "scaled=scaler.transform(X)"
   ]
  },
  {
   "cell_type": "code",
   "execution_count": 33,
   "metadata": {},
   "outputs": [],
   "source": [
    "X_sc=pd.DataFrame(scaled,columns=X.columns,index=X.index)"
   ]
  },
  {
   "cell_type": "code",
   "execution_count": 34,
   "metadata": {},
   "outputs": [
    {
     "data": {
      "text/html": [
       "<div>\n",
       "<style scoped>\n",
       "    .dataframe tbody tr th:only-of-type {\n",
       "        vertical-align: middle;\n",
       "    }\n",
       "\n",
       "    .dataframe tbody tr th {\n",
       "        vertical-align: top;\n",
       "    }\n",
       "\n",
       "    .dataframe thead th {\n",
       "        text-align: right;\n",
       "    }\n",
       "</style>\n",
       "<table border=\"1\" class=\"dataframe\">\n",
       "  <thead>\n",
       "    <tr style=\"text-align: right;\">\n",
       "      <th></th>\n",
       "      <th>CRIM</th>\n",
       "      <th>ZN</th>\n",
       "      <th>INDUS</th>\n",
       "      <th>CHAS</th>\n",
       "      <th>NOX</th>\n",
       "      <th>RM</th>\n",
       "      <th>AGE</th>\n",
       "      <th>DIS</th>\n",
       "      <th>RAD</th>\n",
       "      <th>TAX</th>\n",
       "      <th>PTRATIO</th>\n",
       "      <th>B</th>\n",
       "      <th>LSTAT</th>\n",
       "    </tr>\n",
       "  </thead>\n",
       "  <tbody>\n",
       "    <tr>\n",
       "      <td>220</td>\n",
       "      <td>-0.379416</td>\n",
       "      <td>-0.479608</td>\n",
       "      <td>-0.721560</td>\n",
       "      <td>3.540581</td>\n",
       "      <td>-0.405030</td>\n",
       "      <td>0.910863</td>\n",
       "      <td>0.703786</td>\n",
       "      <td>-0.438161</td>\n",
       "      <td>-0.183406</td>\n",
       "      <td>-0.581901</td>\n",
       "      <td>-0.518438</td>\n",
       "      <td>0.373710</td>\n",
       "      <td>-0.406811</td>\n",
       "    </tr>\n",
       "    <tr>\n",
       "      <td>459</td>\n",
       "      <td>0.403316</td>\n",
       "      <td>-0.479608</td>\n",
       "      <td>1.027691</td>\n",
       "      <td>-0.282440</td>\n",
       "      <td>1.397046</td>\n",
       "      <td>-0.324952</td>\n",
       "      <td>0.558244</td>\n",
       "      <td>-0.508818</td>\n",
       "      <td>1.648842</td>\n",
       "      <td>1.528955</td>\n",
       "      <td>0.793669</td>\n",
       "      <td>0.432365</td>\n",
       "      <td>0.296795</td>\n",
       "    </tr>\n",
       "    <tr>\n",
       "      <td>235</td>\n",
       "      <td>-0.382773</td>\n",
       "      <td>-0.479608</td>\n",
       "      <td>-0.721560</td>\n",
       "      <td>-0.282440</td>\n",
       "      <td>-0.405030</td>\n",
       "      <td>-0.317850</td>\n",
       "      <td>-0.254658</td>\n",
       "      <td>-0.050968</td>\n",
       "      <td>-0.183406</td>\n",
       "      <td>-0.581901</td>\n",
       "      <td>-0.518438</td>\n",
       "      <td>0.205078</td>\n",
       "      <td>-0.241837</td>\n",
       "    </tr>\n",
       "    <tr>\n",
       "      <td>98</td>\n",
       "      <td>-0.412972</td>\n",
       "      <td>-0.479608</td>\n",
       "      <td>-1.208116</td>\n",
       "      <td>-0.282440</td>\n",
       "      <td>-0.947402</td>\n",
       "      <td>2.145257</td>\n",
       "      <td>-1.127906</td>\n",
       "      <td>-0.127750</td>\n",
       "      <td>-0.870499</td>\n",
       "      <td>-0.764175</td>\n",
       "      <td>-0.237272</td>\n",
       "      <td>0.394352</td>\n",
       "      <td>-1.272570</td>\n",
       "    </tr>\n",
       "    <tr>\n",
       "      <td>300</td>\n",
       "      <td>-0.417552</td>\n",
       "      <td>2.509000</td>\n",
       "      <td>-1.303664</td>\n",
       "      <td>-0.282440</td>\n",
       "      <td>-1.341059</td>\n",
       "      <td>0.797225</td>\n",
       "      <td>-0.755178</td>\n",
       "      <td>1.995195</td>\n",
       "      <td>-0.526953</td>\n",
       "      <td>-0.282030</td>\n",
       "      <td>-1.736823</td>\n",
       "      <td>0.364235</td>\n",
       "      <td>-0.920062</td>\n",
       "    </tr>\n",
       "  </tbody>\n",
       "</table>\n",
       "</div>"
      ],
      "text/plain": [
       "         CRIM        ZN     INDUS      CHAS       NOX        RM       AGE  \\\n",
       "220 -0.379416 -0.479608 -0.721560  3.540581 -0.405030  0.910863  0.703786   \n",
       "459  0.403316 -0.479608  1.027691 -0.282440  1.397046 -0.324952  0.558244   \n",
       "235 -0.382773 -0.479608 -0.721560 -0.282440 -0.405030 -0.317850 -0.254658   \n",
       "98  -0.412972 -0.479608 -1.208116 -0.282440 -0.947402  2.145257 -1.127906   \n",
       "300 -0.417552  2.509000 -1.303664 -0.282440 -1.341059  0.797225 -0.755178   \n",
       "\n",
       "          DIS       RAD       TAX   PTRATIO         B     LSTAT  \n",
       "220 -0.438161 -0.183406 -0.581901 -0.518438  0.373710 -0.406811  \n",
       "459 -0.508818  1.648842  1.528955  0.793669  0.432365  0.296795  \n",
       "235 -0.050968 -0.183406 -0.581901 -0.518438  0.205078 -0.241837  \n",
       "98  -0.127750 -0.870499 -0.764175 -0.237272  0.394352 -1.272570  \n",
       "300  1.995195 -0.526953 -0.282030 -1.736823  0.364235 -0.920062  "
      ]
     },
     "execution_count": 34,
     "metadata": {},
     "output_type": "execute_result"
    }
   ],
   "source": [
    "X_sc.head()"
   ]
  },
  {
   "cell_type": "code",
   "execution_count": null,
   "metadata": {},
   "outputs": [],
   "source": []
  },
  {
   "cell_type": "code",
   "execution_count": 61,
   "metadata": {},
   "outputs": [],
   "source": [
    "lasso=Lasso(alpha=0.5)\n",
    "ridge=Ridge(alpha=1.25)"
   ]
  },
  {
   "cell_type": "code",
   "execution_count": 62,
   "metadata": {},
   "outputs": [],
   "source": [
    "kf=KFold(n_splits=5,shuffle=True, random_state=101)"
   ]
  },
  {
   "cell_type": "code",
   "execution_count": 63,
   "metadata": {},
   "outputs": [],
   "source": [
    "cv_lasso=cross_validate(estimator=lasso,X=X_sc,y=y,cv=kf, return_estimator=True,\n",
    "                        scoring={'r2','neg_mean_squared_error'})\n",
    "cv_ridge=cross_validate(estimator=ridge,X=X_sc,y=y,cv=kf, return_estimator=True,\n",
    "                        scoring={'r2','neg_mean_squared_error'})"
   ]
  },
  {
   "cell_type": "code",
   "execution_count": 64,
   "metadata": {},
   "outputs": [
    {
     "data": {
      "text/plain": [
       "dict_keys(['fit_time', 'score_time', 'estimator', 'test_neg_mean_squared_error', 'test_r2'])"
      ]
     },
     "execution_count": 64,
     "metadata": {},
     "output_type": "execute_result"
    }
   ],
   "source": [
    "cv_lasso.keys()"
   ]
  },
  {
   "cell_type": "code",
   "execution_count": 65,
   "metadata": {},
   "outputs": [],
   "source": [
    "# import sklearn\n",
    "# sorted(sklearn.metrics.SCORERS.keys())"
   ]
  },
  {
   "cell_type": "code",
   "execution_count": 66,
   "metadata": {
    "scrolled": false
   },
   "outputs": [
    {
     "data": {
      "text/plain": [
       "array([37.305784  , 20.07258282, 32.58522173, 25.79244671, 20.46779082])"
      ]
     },
     "execution_count": 66,
     "metadata": {},
     "output_type": "execute_result"
    }
   ],
   "source": [
    "-cv_lasso['test_neg_mean_squared_error']"
   ]
  },
  {
   "cell_type": "code",
   "execution_count": 67,
   "metadata": {},
   "outputs": [
    {
     "data": {
      "text/plain": [
       "array([32.19291205, 18.62635623, 29.88005937, 21.15649897, 18.70336026])"
      ]
     },
     "execution_count": 67,
     "metadata": {},
     "output_type": "execute_result"
    }
   ],
   "source": [
    "-cv_ridge['test_neg_mean_squared_error']"
   ]
  },
  {
   "cell_type": "code",
   "execution_count": 68,
   "metadata": {},
   "outputs": [
    {
     "data": {
      "text/plain": [
       "0.6832173218000659"
      ]
     },
     "execution_count": 68,
     "metadata": {},
     "output_type": "execute_result"
    }
   ],
   "source": [
    "cv_lasso['test_r2'].mean()"
   ]
  },
  {
   "cell_type": "code",
   "execution_count": 69,
   "metadata": {},
   "outputs": [
    {
     "data": {
      "text/plain": [
       "0.7184587377953594"
      ]
     },
     "execution_count": 69,
     "metadata": {},
     "output_type": "execute_result"
    }
   ],
   "source": [
    "cv_ridge['test_r2'].mean()"
   ]
  },
  {
   "cell_type": "code",
   "execution_count": 70,
   "metadata": {},
   "outputs": [
    {
     "data": {
      "text/plain": [
       "array([-0.27059573, -0.        , -0.        ,  0.2273293 , -0.        ,\n",
       "        3.71689918, -0.        , -0.06234684, -0.        , -0.14692518,\n",
       "       -1.73535314,  0.44576416, -3.0366453 ])"
      ]
     },
     "execution_count": 70,
     "metadata": {},
     "output_type": "execute_result"
    }
   ],
   "source": [
    "cv_lasso['estimator'][0].coef_"
   ]
  },
  {
   "cell_type": "markdown",
   "metadata": {},
   "source": [
    "Let's get the coefficients for both models."
   ]
  },
  {
   "cell_type": "code",
   "execution_count": 71,
   "metadata": {},
   "outputs": [],
   "source": [
    "df_lasso=pd.DataFrame(cv_lasso['estimator'][0].coef_,index=X.columns,columns=['Lasso'])"
   ]
  },
  {
   "cell_type": "code",
   "execution_count": 72,
   "metadata": {},
   "outputs": [],
   "source": [
    "df_ridge=pd.DataFrame(cv_ridge['estimator'][0].coef_,index=X.columns,columns=['Ridge'])"
   ]
  },
  {
   "cell_type": "code",
   "execution_count": 73,
   "metadata": {},
   "outputs": [
    {
     "data": {
      "text/html": [
       "<div>\n",
       "<style scoped>\n",
       "    .dataframe tbody tr th:only-of-type {\n",
       "        vertical-align: middle;\n",
       "    }\n",
       "\n",
       "    .dataframe tbody tr th {\n",
       "        vertical-align: top;\n",
       "    }\n",
       "\n",
       "    .dataframe thead th {\n",
       "        text-align: right;\n",
       "    }\n",
       "</style>\n",
       "<table border=\"1\" class=\"dataframe\">\n",
       "  <thead>\n",
       "    <tr style=\"text-align: right;\">\n",
       "      <th></th>\n",
       "      <th>Lasso</th>\n",
       "    </tr>\n",
       "  </thead>\n",
       "  <tbody>\n",
       "    <tr>\n",
       "      <td>CRIM</td>\n",
       "      <td>-0.270596</td>\n",
       "    </tr>\n",
       "    <tr>\n",
       "      <td>ZN</td>\n",
       "      <td>-0.000000</td>\n",
       "    </tr>\n",
       "    <tr>\n",
       "      <td>INDUS</td>\n",
       "      <td>-0.000000</td>\n",
       "    </tr>\n",
       "    <tr>\n",
       "      <td>CHAS</td>\n",
       "      <td>0.227329</td>\n",
       "    </tr>\n",
       "    <tr>\n",
       "      <td>NOX</td>\n",
       "      <td>-0.000000</td>\n",
       "    </tr>\n",
       "    <tr>\n",
       "      <td>RM</td>\n",
       "      <td>3.716899</td>\n",
       "    </tr>\n",
       "    <tr>\n",
       "      <td>AGE</td>\n",
       "      <td>-0.000000</td>\n",
       "    </tr>\n",
       "    <tr>\n",
       "      <td>DIS</td>\n",
       "      <td>-0.062347</td>\n",
       "    </tr>\n",
       "    <tr>\n",
       "      <td>RAD</td>\n",
       "      <td>-0.000000</td>\n",
       "    </tr>\n",
       "    <tr>\n",
       "      <td>TAX</td>\n",
       "      <td>-0.146925</td>\n",
       "    </tr>\n",
       "    <tr>\n",
       "      <td>PTRATIO</td>\n",
       "      <td>-1.735353</td>\n",
       "    </tr>\n",
       "    <tr>\n",
       "      <td>B</td>\n",
       "      <td>0.445764</td>\n",
       "    </tr>\n",
       "    <tr>\n",
       "      <td>LSTAT</td>\n",
       "      <td>-3.036645</td>\n",
       "    </tr>\n",
       "  </tbody>\n",
       "</table>\n",
       "</div>"
      ],
      "text/plain": [
       "            Lasso\n",
       "CRIM    -0.270596\n",
       "ZN      -0.000000\n",
       "INDUS   -0.000000\n",
       "CHAS     0.227329\n",
       "NOX     -0.000000\n",
       "RM       3.716899\n",
       "AGE     -0.000000\n",
       "DIS     -0.062347\n",
       "RAD     -0.000000\n",
       "TAX     -0.146925\n",
       "PTRATIO -1.735353\n",
       "B        0.445764\n",
       "LSTAT   -3.036645"
      ]
     },
     "execution_count": 73,
     "metadata": {},
     "output_type": "execute_result"
    }
   ],
   "source": [
    "df_lasso"
   ]
  },
  {
   "cell_type": "code",
   "execution_count": 74,
   "metadata": {},
   "outputs": [
    {
     "data": {
      "text/html": [
       "<div>\n",
       "<style scoped>\n",
       "    .dataframe tbody tr th:only-of-type {\n",
       "        vertical-align: middle;\n",
       "    }\n",
       "\n",
       "    .dataframe tbody tr th {\n",
       "        vertical-align: top;\n",
       "    }\n",
       "\n",
       "    .dataframe thead th {\n",
       "        text-align: right;\n",
       "    }\n",
       "</style>\n",
       "<table border=\"1\" class=\"dataframe\">\n",
       "  <thead>\n",
       "    <tr style=\"text-align: right;\">\n",
       "      <th></th>\n",
       "      <th>Ridge</th>\n",
       "    </tr>\n",
       "  </thead>\n",
       "  <tbody>\n",
       "    <tr>\n",
       "      <td>CRIM</td>\n",
       "      <td>-0.856149</td>\n",
       "    </tr>\n",
       "    <tr>\n",
       "      <td>ZN</td>\n",
       "      <td>0.375163</td>\n",
       "    </tr>\n",
       "    <tr>\n",
       "      <td>INDUS</td>\n",
       "      <td>0.355475</td>\n",
       "    </tr>\n",
       "    <tr>\n",
       "      <td>CHAS</td>\n",
       "      <td>0.469978</td>\n",
       "    </tr>\n",
       "    <tr>\n",
       "      <td>NOX</td>\n",
       "      <td>-1.942378</td>\n",
       "    </tr>\n",
       "    <tr>\n",
       "      <td>RM</td>\n",
       "      <td>3.646265</td>\n",
       "    </tr>\n",
       "    <tr>\n",
       "      <td>AGE</td>\n",
       "      <td>-0.264119</td>\n",
       "    </tr>\n",
       "    <tr>\n",
       "      <td>DIS</td>\n",
       "      <td>-2.528945</td>\n",
       "    </tr>\n",
       "    <tr>\n",
       "      <td>RAD</td>\n",
       "      <td>2.112046</td>\n",
       "    </tr>\n",
       "    <tr>\n",
       "      <td>TAX</td>\n",
       "      <td>-1.838221</td>\n",
       "    </tr>\n",
       "    <tr>\n",
       "      <td>PTRATIO</td>\n",
       "      <td>-2.367477</td>\n",
       "    </tr>\n",
       "    <tr>\n",
       "      <td>B</td>\n",
       "      <td>0.808644</td>\n",
       "    </tr>\n",
       "    <tr>\n",
       "      <td>LSTAT</td>\n",
       "      <td>-2.952199</td>\n",
       "    </tr>\n",
       "  </tbody>\n",
       "</table>\n",
       "</div>"
      ],
      "text/plain": [
       "            Ridge\n",
       "CRIM    -0.856149\n",
       "ZN       0.375163\n",
       "INDUS    0.355475\n",
       "CHAS     0.469978\n",
       "NOX     -1.942378\n",
       "RM       3.646265\n",
       "AGE     -0.264119\n",
       "DIS     -2.528945\n",
       "RAD      2.112046\n",
       "TAX     -1.838221\n",
       "PTRATIO -2.367477\n",
       "B        0.808644\n",
       "LSTAT   -2.952199"
      ]
     },
     "execution_count": 74,
     "metadata": {},
     "output_type": "execute_result"
    }
   ],
   "source": [
    "df_ridge"
   ]
  },
  {
   "cell_type": "markdown",
   "metadata": {},
   "source": [
    "Next, let's join these frames into one, for presentation purposes."
   ]
  },
  {
   "cell_type": "code",
   "execution_count": 75,
   "metadata": {},
   "outputs": [
    {
     "data": {
      "text/html": [
       "<div>\n",
       "<style scoped>\n",
       "    .dataframe tbody tr th:only-of-type {\n",
       "        vertical-align: middle;\n",
       "    }\n",
       "\n",
       "    .dataframe tbody tr th {\n",
       "        vertical-align: top;\n",
       "    }\n",
       "\n",
       "    .dataframe thead th {\n",
       "        text-align: right;\n",
       "    }\n",
       "</style>\n",
       "<table border=\"1\" class=\"dataframe\">\n",
       "  <thead>\n",
       "    <tr style=\"text-align: right;\">\n",
       "      <th></th>\n",
       "      <th>Lasso</th>\n",
       "      <th>Ridge</th>\n",
       "    </tr>\n",
       "  </thead>\n",
       "  <tbody>\n",
       "    <tr>\n",
       "      <td>CRIM</td>\n",
       "      <td>-0.270596</td>\n",
       "      <td>-0.856149</td>\n",
       "    </tr>\n",
       "    <tr>\n",
       "      <td>ZN</td>\n",
       "      <td>-0.000000</td>\n",
       "      <td>0.375163</td>\n",
       "    </tr>\n",
       "    <tr>\n",
       "      <td>INDUS</td>\n",
       "      <td>-0.000000</td>\n",
       "      <td>0.355475</td>\n",
       "    </tr>\n",
       "    <tr>\n",
       "      <td>CHAS</td>\n",
       "      <td>0.227329</td>\n",
       "      <td>0.469978</td>\n",
       "    </tr>\n",
       "    <tr>\n",
       "      <td>NOX</td>\n",
       "      <td>-0.000000</td>\n",
       "      <td>-1.942378</td>\n",
       "    </tr>\n",
       "    <tr>\n",
       "      <td>RM</td>\n",
       "      <td>3.716899</td>\n",
       "      <td>3.646265</td>\n",
       "    </tr>\n",
       "    <tr>\n",
       "      <td>AGE</td>\n",
       "      <td>-0.000000</td>\n",
       "      <td>-0.264119</td>\n",
       "    </tr>\n",
       "    <tr>\n",
       "      <td>DIS</td>\n",
       "      <td>-0.062347</td>\n",
       "      <td>-2.528945</td>\n",
       "    </tr>\n",
       "    <tr>\n",
       "      <td>RAD</td>\n",
       "      <td>-0.000000</td>\n",
       "      <td>2.112046</td>\n",
       "    </tr>\n",
       "    <tr>\n",
       "      <td>TAX</td>\n",
       "      <td>-0.146925</td>\n",
       "      <td>-1.838221</td>\n",
       "    </tr>\n",
       "    <tr>\n",
       "      <td>PTRATIO</td>\n",
       "      <td>-1.735353</td>\n",
       "      <td>-2.367477</td>\n",
       "    </tr>\n",
       "    <tr>\n",
       "      <td>B</td>\n",
       "      <td>0.445764</td>\n",
       "      <td>0.808644</td>\n",
       "    </tr>\n",
       "    <tr>\n",
       "      <td>LSTAT</td>\n",
       "      <td>-3.036645</td>\n",
       "      <td>-2.952199</td>\n",
       "    </tr>\n",
       "  </tbody>\n",
       "</table>\n",
       "</div>"
      ],
      "text/plain": [
       "            Lasso     Ridge\n",
       "CRIM    -0.270596 -0.856149\n",
       "ZN      -0.000000  0.375163\n",
       "INDUS   -0.000000  0.355475\n",
       "CHAS     0.227329  0.469978\n",
       "NOX     -0.000000 -1.942378\n",
       "RM       3.716899  3.646265\n",
       "AGE     -0.000000 -0.264119\n",
       "DIS     -0.062347 -2.528945\n",
       "RAD     -0.000000  2.112046\n",
       "TAX     -0.146925 -1.838221\n",
       "PTRATIO -1.735353 -2.367477\n",
       "B        0.445764  0.808644\n",
       "LSTAT   -3.036645 -2.952199"
      ]
     },
     "execution_count": 75,
     "metadata": {},
     "output_type": "execute_result"
    }
   ],
   "source": [
    "df_lasso.join(df_ridge,on=df_lasso.index)"
   ]
  },
  {
   "cell_type": "markdown",
   "metadata": {},
   "source": [
    "As we can see, Lasso has set some of the coefficients exactly to zero. The inerpretation is that the model does not rely at all, for example, on `CRIM, ZN,INDUS, CHAS, NOX, AGE, DIS, RAD, TAX, B` to make predictions on the price of a house it has not previously seen. If we increase the value of $\\lambda$ more of the predictors will be set to zero in the lasso method. "
   ]
  },
  {
   "cell_type": "markdown",
   "metadata": {},
   "source": [
    "<font size=4 color='red'>Exercise</font>\n",
    "\n",
    "Tune the model. In other words, search for the best `alpha` that results in the lowest MSE and highest R2 score. Then plot both MSE and R2 as a function of `alpha`. Pick the best alpha for each model and test the power of your model using the validation set `X_v`."
   ]
  },
  {
   "cell_type": "code",
   "execution_count": 76,
   "metadata": {},
   "outputs": [
    {
     "data": {
      "text/html": [
       "<div>\n",
       "<style scoped>\n",
       "    .dataframe tbody tr th:only-of-type {\n",
       "        vertical-align: middle;\n",
       "    }\n",
       "\n",
       "    .dataframe tbody tr th {\n",
       "        vertical-align: top;\n",
       "    }\n",
       "\n",
       "    .dataframe thead th {\n",
       "        text-align: right;\n",
       "    }\n",
       "</style>\n",
       "<table border=\"1\" class=\"dataframe\">\n",
       "  <thead>\n",
       "    <tr style=\"text-align: right;\">\n",
       "      <th></th>\n",
       "      <th>CRIM</th>\n",
       "      <th>ZN</th>\n",
       "      <th>INDUS</th>\n",
       "      <th>CHAS</th>\n",
       "      <th>NOX</th>\n",
       "      <th>RM</th>\n",
       "      <th>AGE</th>\n",
       "      <th>DIS</th>\n",
       "      <th>RAD</th>\n",
       "      <th>TAX</th>\n",
       "      <th>PTRATIO</th>\n",
       "      <th>B</th>\n",
       "      <th>LSTAT</th>\n",
       "    </tr>\n",
       "  </thead>\n",
       "  <tbody>\n",
       "    <tr>\n",
       "      <td>220</td>\n",
       "      <td>-0.379416</td>\n",
       "      <td>-0.479608</td>\n",
       "      <td>-0.721560</td>\n",
       "      <td>3.540581</td>\n",
       "      <td>-0.405030</td>\n",
       "      <td>0.910863</td>\n",
       "      <td>0.703786</td>\n",
       "      <td>-0.438161</td>\n",
       "      <td>-0.183406</td>\n",
       "      <td>-0.581901</td>\n",
       "      <td>-0.518438</td>\n",
       "      <td>0.373710</td>\n",
       "      <td>-0.406811</td>\n",
       "    </tr>\n",
       "    <tr>\n",
       "      <td>459</td>\n",
       "      <td>0.403316</td>\n",
       "      <td>-0.479608</td>\n",
       "      <td>1.027691</td>\n",
       "      <td>-0.282440</td>\n",
       "      <td>1.397046</td>\n",
       "      <td>-0.324952</td>\n",
       "      <td>0.558244</td>\n",
       "      <td>-0.508818</td>\n",
       "      <td>1.648842</td>\n",
       "      <td>1.528955</td>\n",
       "      <td>0.793669</td>\n",
       "      <td>0.432365</td>\n",
       "      <td>0.296795</td>\n",
       "    </tr>\n",
       "    <tr>\n",
       "      <td>235</td>\n",
       "      <td>-0.382773</td>\n",
       "      <td>-0.479608</td>\n",
       "      <td>-0.721560</td>\n",
       "      <td>-0.282440</td>\n",
       "      <td>-0.405030</td>\n",
       "      <td>-0.317850</td>\n",
       "      <td>-0.254658</td>\n",
       "      <td>-0.050968</td>\n",
       "      <td>-0.183406</td>\n",
       "      <td>-0.581901</td>\n",
       "      <td>-0.518438</td>\n",
       "      <td>0.205078</td>\n",
       "      <td>-0.241837</td>\n",
       "    </tr>\n",
       "    <tr>\n",
       "      <td>98</td>\n",
       "      <td>-0.412972</td>\n",
       "      <td>-0.479608</td>\n",
       "      <td>-1.208116</td>\n",
       "      <td>-0.282440</td>\n",
       "      <td>-0.947402</td>\n",
       "      <td>2.145257</td>\n",
       "      <td>-1.127906</td>\n",
       "      <td>-0.127750</td>\n",
       "      <td>-0.870499</td>\n",
       "      <td>-0.764175</td>\n",
       "      <td>-0.237272</td>\n",
       "      <td>0.394352</td>\n",
       "      <td>-1.272570</td>\n",
       "    </tr>\n",
       "    <tr>\n",
       "      <td>300</td>\n",
       "      <td>-0.417552</td>\n",
       "      <td>2.509000</td>\n",
       "      <td>-1.303664</td>\n",
       "      <td>-0.282440</td>\n",
       "      <td>-1.341059</td>\n",
       "      <td>0.797225</td>\n",
       "      <td>-0.755178</td>\n",
       "      <td>1.995195</td>\n",
       "      <td>-0.526953</td>\n",
       "      <td>-0.282030</td>\n",
       "      <td>-1.736823</td>\n",
       "      <td>0.364235</td>\n",
       "      <td>-0.920062</td>\n",
       "    </tr>\n",
       "  </tbody>\n",
       "</table>\n",
       "</div>"
      ],
      "text/plain": [
       "         CRIM        ZN     INDUS      CHAS       NOX        RM       AGE  \\\n",
       "220 -0.379416 -0.479608 -0.721560  3.540581 -0.405030  0.910863  0.703786   \n",
       "459  0.403316 -0.479608  1.027691 -0.282440  1.397046 -0.324952  0.558244   \n",
       "235 -0.382773 -0.479608 -0.721560 -0.282440 -0.405030 -0.317850 -0.254658   \n",
       "98  -0.412972 -0.479608 -1.208116 -0.282440 -0.947402  2.145257 -1.127906   \n",
       "300 -0.417552  2.509000 -1.303664 -0.282440 -1.341059  0.797225 -0.755178   \n",
       "\n",
       "          DIS       RAD       TAX   PTRATIO         B     LSTAT  \n",
       "220 -0.438161 -0.183406 -0.581901 -0.518438  0.373710 -0.406811  \n",
       "459 -0.508818  1.648842  1.528955  0.793669  0.432365  0.296795  \n",
       "235 -0.050968 -0.183406 -0.581901 -0.518438  0.205078 -0.241837  \n",
       "98  -0.127750 -0.870499 -0.764175 -0.237272  0.394352 -1.272570  \n",
       "300  1.995195 -0.526953 -0.282030 -1.736823  0.364235 -0.920062  "
      ]
     },
     "execution_count": 76,
     "metadata": {},
     "output_type": "execute_result"
    }
   ],
   "source": [
    "X_sc.head()"
   ]
  },
  {
   "cell_type": "code",
   "execution_count": 80,
   "metadata": {},
   "outputs": [],
   "source": [
    "#Start Your Answer Here\n",
    "param_alpha=np.arange(0.0001,10,0.1)\n",
    "kf=KFold(n_splits=5,shuffle=True, random_state=101)"
   ]
  },
  {
   "cell_type": "code",
   "execution_count": 83,
   "metadata": {},
   "outputs": [],
   "source": [
    "mse_lasso,r2_lasso,mse_ridge,r2_ridge=[],[],[],[]\n",
    "\n",
    "for param in param_alpha:\n",
    "    lasso=Lasso(alpha=param)\n",
    "    ridge=Ridge(alpha=param)\n",
    "    \n",
    "    \n",
    "    cv_lasso=cross_validate(estimator=lasso,X=X_sc,y=y,cv=kf, return_estimator=True,\n",
    "                        scoring={'r2','neg_mean_squared_error'})\n",
    "    cv_ridge=cross_validate(estimator=ridge,X=X_sc,y=y,cv=kf, return_estimator=True,\n",
    "                        scoring={'r2','neg_mean_squared_error'})\n",
    "    \n",
    "    mse_lasso.append(-cv_lasso['test_neg_mean_squared_error'].mean())\n",
    "    mse_ridge.append(-cv_ridge['test_neg_mean_squared_error'].mean())\n",
    "    \n",
    "    r2_lasso.append(cv_lasso['test_r2'].mean())\n",
    "    r2_ridge.append(cv_ridge['test_r2'].mean())\n",
    "    \n",
    "    "
   ]
  },
  {
   "cell_type": "code",
   "execution_count": 85,
   "metadata": {
    "scrolled": false
   },
   "outputs": [
    {
     "data": {
      "text/plain": [
       "<matplotlib.legend.Legend at 0x21ea7fc4a48>"
      ]
     },
     "execution_count": 85,
     "metadata": {},
     "output_type": "execute_result"
    },
    {
     "data": {
      "image/png": "[encoded data removed]",
      "text/plain": [
       "<Figure size 576x432 with 1 Axes>"
      ]
     },
     "metadata": {},
     "output_type": "display_data"
    }
   ],
   "source": [
    "sns.set_style('whitegrid')\n",
    "\n",
    "param_alpha=np.arange(0.001,10,0.1)\n",
    "\n",
    "fig=plt.figure(figsize=(8,6))\n",
    "\n",
    "axes=fig.add_axes([0,0,1,1])\n",
    "\n",
    "axes.plot(param_alpha,mse_lasso, linestyle='-.',lw=3,label='Lasso')\n",
    "axes.plot(param_alpha,mse_ridge,ls='--',lw=3,label='Ridge')\n",
    "\n",
    "axes.set_xlabel(\"Alpha\",fontsize=14)\n",
    "axes.set_ylabel(\"Mean MSE from CV\",fontsize=14)\n",
    "\n",
    "plt.legend(fontsize=14)"
   ]
  },
  {
   "cell_type": "code",
   "execution_count": 86,
   "metadata": {},
   "outputs": [
    {
     "data": {
      "image/png": "[encoded data removed]",
      "text/plain": [
       "<Figure size 576x432 with 1 Axes>"
      ]
     },
     "metadata": {},
     "output_type": "display_data"
    }
   ],
   "source": [
    "sns.set_style('whitegrid')\n",
    "fig=plt.figure(figsize=(8,6))\n",
    "\n",
    "axes=fig.add_axes([0,0,1,1])\n",
    "\n",
    "axes.plot(param_alpha,r2_lasso, linestyle='-.',lw=1.5,label='Lasso')\n",
    "axes.plot(param_alpha,r2_ridge,ls='--',lw=1.5,label='Ridge')\n",
    "\n",
    "axes.set_xlabel(\"Alpha\",fontsize=14)\n",
    "axes.set_ylabel(\"Mean R2 Score from CV\",fontsize=14)\n",
    "\n",
    "plt.legend(fontsize=12)\n",
    "plt.show()"
   ]
  },
  {
   "cell_type": "markdown",
   "metadata": {},
   "source": [
    "<font size=5 color='red'>Exercise ctd</font>\n",
    "\n",
    "Pick the best $\\alpha$, the best model and compute the test R2 using the validation set `X_v`."
   ]
  },
  {
   "cell_type": "code",
   "execution_count": 88,
   "metadata": {},
   "outputs": [
    {
     "data": {
      "text/html": [
       "<div>\n",
       "<style scoped>\n",
       "    .dataframe tbody tr th:only-of-type {\n",
       "        vertical-align: middle;\n",
       "    }\n",
       "\n",
       "    .dataframe tbody tr th {\n",
       "        vertical-align: top;\n",
       "    }\n",
       "\n",
       "    .dataframe thead th {\n",
       "        text-align: right;\n",
       "    }\n",
       "</style>\n",
       "<table border=\"1\" class=\"dataframe\">\n",
       "  <thead>\n",
       "    <tr style=\"text-align: right;\">\n",
       "      <th></th>\n",
       "      <th>CRIM</th>\n",
       "      <th>ZN</th>\n",
       "      <th>INDUS</th>\n",
       "      <th>CHAS</th>\n",
       "      <th>NOX</th>\n",
       "      <th>RM</th>\n",
       "      <th>AGE</th>\n",
       "      <th>DIS</th>\n",
       "      <th>RAD</th>\n",
       "      <th>TAX</th>\n",
       "      <th>PTRATIO</th>\n",
       "      <th>B</th>\n",
       "      <th>LSTAT</th>\n",
       "      <th>target</th>\n",
       "    </tr>\n",
       "  </thead>\n",
       "  <tbody>\n",
       "    <tr>\n",
       "      <td>421</td>\n",
       "      <td>7.02259</td>\n",
       "      <td>0.0</td>\n",
       "      <td>18.10</td>\n",
       "      <td>0.0</td>\n",
       "      <td>0.718</td>\n",
       "      <td>6.006</td>\n",
       "      <td>95.3</td>\n",
       "      <td>1.8746</td>\n",
       "      <td>24.0</td>\n",
       "      <td>666.0</td>\n",
       "      <td>20.2</td>\n",
       "      <td>319.98</td>\n",
       "      <td>15.70</td>\n",
       "      <td>14.2</td>\n",
       "    </tr>\n",
       "    <tr>\n",
       "      <td>496</td>\n",
       "      <td>0.28960</td>\n",
       "      <td>0.0</td>\n",
       "      <td>9.69</td>\n",
       "      <td>0.0</td>\n",
       "      <td>0.585</td>\n",
       "      <td>5.390</td>\n",
       "      <td>72.9</td>\n",
       "      <td>2.7986</td>\n",
       "      <td>6.0</td>\n",
       "      <td>391.0</td>\n",
       "      <td>19.2</td>\n",
       "      <td>396.90</td>\n",
       "      <td>21.14</td>\n",
       "      <td>19.7</td>\n",
       "    </tr>\n",
       "    <tr>\n",
       "      <td>52</td>\n",
       "      <td>0.05360</td>\n",
       "      <td>21.0</td>\n",
       "      <td>5.64</td>\n",
       "      <td>0.0</td>\n",
       "      <td>0.439</td>\n",
       "      <td>6.511</td>\n",
       "      <td>21.1</td>\n",
       "      <td>6.8147</td>\n",
       "      <td>4.0</td>\n",
       "      <td>243.0</td>\n",
       "      <td>16.8</td>\n",
       "      <td>396.90</td>\n",
       "      <td>5.28</td>\n",
       "      <td>25.0</td>\n",
       "    </tr>\n",
       "    <tr>\n",
       "      <td>255</td>\n",
       "      <td>0.03548</td>\n",
       "      <td>80.0</td>\n",
       "      <td>3.64</td>\n",
       "      <td>0.0</td>\n",
       "      <td>0.392</td>\n",
       "      <td>5.876</td>\n",
       "      <td>19.1</td>\n",
       "      <td>9.2203</td>\n",
       "      <td>1.0</td>\n",
       "      <td>315.0</td>\n",
       "      <td>16.4</td>\n",
       "      <td>395.18</td>\n",
       "      <td>9.25</td>\n",
       "      <td>20.9</td>\n",
       "    </tr>\n",
       "    <tr>\n",
       "      <td>482</td>\n",
       "      <td>5.73116</td>\n",
       "      <td>0.0</td>\n",
       "      <td>18.10</td>\n",
       "      <td>0.0</td>\n",
       "      <td>0.532</td>\n",
       "      <td>7.061</td>\n",
       "      <td>77.0</td>\n",
       "      <td>3.4106</td>\n",
       "      <td>24.0</td>\n",
       "      <td>666.0</td>\n",
       "      <td>20.2</td>\n",
       "      <td>395.28</td>\n",
       "      <td>7.01</td>\n",
       "      <td>25.0</td>\n",
       "    </tr>\n",
       "  </tbody>\n",
       "</table>\n",
       "</div>"
      ],
      "text/plain": [
       "        CRIM    ZN  INDUS  CHAS    NOX     RM   AGE     DIS   RAD    TAX  \\\n",
       "421  7.02259   0.0  18.10   0.0  0.718  6.006  95.3  1.8746  24.0  666.0   \n",
       "496  0.28960   0.0   9.69   0.0  0.585  5.390  72.9  2.7986   6.0  391.0   \n",
       "52   0.05360  21.0   5.64   0.0  0.439  6.511  21.1  6.8147   4.0  243.0   \n",
       "255  0.03548  80.0   3.64   0.0  0.392  5.876  19.1  9.2203   1.0  315.0   \n",
       "482  5.73116   0.0  18.10   0.0  0.532  7.061  77.0  3.4106  24.0  666.0   \n",
       "\n",
       "     PTRATIO       B  LSTAT  target  \n",
       "421     20.2  319.98  15.70    14.2  \n",
       "496     19.2  396.90  21.14    19.7  \n",
       "52      16.8  396.90   5.28    25.0  \n",
       "255     16.4  395.18   9.25    20.9  \n",
       "482     20.2  395.28   7.01    25.0  "
      ]
     },
     "execution_count": 88,
     "metadata": {},
     "output_type": "execute_result"
    }
   ],
   "source": [
    "#Start Your Answer Here\n",
    "X_v.head()"
   ]
  },
  {
   "cell_type": "code",
   "execution_count": 91,
   "metadata": {},
   "outputs": [],
   "source": [
    "X_t=X_v.drop('target',axis=1)\n",
    "y_t=X_v['target']"
   ]
  },
  {
   "cell_type": "code",
   "execution_count": 97,
   "metadata": {},
   "outputs": [],
   "source": [
    "X_test=(X_t-mean)/std"
   ]
  },
  {
   "cell_type": "code",
   "execution_count": 98,
   "metadata": {},
   "outputs": [
    {
     "data": {
      "text/html": [
       "<div>\n",
       "<style scoped>\n",
       "    .dataframe tbody tr th:only-of-type {\n",
       "        vertical-align: middle;\n",
       "    }\n",
       "\n",
       "    .dataframe tbody tr th {\n",
       "        vertical-align: top;\n",
       "    }\n",
       "\n",
       "    .dataframe thead th {\n",
       "        text-align: right;\n",
       "    }\n",
       "</style>\n",
       "<table border=\"1\" class=\"dataframe\">\n",
       "  <thead>\n",
       "    <tr style=\"text-align: right;\">\n",
       "      <th></th>\n",
       "      <th>CRIM</th>\n",
       "      <th>ZN</th>\n",
       "      <th>INDUS</th>\n",
       "      <th>CHAS</th>\n",
       "      <th>NOX</th>\n",
       "      <th>RM</th>\n",
       "      <th>AGE</th>\n",
       "      <th>DIS</th>\n",
       "      <th>RAD</th>\n",
       "      <th>TAX</th>\n",
       "      <th>PTRATIO</th>\n",
       "      <th>B</th>\n",
       "      <th>LSTAT</th>\n",
       "    </tr>\n",
       "  </thead>\n",
       "  <tbody>\n",
       "    <tr>\n",
       "      <td>421</td>\n",
       "      <td>0.430215</td>\n",
       "      <td>-0.479608</td>\n",
       "      <td>1.027691</td>\n",
       "      <td>-0.28244</td>\n",
       "      <td>1.440785</td>\n",
       "      <td>-0.431488</td>\n",
       "      <td>0.945172</td>\n",
       "      <td>-0.921833</td>\n",
       "      <td>1.648842</td>\n",
       "      <td>1.528955</td>\n",
       "      <td>0.793669</td>\n",
       "      <td>-0.435274</td>\n",
       "      <td>0.437798</td>\n",
       "    </tr>\n",
       "    <tr>\n",
       "      <td>496</td>\n",
       "      <td>-0.387736</td>\n",
       "      <td>-0.479608</td>\n",
       "      <td>-0.208544</td>\n",
       "      <td>-0.28244</td>\n",
       "      <td>0.277310</td>\n",
       "      <td>-1.306501</td>\n",
       "      <td>0.150018</td>\n",
       "      <td>-0.469080</td>\n",
       "      <td>-0.412437</td>\n",
       "      <td>-0.087996</td>\n",
       "      <td>0.325059</td>\n",
       "      <td>0.432365</td>\n",
       "      <td>1.204855</td>\n",
       "    </tr>\n",
       "    <tr>\n",
       "      <td>52</td>\n",
       "      <td>-0.416406</td>\n",
       "      <td>0.416974</td>\n",
       "      <td>-0.803878</td>\n",
       "      <td>-0.28244</td>\n",
       "      <td>-0.999889</td>\n",
       "      <td>0.285853</td>\n",
       "      <td>-1.688773</td>\n",
       "      <td>1.498783</td>\n",
       "      <td>-0.641468</td>\n",
       "      <td>-0.958209</td>\n",
       "      <td>-0.799604</td>\n",
       "      <td>0.432365</td>\n",
       "      <td>-1.031454</td>\n",
       "    </tr>\n",
       "    <tr>\n",
       "      <td>255</td>\n",
       "      <td>-0.418608</td>\n",
       "      <td>2.935944</td>\n",
       "      <td>-1.097869</td>\n",
       "      <td>-0.28244</td>\n",
       "      <td>-1.411042</td>\n",
       "      <td>-0.616150</td>\n",
       "      <td>-1.759769</td>\n",
       "      <td>2.677511</td>\n",
       "      <td>-0.985015</td>\n",
       "      <td>-0.534862</td>\n",
       "      <td>-0.987048</td>\n",
       "      <td>0.412963</td>\n",
       "      <td>-0.471672</td>\n",
       "    </tr>\n",
       "    <tr>\n",
       "      <td>482</td>\n",
       "      <td>0.273327</td>\n",
       "      <td>-0.479608</td>\n",
       "      <td>1.027691</td>\n",
       "      <td>-0.28244</td>\n",
       "      <td>-0.186331</td>\n",
       "      <td>1.067115</td>\n",
       "      <td>0.295560</td>\n",
       "      <td>-0.169204</td>\n",
       "      <td>1.648842</td>\n",
       "      <td>1.528955</td>\n",
       "      <td>0.793669</td>\n",
       "      <td>0.414091</td>\n",
       "      <td>-0.787519</td>\n",
       "    </tr>\n",
       "  </tbody>\n",
       "</table>\n",
       "</div>"
      ],
      "text/plain": [
       "         CRIM        ZN     INDUS     CHAS       NOX        RM       AGE  \\\n",
       "421  0.430215 -0.479608  1.027691 -0.28244  1.440785 -0.431488  0.945172   \n",
       "496 -0.387736 -0.479608 -0.208544 -0.28244  0.277310 -1.306501  0.150018   \n",
       "52  -0.416406  0.416974 -0.803878 -0.28244 -0.999889  0.285853 -1.688773   \n",
       "255 -0.418608  2.935944 -1.097869 -0.28244 -1.411042 -0.616150 -1.759769   \n",
       "482  0.273327 -0.479608  1.027691 -0.28244 -0.186331  1.067115  0.295560   \n",
       "\n",
       "          DIS       RAD       TAX   PTRATIO         B     LSTAT  \n",
       "421 -0.921833  1.648842  1.528955  0.793669 -0.435274  0.437798  \n",
       "496 -0.469080 -0.412437 -0.087996  0.325059  0.432365  1.204855  \n",
       "52   1.498783 -0.641468 -0.958209 -0.799604  0.432365 -1.031454  \n",
       "255  2.677511 -0.985015 -0.534862 -0.987048  0.412963 -0.471672  \n",
       "482 -0.169204  1.648842  1.528955  0.793669  0.414091 -0.787519  "
      ]
     },
     "execution_count": 98,
     "metadata": {},
     "output_type": "execute_result"
    }
   ],
   "source": [
    "X_test.head()"
   ]
  },
  {
   "cell_type": "code",
   "execution_count": 124,
   "metadata": {},
   "outputs": [],
   "source": [
    "model=Ridge(alpha=8)"
   ]
  },
  {
   "cell_type": "code",
   "execution_count": 125,
   "metadata": {},
   "outputs": [
    {
     "data": {
      "text/plain": [
       "Ridge(alpha=8, copy_X=True, fit_intercept=True, max_iter=None, normalize=False,\n",
       "      random_state=None, solver='auto', tol=0.001)"
      ]
     },
     "execution_count": 125,
     "metadata": {},
     "output_type": "execute_result"
    }
   ],
   "source": [
    "model.fit(X_sc,y)"
   ]
  },
  {
   "cell_type": "code",
   "execution_count": 126,
   "metadata": {},
   "outputs": [],
   "source": [
    "pred=model.predict(X_test)"
   ]
  },
  {
   "cell_type": "code",
   "execution_count": 127,
   "metadata": {},
   "outputs": [],
   "source": [
    "#pred"
   ]
  },
  {
   "cell_type": "code",
   "execution_count": 128,
   "metadata": {},
   "outputs": [],
   "source": [
    "from sklearn.metrics import r2_score"
   ]
  },
  {
   "cell_type": "code",
   "execution_count": 129,
   "metadata": {},
   "outputs": [
    {
     "data": {
      "text/plain": [
       "0.6982691552561116"
      ]
     },
     "execution_count": 129,
     "metadata": {},
     "output_type": "execute_result"
    }
   ],
   "source": [
    "#Best R2 Score\n",
    "r2_score(y_t,pred)"
   ]
  },
  {
   "cell_type": "code",
   "execution_count": null,
   "metadata": {},
   "outputs": [],
   "source": []
  }
 ],
 "metadata": {
  "kernelspec": {
   "display_name": "Python 3",
   "language": "python",
   "name": "python3"
  },
  "language_info": {
   "codemirror_mode": {
    "name": "ipython",
    "version": 3
   },
   "file_extension": ".py",
   "mimetype": "text/x-python",
   "name": "python",
   "nbconvert_exporter": "python",
   "pygments_lexer": "ipython3",
   "version": "3.7.4"
  }
 },
 "nbformat": 4,
 "nbformat_minor": 2
}
