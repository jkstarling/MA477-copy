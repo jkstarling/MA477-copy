{
 "cells": [
  {
   "cell_type": "markdown",
   "metadata": {},
   "source": [
    "<h2> ======================================================</h2>\n",
    " <h1>MA477 - Theory and Applications of Data Science</h1> \n",
    "  <h1>Lesson 6: K Nearest Neighbor(KNN) Regressor </h1> \n",
    " \n",
    " <h4>Dr. Valmir Bucaj</h4>\n",
    " United States Military Academy, West Point \n",
    "AY20-2\n",
    "<h2>======================================================</h2>"
   ]
  },
  {
   "cell_type": "markdown",
   "metadata": {},
   "source": [
    "<h2>Lecture Outline</h2>\n",
    "\n",
    "<ul>\n",
    "    <li>What is KNN?</li>\n",
    "    <li>What is it used for?</li>\n",
    "    <li>How does it work?</li>\n",
    "    <li>Shortcomings of KNN</li>\n",
    "    \n",
    "</ul>"
   ]
  },
  {
   "cell_type": "markdown",
   "metadata": {},
   "source": [
    "<h3>What is KNN?</h3>\n",
    "\n",
    "K-nearest neighbours is one of the simplest supervised-learning machine learning techniques. \n",
    "\n",
    "<h3>What is KNN used for?</h3>\n",
    "\n",
    "KNN can be used for both <b> Classification</b> and <b>Regression</b> problems. Let me illustrate the main difference with the following simple example:\n",
    "\n",
    "<ul>\n",
    "    <li><b>Classification:</b> KNN can be used to predict whether a cadet will pass or fail the TEE for MA477</li>\n",
    "    <li><b>Regression:</b> KNN can be used to predict the score a cadet will get on the TEE for MA477 </li>\n",
    "</ul>"
   ]
  },
  {
   "cell_type": "markdown",
   "metadata": {},
   "source": [
    "<h3>How does KNN work?</h3>\n",
    "\n",
    "KNN is probably the simplest machine-learning technique both conceptually and from an implementation point of view. As we will shortly see, though KNN is considered a machine-learning technique, the algorithm doesn't really learn anything from the data, that is, it doesn't really extrapolate, it simply reports based on what it observes around.\n",
    "\n",
    "In what follows we will focus on KNN as a regression model, however, the algorithm works in esssentially the same way for classification problems as well, which we will revisit at a later time.\n",
    "\n",
    "We will illustrate KNN using the `diamonds` dataset from last lecture. Before we proceed, go ahead and import a few libraries:"
   ]
  },
  {
   "cell_type": "code",
   "execution_count": 1,
   "metadata": {},
   "outputs": [],
   "source": [
    "import pandas as pd\n",
    "import numpy as np\n",
    "import matplotlib.pyplot as plt\n",
    "import seaborn as sns"
   ]
  },
  {
   "cell_type": "code",
   "execution_count": 111,
   "metadata": {},
   "outputs": [],
   "source": [
    "diamonds=sns.load_dataset('diamonds')"
   ]
  },
  {
   "cell_type": "code",
   "execution_count": 112,
   "metadata": {},
   "outputs": [
    {
     "data": {
      "text/html": [
       "<div>\n",
       "<style scoped>\n",
       "    .dataframe tbody tr th:only-of-type {\n",
       "        vertical-align: middle;\n",
       "    }\n",
       "\n",
       "    .dataframe tbody tr th {\n",
       "        vertical-align: top;\n",
       "    }\n",
       "\n",
       "    .dataframe thead th {\n",
       "        text-align: right;\n",
       "    }\n",
       "</style>\n",
       "<table border=\"1\" class=\"dataframe\">\n",
       "  <thead>\n",
       "    <tr style=\"text-align: right;\">\n",
       "      <th></th>\n",
       "      <th>carat</th>\n",
       "      <th>cut</th>\n",
       "      <th>color</th>\n",
       "      <th>clarity</th>\n",
       "      <th>depth</th>\n",
       "      <th>table</th>\n",
       "      <th>price</th>\n",
       "      <th>x</th>\n",
       "      <th>y</th>\n",
       "      <th>z</th>\n",
       "    </tr>\n",
       "  </thead>\n",
       "  <tbody>\n",
       "    <tr>\n",
       "      <th>0</th>\n",
       "      <td>0.23</td>\n",
       "      <td>Ideal</td>\n",
       "      <td>E</td>\n",
       "      <td>SI2</td>\n",
       "      <td>61.5</td>\n",
       "      <td>55.0</td>\n",
       "      <td>326</td>\n",
       "      <td>3.95</td>\n",
       "      <td>3.98</td>\n",
       "      <td>2.43</td>\n",
       "    </tr>\n",
       "    <tr>\n",
       "      <th>1</th>\n",
       "      <td>0.21</td>\n",
       "      <td>Premium</td>\n",
       "      <td>E</td>\n",
       "      <td>SI1</td>\n",
       "      <td>59.8</td>\n",
       "      <td>61.0</td>\n",
       "      <td>326</td>\n",
       "      <td>3.89</td>\n",
       "      <td>3.84</td>\n",
       "      <td>2.31</td>\n",
       "    </tr>\n",
       "    <tr>\n",
       "      <th>2</th>\n",
       "      <td>0.23</td>\n",
       "      <td>Good</td>\n",
       "      <td>E</td>\n",
       "      <td>VS1</td>\n",
       "      <td>56.9</td>\n",
       "      <td>65.0</td>\n",
       "      <td>327</td>\n",
       "      <td>4.05</td>\n",
       "      <td>4.07</td>\n",
       "      <td>2.31</td>\n",
       "    </tr>\n",
       "    <tr>\n",
       "      <th>3</th>\n",
       "      <td>0.29</td>\n",
       "      <td>Premium</td>\n",
       "      <td>I</td>\n",
       "      <td>VS2</td>\n",
       "      <td>62.4</td>\n",
       "      <td>58.0</td>\n",
       "      <td>334</td>\n",
       "      <td>4.20</td>\n",
       "      <td>4.23</td>\n",
       "      <td>2.63</td>\n",
       "    </tr>\n",
       "    <tr>\n",
       "      <th>4</th>\n",
       "      <td>0.31</td>\n",
       "      <td>Good</td>\n",
       "      <td>J</td>\n",
       "      <td>SI2</td>\n",
       "      <td>63.3</td>\n",
       "      <td>58.0</td>\n",
       "      <td>335</td>\n",
       "      <td>4.34</td>\n",
       "      <td>4.35</td>\n",
       "      <td>2.75</td>\n",
       "    </tr>\n",
       "  </tbody>\n",
       "</table>\n",
       "</div>"
      ],
      "text/plain": [
       "   carat      cut color clarity  depth  table  price     x     y     z\n",
       "0   0.23    Ideal     E     SI2   61.5   55.0    326  3.95  3.98  2.43\n",
       "1   0.21  Premium     E     SI1   59.8   61.0    326  3.89  3.84  2.31\n",
       "2   0.23     Good     E     VS1   56.9   65.0    327  4.05  4.07  2.31\n",
       "3   0.29  Premium     I     VS2   62.4   58.0    334  4.20  4.23  2.63\n",
       "4   0.31     Good     J     SI2   63.3   58.0    335  4.34  4.35  2.75"
      ]
     },
     "execution_count": 112,
     "metadata": {},
     "output_type": "execute_result"
    }
   ],
   "source": [
    "diamonds.head()"
   ]
  },
  {
   "cell_type": "markdown",
   "metadata": {},
   "source": [
    "Go ahead and only select the following three columns is this order: `carat, depth` and `price`, and call the resulting dataframe again `diamonds`."
   ]
  },
  {
   "cell_type": "code",
   "execution_count": 113,
   "metadata": {},
   "outputs": [],
   "source": [
    "diamonds=diamonds[['carat','depth','price']]"
   ]
  },
  {
   "cell_type": "markdown",
   "metadata": {},
   "source": [
    "Check the head of the dataframe:"
   ]
  },
  {
   "cell_type": "code",
   "execution_count": 114,
   "metadata": {},
   "outputs": [
    {
     "data": {
      "text/html": [
       "<div>\n",
       "<style scoped>\n",
       "    .dataframe tbody tr th:only-of-type {\n",
       "        vertical-align: middle;\n",
       "    }\n",
       "\n",
       "    .dataframe tbody tr th {\n",
       "        vertical-align: top;\n",
       "    }\n",
       "\n",
       "    .dataframe thead th {\n",
       "        text-align: right;\n",
       "    }\n",
       "</style>\n",
       "<table border=\"1\" class=\"dataframe\">\n",
       "  <thead>\n",
       "    <tr style=\"text-align: right;\">\n",
       "      <th></th>\n",
       "      <th>carat</th>\n",
       "      <th>depth</th>\n",
       "      <th>price</th>\n",
       "    </tr>\n",
       "  </thead>\n",
       "  <tbody>\n",
       "    <tr>\n",
       "      <th>0</th>\n",
       "      <td>0.23</td>\n",
       "      <td>61.5</td>\n",
       "      <td>326</td>\n",
       "    </tr>\n",
       "    <tr>\n",
       "      <th>1</th>\n",
       "      <td>0.21</td>\n",
       "      <td>59.8</td>\n",
       "      <td>326</td>\n",
       "    </tr>\n",
       "    <tr>\n",
       "      <th>2</th>\n",
       "      <td>0.23</td>\n",
       "      <td>56.9</td>\n",
       "      <td>327</td>\n",
       "    </tr>\n",
       "    <tr>\n",
       "      <th>3</th>\n",
       "      <td>0.29</td>\n",
       "      <td>62.4</td>\n",
       "      <td>334</td>\n",
       "    </tr>\n",
       "    <tr>\n",
       "      <th>4</th>\n",
       "      <td>0.31</td>\n",
       "      <td>63.3</td>\n",
       "      <td>335</td>\n",
       "    </tr>\n",
       "  </tbody>\n",
       "</table>\n",
       "</div>"
      ],
      "text/plain": [
       "   carat  depth  price\n",
       "0   0.23   61.5    326\n",
       "1   0.21   59.8    326\n",
       "2   0.23   56.9    327\n",
       "3   0.29   62.4    334\n",
       "4   0.31   63.3    335"
      ]
     },
     "execution_count": 114,
     "metadata": {},
     "output_type": "execute_result"
    }
   ],
   "source": [
    "diamonds.head()"
   ]
  },
  {
   "cell_type": "markdown",
   "metadata": {},
   "source": [
    " Next, go ahead and randomly select 30 rows from the `diamonds` dataframe, and call the resulting dataframe `diamonds` again."
   ]
  },
  {
   "cell_type": "code",
   "execution_count": 115,
   "metadata": {},
   "outputs": [],
   "source": [
    "diamonds=diamonds.iloc[[np.random.randint(100,30000) for i in range(30)]]"
   ]
  },
  {
   "cell_type": "markdown",
   "metadata": {},
   "source": [
    "Check the head and the shape of the resulting dataframe"
   ]
  },
  {
   "cell_type": "code",
   "execution_count": 116,
   "metadata": {},
   "outputs": [
    {
     "data": {
      "text/html": [
       "<div>\n",
       "<style scoped>\n",
       "    .dataframe tbody tr th:only-of-type {\n",
       "        vertical-align: middle;\n",
       "    }\n",
       "\n",
       "    .dataframe tbody tr th {\n",
       "        vertical-align: top;\n",
       "    }\n",
       "\n",
       "    .dataframe thead th {\n",
       "        text-align: right;\n",
       "    }\n",
       "</style>\n",
       "<table border=\"1\" class=\"dataframe\">\n",
       "  <thead>\n",
       "    <tr style=\"text-align: right;\">\n",
       "      <th></th>\n",
       "      <th>carat</th>\n",
       "      <th>depth</th>\n",
       "      <th>price</th>\n",
       "    </tr>\n",
       "  </thead>\n",
       "  <tbody>\n",
       "    <tr>\n",
       "      <th>11943</th>\n",
       "      <td>1.10</td>\n",
       "      <td>63.6</td>\n",
       "      <td>5131</td>\n",
       "    </tr>\n",
       "    <tr>\n",
       "      <th>23456</th>\n",
       "      <td>1.53</td>\n",
       "      <td>60.9</td>\n",
       "      <td>11452</td>\n",
       "    </tr>\n",
       "    <tr>\n",
       "      <th>7055</th>\n",
       "      <td>0.33</td>\n",
       "      <td>62.7</td>\n",
       "      <td>579</td>\n",
       "    </tr>\n",
       "    <tr>\n",
       "      <th>1151</th>\n",
       "      <td>0.87</td>\n",
       "      <td>62.5</td>\n",
       "      <td>2923</td>\n",
       "    </tr>\n",
       "    <tr>\n",
       "      <th>11721</th>\n",
       "      <td>0.34</td>\n",
       "      <td>61.8</td>\n",
       "      <td>596</td>\n",
       "    </tr>\n",
       "  </tbody>\n",
       "</table>\n",
       "</div>"
      ],
      "text/plain": [
       "       carat  depth  price\n",
       "11943   1.10   63.6   5131\n",
       "23456   1.53   60.9  11452\n",
       "7055    0.33   62.7    579\n",
       "1151    0.87   62.5   2923\n",
       "11721   0.34   61.8    596"
      ]
     },
     "execution_count": 116,
     "metadata": {},
     "output_type": "execute_result"
    }
   ],
   "source": [
    "diamonds.head()"
   ]
  },
  {
   "cell_type": "code",
   "execution_count": 117,
   "metadata": {},
   "outputs": [
    {
     "data": {
      "text/plain": [
       "(30, 3)"
      ]
     },
     "execution_count": 117,
     "metadata": {},
     "output_type": "execute_result"
    }
   ],
   "source": [
    "diamonds.shape"
   ]
  },
  {
   "cell_type": "markdown",
   "metadata": {},
   "source": [
    "<h4>Goal:</h4> Our goal will be to predict the <b>price</b> of a diamond given that we know the <b>carat</b> and <b>depth</b>.\n",
    "\n",
    "In other words, if we are provided with a new diamond and the only things we know about it are the <b> carat</b> and the <b> depth</b> then how does KNN decide on the <b>price</b> of the diamond? \n",
    "\n",
    "For illustration, suppose that this new sample is given by the red upside-down triangle in the Figure below. So, to rephrase our question above, how does KNN decide what price to associate with the diamond, represented by the red upside-down triangle?"
   ]
  },
  {
   "cell_type": "code",
   "execution_count": 149,
   "metadata": {},
   "outputs": [
    {
     "data": {
      "image/png": "[encoded data removed]",
      "text/plain": [
       "<Figure size 1008x720 with 1 Axes>"
      ]
     },
     "metadata": {
      "needs_background": "light"
     },
     "output_type": "display_data"
    }
   ],
   "source": [
    "plt.figure(figsize=(14,10))\n",
    "sns.scatterplot(x=diamonds['carat'],y=diamonds['depth'],s=40)\n",
    "plt.scatter(1.05,61.61,color='red',marker='v',s=70)\n",
    "plt.text(1.08,61.62,'$??',fontdict={'size':16})\n",
    "\n",
    "for i in diamonds.index:\n",
    "    plt.text(diamonds.loc[i,'carat']*1.001,diamonds.loc[i,'depth']*1.001,\n",
    "             '${}'.format(diamonds.loc[i,'price']))\n",
    "plt.xlabel('carat',fontsize=14)\n",
    "plt.ylabel('depth',fontsize=14)\n",
    "plt.show()"
   ]
  },
  {
   "cell_type": "markdown",
   "metadata": {},
   "source": [
    "The simplest version of KNN Regressor may be done in the following steps:\n",
    "\n",
    "First, pick a number for $K$. This represents the number of the $K$ original data points closest to our new point in red. Then, you can simply average the price value of these $K$ closest points and use that as a prediction for our new data point.\n",
    "\n",
    "More formally, suppose $x_0$ represents our new data point in red. Let $\\mathcal{N}_0$ represent the set of the $K$ training observations that are closest to $x_0$. \n",
    "\n",
    "Then, the simplest version of KNN will estimate $f(x_0)$ by averaging all of the training respones in the set $\\mathcal{N}_0$; that is $$\\widehat{f}(x_0)=\\frac{1}{K}\\sum_{x_i\\in\\mathcal{N}_0}y_i$$ where $y_i$ represent the response (price in our case) for all of the data points (diamonds in our example) in the set $\\mathcal{N}_0$\n",
    "\n",
    "\n",
    "<font color='red' size='5'>Example</font>\n",
    "\n",
    "Let's illustrate this procedure with $K=3$."
   ]
  },
  {
   "cell_type": "code",
   "execution_count": 198,
   "metadata": {},
   "outputs": [
    {
     "data": {
      "image/png": "[encoded data removed]",
      "text/plain": [
       "<Figure size 1008x720 with 1 Axes>"
      ]
     },
     "metadata": {
      "needs_background": "light"
     },
     "output_type": "display_data"
    }
   ],
   "source": [
    "from matplotlib.patches import Circle\n",
    "plt.figure(figsize=(14,10))\n",
    "sns.scatterplot(x=diamonds['carat'],y=diamonds['depth'],s=40)\n",
    "plt.scatter(1.05,61.63,color='red',marker='v',s=70)\n",
    "plt.text(1.08,61.62,'$??',fontdict={'size':16})\n",
    "\n",
    "for i in diamonds.index:\n",
    "    plt.text(diamonds.loc[i,'carat']*1.001,diamonds.loc[i,'depth']*1.001,\n",
    "             '${}'.format(diamonds.loc[i,'price']))\n",
    "plt.xlabel('carat',fontsize=14)\n",
    "plt.ylabel('depth',fontsize=14)\n",
    "\n",
    "def make_circle(r,h,k):\n",
    "    t = np.arange(0, np.pi*2, 0.1)\n",
    "    t = t.reshape((len(t), 1))\n",
    "    x = 0.4*r * np.cos(t)+h\n",
    "    y = r * np.sin(t)+k\n",
    "    return x,y\n",
    "\n",
    "x,y=make_circle(0.5,1.05,61.63)\n",
    "\n",
    "plt.plot(x,y,color='r')\n",
    "\n",
    "plt.show()"
   ]
  },
  {
   "cell_type": "markdown",
   "metadata": {},
   "source": [
    "The $K=3$ clossest points are circled above. Then, to predict the price for the new diamond, previously unseen by the KNN algorithm, we simply average the prices of these three diamonds inside the circle:\n",
    "\n",
    "$$\\widehat{f}(x_0)=\\frac{$2781+$8014+$6780}{3}=$5858.3$$\n",
    "\n",
    "In other words, if we were deciding for what price to sell this diamond, then based on KNNs recommendations, we would sell it for $\\$5858.3$.\n",
    "\n",
    "KNN is this simple!\n",
    "\n",
    "A slightly more complex KNN algorithm may be if we estimate $f$ in a more complex way, for example in a way that takes into consideration the relative distance of each of the three closest points etc. You will be asked to explore this idea as part of your first Mini-project. "
   ]
  },
  {
   "cell_type": "markdown",
   "metadata": {},
   "source": [
    "<h3>How to pick $K$</h3>\n",
    "\n",
    "As you can imagine, the performance of the KNN algorithm may heavily depend upon the choice of $K$. To illustrate this point, if in the example above we had picked $K=1$, then $$\\widehat{f}(x_0)=\\$2781$$ which is quite different from what we got with $K=3$. \n",
    "\n",
    "Th optimal value for $K$ depends on the <b>bias-variance</b> trade off,that we talked about a few lessons ago. Specifically, a small values of $K$ results in a very flexible KNN model, so as a result it has high variance and low bias. On the other end, a high value of $K$ has less bias because it uses a larger number of training points to average over when predicting the outcome for a new input, however, it has higher bias, because in essence it is making the assumption that the outcome for a new point depends even on points that may physically be very far appart from it. \n",
    "\n",
    "There are a few ways to help us pick the right $K$, but all of them rotate around the idea that you want the $K$ that yeilds the smallest possible error rate. One such method is Cross-Validation, which we will introduce in a few lessons."
   ]
  },
  {
   "cell_type": "markdown",
   "metadata": {},
   "source": [
    "<h2>K-NN Regressor with Python</h2>\n",
    "\n",
    "Throughout this course we will use the very popular <b>Scikit-learn</b> Python library. Scikit-learn is a Machine Learning Python library that features a variety of classification, regression, and clustering algorithms.\n",
    "\n",
    "To demonstrate how to perform KNN with Python we will use the `diamonds` dataset where we will use all of the quanitative features to predict the price of the diamond. So, go ahead and call in the diamonds dataset again and remove all the qualitative features, and place the target variable, `price`, at the end of the dataframe."
   ]
  },
  {
   "cell_type": "code",
   "execution_count": 277,
   "metadata": {},
   "outputs": [],
   "source": [
    "diamonds=sns.load_dataset('diamonds')"
   ]
  },
  {
   "cell_type": "code",
   "execution_count": 278,
   "metadata": {},
   "outputs": [],
   "source": [
    "diamonds.drop(['cut','clarity','color'],axis=1,inplace=True)"
   ]
  },
  {
   "cell_type": "code",
   "execution_count": 279,
   "metadata": {},
   "outputs": [
    {
     "data": {
      "text/html": [
       "<div>\n",
       "<style scoped>\n",
       "    .dataframe tbody tr th:only-of-type {\n",
       "        vertical-align: middle;\n",
       "    }\n",
       "\n",
       "    .dataframe tbody tr th {\n",
       "        vertical-align: top;\n",
       "    }\n",
       "\n",
       "    .dataframe thead th {\n",
       "        text-align: right;\n",
       "    }\n",
       "</style>\n",
       "<table border=\"1\" class=\"dataframe\">\n",
       "  <thead>\n",
       "    <tr style=\"text-align: right;\">\n",
       "      <th></th>\n",
       "      <th>carat</th>\n",
       "      <th>depth</th>\n",
       "      <th>table</th>\n",
       "      <th>price</th>\n",
       "      <th>x</th>\n",
       "      <th>y</th>\n",
       "      <th>z</th>\n",
       "    </tr>\n",
       "  </thead>\n",
       "  <tbody>\n",
       "    <tr>\n",
       "      <th>0</th>\n",
       "      <td>0.23</td>\n",
       "      <td>61.5</td>\n",
       "      <td>55.0</td>\n",
       "      <td>326</td>\n",
       "      <td>3.95</td>\n",
       "      <td>3.98</td>\n",
       "      <td>2.43</td>\n",
       "    </tr>\n",
       "    <tr>\n",
       "      <th>1</th>\n",
       "      <td>0.21</td>\n",
       "      <td>59.8</td>\n",
       "      <td>61.0</td>\n",
       "      <td>326</td>\n",
       "      <td>3.89</td>\n",
       "      <td>3.84</td>\n",
       "      <td>2.31</td>\n",
       "    </tr>\n",
       "    <tr>\n",
       "      <th>2</th>\n",
       "      <td>0.23</td>\n",
       "      <td>56.9</td>\n",
       "      <td>65.0</td>\n",
       "      <td>327</td>\n",
       "      <td>4.05</td>\n",
       "      <td>4.07</td>\n",
       "      <td>2.31</td>\n",
       "    </tr>\n",
       "    <tr>\n",
       "      <th>3</th>\n",
       "      <td>0.29</td>\n",
       "      <td>62.4</td>\n",
       "      <td>58.0</td>\n",
       "      <td>334</td>\n",
       "      <td>4.20</td>\n",
       "      <td>4.23</td>\n",
       "      <td>2.63</td>\n",
       "    </tr>\n",
       "    <tr>\n",
       "      <th>4</th>\n",
       "      <td>0.31</td>\n",
       "      <td>63.3</td>\n",
       "      <td>58.0</td>\n",
       "      <td>335</td>\n",
       "      <td>4.34</td>\n",
       "      <td>4.35</td>\n",
       "      <td>2.75</td>\n",
       "    </tr>\n",
       "  </tbody>\n",
       "</table>\n",
       "</div>"
      ],
      "text/plain": [
       "   carat  depth  table  price     x     y     z\n",
       "0   0.23   61.5   55.0    326  3.95  3.98  2.43\n",
       "1   0.21   59.8   61.0    326  3.89  3.84  2.31\n",
       "2   0.23   56.9   65.0    327  4.05  4.07  2.31\n",
       "3   0.29   62.4   58.0    334  4.20  4.23  2.63\n",
       "4   0.31   63.3   58.0    335  4.34  4.35  2.75"
      ]
     },
     "execution_count": 279,
     "metadata": {},
     "output_type": "execute_result"
    }
   ],
   "source": [
    "diamonds.head()"
   ]
  },
  {
   "cell_type": "code",
   "execution_count": 280,
   "metadata": {},
   "outputs": [],
   "source": [
    "diamonds=diamonds.reindex(columns=['carat','depth','table','x','y','z','price'])"
   ]
  },
  {
   "cell_type": "code",
   "execution_count": 281,
   "metadata": {},
   "outputs": [
    {
     "data": {
      "text/html": [
       "<div>\n",
       "<style scoped>\n",
       "    .dataframe tbody tr th:only-of-type {\n",
       "        vertical-align: middle;\n",
       "    }\n",
       "\n",
       "    .dataframe tbody tr th {\n",
       "        vertical-align: top;\n",
       "    }\n",
       "\n",
       "    .dataframe thead th {\n",
       "        text-align: right;\n",
       "    }\n",
       "</style>\n",
       "<table border=\"1\" class=\"dataframe\">\n",
       "  <thead>\n",
       "    <tr style=\"text-align: right;\">\n",
       "      <th></th>\n",
       "      <th>carat</th>\n",
       "      <th>depth</th>\n",
       "      <th>table</th>\n",
       "      <th>x</th>\n",
       "      <th>y</th>\n",
       "      <th>z</th>\n",
       "      <th>price</th>\n",
       "    </tr>\n",
       "  </thead>\n",
       "  <tbody>\n",
       "    <tr>\n",
       "      <th>0</th>\n",
       "      <td>0.23</td>\n",
       "      <td>61.5</td>\n",
       "      <td>55.0</td>\n",
       "      <td>3.95</td>\n",
       "      <td>3.98</td>\n",
       "      <td>2.43</td>\n",
       "      <td>326</td>\n",
       "    </tr>\n",
       "    <tr>\n",
       "      <th>1</th>\n",
       "      <td>0.21</td>\n",
       "      <td>59.8</td>\n",
       "      <td>61.0</td>\n",
       "      <td>3.89</td>\n",
       "      <td>3.84</td>\n",
       "      <td>2.31</td>\n",
       "      <td>326</td>\n",
       "    </tr>\n",
       "    <tr>\n",
       "      <th>2</th>\n",
       "      <td>0.23</td>\n",
       "      <td>56.9</td>\n",
       "      <td>65.0</td>\n",
       "      <td>4.05</td>\n",
       "      <td>4.07</td>\n",
       "      <td>2.31</td>\n",
       "      <td>327</td>\n",
       "    </tr>\n",
       "    <tr>\n",
       "      <th>3</th>\n",
       "      <td>0.29</td>\n",
       "      <td>62.4</td>\n",
       "      <td>58.0</td>\n",
       "      <td>4.20</td>\n",
       "      <td>4.23</td>\n",
       "      <td>2.63</td>\n",
       "      <td>334</td>\n",
       "    </tr>\n",
       "    <tr>\n",
       "      <th>4</th>\n",
       "      <td>0.31</td>\n",
       "      <td>63.3</td>\n",
       "      <td>58.0</td>\n",
       "      <td>4.34</td>\n",
       "      <td>4.35</td>\n",
       "      <td>2.75</td>\n",
       "      <td>335</td>\n",
       "    </tr>\n",
       "  </tbody>\n",
       "</table>\n",
       "</div>"
      ],
      "text/plain": [
       "   carat  depth  table     x     y     z  price\n",
       "0   0.23   61.5   55.0  3.95  3.98  2.43    326\n",
       "1   0.21   59.8   61.0  3.89  3.84  2.31    326\n",
       "2   0.23   56.9   65.0  4.05  4.07  2.31    327\n",
       "3   0.29   62.4   58.0  4.20  4.23  2.63    334\n",
       "4   0.31   63.3   58.0  4.34  4.35  2.75    335"
      ]
     },
     "execution_count": 281,
     "metadata": {},
     "output_type": "execute_result"
    }
   ],
   "source": [
    "diamonds.head()"
   ]
  },
  {
   "cell_type": "markdown",
   "metadata": {},
   "source": [
    "Because, oftentimes, as is the case in this example, the features are measured in different scales, we typically want to first rescale our data before we apply a ML model. This is of great importance for ML models that rely on computing distances between the data points as part of learning or making predictions. Since, as we explained earlier, KNN relies exclusively on computing the distance between the points, in order to eliminate the false effect that a feature with very large values may have on the performance of the algorithm, we first rescale our data.\n",
    "\n",
    "There are many ways to rescale the data. What we will most of the time do, is normalize our data to have mean zero and standard deviation one. In doing so, we eliminate any effects that would have come from our features having different units or measured scales. \n",
    "\n",
    "So, we start by rescaling our data using the `StandardScaler()` method:"
   ]
  },
  {
   "cell_type": "code",
   "execution_count": 282,
   "metadata": {},
   "outputs": [],
   "source": [
    "from sklearn.preprocessing import StandardScaler"
   ]
  },
  {
   "cell_type": "markdown",
   "metadata": {},
   "source": [
    "Before we scale the data, let's split our data into the features and the target/response variable, `price`."
   ]
  },
  {
   "cell_type": "code",
   "execution_count": 283,
   "metadata": {},
   "outputs": [],
   "source": [
    "X=diamonds.drop('price',axis=1)\n",
    "y=diamonds['price']"
   ]
  },
  {
   "cell_type": "code",
   "execution_count": 284,
   "metadata": {},
   "outputs": [
    {
     "data": {
      "text/html": [
       "<div>\n",
       "<style scoped>\n",
       "    .dataframe tbody tr th:only-of-type {\n",
       "        vertical-align: middle;\n",
       "    }\n",
       "\n",
       "    .dataframe tbody tr th {\n",
       "        vertical-align: top;\n",
       "    }\n",
       "\n",
       "    .dataframe thead th {\n",
       "        text-align: right;\n",
       "    }\n",
       "</style>\n",
       "<table border=\"1\" class=\"dataframe\">\n",
       "  <thead>\n",
       "    <tr style=\"text-align: right;\">\n",
       "      <th></th>\n",
       "      <th>carat</th>\n",
       "      <th>depth</th>\n",
       "      <th>table</th>\n",
       "      <th>x</th>\n",
       "      <th>y</th>\n",
       "      <th>z</th>\n",
       "    </tr>\n",
       "  </thead>\n",
       "  <tbody>\n",
       "    <tr>\n",
       "      <th>0</th>\n",
       "      <td>0.23</td>\n",
       "      <td>61.5</td>\n",
       "      <td>55.0</td>\n",
       "      <td>3.95</td>\n",
       "      <td>3.98</td>\n",
       "      <td>2.43</td>\n",
       "    </tr>\n",
       "    <tr>\n",
       "      <th>1</th>\n",
       "      <td>0.21</td>\n",
       "      <td>59.8</td>\n",
       "      <td>61.0</td>\n",
       "      <td>3.89</td>\n",
       "      <td>3.84</td>\n",
       "      <td>2.31</td>\n",
       "    </tr>\n",
       "    <tr>\n",
       "      <th>2</th>\n",
       "      <td>0.23</td>\n",
       "      <td>56.9</td>\n",
       "      <td>65.0</td>\n",
       "      <td>4.05</td>\n",
       "      <td>4.07</td>\n",
       "      <td>2.31</td>\n",
       "    </tr>\n",
       "    <tr>\n",
       "      <th>3</th>\n",
       "      <td>0.29</td>\n",
       "      <td>62.4</td>\n",
       "      <td>58.0</td>\n",
       "      <td>4.20</td>\n",
       "      <td>4.23</td>\n",
       "      <td>2.63</td>\n",
       "    </tr>\n",
       "    <tr>\n",
       "      <th>4</th>\n",
       "      <td>0.31</td>\n",
       "      <td>63.3</td>\n",
       "      <td>58.0</td>\n",
       "      <td>4.34</td>\n",
       "      <td>4.35</td>\n",
       "      <td>2.75</td>\n",
       "    </tr>\n",
       "  </tbody>\n",
       "</table>\n",
       "</div>"
      ],
      "text/plain": [
       "   carat  depth  table     x     y     z\n",
       "0   0.23   61.5   55.0  3.95  3.98  2.43\n",
       "1   0.21   59.8   61.0  3.89  3.84  2.31\n",
       "2   0.23   56.9   65.0  4.05  4.07  2.31\n",
       "3   0.29   62.4   58.0  4.20  4.23  2.63\n",
       "4   0.31   63.3   58.0  4.34  4.35  2.75"
      ]
     },
     "execution_count": 284,
     "metadata": {},
     "output_type": "execute_result"
    }
   ],
   "source": [
    "X.head()"
   ]
  },
  {
   "cell_type": "code",
   "execution_count": 285,
   "metadata": {},
   "outputs": [],
   "source": [
    "scaler=StandardScaler()"
   ]
  },
  {
   "cell_type": "code",
   "execution_count": 286,
   "metadata": {},
   "outputs": [
    {
     "data": {
      "text/plain": [
       "StandardScaler(copy=True, with_mean=True, with_std=True)"
      ]
     },
     "execution_count": 286,
     "metadata": {},
     "output_type": "execute_result"
    }
   ],
   "source": [
    "scaler.fit(X)"
   ]
  },
  {
   "cell_type": "code",
   "execution_count": 287,
   "metadata": {},
   "outputs": [],
   "source": [
    "scaled=scaler.transform(X)"
   ]
  },
  {
   "cell_type": "markdown",
   "metadata": {},
   "source": [
    "If you check `scaled` you will see that the data has been scaled. So what did exactly `StandardScaler` do? For each of the features/columns in the dataframe it computed its mean and standard deviation, respectively. Then, for each column again, it subtracted the mean and divided by its corresponding standard deviation. To make the scaled data look nice, we will put that in a new dataframe"
   ]
  },
  {
   "cell_type": "code",
   "execution_count": 288,
   "metadata": {},
   "outputs": [],
   "source": [
    "X_sc=pd.DataFrame(scaled,columns=X.columns,index=X.index)"
   ]
  },
  {
   "cell_type": "code",
   "execution_count": 289,
   "metadata": {},
   "outputs": [
    {
     "data": {
      "text/html": [
       "<div>\n",
       "<style scoped>\n",
       "    .dataframe tbody tr th:only-of-type {\n",
       "        vertical-align: middle;\n",
       "    }\n",
       "\n",
       "    .dataframe tbody tr th {\n",
       "        vertical-align: top;\n",
       "    }\n",
       "\n",
       "    .dataframe thead th {\n",
       "        text-align: right;\n",
       "    }\n",
       "</style>\n",
       "<table border=\"1\" class=\"dataframe\">\n",
       "  <thead>\n",
       "    <tr style=\"text-align: right;\">\n",
       "      <th></th>\n",
       "      <th>carat</th>\n",
       "      <th>depth</th>\n",
       "      <th>table</th>\n",
       "      <th>x</th>\n",
       "      <th>y</th>\n",
       "      <th>z</th>\n",
       "    </tr>\n",
       "  </thead>\n",
       "  <tbody>\n",
       "    <tr>\n",
       "      <th>0</th>\n",
       "      <td>-1.198168</td>\n",
       "      <td>-0.174092</td>\n",
       "      <td>-1.099672</td>\n",
       "      <td>-1.587837</td>\n",
       "      <td>-1.536196</td>\n",
       "      <td>-1.571129</td>\n",
       "    </tr>\n",
       "    <tr>\n",
       "      <th>1</th>\n",
       "      <td>-1.240361</td>\n",
       "      <td>-1.360738</td>\n",
       "      <td>1.585529</td>\n",
       "      <td>-1.641325</td>\n",
       "      <td>-1.658774</td>\n",
       "      <td>-1.741175</td>\n",
       "    </tr>\n",
       "    <tr>\n",
       "      <th>2</th>\n",
       "      <td>-1.198168</td>\n",
       "      <td>-3.385019</td>\n",
       "      <td>3.375663</td>\n",
       "      <td>-1.498691</td>\n",
       "      <td>-1.457395</td>\n",
       "      <td>-1.741175</td>\n",
       "    </tr>\n",
       "    <tr>\n",
       "      <th>3</th>\n",
       "      <td>-1.071587</td>\n",
       "      <td>0.454133</td>\n",
       "      <td>0.242928</td>\n",
       "      <td>-1.364971</td>\n",
       "      <td>-1.317305</td>\n",
       "      <td>-1.287720</td>\n",
       "    </tr>\n",
       "    <tr>\n",
       "      <th>4</th>\n",
       "      <td>-1.029394</td>\n",
       "      <td>1.082358</td>\n",
       "      <td>0.242928</td>\n",
       "      <td>-1.240167</td>\n",
       "      <td>-1.212238</td>\n",
       "      <td>-1.117674</td>\n",
       "    </tr>\n",
       "  </tbody>\n",
       "</table>\n",
       "</div>"
      ],
      "text/plain": [
       "      carat     depth     table         x         y         z\n",
       "0 -1.198168 -0.174092 -1.099672 -1.587837 -1.536196 -1.571129\n",
       "1 -1.240361 -1.360738  1.585529 -1.641325 -1.658774 -1.741175\n",
       "2 -1.198168 -3.385019  3.375663 -1.498691 -1.457395 -1.741175\n",
       "3 -1.071587  0.454133  0.242928 -1.364971 -1.317305 -1.287720\n",
       "4 -1.029394  1.082358  0.242928 -1.240167 -1.212238 -1.117674"
      ]
     },
     "execution_count": 289,
     "metadata": {},
     "output_type": "execute_result"
    }
   ],
   "source": [
    "X_sc.head()"
   ]
  },
  {
   "cell_type": "markdown",
   "metadata": {},
   "source": [
    "<h3> Train-Test Split</h3>\n",
    "\n",
    "When building a ML model, you want to make sure that it is performing well. Specifically, you want your model to be able to make good predictions on the data that it has never seen before. In other words, as you are tuning all the different parameters that go into your model, you want to do that by trying to minimize some kind of test error rate. \n",
    "\n",
    "One way to do that is to start by splitting your data into two sets: a training and a test set. As the word implies, the training set will be the one we will use to tune the model and the test set will be the one that we will use to test the performance/power of our model.\n",
    "\n",
    "So, let's begin by splitting our data into a training and test set:"
   ]
  },
  {
   "cell_type": "code",
   "execution_count": 290,
   "metadata": {},
   "outputs": [],
   "source": [
    "from sklearn.model_selection import train_test_split"
   ]
  },
  {
   "cell_type": "code",
   "execution_count": 291,
   "metadata": {},
   "outputs": [],
   "source": [
    "X_train,X_test,y_train,y_test=train_test_split(X_sc,y,test_size=0.3, random_state=101)"
   ]
  },
  {
   "cell_type": "code",
   "execution_count": 292,
   "metadata": {},
   "outputs": [
    {
     "data": {
      "text/html": [
       "<div>\n",
       "<style scoped>\n",
       "    .dataframe tbody tr th:only-of-type {\n",
       "        vertical-align: middle;\n",
       "    }\n",
       "\n",
       "    .dataframe tbody tr th {\n",
       "        vertical-align: top;\n",
       "    }\n",
       "\n",
       "    .dataframe thead th {\n",
       "        text-align: right;\n",
       "    }\n",
       "</style>\n",
       "<table border=\"1\" class=\"dataframe\">\n",
       "  <thead>\n",
       "    <tr style=\"text-align: right;\">\n",
       "      <th></th>\n",
       "      <th>carat</th>\n",
       "      <th>depth</th>\n",
       "      <th>table</th>\n",
       "      <th>x</th>\n",
       "      <th>y</th>\n",
       "      <th>z</th>\n",
       "    </tr>\n",
       "  </thead>\n",
       "  <tbody>\n",
       "    <tr>\n",
       "      <th>3769</th>\n",
       "      <td>0.468475</td>\n",
       "      <td>-0.383500</td>\n",
       "      <td>-0.652139</td>\n",
       "      <td>0.658652</td>\n",
       "      <td>0.670220</td>\n",
       "      <td>0.611125</td>\n",
       "    </tr>\n",
       "    <tr>\n",
       "      <th>23056</th>\n",
       "      <td>1.481118</td>\n",
       "      <td>0.244725</td>\n",
       "      <td>0.690462</td>\n",
       "      <td>1.371823</td>\n",
       "      <td>1.379425</td>\n",
       "      <td>1.404672</td>\n",
       "    </tr>\n",
       "    <tr>\n",
       "      <th>33271</th>\n",
       "      <td>-1.008297</td>\n",
       "      <td>1.221964</td>\n",
       "      <td>-0.204605</td>\n",
       "      <td>-1.240167</td>\n",
       "      <td>-1.177215</td>\n",
       "      <td>-1.089333</td>\n",
       "    </tr>\n",
       "    <tr>\n",
       "      <th>20222</th>\n",
       "      <td>1.333441</td>\n",
       "      <td>-0.034486</td>\n",
       "      <td>0.690462</td>\n",
       "      <td>1.336164</td>\n",
       "      <td>1.361913</td>\n",
       "      <td>1.333820</td>\n",
       "    </tr>\n",
       "    <tr>\n",
       "      <th>10964</th>\n",
       "      <td>0.552862</td>\n",
       "      <td>-1.500344</td>\n",
       "      <td>0.242928</td>\n",
       "      <td>0.890432</td>\n",
       "      <td>0.819065</td>\n",
       "      <td>0.639466</td>\n",
       "    </tr>\n",
       "  </tbody>\n",
       "</table>\n",
       "</div>"
      ],
      "text/plain": [
       "          carat     depth     table         x         y         z\n",
       "3769   0.468475 -0.383500 -0.652139  0.658652  0.670220  0.611125\n",
       "23056  1.481118  0.244725  0.690462  1.371823  1.379425  1.404672\n",
       "33271 -1.008297  1.221964 -0.204605 -1.240167 -1.177215 -1.089333\n",
       "20222  1.333441 -0.034486  0.690462  1.336164  1.361913  1.333820\n",
       "10964  0.552862 -1.500344  0.242928  0.890432  0.819065  0.639466"
      ]
     },
     "execution_count": 292,
     "metadata": {},
     "output_type": "execute_result"
    }
   ],
   "source": [
    "X_train.head()"
   ]
  },
  {
   "cell_type": "markdown",
   "metadata": {},
   "source": [
    "Now we are ready to import the KNN Regressor and fit the model to our data."
   ]
  },
  {
   "cell_type": "code",
   "execution_count": 308,
   "metadata": {},
   "outputs": [],
   "source": [
    "from sklearn.neighbors import KNeighborsRegressor"
   ]
  },
  {
   "cell_type": "code",
   "execution_count": 321,
   "metadata": {},
   "outputs": [],
   "source": [
    "knn_reg=KNeighborsRegressor(n_neighbors=1)"
   ]
  },
  {
   "cell_type": "code",
   "execution_count": 322,
   "metadata": {},
   "outputs": [
    {
     "data": {
      "text/plain": [
       "KNeighborsRegressor(algorithm='auto', leaf_size=30, metric='minkowski',\n",
       "                    metric_params=None, n_jobs=None, n_neighbors=1, p=2,\n",
       "                    weights='uniform')"
      ]
     },
     "execution_count": 322,
     "metadata": {},
     "output_type": "execute_result"
    }
   ],
   "source": [
    "knn_reg.fit(X_train,y_train)"
   ]
  },
  {
   "cell_type": "markdown",
   "metadata": {},
   "source": [
    "Now the model is fit! Yes, it is that simple! The next stage is to test the performance of our model by predicting the price on the test set and then evaluating how it compares to the actual prices (since this is a supervised learning method, we know the target variable)"
   ]
  },
  {
   "cell_type": "code",
   "execution_count": 323,
   "metadata": {},
   "outputs": [],
   "source": [
    "knn_pred=knn_reg.predict(X_test)"
   ]
  },
  {
   "cell_type": "markdown",
   "metadata": {},
   "source": [
    "So, the `knn_pred` holds all the predicted prices given the data in the test set. Now our task is to decide how well is our algorithm performing. \n",
    "\n",
    "Since this is a regression problem, there are a few ways one can try to determine the quality of our model. First, let's start with some visual ways of just getting an idea of how well our algorithm is doing.\n",
    "\n",
    "Remember, ideally the predicted prices, stored in `knn_pred` would be identical to the actual prices, stored in `y_test`. This is not likely to happen, but what we can hope for is for these values to be close to one another. So, if we were to plot a scatter plot of `knn_pred` versus `y_test`, if our algorithm did well, they should be close to a line. Let's check it out:"
   ]
  },
  {
   "cell_type": "code",
   "execution_count": 324,
   "metadata": {},
   "outputs": [
    {
     "data": {
      "text/plain": [
       "Text(0, 0.5, 'y_test')"
      ]
     },
     "execution_count": 324,
     "metadata": {},
     "output_type": "execute_result"
    },
    {
     "data": {
      "image/png": "[encoded data removed]",
      "text/plain": [
       "<Figure size 576x432 with 1 Axes>"
      ]
     },
     "metadata": {},
     "output_type": "display_data"
    }
   ],
   "source": [
    "plt.figure(figsize=(8,6))\n",
    "plt.scatter(knn_pred,y_test)\n",
    "plt.xlabel('knn_pred')\n",
    "plt.ylabel('y_test')"
   ]
  },
  {
   "cell_type": "markdown",
   "metadata": {},
   "source": [
    "So, looking at this picture, it seems like maybe our model is not doing all that great!\n",
    "\n",
    "Before we move on to tuning our model and trying to increase its performance, let's first discuss a few quantitative metrics we can use to measure the quality of fit. Two such popular metrics are <b> R2 Score($R^2)$</b> and <b>MSE</b>.\n",
    "\n",
    "Let's just breifly recall what each is:\n",
    "\n",
    "$$R^2=\\frac{SS_{tot}-SS_{res}}{SS_{tot}}=1-\\frac{SS_{res}}{SS_{tot}}$$\n",
    "\n",
    "where $$SS_{tot}=\\sum (y_i-\\bar{y})^2$$\n",
    "\n",
    "$$SS_{res}=\\sum(y_i-\\widehat{f}(x_i))^2$$\n",
    "\n",
    "$SS_{tot}$ represents the total amount of variability in the dat.\n",
    "\n",
    "$SS_{res}$ represents the amount of the variability in the data that is unaccounted for after performing the regression.\n",
    "\n",
    "So, in words, $R^2$ represents the amount of the explained variance in the response variable that has been accounted for. There is no rule as to what exactly this number should be, but the closer to one the better. \n",
    "\n",
    "On the other hand $$MSE=\\frac{1}{n}\\sum(y_i-\\widehat{y_i})^2$$"
   ]
  },
  {
   "cell_type": "code",
   "execution_count": 298,
   "metadata": {},
   "outputs": [],
   "source": [
    "from sklearn.metrics import r2_score, mean_squared_error"
   ]
  },
  {
   "cell_type": "code",
   "execution_count": 299,
   "metadata": {},
   "outputs": [],
   "source": [
    "knn_r2=r2_score(y_test,knn_pred)\n",
    "mse=mean_squared_error(y_test,knn_pred)"
   ]
  },
  {
   "cell_type": "code",
   "execution_count": 300,
   "metadata": {},
   "outputs": [
    {
     "data": {
      "text/plain": [
       "0.7899285736427814"
      ]
     },
     "execution_count": 300,
     "metadata": {},
     "output_type": "execute_result"
    }
   ],
   "source": [
    "knn_r2"
   ]
  },
  {
   "cell_type": "code",
   "execution_count": 272,
   "metadata": {},
   "outputs": [
    {
     "data": {
      "text/plain": [
       "3419853.865714992"
      ]
     },
     "execution_count": 272,
     "metadata": {},
     "output_type": "execute_result"
    }
   ],
   "source": [
    "mse"
   ]
  },
  {
   "cell_type": "markdown",
   "metadata": {},
   "source": [
    "So, what this means is that about $78.9%$ of the variability in the price has been accounted for. This is not too bad, but can we do better? Interpreting the test MSE can be harder, but you want as small of a value as possible. "
   ]
  },
  {
   "cell_type": "markdown",
   "metadata": {},
   "source": [
    "<hr style=\"height:3px;border:none;color:#333;background-color:#333;\" />\n",
    "\n",
    "<font color='red' size='5'> Exercise</font>\n",
    "\n",
    "Tune the parameters to increase the prediction power of the model.\n",
    "\n",
    "<hr style=\"height:3px;border:none;color:#333;background-color:#333;\" />"
   ]
  },
  {
   "cell_type": "markdown",
   "metadata": {},
   "source": [
    "We can start by picking different values of $K$. But instead of doing it one by one, let's loop over a few values for $K$ and store the $R^2$ score for each value and then we can pick the $K$ that results in highest r2 score."
   ]
  },
  {
   "cell_type": "code",
   "execution_count": 306,
   "metadata": {},
   "outputs": [],
   "source": [
    "knn_r2scores=[]\n",
    "\n",
    "for i in range(1,100):\n",
    "    knn=KNeighborsRegressor(n_neighbors=i)\n",
    "    knn.fit(X_train,y_train)\n",
    "    pred=knn.predict(X_test)\n",
    "    r2=r2_score(y_test,pred)\n",
    "    knn_r2scores.append(r2)"
   ]
  },
  {
   "cell_type": "code",
   "execution_count": 307,
   "metadata": {},
   "outputs": [
    {
     "data": {
      "text/plain": [
       "Text(0, 0.5, 'R2 Score')"
      ]
     },
     "execution_count": 307,
     "metadata": {},
     "output_type": "execute_result"
    },
    {
     "data": {
      "image/png": "[encoded data removed]",
      "text/plain": [
       "<Figure size 576x432 with 1 Axes>"
      ]
     },
     "metadata": {},
     "output_type": "display_data"
    }
   ],
   "source": [
    "sns.set_style('darkgrid')\n",
    "plt.figure(figsize=(8,6))\n",
    "plt.plot(knn_r2scores,c='r')\n",
    "plt.xlabel(\"K value\",fontsize=14)\n",
    "plt.ylabel(\"R2 Score\",fontsize=14)"
   ]
  },
  {
   "cell_type": "markdown",
   "metadata": {},
   "source": [
    "As we can see from the grph above, there is no significant increase in the performance of the model for $K$ values larger than $20$. So, for practical purposes we would build a KNN Regressor with an optimal value of $K=20$. For this case we are getting an $R^2=.88$. In this case, I would consider this a relatively good model."
   ]
  },
  {
   "cell_type": "markdown",
   "metadata": {},
   "source": [
    "<font size='5' color='red'>Exercise</font>\n",
    "\n",
    "Manipulate other parameters such as `weights, metric ` etc. and see if you can beat the current performance. "
   ]
  },
  {
   "cell_type": "code",
   "execution_count": null,
   "metadata": {},
   "outputs": [],
   "source": []
  }
 ],
 "metadata": {
  "kernelspec": {
   "display_name": "Python 3",
   "language": "python",
   "name": "python3"
  },
  "language_info": {
   "codemirror_mode": {
    "name": "ipython",
    "version": 3
   },
   "file_extension": ".py",
   "mimetype": "text/x-python",
   "name": "python",
   "nbconvert_exporter": "python",
   "pygments_lexer": "ipython3",
   "version": "3.7.4"
  }
 },
 "nbformat": 4,
 "nbformat_minor": 2
}
