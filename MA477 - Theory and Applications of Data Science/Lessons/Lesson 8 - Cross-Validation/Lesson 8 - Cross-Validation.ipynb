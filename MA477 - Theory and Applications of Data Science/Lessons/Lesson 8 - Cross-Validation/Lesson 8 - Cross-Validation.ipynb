{
 "cells": [
  {
   "cell_type": "markdown",
   "metadata": {},
   "source": [
    "<h2> ======================================================</h2>\n",
    " <h1>MA477 - Theory and Applications of Data Science</h1> \n",
    "  <h1>Lesson 8: Cross-Validation </h1> \n",
    " \n",
    " <h4>Dr. Valmir Bucaj</h4>\n",
    " United States Military Academy, West Point \n",
    "AY20-2\n",
    "<h2>======================================================</h2>"
   ]
  },
  {
   "cell_type": "markdown",
   "metadata": {},
   "source": [
    "<h2>Lecture Outline</h2>\n",
    "\n",
    "<ul>\n",
    "    <li>What is Cross-Validation?</li>\n",
    "    <li> Validation Set Method</li>\n",
    "    <li>Leave-One-Out Cross-Validation (LOOCV)</li>\n",
    "    <li>$k-$Fold Cross-Validation</li>\n",
    "    <li>Bias-Variance Trade-Off for k-Fold CV</li>\n",
    "    <li>Implementing Cross-Validation with Python</li>\n",
    " \n",
    "    \n",
    "</ul>"
   ]
  },
  {
   "cell_type": "markdown",
   "metadata": {},
   "source": [
    "<h3> What is Cross-Validation?</h3>\n",
    "\n",
    "Cross-Validation (short CV) is a <i> resampling method </i> most commonly used for <i> model assesment</i>; that is, to evaluate a model's performance via estimating the test error associated with the respective machine-learning method.\n",
    "\n",
    "For example, in order to gain an idea of the variability of our model, what one may want to do is repeatedly draw different samples from the training data, fit the machine-learning model to each of the drawn samples, and compute some metric to examine the extent to which each of the fitted models differ. This kind of insight is impossible to be gained if we only fit once our model to the training data. \n",
    "\n",
    "<h3>Validation Set Method</h3>\n",
    "\n",
    "Recall that when assessing the performance of a machine-learning model we are interested in assessing how well our model performs in making predictions on the new data, previously unseen by the model. In other words, we want to estimate the <i> test error rate</i>. \n",
    "\n",
    "The <i> validation set approach</i> is most appropriate when we have a large dataset and we can afford to split it into a <i> training set</i>(used to train our model) and a <i> test set</i> or a <i> hold-out set</i> which has not been seen by the model before and will be used to compute the <i> test error rate</i>, such as $R^2$ score and $MSE$ in the regression setting.\n",
    "\n",
    "There are two points one has to keep in mind when using the <i> validation set approach</i>:\n",
    "<ul>\n",
    "    <li> The estimates of the test error rates obtained via using the validation set may have a high variance depending on what points are included in the training set</li>\n",
    "    <li> May result in an overestimate of the test error rates due to the fact that machine-learning algorithms tend to perform better with larger training sets</li>\n",
    "    </ul>\n",
    "    \n",
    "We have already implemented the validation set approache when we discussed KNN Regressor and Linear Regression.\n",
    "\n",
    "<h3> Leave-One-Out Cross-Validation</h3>\n",
    "\n",
    "LOOCV is very similar to the <i>validation set approach</i> in the sense that it also involves splitting the dataset in two parts. Despite the similarities, it attempts to overcome the two drawbacks that the validation set approach has, namely, the high variance due to the random split into training and test sets, and the potential to overestimate the test error. \n",
    "\n",
    "Suppose we have $n$ data points $(x_1,y_1),\\dots, (x_n,y_n)$. LOOCV splits the dataset into a single-element validation set and a training set which contains the rest of the data. Specifically, on the first iteration, only the data point $(x_1,y_1)$ will be designated as the validation set and the remaining $n-1$ point $(x_2,y_2),\\dots, (x_n,y_n)$ will be used to train the model. Once the model has been trained, and a prediciton $\\hat y_1$ is made using the excluded observation $x_1$ one computes $MSE_1=(y_1-\\hat{y_1})^2$ to obtain an estimate of the test $MSE$.\n",
    "\n",
    "For obvious reasons, this estimate is poor as it depents on a single point and thus suffers from high-variance. To get around this drawback, we repeat the process by iteratively designating each of $(x_i,y_i)$ as a validation point and using the remaining $n-1$ points $(x_1,y_1),\\dots,(x_{i-1},y_{i-1}),(x_{i+1},y_{i+1}),\\dots,(x_n,y_n)$ to train the model. After the model has been trained, a prediction $\\hat{y_i}$ is made using the point $x_i$ which has not been seen by the model previously and we compute $MSE_i=(y_i-\\hat{y_i})^2$ and average them over the $n$ points to obtain a more roboust estimate of the test $MSE$:\n",
    "\n",
    "$$CV_{(n)}=\\frac{1}{n}\\sum_{i=1}^nMSE_i$$\n",
    "\n",
    "Let's discuss how LOOCV gets around the two drawbacks that the validation set approach suffers from. First off, because there is no random split of the dataset $CV_{(n)}$ will always be the same regardless how many times the model is run. Second, because each time the model is fit, it essentially uses the entire original dataset, it has less tendency to overestimate the test error rate compared to the validation set approach.\n",
    "\n",
    "However, LOOCV does suffer frome drawbacks. Maybe the major one is the fact that it is computationally costly especially if $n$ is large and the machine-learning models we are fitting are complex and take a long time. Which leads us to the next validation method.\n",
    "\n",
    "<h3>k-Fold Cross-Validation</h3>\n",
    "\n",
    "$k-$fold CV is essentially a generalization of the LOOCV. In this case the dataset is randomly split into $k$ approximately equal size subsets. Then, iteratively, one of these subsets (folds) is designated as a validation set and the remaining $k-1$ subsets(folds) are used to fit the model. Once the model is fit, predictions are made using the designated validation set and the mean square error $MSE_i\\approx \\lfloor\\frac{k}{n}\\rfloor\\sum_{j=1}^{\\lfloor\\frac{n}{k}\\rfloor}(y_{ij}-\\hat{y_{ij}})^2$ is computed for $i=1,2,\\dots,k$. Finally, the $k-$fold CV estimate of the test $MSE$ is the average of these values:\n",
    "\n",
    "$$CV_{(k)}=\\frac{1}{k}\\sum_{i=1}^kMSE_i$$\n",
    "\n",
    "As we mentioned, when $k=1$ then $k-$fold CV is simply LOOCV.\n",
    "\n",
    "In contract to LOOCV the $k-$fold CV is computationaly less expensive because instead of fitting the model $n$ times, it only requires fitting it $k$ times, where $k$ is typically taken to be $3,5$ or $10$. "
   ]
  },
  {
   "cell_type": "markdown",
   "metadata": {},
   "source": [
    "<h2>Implementing Cross-Validation in Python</h2>\n",
    "\n",
    "Go ahead and import the standard libraries and the `Boston` dataset."
   ]
  },
  {
   "cell_type": "code",
   "execution_count": 499,
   "metadata": {},
   "outputs": [],
   "source": [
    "import pandas as pd\n",
    "import numpy as np\n"
   ]
  },
  {
   "cell_type": "code",
   "execution_count": 500,
   "metadata": {},
   "outputs": [],
   "source": [
    "import matplotlib.pyplot as plt\n",
    "import seaborn as sns"
   ]
  },
  {
   "cell_type": "code",
   "execution_count": 501,
   "metadata": {},
   "outputs": [],
   "source": [
    "df=pd.read_excel(\"Boston_Dataset.xlsx\", index_col=[0])"
   ]
  },
  {
   "cell_type": "code",
   "execution_count": 502,
   "metadata": {},
   "outputs": [
    {
     "data": {
      "text/html": [
       "<div>\n",
       "<style scoped>\n",
       "    .dataframe tbody tr th:only-of-type {\n",
       "        vertical-align: middle;\n",
       "    }\n",
       "\n",
       "    .dataframe tbody tr th {\n",
       "        vertical-align: top;\n",
       "    }\n",
       "\n",
       "    .dataframe thead th {\n",
       "        text-align: right;\n",
       "    }\n",
       "</style>\n",
       "<table border=\"1\" class=\"dataframe\">\n",
       "  <thead>\n",
       "    <tr style=\"text-align: right;\">\n",
       "      <th></th>\n",
       "      <th>CRIM</th>\n",
       "      <th>CHAS</th>\n",
       "      <th>RM</th>\n",
       "      <th>DIS</th>\n",
       "      <th>RAD</th>\n",
       "      <th>TAX</th>\n",
       "      <th>PTRATIO</th>\n",
       "      <th>LSTAT</th>\n",
       "      <th>Price</th>\n",
       "    </tr>\n",
       "    <tr>\n",
       "      <th>Unnamed: 0</th>\n",
       "      <th></th>\n",
       "      <th></th>\n",
       "      <th></th>\n",
       "      <th></th>\n",
       "      <th></th>\n",
       "      <th></th>\n",
       "      <th></th>\n",
       "      <th></th>\n",
       "      <th></th>\n",
       "    </tr>\n",
       "  </thead>\n",
       "  <tbody>\n",
       "    <tr>\n",
       "      <th>0</th>\n",
       "      <td>0.00632</td>\n",
       "      <td>No</td>\n",
       "      <td>6.575</td>\n",
       "      <td>4.0900</td>\n",
       "      <td>1</td>\n",
       "      <td>296</td>\n",
       "      <td>15.3</td>\n",
       "      <td>4.98</td>\n",
       "      <td>24.0</td>\n",
       "    </tr>\n",
       "    <tr>\n",
       "      <th>1</th>\n",
       "      <td>0.02731</td>\n",
       "      <td>No</td>\n",
       "      <td>6.421</td>\n",
       "      <td>4.9671</td>\n",
       "      <td>2</td>\n",
       "      <td>242</td>\n",
       "      <td>17.8</td>\n",
       "      <td>9.14</td>\n",
       "      <td>21.6</td>\n",
       "    </tr>\n",
       "    <tr>\n",
       "      <th>2</th>\n",
       "      <td>0.02729</td>\n",
       "      <td>No</td>\n",
       "      <td>7.185</td>\n",
       "      <td>4.9671</td>\n",
       "      <td>2</td>\n",
       "      <td>242</td>\n",
       "      <td>17.8</td>\n",
       "      <td>4.03</td>\n",
       "      <td>34.7</td>\n",
       "    </tr>\n",
       "    <tr>\n",
       "      <th>3</th>\n",
       "      <td>0.03237</td>\n",
       "      <td>No</td>\n",
       "      <td>6.998</td>\n",
       "      <td>6.0622</td>\n",
       "      <td>3</td>\n",
       "      <td>222</td>\n",
       "      <td>18.7</td>\n",
       "      <td>2.94</td>\n",
       "      <td>33.4</td>\n",
       "    </tr>\n",
       "    <tr>\n",
       "      <th>4</th>\n",
       "      <td>0.06905</td>\n",
       "      <td>No</td>\n",
       "      <td>7.147</td>\n",
       "      <td>6.0622</td>\n",
       "      <td>3</td>\n",
       "      <td>222</td>\n",
       "      <td>18.7</td>\n",
       "      <td>5.33</td>\n",
       "      <td>36.2</td>\n",
       "    </tr>\n",
       "  </tbody>\n",
       "</table>\n",
       "</div>"
      ],
      "text/plain": [
       "               CRIM CHAS     RM     DIS  RAD  TAX  PTRATIO  LSTAT  Price\n",
       "Unnamed: 0                                                              \n",
       "0           0.00632   No  6.575  4.0900    1  296     15.3   4.98   24.0\n",
       "1           0.02731   No  6.421  4.9671    2  242     17.8   9.14   21.6\n",
       "2           0.02729   No  7.185  4.9671    2  242     17.8   4.03   34.7\n",
       "3           0.03237   No  6.998  6.0622    3  222     18.7   2.94   33.4\n",
       "4           0.06905   No  7.147  6.0622    3  222     18.7   5.33   36.2"
      ]
     },
     "execution_count": 502,
     "metadata": {},
     "output_type": "execute_result"
    }
   ],
   "source": [
    "df.head()"
   ]
  },
  {
   "cell_type": "markdown",
   "metadata": {},
   "source": [
    "<h3> Data Pre-processing</h3>\n",
    "\n",
    "<font size=4 color='red'>Exercise</font>\n",
    "\n",
    "  Scale the data, but not the response variable, `PRICE`."
   ]
  },
  {
   "cell_type": "code",
   "execution_count": 503,
   "metadata": {},
   "outputs": [],
   "source": [
    "from sklearn.preprocessing import StandardScaler"
   ]
  },
  {
   "cell_type": "code",
   "execution_count": 504,
   "metadata": {},
   "outputs": [],
   "source": [
    "X=df.drop('Price',axis=1)\n",
    "y=df['Price']"
   ]
  },
  {
   "cell_type": "code",
   "execution_count": 505,
   "metadata": {},
   "outputs": [
    {
     "data": {
      "text/html": [
       "<div>\n",
       "<style scoped>\n",
       "    .dataframe tbody tr th:only-of-type {\n",
       "        vertical-align: middle;\n",
       "    }\n",
       "\n",
       "    .dataframe tbody tr th {\n",
       "        vertical-align: top;\n",
       "    }\n",
       "\n",
       "    .dataframe thead th {\n",
       "        text-align: right;\n",
       "    }\n",
       "</style>\n",
       "<table border=\"1\" class=\"dataframe\">\n",
       "  <thead>\n",
       "    <tr style=\"text-align: right;\">\n",
       "      <th></th>\n",
       "      <th>CRIM</th>\n",
       "      <th>CHAS</th>\n",
       "      <th>RM</th>\n",
       "      <th>DIS</th>\n",
       "      <th>RAD</th>\n",
       "      <th>TAX</th>\n",
       "      <th>PTRATIO</th>\n",
       "      <th>LSTAT</th>\n",
       "    </tr>\n",
       "    <tr>\n",
       "      <th>Unnamed: 0</th>\n",
       "      <th></th>\n",
       "      <th></th>\n",
       "      <th></th>\n",
       "      <th></th>\n",
       "      <th></th>\n",
       "      <th></th>\n",
       "      <th></th>\n",
       "      <th></th>\n",
       "    </tr>\n",
       "  </thead>\n",
       "  <tbody>\n",
       "    <tr>\n",
       "      <th>0</th>\n",
       "      <td>0.00632</td>\n",
       "      <td>No</td>\n",
       "      <td>6.575</td>\n",
       "      <td>4.0900</td>\n",
       "      <td>1</td>\n",
       "      <td>296</td>\n",
       "      <td>15.3</td>\n",
       "      <td>4.98</td>\n",
       "    </tr>\n",
       "    <tr>\n",
       "      <th>1</th>\n",
       "      <td>0.02731</td>\n",
       "      <td>No</td>\n",
       "      <td>6.421</td>\n",
       "      <td>4.9671</td>\n",
       "      <td>2</td>\n",
       "      <td>242</td>\n",
       "      <td>17.8</td>\n",
       "      <td>9.14</td>\n",
       "    </tr>\n",
       "    <tr>\n",
       "      <th>2</th>\n",
       "      <td>0.02729</td>\n",
       "      <td>No</td>\n",
       "      <td>7.185</td>\n",
       "      <td>4.9671</td>\n",
       "      <td>2</td>\n",
       "      <td>242</td>\n",
       "      <td>17.8</td>\n",
       "      <td>4.03</td>\n",
       "    </tr>\n",
       "    <tr>\n",
       "      <th>3</th>\n",
       "      <td>0.03237</td>\n",
       "      <td>No</td>\n",
       "      <td>6.998</td>\n",
       "      <td>6.0622</td>\n",
       "      <td>3</td>\n",
       "      <td>222</td>\n",
       "      <td>18.7</td>\n",
       "      <td>2.94</td>\n",
       "    </tr>\n",
       "    <tr>\n",
       "      <th>4</th>\n",
       "      <td>0.06905</td>\n",
       "      <td>No</td>\n",
       "      <td>7.147</td>\n",
       "      <td>6.0622</td>\n",
       "      <td>3</td>\n",
       "      <td>222</td>\n",
       "      <td>18.7</td>\n",
       "      <td>5.33</td>\n",
       "    </tr>\n",
       "  </tbody>\n",
       "</table>\n",
       "</div>"
      ],
      "text/plain": [
       "               CRIM CHAS     RM     DIS  RAD  TAX  PTRATIO  LSTAT\n",
       "Unnamed: 0                                                       \n",
       "0           0.00632   No  6.575  4.0900    1  296     15.3   4.98\n",
       "1           0.02731   No  6.421  4.9671    2  242     17.8   9.14\n",
       "2           0.02729   No  7.185  4.9671    2  242     17.8   4.03\n",
       "3           0.03237   No  6.998  6.0622    3  222     18.7   2.94\n",
       "4           0.06905   No  7.147  6.0622    3  222     18.7   5.33"
      ]
     },
     "execution_count": 505,
     "metadata": {},
     "output_type": "execute_result"
    }
   ],
   "source": [
    "X.head()"
   ]
  },
  {
   "cell_type": "code",
   "execution_count": 506,
   "metadata": {},
   "outputs": [],
   "source": [
    "X['CHAS']=X['CHAS'].apply(lambda x: 1 if x=='Yes' else 0)"
   ]
  },
  {
   "cell_type": "code",
   "execution_count": 507,
   "metadata": {},
   "outputs": [],
   "source": [
    "scaler=StandardScaler()"
   ]
  },
  {
   "cell_type": "code",
   "execution_count": 508,
   "metadata": {},
   "outputs": [],
   "source": [
    "scaled=scaler.fit_transform(X)"
   ]
  },
  {
   "cell_type": "code",
   "execution_count": 509,
   "metadata": {},
   "outputs": [],
   "source": [
    "X_sc=pd.DataFrame(scaled,columns=X.columns)"
   ]
  },
  {
   "cell_type": "code",
   "execution_count": 510,
   "metadata": {},
   "outputs": [
    {
     "data": {
      "text/html": [
       "<div>\n",
       "<style scoped>\n",
       "    .dataframe tbody tr th:only-of-type {\n",
       "        vertical-align: middle;\n",
       "    }\n",
       "\n",
       "    .dataframe tbody tr th {\n",
       "        vertical-align: top;\n",
       "    }\n",
       "\n",
       "    .dataframe thead th {\n",
       "        text-align: right;\n",
       "    }\n",
       "</style>\n",
       "<table border=\"1\" class=\"dataframe\">\n",
       "  <thead>\n",
       "    <tr style=\"text-align: right;\">\n",
       "      <th></th>\n",
       "      <th>CRIM</th>\n",
       "      <th>CHAS</th>\n",
       "      <th>RM</th>\n",
       "      <th>DIS</th>\n",
       "      <th>RAD</th>\n",
       "      <th>TAX</th>\n",
       "      <th>PTRATIO</th>\n",
       "      <th>LSTAT</th>\n",
       "    </tr>\n",
       "  </thead>\n",
       "  <tbody>\n",
       "    <tr>\n",
       "      <th>0</th>\n",
       "      <td>-0.419782</td>\n",
       "      <td>-0.272599</td>\n",
       "      <td>0.413672</td>\n",
       "      <td>0.140214</td>\n",
       "      <td>-0.982843</td>\n",
       "      <td>-0.666608</td>\n",
       "      <td>-1.459000</td>\n",
       "      <td>-1.075562</td>\n",
       "    </tr>\n",
       "    <tr>\n",
       "      <th>1</th>\n",
       "      <td>-0.417339</td>\n",
       "      <td>-0.272599</td>\n",
       "      <td>0.194274</td>\n",
       "      <td>0.557160</td>\n",
       "      <td>-0.867883</td>\n",
       "      <td>-0.987329</td>\n",
       "      <td>-0.303094</td>\n",
       "      <td>-0.492439</td>\n",
       "    </tr>\n",
       "    <tr>\n",
       "      <th>2</th>\n",
       "      <td>-0.417342</td>\n",
       "      <td>-0.272599</td>\n",
       "      <td>1.282714</td>\n",
       "      <td>0.557160</td>\n",
       "      <td>-0.867883</td>\n",
       "      <td>-0.987329</td>\n",
       "      <td>-0.303094</td>\n",
       "      <td>-1.208727</td>\n",
       "    </tr>\n",
       "    <tr>\n",
       "      <th>3</th>\n",
       "      <td>-0.416750</td>\n",
       "      <td>-0.272599</td>\n",
       "      <td>1.016303</td>\n",
       "      <td>1.077737</td>\n",
       "      <td>-0.752922</td>\n",
       "      <td>-1.106115</td>\n",
       "      <td>0.113032</td>\n",
       "      <td>-1.361517</td>\n",
       "    </tr>\n",
       "    <tr>\n",
       "      <th>4</th>\n",
       "      <td>-0.412482</td>\n",
       "      <td>-0.272599</td>\n",
       "      <td>1.228577</td>\n",
       "      <td>1.077737</td>\n",
       "      <td>-0.752922</td>\n",
       "      <td>-1.106115</td>\n",
       "      <td>0.113032</td>\n",
       "      <td>-1.026501</td>\n",
       "    </tr>\n",
       "  </tbody>\n",
       "</table>\n",
       "</div>"
      ],
      "text/plain": [
       "       CRIM      CHAS        RM       DIS       RAD       TAX   PTRATIO  \\\n",
       "0 -0.419782 -0.272599  0.413672  0.140214 -0.982843 -0.666608 -1.459000   \n",
       "1 -0.417339 -0.272599  0.194274  0.557160 -0.867883 -0.987329 -0.303094   \n",
       "2 -0.417342 -0.272599  1.282714  0.557160 -0.867883 -0.987329 -0.303094   \n",
       "3 -0.416750 -0.272599  1.016303  1.077737 -0.752922 -1.106115  0.113032   \n",
       "4 -0.412482 -0.272599  1.228577  1.077737 -0.752922 -1.106115  0.113032   \n",
       "\n",
       "      LSTAT  \n",
       "0 -1.075562  \n",
       "1 -0.492439  \n",
       "2 -1.208727  \n",
       "3 -1.361517  \n",
       "4 -1.026501  "
      ]
     },
     "execution_count": 510,
     "metadata": {},
     "output_type": "execute_result"
    }
   ],
   "source": [
    "X_sc.head()"
   ]
  },
  {
   "cell_type": "markdown",
   "metadata": {},
   "source": [
    "One way to implemnet CV is to use the `cross_validate()` method. Below we import this method along with KNN Regressor and Linear Regression which we will use to fit our data."
   ]
  },
  {
   "cell_type": "code",
   "execution_count": 488,
   "metadata": {},
   "outputs": [],
   "source": [
    "from sklearn.model_selection import cross_validate, cross_val_score, ShuffleSplit,  KFold\n",
    "from sklearn.linear_model import LinearRegression\n",
    "from sklearn.neighbors import KNeighborsRegressor"
   ]
  },
  {
   "cell_type": "code",
   "execution_count": 511,
   "metadata": {},
   "outputs": [],
   "source": [
    "lg=LinearRegression()\n",
    "knn=KNeighborsRegressor(n_neighbors=50)\n"
   ]
  },
  {
   "cell_type": "markdown",
   "metadata": {},
   "source": [
    "When implementing CV we need to provide an estimator (eg. Linear Regression, KNN etc.) Below, we first implemnet CV with LinearRegression as an estimator and then we do the same thing using KNN Regressor and compare the results. WE also need to provide a way to measure the predictions, such as R2 score, MSE etc.\n",
    "\n",
    "One very important thing to keep in mind is that when applying CV you need to make sure you are shuffling the indicies that are used to split the dataset. We will demonstrate this concept below so that it is clear what we mean."
   ]
  },
  {
   "cell_type": "code",
   "execution_count": 513,
   "metadata": {},
   "outputs": [],
   "source": [
    "cv_lg=cross_validate(lg,X_sc,y,cv=5,scoring={'r2','neg_mean_squared_error'},return_estimator=True,return_train_score=True)\n",
    "cv_knn=cross_validate(knn,X_sc,y,cv=3,scoring={'r2'},return_estimator=True,return_train_score=True)"
   ]
  },
  {
   "cell_type": "code",
   "execution_count": 514,
   "metadata": {},
   "outputs": [
    {
     "data": {
      "text/plain": [
       "dict_keys(['fit_time', 'score_time', 'estimator', 'test_r2', 'train_r2', 'test_neg_mean_squared_error', 'train_neg_mean_squared_error'])"
      ]
     },
     "execution_count": 514,
     "metadata": {},
     "output_type": "execute_result"
    }
   ],
   "source": [
    "cv_lg.keys()"
   ]
  },
  {
   "cell_type": "code",
   "execution_count": 517,
   "metadata": {},
   "outputs": [
    {
     "data": {
      "text/plain": [
       "array([ 0.71913999,  0.68726767,  0.63332009,  0.15154911, -0.28798347])"
      ]
     },
     "execution_count": 517,
     "metadata": {},
     "output_type": "execute_result"
    }
   ],
   "source": [
    "cv_lg['test_r2']"
   ]
  },
  {
   "cell_type": "code",
   "execution_count": 518,
   "metadata": {},
   "outputs": [
    {
     "data": {
      "text/plain": [
       "array([0.70972238, 0.70431563, 0.64587289, 0.80614078, 0.71961333])"
      ]
     },
     "execution_count": 518,
     "metadata": {},
     "output_type": "execute_result"
    }
   ],
   "source": [
    "cv_lg['train_r2']"
   ]
  },
  {
   "cell_type": "code",
   "execution_count": 493,
   "metadata": {},
   "outputs": [
    {
     "data": {
      "text/plain": [
       "array([0.64817529, 0.57005844, 0.31596906])"
      ]
     },
     "execution_count": 493,
     "metadata": {},
     "output_type": "execute_result"
    }
   ],
   "source": [
    "cv_knn['test_r2']"
   ]
  },
  {
   "cell_type": "code",
   "execution_count": 494,
   "metadata": {},
   "outputs": [
    {
     "data": {
      "text/plain": [
       "(KNeighborsRegressor(algorithm='auto', leaf_size=30, metric='minkowski',\n",
       "                     metric_params=None, n_jobs=None, n_neighbors=10, p=2,\n",
       "                     weights='uniform'),\n",
       " KNeighborsRegressor(algorithm='auto', leaf_size=30, metric='minkowski',\n",
       "                     metric_params=None, n_jobs=None, n_neighbors=10, p=2,\n",
       "                     weights='uniform'),\n",
       " KNeighborsRegressor(algorithm='auto', leaf_size=30, metric='minkowski',\n",
       "                     metric_params=None, n_jobs=None, n_neighbors=10, p=2,\n",
       "                     weights='uniform'))"
      ]
     },
     "execution_count": 494,
     "metadata": {},
     "output_type": "execute_result"
    }
   ],
   "source": [
    "cv_knn['estimator']"
   ]
  },
  {
   "cell_type": "markdown",
   "metadata": {},
   "source": [
    "<font color='red' size=4>STOP & Reflect</font>\n",
    "\n",
    "As we can see, the $R2$ scores are very low. We worked with this ame set last lecture and were getting better results. This is a great opportunity to stop and reflect about what could possibly be going on??"
   ]
  },
  {
   "cell_type": "markdown",
   "metadata": {},
   "source": [
    "<h4> Shuffling First</h4>\n",
    "\n",
    "Now, let's demonstrate the significant change in the computed metrics once we shuffle the indices frist and then carry out the split. Think about why this is important and why you should always do this first.\n",
    "\n",
    "Below we will demonstrate two differnet ways we may achieve this. "
   ]
  },
  {
   "cell_type": "code",
   "execution_count": 554,
   "metadata": {},
   "outputs": [],
   "source": [
    "kf=KFold(n_splits=10,random_state=4,shuffle=True)\n",
    "ss=ShuffleSplit(n_splits=2,test_size=0.2, random_state=1)"
   ]
  },
  {
   "cell_type": "code",
   "execution_count": 536,
   "metadata": {},
   "outputs": [],
   "source": [
    "cv_lg=cross_validate(lg,X_sc,y,cv=kf,scoring={'r2'},return_estimator=True,return_train_score=True)\n",
    "cv_knn=cross_validate(knn,X_sc,y,cv=ss,scoring={'r2'},return_estimator=True,return_train_score=True)"
   ]
  },
  {
   "cell_type": "code",
   "execution_count": 539,
   "metadata": {},
   "outputs": [
    {
     "data": {
      "text/plain": [
       "array([0.75841073, 0.63908976, 0.67856122, 0.72150264, 0.65296235,\n",
       "       0.76868821, 0.74182405, 0.73488563, 0.54513532, 0.67925968])"
      ]
     },
     "execution_count": 539,
     "metadata": {},
     "output_type": "execute_result"
    }
   ],
   "source": [
    "cv_lg['test_r2']"
   ]
  },
  {
   "cell_type": "code",
   "execution_count": 538,
   "metadata": {},
   "outputs": [
    {
     "data": {
      "text/plain": [
       "0.6810116370146042"
      ]
     },
     "execution_count": 538,
     "metadata": {},
     "output_type": "execute_result"
    }
   ],
   "source": [
    "cv_knn['test_r2'].mean()"
   ]
  },
  {
   "cell_type": "code",
   "execution_count": 527,
   "metadata": {},
   "outputs": [
    {
     "name": "stdout",
     "output_type": "stream",
     "text": [
      "Train: [  0   2   3   4   5   6   7   8   9  10  11  13  15  16  17  19  21  22\n",
      "  23  25  26  27  29  30  31  33  34  35  36  37  38  39  42  43  44  45\n",
      "  46  47  48  49  50  51  52  53  54  56  57  58  59  60  61  62  63  64\n",
      "  68  70  71  72  73  74  75  76  78  79  80  81  82  83  85  86  87  88\n",
      "  90  91  92  93  94  95  96  97  98  99 101 102 104 105 106 107 108 110\n",
      " 111 112 113 114 115 116 117 118 119 120 121 122 123 124 125 126 127 128\n",
      " 130 131 132 133 134 135 136 137 138 139 140 142 143 144 145 147 148 149\n",
      " 151 153 154 155 156 157 158 159 160 162 163 164 165 166 167 168 169 170\n",
      " 172 174 177 179 180 181 182 184 185 186 187 188 189 190 191 195 196 197\n",
      " 199 201 202 204 205 206 207 208 209 210 211 213 214 215 216 217 218 219\n",
      " 220 223 224 225 227 229 231 232 233 234 235 237 238 239 241 242 243 244\n",
      " 245 246 247 248 249 250 251 252 253 254 255 257 260 261 262 263 265 267\n",
      " 269 270 271 272 273 274 275 276 277 278 280 282 283 284 286 287 288 290\n",
      " 292 293 294 295 296 298 299 302 303 304 305 306 308 309 311 312 313 314\n",
      " 315 316 318 319 321 322 323 324 325 326 327 328 329 330 331 333 336 338\n",
      " 339 340 341 342 343 344 345 346 347 348 350 351 352 353 354 356 358 359\n",
      " 360 361 362 363 364 365 366 367 368 369 370 371 372 373 374 375 377 378\n",
      " 379 380 383 385 388 390 391 392 394 395 396 397 399 400 401 402 404 405\n",
      " 406 408 409 411 413 414 416 417 418 419 421 423 424 426 427 428 429 430\n",
      " 431 432 433 434 435 436 437 438 440 441 443 444 445 446 448 449 450 451\n",
      " 452 453 454 455 456 457 458 459 460 462 466 467 468 470 471 472 473 474\n",
      " 475 476 477 478 481 482 483 484 485 486 487 488 489 490 491 492 493 494\n",
      " 495 496 497 498 500 501 503 505]\n",
      "Test [  1  12  14  18  20  24  28  32  40  41  55  65  66  67  69  77  84  89\n",
      " 100 103 109 129 141 146 150 152 161 171 173 175 176 178 183 192 193 194\n",
      " 198 200 203 212 221 222 226 228 230 236 240 256 258 259 264 266 268 279\n",
      " 281 285 289 291 297 300 301 307 310 317 320 332 334 335 337 349 355 357\n",
      " 376 381 382 384 386 387 389 393 398 403 407 410 412 415 420 422 425 439\n",
      " 442 447 461 463 464 465 469 479 480 499 502 504]\n",
      "Train: [  0   1   4   5   8   9  11  12  14  15  16  18  19  20  21  22  23  24\n",
      "  26  27  28  31  32  33  34  35  36  38  39  40  41  43  44  45  46  47\n",
      "  48  49  50  51  52  54  55  56  57  58  59  60  61  62  63  64  65  66\n",
      "  67  69  71  72  73  74  75  76  77  78  79  80  81  82  83  84  85  86\n",
      "  87  88  89  91  92  93  95  96  97  98  99 100 101 102 103 104 105 107\n",
      " 108 109 110 111 112 113 115 116 118 121 122 123 124 125 126 127 128 129\n",
      " 130 132 133 135 136 137 138 139 140 141 143 144 145 146 147 148 149 150\n",
      " 151 152 153 156 158 161 162 164 166 167 168 169 171 173 174 175 176 177\n",
      " 178 181 183 184 185 186 187 189 190 191 192 193 194 195 196 197 198 200\n",
      " 201 202 203 204 206 207 208 210 211 212 213 218 219 220 221 222 224 226\n",
      " 228 229 230 233 234 235 236 237 238 239 240 241 242 243 245 246 247 248\n",
      " 249 250 252 253 254 255 256 257 258 259 260 261 262 263 264 265 266 268\n",
      " 269 270 271 272 273 274 276 277 278 279 281 284 285 287 288 289 290 291\n",
      " 292 293 295 296 297 298 299 300 301 302 305 307 308 309 310 311 313 315\n",
      " 316 317 318 319 320 322 323 324 325 326 327 329 331 332 333 334 335 336\n",
      " 337 338 339 343 344 345 346 347 349 351 354 355 356 357 359 360 361 362\n",
      " 363 364 365 366 367 368 370 372 373 374 375 376 378 379 380 381 382 383\n",
      " 384 385 386 387 388 389 390 391 392 393 395 397 398 399 401 402 403 404\n",
      " 406 407 408 409 410 411 412 415 416 417 418 420 421 422 423 424 425 426\n",
      " 428 429 430 431 433 434 435 436 439 441 442 443 444 445 447 448 449 450\n",
      " 451 452 453 454 455 456 459 460 461 462 463 464 465 466 467 468 469 470\n",
      " 471 472 473 475 476 478 479 480 481 483 486 487 489 490 491 492 493 494\n",
      " 497 498 499 500 501 502 503 504 505]\n",
      "Test [  2   3   6   7  10  13  17  25  29  30  37  42  53  68  70  90  94 106\n",
      " 114 117 119 120 131 134 142 154 155 157 159 160 163 165 170 172 179 180\n",
      " 182 188 199 205 209 214 215 216 217 223 225 227 231 232 244 251 267 275\n",
      " 280 282 283 286 294 303 304 306 312 314 321 328 330 340 341 342 348 350\n",
      " 352 353 358 369 371 377 394 396 400 405 413 414 419 427 432 437 438 440\n",
      " 446 457 458 474 477 482 484 485 488 495 496]\n",
      "Train: [  0   1   2   3   6   7   8   9  10  12  13  14  15  16  17  18  19  20\n",
      "  21  22  24  25  26  27  28  29  30  31  32  33  34  36  37  38  40  41\n",
      "  42  43  45  46  47  48  49  50  51  52  53  55  56  58  59  61  62  63\n",
      "  65  66  67  68  69  70  72  73  75  76  77  78  79  80  81  83  84  86\n",
      "  88  89  90  92  94  95  96  97 100 102 103 106 107 109 110 114 115 116\n",
      " 117 119 120 121 122 123 124 125 129 131 132 133 134 135 136 137 138 139\n",
      " 140 141 142 143 145 146 148 149 150 152 154 155 157 158 159 160 161 162\n",
      " 163 165 167 168 170 171 172 173 175 176 177 178 179 180 182 183 184 185\n",
      " 187 188 191 192 193 194 195 196 197 198 199 200 201 202 203 205 206 207\n",
      " 208 209 210 211 212 213 214 215 216 217 218 219 221 222 223 224 225 226\n",
      " 227 228 229 230 231 232 233 234 236 238 239 240 242 244 245 246 247 248\n",
      " 249 250 251 252 254 255 256 257 258 259 260 261 263 264 266 267 268 271\n",
      " 272 273 275 278 279 280 281 282 283 285 286 287 288 289 290 291 292 293\n",
      " 294 295 296 297 298 299 300 301 302 303 304 306 307 308 310 311 312 313\n",
      " 314 315 316 317 319 320 321 323 324 325 326 327 328 329 330 332 334 335\n",
      " 337 338 340 341 342 343 346 348 349 350 351 352 353 354 355 356 357 358\n",
      " 359 360 361 363 364 366 367 369 370 371 372 373 376 377 380 381 382 384\n",
      " 385 386 387 389 392 393 394 396 397 398 400 401 402 403 404 405 406 407\n",
      " 408 410 412 413 414 415 416 417 418 419 420 422 423 425 426 427 428 429\n",
      " 430 432 433 434 437 438 439 440 441 442 443 446 447 448 449 450 451 452\n",
      " 453 454 455 456 457 458 459 461 462 463 464 465 466 467 468 469 470 472\n",
      " 474 475 476 477 479 480 481 482 483 484 485 487 488 489 492 493 495 496\n",
      " 497 498 499 500 501 502 503 504 505]\n",
      "Test [  4   5  11  23  35  39  44  54  57  60  64  71  74  82  85  87  91  93\n",
      "  98  99 101 104 105 108 111 112 113 118 126 127 128 130 144 147 151 153\n",
      " 156 164 166 169 174 181 186 189 190 204 220 235 237 241 243 253 262 265\n",
      " 269 270 274 276 277 284 305 309 318 322 331 333 336 339 344 345 347 362\n",
      " 365 368 374 375 378 379 383 388 390 391 395 399 409 411 421 424 431 435\n",
      " 436 444 445 460 471 473 478 486 490 491 494]\n",
      "Train: [  1   2   3   4   5   6   7  10  11  12  13  14  15  17  18  19  20  22\n",
      "  23  24  25  26  28  29  30  31  32  33  34  35  37  38  39  40  41  42\n",
      "  43  44  47  49  50  51  52  53  54  55  56  57  58  60  61  64  65  66\n",
      "  67  68  69  70  71  72  73  74  75  76  77  80  81  82  83  84  85  86\n",
      "  87  88  89  90  91  93  94  95  96  97  98  99 100 101 102 103 104 105\n",
      " 106 108 109 111 112 113 114 116 117 118 119 120 121 124 125 126 127 128\n",
      " 129 130 131 132 134 136 137 138 141 142 144 146 147 150 151 152 153 154\n",
      " 155 156 157 159 160 161 162 163 164 165 166 167 168 169 170 171 172 173\n",
      " 174 175 176 178 179 180 181 182 183 185 186 188 189 190 192 193 194 195\n",
      " 196 198 199 200 203 204 205 207 209 211 212 213 214 215 216 217 218 220\n",
      " 221 222 223 225 226 227 228 230 231 232 233 235 236 237 238 240 241 243\n",
      " 244 246 247 248 251 252 253 254 255 256 258 259 260 262 263 264 265 266\n",
      " 267 268 269 270 271 274 275 276 277 279 280 281 282 283 284 285 286 287\n",
      " 288 289 291 293 294 295 296 297 299 300 301 302 303 304 305 306 307 309\n",
      " 310 312 314 316 317 318 319 320 321 322 323 324 325 326 328 330 331 332\n",
      " 333 334 335 336 337 339 340 341 342 343 344 345 347 348 349 350 351 352\n",
      " 353 355 357 358 359 360 361 362 363 365 366 368 369 371 373 374 375 376\n",
      " 377 378 379 380 381 382 383 384 385 386 387 388 389 390 391 392 393 394\n",
      " 395 396 398 399 400 401 402 403 404 405 406 407 409 410 411 412 413 414\n",
      " 415 419 420 421 422 424 425 426 427 430 431 432 433 434 435 436 437 438\n",
      " 439 440 442 443 444 445 446 447 450 454 457 458 460 461 463 464 465 466\n",
      " 469 471 473 474 477 478 479 480 482 484 485 486 487 488 489 490 491 493\n",
      " 494 495 496 498 499 500 502 504 505]\n",
      "Test [  0   8   9  16  21  27  36  45  46  48  59  62  63  78  79  92 107 110\n",
      " 115 122 123 133 135 139 140 143 145 148 149 158 177 184 187 191 197 201\n",
      " 202 206 208 210 219 224 229 234 239 242 245 249 250 257 261 272 273 278\n",
      " 290 292 298 308 311 313 315 327 329 338 346 354 356 364 367 370 372 397\n",
      " 408 416 417 418 423 428 429 441 448 449 451 452 453 455 456 459 462 467\n",
      " 468 470 472 475 476 481 483 492 497 501 503]\n",
      "Train: [  0   1   2   3   4   5   6   7   8   9  10  11  12  13  14  16  17  18\n",
      "  20  21  23  24  25  27  28  29  30  32  35  36  37  39  40  41  42  44\n",
      "  45  46  48  53  54  55  57  59  60  62  63  64  65  66  67  68  69  70\n",
      "  71  74  77  78  79  82  84  85  87  89  90  91  92  93  94  98  99 100\n",
      " 101 103 104 105 106 107 108 109 110 111 112 113 114 115 117 118 119 120\n",
      " 122 123 126 127 128 129 130 131 133 134 135 139 140 141 142 143 144 145\n",
      " 146 147 148 149 150 151 152 153 154 155 156 157 158 159 160 161 163 164\n",
      " 165 166 169 170 171 172 173 174 175 176 177 178 179 180 181 182 183 184\n",
      " 186 187 188 189 190 191 192 193 194 197 198 199 200 201 202 203 204 205\n",
      " 206 208 209 210 212 214 215 216 217 219 220 221 222 223 224 225 226 227\n",
      " 228 229 230 231 232 234 235 236 237 239 240 241 242 243 244 245 249 250\n",
      " 251 253 256 257 258 259 261 262 264 265 266 267 268 269 270 272 273 274\n",
      " 275 276 277 278 279 280 281 282 283 284 285 286 289 290 291 292 294 297\n",
      " 298 300 301 303 304 305 306 307 308 309 310 311 312 313 314 315 317 318\n",
      " 320 321 322 327 328 329 330 331 332 333 334 335 336 337 338 339 340 341\n",
      " 342 344 345 346 347 348 349 350 352 353 354 355 356 357 358 362 364 365\n",
      " 367 368 369 370 371 372 374 375 376 377 378 379 381 382 383 384 386 387\n",
      " 388 389 390 391 393 394 395 396 397 398 399 400 403 405 407 408 409 410\n",
      " 411 412 413 414 415 416 417 418 419 420 421 422 423 424 425 427 428 429\n",
      " 431 432 435 436 437 438 439 440 441 442 444 445 446 447 448 449 451 452\n",
      " 453 455 456 457 458 459 460 461 462 463 464 465 467 468 469 470 471 472\n",
      " 473 474 475 476 477 478 479 480 481 482 483 484 485 486 488 490 491 492\n",
      " 494 495 496 497 499 501 502 503 504]\n",
      "Test [ 15  19  22  26  31  33  34  38  43  47  49  50  51  52  56  58  61  72\n",
      "  73  75  76  80  81  83  86  88  95  96  97 102 116 121 124 125 132 136\n",
      " 137 138 162 167 168 185 195 196 207 211 213 218 233 238 246 247 248 252\n",
      " 254 255 260 263 271 287 288 293 295 296 299 302 316 319 323 324 325 326\n",
      " 343 351 359 360 361 363 366 373 380 385 392 401 402 404 406 426 430 433\n",
      " 434 443 450 454 466 487 489 493 498 500 505]\n"
     ]
    }
   ],
   "source": [
    "for train, test in kf.split(X_sc):\n",
    "    print('Train:',train)\n",
    "    print(\"Test\",test)"
   ]
  },
  {
   "cell_type": "markdown",
   "metadata": {},
   "source": [
    "<font color='red' size='5'>Exercise</font>\n",
    "\n",
    "Load the `diabetes` dataset from `sklearn.datasets`. Designate $20\\%$ of the data as `Validation` data. Use the remaining data to train the model using either KNN Regressor or Linear Regresson to predict the disease progression one year after baseline. Once you have trained the model, compute the test R2 score using the Validation set to get an assessment of the model's performance."
   ]
  },
  {
   "cell_type": "code",
   "execution_count": 540,
   "metadata": {},
   "outputs": [],
   "source": [
    "from sklearn.datasets import load_diabetes"
   ]
  },
  {
   "cell_type": "code",
   "execution_count": 541,
   "metadata": {},
   "outputs": [],
   "source": [
    "diabet=load_diabetes()"
   ]
  },
  {
   "cell_type": "code",
   "execution_count": 542,
   "metadata": {},
   "outputs": [
    {
     "name": "stdout",
     "output_type": "stream",
     "text": [
      ".. _diabetes_dataset:\n",
      "\n",
      "Diabetes dataset\n",
      "----------------\n",
      "\n",
      "Ten baseline variables, age, sex, body mass index, average blood\n",
      "pressure, and six blood serum measurements were obtained for each of n =\n",
      "442 diabetes patients, as well as the response of interest, a\n",
      "quantitative measure of disease progression one year after baseline.\n",
      "\n",
      "**Data Set Characteristics:**\n",
      "\n",
      "  :Number of Instances: 442\n",
      "\n",
      "  :Number of Attributes: First 10 columns are numeric predictive values\n",
      "\n",
      "  :Target: Column 11 is a quantitative measure of disease progression one year after baseline\n",
      "\n",
      "  :Attribute Information:\n",
      "      - Age\n",
      "      - Sex\n",
      "      - Body mass index\n",
      "      - Average blood pressure\n",
      "      - S1\n",
      "      - S2\n",
      "      - S3\n",
      "      - S4\n",
      "      - S5\n",
      "      - S6\n",
      "\n",
      "Note: Each of these 10 feature variables have been mean centered and scaled by the standard deviation times `n_samples` (i.e. the sum of squares of each column totals 1).\n",
      "\n",
      "Source URL:\n",
      "https://www4.stat.ncsu.edu/~boos/var.select/diabetes.html\n",
      "\n",
      "For more information see:\n",
      "Bradley Efron, Trevor Hastie, Iain Johnstone and Robert Tibshirani (2004) \"Least Angle Regression,\" Annals of Statistics (with discussion), 407-499.\n",
      "(https://web.stanford.edu/~hastie/Papers/LARS/LeastAngle_2002.pdf)\n"
     ]
    }
   ],
   "source": [
    "print(diabet.DESCR)"
   ]
  },
  {
   "cell_type": "code",
   "execution_count": 545,
   "metadata": {},
   "outputs": [
    {
     "data": {
      "text/plain": [
       "dict_keys(['data', 'target', 'DESCR', 'feature_names', 'data_filename', 'target_filename'])"
      ]
     },
     "execution_count": 545,
     "metadata": {},
     "output_type": "execute_result"
    }
   ],
   "source": [
    "diabet.keys()"
   ]
  },
  {
   "cell_type": "code",
   "execution_count": 549,
   "metadata": {},
   "outputs": [
    {
     "data": {
      "text/plain": [
       "['age', 'sex', 'bmi', 'bp', 's1', 's2', 's3', 's4', 's5', 's6']"
      ]
     },
     "execution_count": 549,
     "metadata": {},
     "output_type": "execute_result"
    }
   ],
   "source": [
    "diabet.feature_names"
   ]
  },
  {
   "cell_type": "code",
   "execution_count": 550,
   "metadata": {},
   "outputs": [],
   "source": [
    "df=pd.DataFrame(diabet['data'],columns=diabet['feature_names'])"
   ]
  },
  {
   "cell_type": "code",
   "execution_count": 551,
   "metadata": {},
   "outputs": [
    {
     "data": {
      "text/html": [
       "<div>\n",
       "<style scoped>\n",
       "    .dataframe tbody tr th:only-of-type {\n",
       "        vertical-align: middle;\n",
       "    }\n",
       "\n",
       "    .dataframe tbody tr th {\n",
       "        vertical-align: top;\n",
       "    }\n",
       "\n",
       "    .dataframe thead th {\n",
       "        text-align: right;\n",
       "    }\n",
       "</style>\n",
       "<table border=\"1\" class=\"dataframe\">\n",
       "  <thead>\n",
       "    <tr style=\"text-align: right;\">\n",
       "      <th></th>\n",
       "      <th>age</th>\n",
       "      <th>sex</th>\n",
       "      <th>bmi</th>\n",
       "      <th>bp</th>\n",
       "      <th>s1</th>\n",
       "      <th>s2</th>\n",
       "      <th>s3</th>\n",
       "      <th>s4</th>\n",
       "      <th>s5</th>\n",
       "      <th>s6</th>\n",
       "    </tr>\n",
       "  </thead>\n",
       "  <tbody>\n",
       "    <tr>\n",
       "      <th>0</th>\n",
       "      <td>0.038076</td>\n",
       "      <td>0.050680</td>\n",
       "      <td>0.061696</td>\n",
       "      <td>0.021872</td>\n",
       "      <td>-0.044223</td>\n",
       "      <td>-0.034821</td>\n",
       "      <td>-0.043401</td>\n",
       "      <td>-0.002592</td>\n",
       "      <td>0.019908</td>\n",
       "      <td>-0.017646</td>\n",
       "    </tr>\n",
       "    <tr>\n",
       "      <th>1</th>\n",
       "      <td>-0.001882</td>\n",
       "      <td>-0.044642</td>\n",
       "      <td>-0.051474</td>\n",
       "      <td>-0.026328</td>\n",
       "      <td>-0.008449</td>\n",
       "      <td>-0.019163</td>\n",
       "      <td>0.074412</td>\n",
       "      <td>-0.039493</td>\n",
       "      <td>-0.068330</td>\n",
       "      <td>-0.092204</td>\n",
       "    </tr>\n",
       "    <tr>\n",
       "      <th>2</th>\n",
       "      <td>0.085299</td>\n",
       "      <td>0.050680</td>\n",
       "      <td>0.044451</td>\n",
       "      <td>-0.005671</td>\n",
       "      <td>-0.045599</td>\n",
       "      <td>-0.034194</td>\n",
       "      <td>-0.032356</td>\n",
       "      <td>-0.002592</td>\n",
       "      <td>0.002864</td>\n",
       "      <td>-0.025930</td>\n",
       "    </tr>\n",
       "    <tr>\n",
       "      <th>3</th>\n",
       "      <td>-0.089063</td>\n",
       "      <td>-0.044642</td>\n",
       "      <td>-0.011595</td>\n",
       "      <td>-0.036656</td>\n",
       "      <td>0.012191</td>\n",
       "      <td>0.024991</td>\n",
       "      <td>-0.036038</td>\n",
       "      <td>0.034309</td>\n",
       "      <td>0.022692</td>\n",
       "      <td>-0.009362</td>\n",
       "    </tr>\n",
       "    <tr>\n",
       "      <th>4</th>\n",
       "      <td>0.005383</td>\n",
       "      <td>-0.044642</td>\n",
       "      <td>-0.036385</td>\n",
       "      <td>0.021872</td>\n",
       "      <td>0.003935</td>\n",
       "      <td>0.015596</td>\n",
       "      <td>0.008142</td>\n",
       "      <td>-0.002592</td>\n",
       "      <td>-0.031991</td>\n",
       "      <td>-0.046641</td>\n",
       "    </tr>\n",
       "  </tbody>\n",
       "</table>\n",
       "</div>"
      ],
      "text/plain": [
       "        age       sex       bmi        bp        s1        s2        s3  \\\n",
       "0  0.038076  0.050680  0.061696  0.021872 -0.044223 -0.034821 -0.043401   \n",
       "1 -0.001882 -0.044642 -0.051474 -0.026328 -0.008449 -0.019163  0.074412   \n",
       "2  0.085299  0.050680  0.044451 -0.005671 -0.045599 -0.034194 -0.032356   \n",
       "3 -0.089063 -0.044642 -0.011595 -0.036656  0.012191  0.024991 -0.036038   \n",
       "4  0.005383 -0.044642 -0.036385  0.021872  0.003935  0.015596  0.008142   \n",
       "\n",
       "         s4        s5        s6  \n",
       "0 -0.002592  0.019908 -0.017646  \n",
       "1 -0.039493 -0.068330 -0.092204  \n",
       "2 -0.002592  0.002864 -0.025930  \n",
       "3  0.034309  0.022692 -0.009362  \n",
       "4 -0.002592 -0.031991 -0.046641  "
      ]
     },
     "execution_count": 551,
     "metadata": {},
     "output_type": "execute_result"
    }
   ],
   "source": [
    "df.head()"
   ]
  },
  {
   "cell_type": "code",
   "execution_count": 552,
   "metadata": {},
   "outputs": [],
   "source": [
    "df['target']=diabet['target']"
   ]
  },
  {
   "cell_type": "code",
   "execution_count": 553,
   "metadata": {},
   "outputs": [
    {
     "data": {
      "text/html": [
       "<div>\n",
       "<style scoped>\n",
       "    .dataframe tbody tr th:only-of-type {\n",
       "        vertical-align: middle;\n",
       "    }\n",
       "\n",
       "    .dataframe tbody tr th {\n",
       "        vertical-align: top;\n",
       "    }\n",
       "\n",
       "    .dataframe thead th {\n",
       "        text-align: right;\n",
       "    }\n",
       "</style>\n",
       "<table border=\"1\" class=\"dataframe\">\n",
       "  <thead>\n",
       "    <tr style=\"text-align: right;\">\n",
       "      <th></th>\n",
       "      <th>age</th>\n",
       "      <th>sex</th>\n",
       "      <th>bmi</th>\n",
       "      <th>bp</th>\n",
       "      <th>s1</th>\n",
       "      <th>s2</th>\n",
       "      <th>s3</th>\n",
       "      <th>s4</th>\n",
       "      <th>s5</th>\n",
       "      <th>s6</th>\n",
       "      <th>target</th>\n",
       "    </tr>\n",
       "  </thead>\n",
       "  <tbody>\n",
       "    <tr>\n",
       "      <th>0</th>\n",
       "      <td>0.038076</td>\n",
       "      <td>0.050680</td>\n",
       "      <td>0.061696</td>\n",
       "      <td>0.021872</td>\n",
       "      <td>-0.044223</td>\n",
       "      <td>-0.034821</td>\n",
       "      <td>-0.043401</td>\n",
       "      <td>-0.002592</td>\n",
       "      <td>0.019908</td>\n",
       "      <td>-0.017646</td>\n",
       "      <td>151.0</td>\n",
       "    </tr>\n",
       "    <tr>\n",
       "      <th>1</th>\n",
       "      <td>-0.001882</td>\n",
       "      <td>-0.044642</td>\n",
       "      <td>-0.051474</td>\n",
       "      <td>-0.026328</td>\n",
       "      <td>-0.008449</td>\n",
       "      <td>-0.019163</td>\n",
       "      <td>0.074412</td>\n",
       "      <td>-0.039493</td>\n",
       "      <td>-0.068330</td>\n",
       "      <td>-0.092204</td>\n",
       "      <td>75.0</td>\n",
       "    </tr>\n",
       "    <tr>\n",
       "      <th>2</th>\n",
       "      <td>0.085299</td>\n",
       "      <td>0.050680</td>\n",
       "      <td>0.044451</td>\n",
       "      <td>-0.005671</td>\n",
       "      <td>-0.045599</td>\n",
       "      <td>-0.034194</td>\n",
       "      <td>-0.032356</td>\n",
       "      <td>-0.002592</td>\n",
       "      <td>0.002864</td>\n",
       "      <td>-0.025930</td>\n",
       "      <td>141.0</td>\n",
       "    </tr>\n",
       "    <tr>\n",
       "      <th>3</th>\n",
       "      <td>-0.089063</td>\n",
       "      <td>-0.044642</td>\n",
       "      <td>-0.011595</td>\n",
       "      <td>-0.036656</td>\n",
       "      <td>0.012191</td>\n",
       "      <td>0.024991</td>\n",
       "      <td>-0.036038</td>\n",
       "      <td>0.034309</td>\n",
       "      <td>0.022692</td>\n",
       "      <td>-0.009362</td>\n",
       "      <td>206.0</td>\n",
       "    </tr>\n",
       "    <tr>\n",
       "      <th>4</th>\n",
       "      <td>0.005383</td>\n",
       "      <td>-0.044642</td>\n",
       "      <td>-0.036385</td>\n",
       "      <td>0.021872</td>\n",
       "      <td>0.003935</td>\n",
       "      <td>0.015596</td>\n",
       "      <td>0.008142</td>\n",
       "      <td>-0.002592</td>\n",
       "      <td>-0.031991</td>\n",
       "      <td>-0.046641</td>\n",
       "      <td>135.0</td>\n",
       "    </tr>\n",
       "  </tbody>\n",
       "</table>\n",
       "</div>"
      ],
      "text/plain": [
       "        age       sex       bmi        bp        s1        s2        s3  \\\n",
       "0  0.038076  0.050680  0.061696  0.021872 -0.044223 -0.034821 -0.043401   \n",
       "1 -0.001882 -0.044642 -0.051474 -0.026328 -0.008449 -0.019163  0.074412   \n",
       "2  0.085299  0.050680  0.044451 -0.005671 -0.045599 -0.034194 -0.032356   \n",
       "3 -0.089063 -0.044642 -0.011595 -0.036656  0.012191  0.024991 -0.036038   \n",
       "4  0.005383 -0.044642 -0.036385  0.021872  0.003935  0.015596  0.008142   \n",
       "\n",
       "         s4        s5        s6  target  \n",
       "0 -0.002592  0.019908 -0.017646   151.0  \n",
       "1 -0.039493 -0.068330 -0.092204    75.0  \n",
       "2 -0.002592  0.002864 -0.025930   141.0  \n",
       "3  0.034309  0.022692 -0.009362   206.0  \n",
       "4 -0.002592 -0.031991 -0.046641   135.0  "
      ]
     },
     "execution_count": 553,
     "metadata": {},
     "output_type": "execute_result"
    }
   ],
   "source": [
    "df.head()"
   ]
  },
  {
   "cell_type": "code",
   "execution_count": 561,
   "metadata": {},
   "outputs": [],
   "source": [
    "ss=ShuffleSplit(n_splits=1,test_size=0.2, random_state=1)"
   ]
  },
  {
   "cell_type": "code",
   "execution_count": 562,
   "metadata": {},
   "outputs": [
    {
     "name": "stdout",
     "output_type": "stream",
     "text": [
      "Train: [438 232  80  46 381 224  85 338  81 400 369 233 260 228 185 122  11 117\n",
      " 139 218  93 420 168 324  41 180 162  95 106  92  66 370  23 327  13 326\n",
      "  61 189 271 340  39 191 320  98 332 307 328 275 414 127  82 403 173  27\n",
      "  89 339  73  69 179  91 363 161 330 125  59 120  12 337 204 441 187 157\n",
      " 295 374 349 365 172 409 325  88 131 124 274  14 346 201 123 138 111  51\n",
      " 112   9 287  16 229   0 305 105 236 426 261 372  70 244  38 150 342 163\n",
      " 167 247 223 412 415 145 238 303 401  42 160 354 355 306 245 434 225 361\n",
      " 312 418 323 368 147 250 100  34 188 110 175  53 227 135 411 154  19 142\n",
      " 272 158 300  44 298 268 113 296 211 108 378 169  79 416 388  84   8  32\n",
      "  99 382 360 350 222  28 322  55 419 341  48 362 309  33  35  63 270 234\n",
      " 432  45 177 219 343  21 248 199 137  24 184 205 134 116 212 397 376 291\n",
      " 231 217  56 345 344 407 181  97 114 278 118 329 170 379  54 176 194 198\n",
      " 182 358 103 220 130 406  60  94 193 140 148 202 152 423  10 269  96 210\n",
      " 240  57 301 334  36 394  20 392  75 200  77 263 435 149 386   2  52 262\n",
      " 253 259 333 321 183 151 417 302 190  74 348 243 427  87 239 143 366 266\n",
      " 288 136 166  83 428 155 356 279 126 195 265 405 104 153 282 226 367  25\n",
      " 196  64  15 297 371 109 336 308  26  76  43 280   3 404  49 387 430  30\n",
      " 121 115 410 216 264 209 316 384   1 313  22 317 319   7 436 141  86 352\n",
      " 241 215  68  50 398 413 156 252 395 402 357 254 276 178 281 390 237  71\n",
      " 129 144 335 133 203 393 255  72 396 235  37]\n",
      "Test: [246 425 293  31 359 437 290 439 284   4 440 285 192 389 159 310 375 429\n",
      " 258 424 197 283 373   5 128 207 292 314 304  17 364 267 289 214  78 421\n",
      "  47 249 311  65 174  29 431 299 164 408 102 221 146 273  62 107 101 119\n",
      " 399  67 318 294 391  90 347 422 377 315 251 165   6 230 186 433 353 242\n",
      " 171 385 206  58 331 351 208 380 257 383  18  40 277 132 213 286 256]\n"
     ]
    }
   ],
   "source": [
    "for train, test in ss.split(df):\n",
    "    print('Train:',train)\n",
    "    print(\"Test:\",test)"
   ]
  },
  {
   "cell_type": "code",
   "execution_count": 563,
   "metadata": {},
   "outputs": [],
   "source": [
    "X,X_test=train_test_split(df,test_size=0.2,random_state=1)"
   ]
  },
  {
   "cell_type": "code",
   "execution_count": 564,
   "metadata": {},
   "outputs": [
    {
     "data": {
      "text/plain": [
       "(353, 11)"
      ]
     },
     "execution_count": 564,
     "metadata": {},
     "output_type": "execute_result"
    }
   ],
   "source": [
    "X.shape"
   ]
  },
  {
   "cell_type": "code",
   "execution_count": 565,
   "metadata": {},
   "outputs": [
    {
     "data": {
      "text/plain": [
       "(89, 11)"
      ]
     },
     "execution_count": 565,
     "metadata": {},
     "output_type": "execute_result"
    }
   ],
   "source": [
    "X_test.shape"
   ]
  },
  {
   "cell_type": "code",
   "execution_count": 566,
   "metadata": {},
   "outputs": [
    {
     "data": {
      "text/html": [
       "<div>\n",
       "<style scoped>\n",
       "    .dataframe tbody tr th:only-of-type {\n",
       "        vertical-align: middle;\n",
       "    }\n",
       "\n",
       "    .dataframe tbody tr th {\n",
       "        vertical-align: top;\n",
       "    }\n",
       "\n",
       "    .dataframe thead th {\n",
       "        text-align: right;\n",
       "    }\n",
       "</style>\n",
       "<table border=\"1\" class=\"dataframe\">\n",
       "  <thead>\n",
       "    <tr style=\"text-align: right;\">\n",
       "      <th></th>\n",
       "      <th>age</th>\n",
       "      <th>sex</th>\n",
       "      <th>bmi</th>\n",
       "      <th>bp</th>\n",
       "      <th>s1</th>\n",
       "      <th>s2</th>\n",
       "      <th>s3</th>\n",
       "      <th>s4</th>\n",
       "      <th>s5</th>\n",
       "      <th>s6</th>\n",
       "      <th>target</th>\n",
       "    </tr>\n",
       "  </thead>\n",
       "  <tbody>\n",
       "    <tr>\n",
       "      <th>246</th>\n",
       "      <td>0.041708</td>\n",
       "      <td>-0.044642</td>\n",
       "      <td>-0.032073</td>\n",
       "      <td>-0.061904</td>\n",
       "      <td>0.079612</td>\n",
       "      <td>0.050982</td>\n",
       "      <td>0.056003</td>\n",
       "      <td>-0.009972</td>\n",
       "      <td>0.045066</td>\n",
       "      <td>-0.059067</td>\n",
       "      <td>78.0</td>\n",
       "    </tr>\n",
       "    <tr>\n",
       "      <th>425</th>\n",
       "      <td>-0.078165</td>\n",
       "      <td>-0.044642</td>\n",
       "      <td>-0.040696</td>\n",
       "      <td>-0.081414</td>\n",
       "      <td>-0.100638</td>\n",
       "      <td>-0.112795</td>\n",
       "      <td>0.022869</td>\n",
       "      <td>-0.076395</td>\n",
       "      <td>-0.020289</td>\n",
       "      <td>-0.050783</td>\n",
       "      <td>152.0</td>\n",
       "    </tr>\n",
       "    <tr>\n",
       "      <th>293</th>\n",
       "      <td>-0.070900</td>\n",
       "      <td>-0.044642</td>\n",
       "      <td>0.092953</td>\n",
       "      <td>0.012691</td>\n",
       "      <td>0.020446</td>\n",
       "      <td>0.042527</td>\n",
       "      <td>0.000779</td>\n",
       "      <td>0.000360</td>\n",
       "      <td>-0.054544</td>\n",
       "      <td>-0.001078</td>\n",
       "      <td>200.0</td>\n",
       "    </tr>\n",
       "    <tr>\n",
       "      <th>31</th>\n",
       "      <td>-0.023677</td>\n",
       "      <td>-0.044642</td>\n",
       "      <td>-0.065486</td>\n",
       "      <td>-0.081414</td>\n",
       "      <td>-0.038720</td>\n",
       "      <td>-0.053610</td>\n",
       "      <td>0.059685</td>\n",
       "      <td>-0.076395</td>\n",
       "      <td>-0.037128</td>\n",
       "      <td>-0.042499</td>\n",
       "      <td>59.0</td>\n",
       "    </tr>\n",
       "    <tr>\n",
       "      <th>359</th>\n",
       "      <td>0.038076</td>\n",
       "      <td>0.050680</td>\n",
       "      <td>0.005650</td>\n",
       "      <td>0.032201</td>\n",
       "      <td>0.006687</td>\n",
       "      <td>0.017475</td>\n",
       "      <td>-0.024993</td>\n",
       "      <td>0.034309</td>\n",
       "      <td>0.014823</td>\n",
       "      <td>0.061054</td>\n",
       "      <td>311.0</td>\n",
       "    </tr>\n",
       "  </tbody>\n",
       "</table>\n",
       "</div>"
      ],
      "text/plain": [
       "          age       sex       bmi        bp        s1        s2        s3  \\\n",
       "246  0.041708 -0.044642 -0.032073 -0.061904  0.079612  0.050982  0.056003   \n",
       "425 -0.078165 -0.044642 -0.040696 -0.081414 -0.100638 -0.112795  0.022869   \n",
       "293 -0.070900 -0.044642  0.092953  0.012691  0.020446  0.042527  0.000779   \n",
       "31  -0.023677 -0.044642 -0.065486 -0.081414 -0.038720 -0.053610  0.059685   \n",
       "359  0.038076  0.050680  0.005650  0.032201  0.006687  0.017475 -0.024993   \n",
       "\n",
       "           s4        s5        s6  target  \n",
       "246 -0.009972  0.045066 -0.059067    78.0  \n",
       "425 -0.076395 -0.020289 -0.050783   152.0  \n",
       "293  0.000360 -0.054544 -0.001078   200.0  \n",
       "31  -0.076395 -0.037128 -0.042499    59.0  \n",
       "359  0.034309  0.014823  0.061054   311.0  "
      ]
     },
     "execution_count": 566,
     "metadata": {},
     "output_type": "execute_result"
    }
   ],
   "source": [
    "X_test.head()"
   ]
  },
  {
   "cell_type": "code",
   "execution_count": 567,
   "metadata": {},
   "outputs": [
    {
     "data": {
      "text/html": [
       "<div>\n",
       "<style scoped>\n",
       "    .dataframe tbody tr th:only-of-type {\n",
       "        vertical-align: middle;\n",
       "    }\n",
       "\n",
       "    .dataframe tbody tr th {\n",
       "        vertical-align: top;\n",
       "    }\n",
       "\n",
       "    .dataframe thead th {\n",
       "        text-align: right;\n",
       "    }\n",
       "</style>\n",
       "<table border=\"1\" class=\"dataframe\">\n",
       "  <thead>\n",
       "    <tr style=\"text-align: right;\">\n",
       "      <th></th>\n",
       "      <th>age</th>\n",
       "      <th>sex</th>\n",
       "      <th>bmi</th>\n",
       "      <th>bp</th>\n",
       "      <th>s1</th>\n",
       "      <th>s2</th>\n",
       "      <th>s3</th>\n",
       "      <th>s4</th>\n",
       "      <th>s5</th>\n",
       "      <th>s6</th>\n",
       "      <th>target</th>\n",
       "    </tr>\n",
       "  </thead>\n",
       "  <tbody>\n",
       "    <tr>\n",
       "      <th>438</th>\n",
       "      <td>-0.005515</td>\n",
       "      <td>0.050680</td>\n",
       "      <td>-0.015906</td>\n",
       "      <td>-0.067642</td>\n",
       "      <td>0.049341</td>\n",
       "      <td>0.079165</td>\n",
       "      <td>-0.028674</td>\n",
       "      <td>0.034309</td>\n",
       "      <td>-0.018118</td>\n",
       "      <td>0.044485</td>\n",
       "      <td>104.0</td>\n",
       "    </tr>\n",
       "    <tr>\n",
       "      <th>232</th>\n",
       "      <td>0.012648</td>\n",
       "      <td>0.050680</td>\n",
       "      <td>0.000261</td>\n",
       "      <td>-0.011409</td>\n",
       "      <td>0.039710</td>\n",
       "      <td>0.057245</td>\n",
       "      <td>-0.039719</td>\n",
       "      <td>0.056081</td>\n",
       "      <td>0.024053</td>\n",
       "      <td>0.032059</td>\n",
       "      <td>259.0</td>\n",
       "    </tr>\n",
       "    <tr>\n",
       "      <th>80</th>\n",
       "      <td>0.070769</td>\n",
       "      <td>-0.044642</td>\n",
       "      <td>0.012117</td>\n",
       "      <td>0.042530</td>\n",
       "      <td>0.071357</td>\n",
       "      <td>0.053487</td>\n",
       "      <td>0.052322</td>\n",
       "      <td>-0.002592</td>\n",
       "      <td>0.025393</td>\n",
       "      <td>-0.005220</td>\n",
       "      <td>143.0</td>\n",
       "    </tr>\n",
       "    <tr>\n",
       "      <th>46</th>\n",
       "      <td>-0.056370</td>\n",
       "      <td>-0.044642</td>\n",
       "      <td>-0.011595</td>\n",
       "      <td>-0.033214</td>\n",
       "      <td>-0.046975</td>\n",
       "      <td>-0.047660</td>\n",
       "      <td>0.004460</td>\n",
       "      <td>-0.039493</td>\n",
       "      <td>-0.007979</td>\n",
       "      <td>-0.088062</td>\n",
       "      <td>190.0</td>\n",
       "    </tr>\n",
       "    <tr>\n",
       "      <th>381</th>\n",
       "      <td>-0.070900</td>\n",
       "      <td>0.050680</td>\n",
       "      <td>-0.089197</td>\n",
       "      <td>-0.074528</td>\n",
       "      <td>-0.042848</td>\n",
       "      <td>-0.025739</td>\n",
       "      <td>-0.032356</td>\n",
       "      <td>-0.002592</td>\n",
       "      <td>-0.012908</td>\n",
       "      <td>-0.054925</td>\n",
       "      <td>104.0</td>\n",
       "    </tr>\n",
       "  </tbody>\n",
       "</table>\n",
       "</div>"
      ],
      "text/plain": [
       "          age       sex       bmi        bp        s1        s2        s3  \\\n",
       "438 -0.005515  0.050680 -0.015906 -0.067642  0.049341  0.079165 -0.028674   \n",
       "232  0.012648  0.050680  0.000261 -0.011409  0.039710  0.057245 -0.039719   \n",
       "80   0.070769 -0.044642  0.012117  0.042530  0.071357  0.053487  0.052322   \n",
       "46  -0.056370 -0.044642 -0.011595 -0.033214 -0.046975 -0.047660  0.004460   \n",
       "381 -0.070900  0.050680 -0.089197 -0.074528 -0.042848 -0.025739 -0.032356   \n",
       "\n",
       "           s4        s5        s6  target  \n",
       "438  0.034309 -0.018118  0.044485   104.0  \n",
       "232  0.056081  0.024053  0.032059   259.0  \n",
       "80  -0.002592  0.025393 -0.005220   143.0  \n",
       "46  -0.039493 -0.007979 -0.088062   190.0  \n",
       "381 -0.002592 -0.012908 -0.054925   104.0  "
      ]
     },
     "execution_count": 567,
     "metadata": {},
     "output_type": "execute_result"
    }
   ],
   "source": [
    "X.head()"
   ]
  },
  {
   "cell_type": "code",
   "execution_count": null,
   "metadata": {},
   "outputs": [],
   "source": []
  }
 ],
 "metadata": {
  "kernelspec": {
   "display_name": "Python 3",
   "language": "python",
   "name": "python3"
  },
  "language_info": {
   "codemirror_mode": {
    "name": "ipython",
    "version": 3
   },
   "file_extension": ".py",
   "mimetype": "text/x-python",
   "name": "python",
   "nbconvert_exporter": "python",
   "pygments_lexer": "ipython3",
   "version": "3.7.4"
  }
 },
 "nbformat": 4,
 "nbformat_minor": 2
}
