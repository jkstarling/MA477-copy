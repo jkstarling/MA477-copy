{
 "cells": [
  {
   "cell_type": "markdown",
   "metadata": {},
   "source": [
    "<h2> ======================================================</h2>\n",
    " <h1>MA477 - Theory and Applications of Data Science</h1> \n",
    "  <h1>TEE: A Machine Learning Approach to Heart Disease Prediction </h1> \n",
    " \n",
    " <h4>Dr. Valmir Bucaj</h4>\n",
    " <br>\n",
    " United States Military Academy, West Point, AY20-2\n",
    "<h2>=======================================================</h2>\n",
    "\n",
    "<h2> Weight: <font color='red'>250pts</font</h2>\n",
    "    \n",
    " <h2>Due Date: <font color='red'> May 9th by 17:00 EST</font</h2>\n",
    "    \n"
   ]
  },
  {
   "cell_type": "markdown",
   "metadata": {},
   "source": [
    " <hr style=\"height:3.2px;border:none;color:#333;background-color:#333;\" />\n",
    "\n",
    "<h3> Cadet Name:</h3>\n",
    "<br>\n",
    "\n",
    "\n",
    "<br>\n",
    "\n",
    "<font color='red' size='3'> <b>$\\dots \\dots$</b> MY DOCUMENTATION IDENTIFIES ALL SOURCES USED AND ASSISTANCE RECEIVED IN THIS ASSIGNMENT\n",
    "<br>\n",
    "\n",
    "<b>$\\dots \\dots$ </b> I DID NOT USE ANY SOURCES OR ASSISTANCE REQUIRING DOCUMENATION IN COMPLETING THIS ASSIGNMENT</font>\n",
    "\n",
    "<h3> Signature/Initials: </h3>\n",
    "\n",
    "<hr style=\"height:3px;border:none;color:#333;background-color:#333;\" />"
   ]
  },
  {
   "cell_type": "markdown",
   "metadata": {},
   "source": [
    "<h2>TEE Guidelines</h2>\n",
    "\n",
    "The TEE will consist of two parts:\n",
    "\n",
    " <h3>$I. $ A written portion.</h3>\n",
    "\n",
    "<b>Weight: $185$ points</b>\n",
    "\n",
    "In the written portion you are required to complete the tasks layed out in this Jupyter Notebook. Once you have completed the tasks you are to email it to your instructor by the set deadline. For full credit you are required to show and clearly document all of your work. \n",
    "\n",
    "<h4>Submission</h4>\n",
    "\n",
    "When you submit the written portion you should name your Jupyter files using the following format:\n",
    "\n",
    "<b>LastName_FirstName_MA477_TEE</b>\n",
    "\n",
    "<h3>$II. $ An oral portion.</h3>\n",
    "\n",
    "\n",
    "<b>Weight: $65$ points </b> \n",
    "\n",
    "For the oral portion of the exam you will meet one-on-one with your instructor where the instructor will ask you questions related to the tasks layed out on this Notebook.\n",
    "\n",
    "\n",
    "<h3>Allowed Resources</h3>\n",
    "\n",
    "On this TEE you are only allowed to use the lecture notes and the books used for this course. No outside sources are allowed. \n",
    "\n",
    "\n",
    "\n",
    "\n"
   ]
  },
  {
   "cell_type": "markdown",
   "metadata": {},
   "source": [
    "<h3>Description of the Dataset</h3>\n",
    "\n",
    "The data set that you will be working with during this TEE is related to the presence of heart disease in people. Specifically, the end goal will be to determine whether a person has a heart disease based of a variety of features. \n",
    "\n",
    "\n",
    "<h3> Description of Features</h3>\n",
    "\n",
    "\n",
    "age: age in years\n",
    "\n",
    "sex: (1 = male; 0 = female)\n",
    "\n",
    "cp: chest pain type\n",
    "\n",
    "trestbps: resting blood pressure (in mm Hg on admission to the hospital)\n",
    "\n",
    "chol: serum cholestoral in mg/dl\n",
    "\n",
    "fbs: (fasting blood sugar > 120 mg/dl) (1 = true; 0 = false)\n",
    "\n",
    "restecg: resting electrocardiographic results\n",
    "\n",
    "thalach: maximum heart rate achieved\n",
    "\n",
    "exang: exercise induced angina (1 = yes; 0 = no)\n",
    "\n",
    "oldpeak: ST depression induced by exercise relative to rest\n",
    "\n",
    "slope: the slope of the peak exercise ST segment\n",
    "\n",
    "ca: number of major vessels (0-3) colored by flourosopy\n",
    "\n",
    "thal: 1 = normal; 2 = fixed defect; 3 = reversable defect\n",
    "\n",
    "target: 1=has heart disease or 0= does not"
   ]
  },
  {
   "cell_type": "markdown",
   "metadata": {},
   "source": [
    " <hr style=\"height:2px;border:none;color:#333;background-color:#333;\" />"
   ]
  },
  {
   "cell_type": "code",
   "execution_count": 3,
   "metadata": {},
   "outputs": [],
   "source": [
    "#IMPORT SOME OF THE NECESSARY LIBRARIES\n",
    "\n"
   ]
  },
  {
   "cell_type": "markdown",
   "metadata": {},
   "source": [
    " <hr style=\"height:2px;border:none;color:#333;background-color:#333;\" />"
   ]
  },
  {
   "cell_type": "markdown",
   "metadata": {},
   "source": [
    "<h2>Data Preprocessing</h2>"
   ]
  },
  {
   "cell_type": "markdown",
   "metadata": {},
   "source": [
    "<h3>Task 1.</h3> \n",
    "<br>\n",
    "<font size='3'>\n",
    "    Import the data set <b>heart_data.csv</b> and cheack the head of the data.\n",
    "</font>\n",
    "\n",
    "<font color='red'> Weight: 5pts</font>\n",
    "\n"
   ]
  },
  {
   "cell_type": "code",
   "execution_count": 3,
   "metadata": {},
   "outputs": [],
   "source": [
    "#BEGIN YOUR ANSWER HERE\n",
    "\n"
   ]
  },
  {
   "cell_type": "code",
   "execution_count": null,
   "metadata": {},
   "outputs": [],
   "source": []
  },
  {
   "cell_type": "markdown",
   "metadata": {},
   "source": [
    " <hr style=\"height:2px;border:none;color:#333;background-color:#333;\" />"
   ]
  },
  {
   "cell_type": "markdown",
   "metadata": {},
   "source": [
    "<h3>Task 2.</h3> \n",
    "<br>\n",
    "<font size='3'>\n",
    "    Check for missing data and display the results via a <b>heat map</b>.\n",
    "</font>\n",
    "\n",
    "<font color='red'> Weight: 5pts</font>\n",
    "\n"
   ]
  },
  {
   "cell_type": "code",
   "execution_count": 11,
   "metadata": {},
   "outputs": [],
   "source": [
    "#BEGIN YOUR ANSWER HERE \n",
    "\n"
   ]
  },
  {
   "cell_type": "markdown",
   "metadata": {},
   "source": [
    " <hr style=\"height:2px;border:none;color:#333;background-color:#333;\" />"
   ]
  },
  {
   "cell_type": "markdown",
   "metadata": {},
   "source": [
    "<h3>Task 3.</h3> \n",
    "<br>\n",
    "<font size='3'>\n",
    "    If there are any missing values <b>impute</b> them. Explain how and why you chose the particular imputation method.\n",
    "</font>\n",
    "\n",
    "<font color='red'> Weight: 10pts</font>\n",
    "\n"
   ]
  },
  {
   "cell_type": "code",
   "execution_count": 82,
   "metadata": {},
   "outputs": [],
   "source": [
    "#BEGIN YOUR ANSWER HERE\n",
    "\n"
   ]
  },
  {
   "cell_type": "code",
   "execution_count": 1,
   "metadata": {},
   "outputs": [],
   "source": [
    "#Check that it worked\n"
   ]
  },
  {
   "cell_type": "markdown",
   "metadata": {},
   "source": [
    " <hr style=\"height:2px;border:none;color:#333;background-color:#333;\" />"
   ]
  },
  {
   "cell_type": "markdown",
   "metadata": {},
   "source": [
    "<h2>Data Exploration</h2>"
   ]
  },
  {
   "cell_type": "markdown",
   "metadata": {},
   "source": [
    "<h3>Task 4.</h3> \n",
    "<br>\n",
    "<font size='3'>\n",
    "    $A.$ Is your data set imbalanced? Count all the elements in the different categories in the target variable and display the results visually.\n",
    "    \n",
    "   $B.$ Discuss the gender composition of the subjects in the data set.\n",
    "   \n",
    "     Label all figures appropriately. \n",
    "</font>\n",
    "\n",
    "\n",
    "<font color='red'> Weight: 10pts</font>\n",
    "\n"
   ]
  },
  {
   "cell_type": "code",
   "execution_count": 2,
   "metadata": {},
   "outputs": [],
   "source": [
    "#BEGIN YOUR ANSWER TO PART A HERE \n",
    "\n"
   ]
  },
  {
   "cell_type": "code",
   "execution_count": 3,
   "metadata": {},
   "outputs": [],
   "source": [
    "#BEGIN YOUR ANSWER TO PART B HERE\n",
    "\n"
   ]
  },
  {
   "cell_type": "markdown",
   "metadata": {},
   "source": [
    " <hr style=\"height:2px;border:none;color:#333;background-color:#333;\" />"
   ]
  },
  {
   "cell_type": "markdown",
   "metadata": {},
   "source": [
    "<h3>Task 5.</h3> \n",
    "<br>\n",
    "<font size='3'>\n",
    "  Is there a significant difference in <b>age, resting blood pressure(trestbps), cholesterol(chol),maximum heart rate achieved(thalach)</b>  and <b>number of major vessels (ca)</b> distribution between males and females as well as those who have heart disease and those who don't?\n",
    "    \n",
    " Display the results visually via violinplots or boxplots and then discuss the observations.\n",
    "    \n",
    "     Label all figures appropriately.\n",
    "</font>\n",
    "\n",
    "<font color='red'> Weight: 30pts</font>\n",
    "\n"
   ]
  },
  {
   "cell_type": "code",
   "execution_count": null,
   "metadata": {},
   "outputs": [],
   "source": []
  },
  {
   "cell_type": "code",
   "execution_count": 4,
   "metadata": {},
   "outputs": [],
   "source": [
    "#BEGIN ANSWER TO PART A\n",
    "\n"
   ]
  },
  {
   "cell_type": "code",
   "execution_count": 5,
   "metadata": {},
   "outputs": [],
   "source": [
    "#BEGIN ANSWER TO PART A\n",
    "\n"
   ]
  },
  {
   "cell_type": "code",
   "execution_count": 6,
   "metadata": {},
   "outputs": [],
   "source": [
    "#BEGIN ANSWER TO PART A\n",
    "\n"
   ]
  },
  {
   "cell_type": "code",
   "execution_count": 7,
   "metadata": {},
   "outputs": [],
   "source": [
    "#BEGIN ANSWER TO PART A\n",
    "\n"
   ]
  },
  {
   "cell_type": "code",
   "execution_count": 8,
   "metadata": {},
   "outputs": [],
   "source": [
    "#BEGIN ANSWER TO PART A\n",
    "\n"
   ]
  },
  {
   "cell_type": "code",
   "execution_count": 9,
   "metadata": {},
   "outputs": [],
   "source": [
    "#BEGIN ANSWER TO PART A\n",
    "\n"
   ]
  },
  {
   "cell_type": "markdown",
   "metadata": {},
   "source": [
    " <hr style=\"height:2px;border:none;color:#333;background-color:#333;\" />"
   ]
  },
  {
   "cell_type": "markdown",
   "metadata": {},
   "source": [
    "<h3>Task 6.</h3> \n",
    "<br>\n",
    "<font size='3'>\n",
    "$A.$ Obtain a $2D$ representation of the data using PCA or any other dimensionality reduction technique. Discuss how good of a representation of the original data this 2D representation is. \n",
    "    \n",
    "$B.$ Identify the top three features that are most responsible for explaining the total observed variance in the data.\n",
    "\n",
    "$C.$ Do you suspect there to be any clusters? Explain\n",
    "    \n",
    "     Label all figures appropriately.\n",
    "</font>\n",
    "\n",
    "<font color='red'> Weight: 30pts</font>\n",
    "\n"
   ]
  },
  {
   "cell_type": "code",
   "execution_count": 280,
   "metadata": {},
   "outputs": [],
   "source": [
    "#BEGIN YOUR ANSWER \n"
   ]
  },
  {
   "cell_type": "code",
   "execution_count": 88,
   "metadata": {},
   "outputs": [],
   "source": []
  },
  {
   "cell_type": "markdown",
   "metadata": {},
   "source": [
    "<h4>Summary of Results:</h4> \n",
    "\n",
    "(Include your final observations for this task here)"
   ]
  },
  {
   "cell_type": "markdown",
   "metadata": {},
   "source": [
    " <hr style=\"height:2px;border:none;color:#333;background-color:#333;\" />"
   ]
  },
  {
   "cell_type": "markdown",
   "metadata": {},
   "source": [
    "<h3>Task 7.</h3> \n",
    "<br>\n",
    "<font size='3'>\n",
    "$A.$ Find the most likely clusters within the data via K-Means Clustering or any other clustering method. \n",
    "    \n",
    "$B.$ What are some of the main differences between the clusters?\n",
    "    \n",
    "     Label all figures appropriately.\n",
    "</font>\n",
    "\n",
    "<font color='red'> Weight: 25pts</font>"
   ]
  },
  {
   "cell_type": "code",
   "execution_count": 257,
   "metadata": {},
   "outputs": [],
   "source": [
    "#BEGIN YOUR ANSWER HERE\n",
    "\n"
   ]
  },
  {
   "cell_type": "code",
   "execution_count": 269,
   "metadata": {},
   "outputs": [],
   "source": []
  },
  {
   "cell_type": "markdown",
   "metadata": {},
   "source": [
    " <hr style=\"height:2px;border:none;color:#333;background-color:#333;\" />"
   ]
  },
  {
   "cell_type": "markdown",
   "metadata": {},
   "source": [
    "<h3>Task 8.</h3> \n",
    "<br>\n",
    "<font size='3'>\n",
    "$A.$ Build at least three different classification models, tune them(via cross-validation, GridsearchCV etc.) to achieve maximum overall accuracy score, for each of the models separately. One of these models must be Random Forests.\n",
    " \n",
    "$B.$ Display the respective results visually side-by-side for all three models.\n",
    "    \n",
    "     Label all figures appropriately.\n",
    "</font>\n",
    "\n",
    "<font color='red'> Weight: 45pts</font>\n",
    "\n"
   ]
  },
  {
   "cell_type": "code",
   "execution_count": null,
   "metadata": {},
   "outputs": [],
   "source": [
    "#BEGIN YOUR ANSWER HERE\n",
    "\n"
   ]
  },
  {
   "cell_type": "code",
   "execution_count": null,
   "metadata": {},
   "outputs": [],
   "source": []
  },
  {
   "cell_type": "markdown",
   "metadata": {},
   "source": [
    " <hr style=\"height:2px;border:none;color:#333;background-color:#333;\" />"
   ]
  },
  {
   "cell_type": "markdown",
   "metadata": {},
   "source": [
    "<h3>Task 9.</h3> \n",
    "<br>\n",
    "<font size='3'>\n",
    "$A.$ Determine the top three most important features in determining whether the person heas heart diesease or not. Explain your answer. \n",
    "\n",
    "    \n",
    "     Label all figures appropriately.\n",
    "</font>\n",
    "\n",
    "<font color='red'> Weight: 25pts</font>"
   ]
  },
  {
   "cell_type": "code",
   "execution_count": 10,
   "metadata": {},
   "outputs": [],
   "source": [
    "#BEGIN YOUR ANSWER HER E\n",
    "\n"
   ]
  },
  {
   "cell_type": "code",
   "execution_count": null,
   "metadata": {},
   "outputs": [],
   "source": []
  },
  {
   "cell_type": "code",
   "execution_count": null,
   "metadata": {},
   "outputs": [],
   "source": []
  }
 ],
 "metadata": {
  "kernelspec": {
   "display_name": "Python 3",
   "language": "python",
   "name": "python3"
  },
  "language_info": {
   "codemirror_mode": {
    "name": "ipython",
    "version": 3
   },
   "file_extension": ".py",
   "mimetype": "text/x-python",
   "name": "python",
   "nbconvert_exporter": "python",
   "pygments_lexer": "ipython3",
   "version": "3.7.4"
  }
 },
 "nbformat": 4,
 "nbformat_minor": 2
}
