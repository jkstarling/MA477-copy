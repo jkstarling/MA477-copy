{
 "cells": [
  {
   "cell_type": "markdown",
   "metadata": {},
   "source": [
    "<h2> ======================================================</h2>\n",
    " <h1>MA477 - Theory and Applications of Data Science</h1> \n",
    "  <h1>Lesson 2: Introduction to NumPy</h1> \n",
    " \n",
    " <h4>Dr. Valmir Bucaj</h4>\n",
    " <br>\n",
    " United States Military Academy, West Point, AY20-2\n",
    "<h2>=======================================================</h2>"
   ]
  },
  {
   "cell_type": "code",
   "execution_count": 2,
   "metadata": {},
   "outputs": [],
   "source": [
    "import numpy as np"
   ]
  },
  {
   "cell_type": "markdown",
   "metadata": {},
   "source": [
    "<h2>==================================================</h2>\n",
    "<br>\n",
    "<h1>HOMEWORK #1</h1>\n",
    "\n",
    "<h2>=================================================</h2>\n",
    "\n",
    "<h3> Complete the following exercises. Document your code as necessary.</h3>\n",
    "<br>\n",
    "\n",
    "<ol>\n",
    "<li><font size=3> Create a 5 by 7 numpy array of random integers with values between 3 and 11 inclusive. Then do the following:\n",
    "    <ol> <li>Check the data type of the array</li>\n",
    "        <li>Find the maximum of the entire array</li>\n",
    "        <li>Find the minimum value of each row</li>\n",
    "        <li>Find the index where the minimum value of each row occurs</li>\n",
    "    </ol></font></li>\n",
    "</ol>"
   ]
  },
  {
   "cell_type": "code",
   "execution_count": 156,
   "metadata": {},
   "outputs": [],
   "source": [
    "#Your code for part A of Exercise 1 goes here\n"
   ]
  },
  {
   "cell_type": "code",
   "execution_count": null,
   "metadata": {},
   "outputs": [],
   "source": [
    "#Your code for part B of Exercise 1 goes here\n"
   ]
  },
  {
   "cell_type": "code",
   "execution_count": null,
   "metadata": {},
   "outputs": [],
   "source": [
    "#Your code for part C of Exercise 1 goes here\n"
   ]
  },
  {
   "cell_type": "code",
   "execution_count": 172,
   "metadata": {},
   "outputs": [],
   "source": [
    "#Your code for part D of Exercise 1 goes here\n"
   ]
  },
  {
   "cell_type": "markdown",
   "metadata": {},
   "source": [
    "<ol start='2'>\n",
    "   \n",
    "<li> <font size='3'>Enter the code below that generates the following numpy array: </font></li>\n",
    "\n",
    "```python\n",
    "#Result\n",
    "array([ 4,  9, 14, 19, 24, 29, 34, 39, 44, 49, 54, 59, 64, 69, 74, 79, 84,\n",
    "       89, 94, 99])\n",
    "```    \n",
    "</ol>"
   ]
  },
  {
   "cell_type": "code",
   "execution_count": 173,
   "metadata": {},
   "outputs": [],
   "source": [
    "#Your code for Exercise 2 goes here\n"
   ]
  },
  {
   "cell_type": "markdown",
   "metadata": {},
   "source": [
    "<ol start='3'>\n",
    "   \n",
    "<li> <font size='3'>Enter the code below that generates the following numpy array: </font></li>\n",
    "\n",
    "```python\n",
    "#Result\n",
    "array([[ 4,  9, 14, 19, 24],\n",
    "       [29, 34, 39, 44, 49],\n",
    "       [54, 59, 64, 69, 74],\n",
    "       [79, 84, 89, 94, 99]])\n",
    "```    \n",
    "</ol>"
   ]
  },
  {
   "cell_type": "code",
   "execution_count": 174,
   "metadata": {},
   "outputs": [],
   "source": [
    "#Your code for Exercise 3 goes here\n"
   ]
  },
  {
   "cell_type": "markdown",
   "metadata": {},
   "source": [
    "<ol start='4'>\n",
    "   \n",
    "<li> <font size='3'>Create a 4 by 2 by 3 array of normally distributed values</font></li>\n",
    "   \n",
    "</ol>"
   ]
  },
  {
   "cell_type": "code",
   "execution_count": 175,
   "metadata": {},
   "outputs": [],
   "source": [
    "#Your code for Exercise 4 goes here\n"
   ]
  },
  {
   "cell_type": "markdown",
   "metadata": {},
   "source": [
    "<ol start='5'>\n",
    "   \n",
    "<li> <font size='3'>Enter the code below that generates the following numpy array(including the correct\n",
    "    data type): </font></li>\n",
    "\n",
    "```python\n",
    "#Result\n",
    "array([[0, 0, 0, 0, 0, 0],\n",
    "       [0, 0, 0, 0, 0, 0],\n",
    "       [1, 0, 0, 0, 0, 0],\n",
    "       [0, 1, 0, 0, 0, 0],\n",
    "       [0, 0, 1, 0, 0, 0],\n",
    "       [0, 0, 0, 1, 0, 0]]\n",
    "```    \n",
    "\n",
    "</ol>"
   ]
  },
  {
   "cell_type": "code",
   "execution_count": 176,
   "metadata": {},
   "outputs": [],
   "source": [
    "#Your code for Exercise 5 goes here\n"
   ]
  },
  {
   "cell_type": "markdown",
   "metadata": {},
   "source": [
    "<ol start='6'>\n",
    "   \n",
    "<li> <font size='3'>Given the numpy array below </font></li>\n",
    "\n",
    "```python\n",
    "array([ 3,  5,  7,  9, 11, 13, 15, 17, 19, 21, 23, 25, 27, 29, 31, 33])\n",
    "```    \n",
    "<ol>\n",
    "    <li>Enter the code below that selects only the last four elements:</li>\n",
    "\n",
    "```python\n",
    "#Result\n",
    "array([27, 29, 31, 33])\n",
    "```\n",
    "<li>Enter the code that selects the following subarray:\n",
    "\n",
    "```python\n",
    "#Result\n",
    "array([ 3,  9, 15, 21, 27, 33])\n",
    "```\n",
    "</ol>\n",
    "</ol>"
   ]
  },
  {
   "cell_type": "code",
   "execution_count": 177,
   "metadata": {},
   "outputs": [],
   "source": [
    "#Your code for part A of Exercise 6 goes here\n"
   ]
  },
  {
   "cell_type": "code",
   "execution_count": 178,
   "metadata": {},
   "outputs": [],
   "source": [
    "#Your code for part B of Exercise 6 goes here\n"
   ]
  },
  {
   "cell_type": "markdown",
   "metadata": {},
   "source": [
    "<ol start='7'>\n",
    "   \n",
    "<li> <font size='3'>Given the 2D numpy array below </font></li>\n",
    "\n",
    "```python\n",
    "arr_2d=np.array([[69, 75, 52, 33,  7, 62, 22],\n",
    "               [87, 51, 13, 75, 78, 46, 53],\n",
    "               [43, 24, 58, 76,  3,  3, 57],\n",
    "               [84, 86, 75, 26, 71, 77,  7],\n",
    "               [75, 17, 17, 38, 54, 72, 78]])\n",
    "```    \n",
    "<ol>\n",
    "    <li> Enter the code below that selects the element 72 on the last row</li>\n",
    "    <br>\n",
    "   <li>Enter the code below that selects the following subarray:</li>\n",
    "\n",
    "```python\n",
    "#Result\n",
    "array([[76,  3],\n",
    "       [26, 71],\n",
    "       [38, 54]])\n",
    "```\n",
    "<li>Enter the code that selects the following subarray:\n",
    "\n",
    "```python\n",
    "#Result\n",
    "array([[87, 51, 13, 75, 78, 46, 53],\n",
    "       [43, 24, 58, 76,  3,  3, 57],\n",
    "       [84, 86, 75, 26, 71, 77,  7]])\n",
    "```\n",
    "</ol>\n",
    "</ol>"
   ]
  },
  {
   "cell_type": "code",
   "execution_count": 228,
   "metadata": {},
   "outputs": [],
   "source": [
    "#Your code for part A of Exercise 7 goes here\n"
   ]
  },
  {
   "cell_type": "code",
   "execution_count": 230,
   "metadata": {},
   "outputs": [],
   "source": [
    "#Your code for part B of Exercise 7 goes here\n"
   ]
  },
  {
   "cell_type": "markdown",
   "metadata": {},
   "source": [
    "<ol start='8'>\n",
    "   \n",
    "<li> <font size='3'>Given the numpy array below </font></li>\n",
    "\n",
    "```python\n",
    "arr=np.arange(1,50,3)\n",
    "array([ 1,  4,  7, 10, 13, 16, 19, 22, 25, 28, 31, 34, 37, 40, 43, 46, 49])\n",
    "```    \n",
    "<ol>\n",
    "    <li>Enter the code that selects all elements larger than 7 and smaller than 43:\n",
    "\n",
    "```python\n",
    "#Result\n",
    "array([10, 13, 16, 19, 22, 25, 28, 31, 34, 37, 40])\n",
    "\n",
    "```\n",
    "   <li>Enter the code below that selects all even integers larger than 11 and smaller than 45:</li>\n",
    "\n",
    "```python\n",
    "#Result\n",
    "array([16, 22, 28, 34, 40])\n",
    "```\n",
    "</ol>\n",
    "</ol>"
   ]
  },
  {
   "cell_type": "code",
   "execution_count": 245,
   "metadata": {},
   "outputs": [],
   "source": [
    "#Your code for part A of Exercise 8 goes here\n"
   ]
  },
  {
   "cell_type": "code",
   "execution_count": 255,
   "metadata": {},
   "outputs": [],
   "source": [
    "#Your code for part B of Exercise 8 goes here\n"
   ]
  },
  {
   "cell_type": "markdown",
   "metadata": {},
   "source": [
    "<ol start='9'>\n",
    "   \n",
    "<li> <font size='3'>Create a 1D uniformly distributed array with 20 elements and compute: </font></li>\n",
    "\n",
    "\n",
    "<ol>\n",
    "    <li> Mean</li>\n",
    "\n",
    "   <li>Standard Deviation</li>\n",
    "   \n",
    "   <li>Median</li>\n",
    "   \n",
    "   <li>Mean of its log values</li>\n",
    "</ol>\n",
    "</ol>"
   ]
  },
  {
   "cell_type": "code",
   "execution_count": 364,
   "metadata": {},
   "outputs": [],
   "source": [
    "#Your code for part A of Exercise 9 goes here\n"
   ]
  },
  {
   "cell_type": "code",
   "execution_count": null,
   "metadata": {},
   "outputs": [],
   "source": [
    "#Your code for part B of Exercise 9 goes here\n"
   ]
  },
  {
   "cell_type": "code",
   "execution_count": 367,
   "metadata": {},
   "outputs": [],
   "source": [
    "#Your code for part C of Exercise 9 goes here\n"
   ]
  },
  {
   "cell_type": "code",
   "execution_count": 368,
   "metadata": {},
   "outputs": [],
   "source": [
    "#Your code for part D of Exercise 9 goes here\n"
   ]
  },
  {
   "cell_type": "markdown",
   "metadata": {},
   "source": [
    "<ol start='10'>\n",
    "   \n",
    "<li> <font size='3'>Write a function that:</font></li>\n",
    "    <ol>\n",
    "    <br>\n",
    "   <li> takes a 1D Numpy array as input and prints out the <b>reversed</b> array with element type float</li>\n",
    "\n",
    "For example, if you input the following array into your function\n",
    "```python\n",
    "array([ 1,  3,  5,  7,  9, 11, 13, 15, 17, 19, 21, 23])\n",
    "```\n",
    "your function should print out\n",
    "\n",
    "```python\n",
    "array([23., 21., 19., 17., 15., 13., 11.,  9.,  7.,  5.,  3.,  1.])\n",
    "```\n",
    "\n",
    "<li> takes a 2D Numpy array as input and prints out a copy of the input array <b> flattened</b> to one dimension</li>\n",
    "\n",
    "For example if the input array is:\n",
    "```python\n",
    "array([[7, 4, 8, 3],\n",
    "       [6, 3, 4, 3],\n",
    "       [4, 7, 5, 4]])\n",
    "```\n",
    "the output of your function should be\n",
    "```python\n",
    "array([7, 4, 8, 3, 6, 3, 4, 3, 4, 7, 5, 4])\n",
    "```\n",
    "</ol>\n",
    "</ol>"
   ]
  },
  {
   "cell_type": "code",
   "execution_count": 383,
   "metadata": {},
   "outputs": [],
   "source": [
    "#Your code for part A of Exercise 10 goes here\n"
   ]
  },
  {
   "cell_type": "code",
   "execution_count": 391,
   "metadata": {},
   "outputs": [],
   "source": [
    "#Your code for part A of Exercise 10 goes here\n"
   ]
  }
 ],
 "metadata": {
  "kernelspec": {
   "display_name": "Python 3",
   "language": "python",
   "name": "python3"
  },
  "language_info": {
   "codemirror_mode": {
    "name": "ipython",
    "version": 3
   },
   "file_extension": ".py",
   "mimetype": "text/x-python",
   "name": "python",
   "nbconvert_exporter": "python",
   "pygments_lexer": "ipython3",
   "version": "3.7.4"
  }
 },
 "nbformat": 4,
 "nbformat_minor": 4
}
